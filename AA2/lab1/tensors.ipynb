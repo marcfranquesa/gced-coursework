{
  "nbformat": 4,
  "nbformat_minor": 0,
  "metadata": {
    "kernelspec": {
      "name": "python3",
      "display_name": "Python"
    },
    "language_info": {
      "name": "python",
      "version": "3.9.5"
    },
    "interpreter": {
      "hash": "aee8b7b246df8f9039afb4144a1f6fd8d2ca17a180786b69acc140d282b71a49"
    },
    "colab": {
      "provenance": []
    }
  },
  "cells": [
    {
      "cell_type": "markdown",
      "metadata": {
        "id": "R-tjDhXJeixW"
      },
      "source": [
        "# A World of Tensors and Differentiable Computing\n",
        "Created by [Santiago Pascual](https://scholar.google.es/citations?user=7cVOyh0AAAAJ&hl=ca) ([UPC School](https://www.talent.upc.edu/ing/estudis/formacio/curs/310400/postgrau-artificial-intelligence-deep-learning/) 2019).\n",
        "\n",
        "Updated by [Gerard I. Gállego](https://www.linkedin.com/in/gerard-gallego/) and [José A. R. Fonollosa](https://www.kaggle.com/jarfo1)\n",
        "\n",
        "In these lab exercises we are going to see:\n",
        "\n",
        "1. What are tensors, concretely in the PyTorch framework.\n",
        "2. How to operate with them, and typical operations for deep learning modeling.\n",
        "3. Broadcasting Semantics. Added by [Jose A. R. Fonollosa](https://www.kaggle.com/jarfo1)"
      ]
    },
    {
      "cell_type": "markdown",
      "metadata": {
        "id": "NwQSQBAt5WL2"
      },
      "source": [
        "## What is a Tensor?\n",
        "\n",
        "\n",
        "A Tensor is the generalization of a vector into k dimensions.\n",
        "\n",
        "![](https://miro.medium.com/max/644/1*SGqhI_WpSaEr17wo8ycUhg.png)\n",
        "\n",
        "Table taken from [1].\n",
        "\n",
        "Because of this, a tensor is any k-dimensional structure, including matrices, vectors and scalars. PyTorch is a deep learning framework (https://pytorch.org) widely used for both research and production. As in any other deep learning framework, its core data structure is the tensor."
      ]
    },
    {
      "cell_type": "code",
      "metadata": {
        "id": "1RAAJukaWklQ",
        "colab": {
          "base_uri": "https://localhost:8080/"
        },
        "outputId": "2517bdcf-952d-483e-8570-ed30e6f4a5a8"
      },
      "source": [
        "# We first import PyTorch and Numpy libraries as fundamental tools to work with arrays and tensors\n",
        "import torch\n",
        "import numpy\n",
        "# initialize a random seed such that every execution will raise same random sequences of results\n",
        "torch.manual_seed(1)"
      ],
      "execution_count": null,
      "outputs": [
        {
          "output_type": "execute_result",
          "data": {
            "text/plain": [
              "<torch._C.Generator at 0x7d193e0bbab0>"
            ]
          },
          "metadata": {},
          "execution_count": 1
        }
      ]
    },
    {
      "cell_type": "markdown",
      "metadata": {
        "id": "MQQFFjMQPT1n"
      },
      "source": [
        "#### Creating tensors with PyTorch"
      ]
    },
    {
      "cell_type": "code",
      "metadata": {
        "id": "XgFdZ6pBWklR",
        "colab": {
          "base_uri": "https://localhost:8080/"
        },
        "outputId": "e993070a-a4bc-4d79-c451-851edbd9c7ae"
      },
      "source": [
        "# We can initialize an empty structure with certain dimensions:\n",
        "a = torch.empty(5, 7)\n",
        "# and we can check its dimensionality with the .shape attribute or .size() function\n",
        "print(a.shape)\n",
        "print(a.size())"
      ],
      "execution_count": null,
      "outputs": [
        {
          "output_type": "stream",
          "name": "stdout",
          "text": [
            "torch.Size([5, 7])\n",
            "torch.Size([5, 7])\n"
          ]
        }
      ]
    },
    {
      "cell_type": "markdown",
      "metadata": {
        "id": "zl28ffg_67z8"
      },
      "source": [
        "Dimensions in PyTorch tensors are indexed from 0 onwards, so the first axis of size 5 is the *dim=0*."
      ]
    },
    {
      "cell_type": "code",
      "metadata": {
        "id": "tEmXAY8zWklR",
        "colab": {
          "base_uri": "https://localhost:8080/"
        },
        "outputId": "1f734037-7db3-4e25-9af3-0e80d1fecf1b"
      },
      "source": [
        "# YAYY we have created a tensor of size 5x7, but what does it contain?\n",
        "print(a)\n",
        "# Rubbish, nonsense, random stuff, it could be zero, it could be nan it could be whatever"
      ],
      "execution_count": null,
      "outputs": [
        {
          "output_type": "stream",
          "name": "stdout",
          "text": [
            "tensor([[ 5.2898e+14,  4.4877e-41,  4.7584e+15,  3.2924e-41,  4.3180e+30,\n",
            "         -1.7986e-28,  1.2175e-38],\n",
            "        [ 1.8189e+31,  6.9091e+31,  1.1811e-23,  5.2007e-38,  1.0099e-37,\n",
            "         -3.1642e-15,  3.8269e+09],\n",
            "        [-1.1511e-26,  7.7926e-37, -1.8455e-25,  1.2177e-38,  6.5631e-39,\n",
            "         -1.1818e-23, -1.1787e-23],\n",
            "        [ 7.7092e-37,  7.4467e+34,  4.8292e-38,  1.1363e+30,  4.8297e-38,\n",
            "          1.1320e+36,  4.6733e+36],\n",
            "        [-1.8910e-22,  1.8111e+37, -3.0263e-21,  4.8716e-38,  6.5656e-39,\n",
            "         -1.9365e-19, -1.9313e-19]])\n"
          ]
        }
      ]
    },
    {
      "cell_type": "code",
      "metadata": {
        "id": "OmsMZyf5WklR",
        "colab": {
          "base_uri": "https://localhost:8080/"
        },
        "outputId": "e85c5280-8af5-410b-a9b4-d7722c7988c9"
      },
      "source": [
        "# We can easily fill the tensor with some fixed value with the .fill_(val) function\n",
        "a.fill_(10)\n",
        "print(a)"
      ],
      "execution_count": null,
      "outputs": [
        {
          "output_type": "stream",
          "name": "stdout",
          "text": [
            "tensor([[10., 10., 10., 10., 10., 10., 10.],\n",
            "        [10., 10., 10., 10., 10., 10., 10.],\n",
            "        [10., 10., 10., 10., 10., 10., 10.],\n",
            "        [10., 10., 10., 10., 10., 10., 10.],\n",
            "        [10., 10., 10., 10., 10., 10., 10.]])\n"
          ]
        }
      ]
    },
    {
      "cell_type": "code",
      "metadata": {
        "id": "NBvep_OYWklR",
        "colab": {
          "base_uri": "https://localhost:8080/"
        },
        "outputId": "da669e2a-9c43-4184-8c71-84aba0df3a51"
      },
      "source": [
        "# Of course we could go k-dimensional, we just have to put more numbers in the init function\n",
        "a = torch.empty(2,4,6,8)\n",
        "print(a.shape)"
      ],
      "execution_count": null,
      "outputs": [
        {
          "output_type": "stream",
          "name": "stdout",
          "text": [
            "torch.Size([2, 4, 6, 8])\n"
          ]
        }
      ]
    },
    {
      "cell_type": "markdown",
      "metadata": {
        "id": "_F0pCzMXkEU6"
      },
      "source": [
        "#### There are functions in PyTorch to initialize some special tensors:\n",
        "\n",
        "* **torch.randn** samples from a Gaussian distribution (mean=0, std=1)\n",
        "* **torch.rand** samples from a uniform distribution [0, 1)\n",
        "* **torch.ones** creates a tensor with 1s\n",
        "* **torch.zeros** creates a tensor with 0s"
      ]
    },
    {
      "cell_type": "markdown",
      "metadata": {
        "id": "kC_o44hLkaqy"
      },
      "source": [
        "### Exercise 1\n",
        "\n",
        "Create a tensor *z* drawn from a Gaussian distribution of dimensions (16, 1024)"
      ]
    },
    {
      "cell_type": "code",
      "metadata": {
        "id": "TXKSNVSzWklS",
        "colab": {
          "base_uri": "https://localhost:8080/"
        },
        "outputId": "6bc0cbfc-c0ae-4377-8f82-b7810fb1e294"
      },
      "source": [
        "# TODO: Gaussian tensor 16x1024\n",
        "z = torch.randn(16, 1024)\n",
        "print(z.shape)\n",
        "print(z.size())\n",
        "z"
      ],
      "execution_count": null,
      "outputs": [
        {
          "output_type": "stream",
          "name": "stdout",
          "text": [
            "torch.Size([16, 1024])\n",
            "torch.Size([16, 1024])\n"
          ]
        },
        {
          "output_type": "execute_result",
          "data": {
            "text/plain": [
              "tensor([[-0.7310,  0.3308, -0.2276,  ...,  0.7264, -0.2090,  0.5279],\n",
              "        [-1.4575, -0.8948,  0.7600,  ...,  1.8988,  0.6308, -1.6087],\n",
              "        [-0.1079,  1.4335, -0.4152,  ...,  0.4991, -0.3876, -1.1899],\n",
              "        ...,\n",
              "        [ 0.9964, -0.4806, -0.5368,  ...,  0.0457,  0.5390, -0.7158],\n",
              "        [-0.1110, -2.3468,  0.6205,  ..., -0.4044,  0.1216, -0.6174],\n",
              "        [ 1.1102,  1.6454, -0.7639,  ..., -0.4366,  0.2246,  0.5743]])"
            ]
          },
          "metadata": {},
          "execution_count": 7
        }
      ]
    },
    {
      "cell_type": "markdown",
      "metadata": {
        "id": "xdGiSnOKmSyv"
      },
      "source": [
        "#### Tensors data type\n",
        "\n",
        "Importantly, tensors have a data type (like numeric variables are int, float, double, etc.). We can check the type\n",
        "with the **tensor.dtype** attribute. We can also change the dtype of our tensor with a very simple cast following the data type name in the form of a function: **tensor.float()**, **tensor.int()**, **tensor.long()**, etc."
      ]
    },
    {
      "cell_type": "code",
      "metadata": {
        "id": "nzS6GW4rWklS",
        "colab": {
          "base_uri": "https://localhost:8080/"
        },
        "outputId": "203aa76f-714e-40f5-acf2-31dece989875"
      },
      "source": [
        "a = torch.ones(5)\n",
        "print(a.dtype)\n",
        "\n",
        "# change to float64 (aka. double)\n",
        "print(a.double().dtype)\n",
        "\n",
        "# change to float16 (aka. half)\n",
        "print(a.half().dtype)\n",
        "\n",
        "# change to int16 (aka. short)\n",
        "print(a.short().dtype)\n",
        "\n",
        "# change to int64 (aka. long)\n",
        "print(a.long().dtype)\n"
      ],
      "execution_count": null,
      "outputs": [
        {
          "output_type": "stream",
          "name": "stdout",
          "text": [
            "torch.float32\n",
            "torch.float64\n",
            "torch.float16\n",
            "torch.int16\n",
            "torch.int64\n"
          ]
        }
      ]
    },
    {
      "cell_type": "markdown",
      "metadata": {
        "id": "PQqUN7JGnhYl"
      },
      "source": [
        "And the way to create a tensor with a specific data type at initialization is either by specifying the **dtype=torch.<dtype\\>** during the tensor initialization, or using an explicit tensor constructor like **torch.FloatTensor()**, **torch.LongTensor()**, etc."
      ]
    },
    {
      "cell_type": "code",
      "metadata": {
        "id": "aZJtf4zRWklS",
        "colab": {
          "base_uri": "https://localhost:8080/"
        },
        "outputId": "8ab29d8c-a819-43f6-9428-89cd78fed8bb"
      },
      "source": [
        "# Initialize a tensor with type short()\n",
        "a = torch.empty(5, 7, dtype=torch.short)\n",
        "print(a.dtype)\n",
        "\n",
        "# Directly create a short tensor\n",
        "a = torch.ShortTensor(5, 7)\n",
        "print(a.dtype)\n",
        "\n",
        "# Remember: there should be rubbish in these results, we just explicited a data type, not any value yet! (hence random memory is depicted)\n",
        "a"
      ],
      "execution_count": null,
      "outputs": [
        {
          "output_type": "stream",
          "name": "stdout",
          "text": [
            "torch.int16\n",
            "torch.int16\n"
          ]
        },
        {
          "output_type": "execute_result",
          "data": {
            "text/plain": [
              "tensor([[ 14832,  31191,  32024,      0, -26480,  30892,  32024],\n",
              "        [     0, -26384,  30892,  32024,      0,  -1856,  30887],\n",
              "        [ 32024,      0, -26288,  30892,  32024,      0, -31440],\n",
              "        [ 22431,  32025,      0,  -2016,  30887,  32024,      0],\n",
              "        [  9904,  31191,  32024,      0, -23376,  30893,  32024]],\n",
              "       dtype=torch.int16)"
            ]
          },
          "metadata": {},
          "execution_count": 11
        }
      ]
    },
    {
      "cell_type": "markdown",
      "metadata": {
        "id": "0Tw0oG0HsXOf"
      },
      "source": [
        "#### Tips about tensor data types applied to deep learning:\n",
        "\n",
        "Keep in mind the following relations, they might be very useful for your future selves!\n",
        "\n",
        "* Float32 --> Data type for the neural network parameters and GPU operations!\n",
        "* Long (Int64) --> Data type for text inputs (e.g. indexes of words in a dictionary)\n",
        "* Float16 (Half) --> Data type for currently fastest GPU operations (with less precision) on advanced GPU implementations.\n",
        "\n",
        "Remember: only a sticknote for your future selves, in case you have to deal with any of the above mentioned things (embeddings, fastest GPU stuff, etc.).\n",
        "\n",
        "**TO SEE THE FULL SET OF PYTORCH TENSOR DATA TYPES, CHECK THE DOCUMENTATION AT https://pytorch.org/docs/stable/tensors.html**"
      ]
    },
    {
      "cell_type": "markdown",
      "metadata": {
        "id": "qK7tJePCnIoC"
      },
      "source": [
        "#### Bringing the tensors from Python and Numpy\n",
        "\n",
        "You may be familiarized with Numpy and Python lists. The former one is a MUST to do any scientific programming in Python, so if you need a refresh it is recommended to have a quick review: https://becominghuman.ai/an-essential-guide-to-numpy-for-machine-learning-in-python-5615e1758301 . The latter, lists, are the inherent mechanism of Python to create a sorted structure of elements (like a k-dimensional array, as we can embed lists in lists and so on).\n",
        "\n",
        "PyTorch is very well integrated with Numpy (actually PyTorch is supposed to be an enhanced Numpy, with algebraic operations also running on GPU!) and Python. We can hence convert our Numpy and lists into PyTorch tensors VERY EASILY!"
      ]
    },
    {
      "cell_type": "code",
      "metadata": {
        "id": "NDU9ZBJ0WklT",
        "colab": {
          "base_uri": "https://localhost:8080/"
        },
        "outputId": "af1eefbe-c4cf-4908-aca3-3a1145152377"
      },
      "source": [
        "# Creating a 1-D tensor from the Numpy array [1, 2, 3]\n",
        "a = torch.tensor(numpy.array([1, 2, 3]))\n",
        "\n",
        "# Creating a 1-D tensor from the Python list [1, 2, 3]\n",
        "a = torch.tensor([1, 2, 3])\n",
        "# Values 1, 2, 3\n",
        "print('Tensor a values: ', a)\n",
        "# 1 dimension of size 3\n",
        "print('Tensor a shape: ', a.shape)"
      ],
      "execution_count": null,
      "outputs": [
        {
          "output_type": "stream",
          "name": "stdout",
          "text": [
            "Tensor a values:  tensor([1, 2, 3])\n",
            "Tensor a shape:  torch.Size([3])\n"
          ]
        }
      ]
    },
    {
      "cell_type": "code",
      "metadata": {
        "id": "Yvmx8InnWklT",
        "colab": {
          "base_uri": "https://localhost:8080/"
        },
        "outputId": "e43f6d04-0c7f-42b5-eecb-fc28a1c9ca15"
      },
      "source": [
        "# k-dimensional arrays are also turned into PyTorch tensors as easily as that\n",
        "A = torch.tensor(numpy.ones((16, 1024)))\n",
        "print(A.dtype)\n",
        "print(A.shape)"
      ],
      "execution_count": null,
      "outputs": [
        {
          "output_type": "stream",
          "name": "stdout",
          "text": [
            "torch.float64\n",
            "torch.Size([16, 1024])\n"
          ]
        }
      ]
    },
    {
      "cell_type": "markdown",
      "metadata": {
        "id": "-J5CGBU3V5gF"
      },
      "source": [
        "#### Converting tensors back to Numpy!\n",
        "\n",
        "Converting back to numpy arrays is as easy as getting the *.data* attribute of the tensor and calling its *.numpy()* casting function\n"
      ]
    },
    {
      "cell_type": "code",
      "metadata": {
        "id": "2l925z7IWklT"
      },
      "source": [
        "A = torch.rand(10, 10)\n",
        "Anpy = A.data.numpy()\n",
        "print('A type: ', type(A)) # torch.Tensor\n",
        "print('Anpy type: ', type(Anpy)) # numpy.ndarray"
      ],
      "execution_count": null,
      "outputs": []
    },
    {
      "cell_type": "markdown",
      "metadata": {
        "id": "paUskvqytogM"
      },
      "source": [
        "### Exercise 2\n",
        "\n",
        "Create an **int16** *it* tensor in PyTorch (however you want) from the following numpy array *na*"
      ]
    },
    {
      "cell_type": "code",
      "metadata": {
        "id": "anAxY29FWklT",
        "colab": {
          "base_uri": "https://localhost:8080/"
        },
        "outputId": "2e1b3b60-1b6a-4642-ad5c-b20fdb4f50c1"
      },
      "source": [
        "na = 10 * numpy.random.rand(8, 8)\n",
        "\n",
        "# TODO: create the short tensor out of 'na'\n",
        "it = torch.ShortTensor(na)\n",
        "\n",
        "it"
      ],
      "execution_count": null,
      "outputs": [
        {
          "output_type": "execute_result",
          "data": {
            "text/plain": [
              "tensor([[6, 0, 3, 8, 8, 1, 8, 3],\n",
              "        [8, 2, 1, 0, 8, 5, 6, 3],\n",
              "        [7, 5, 3, 4, 6, 0, 6, 2],\n",
              "        [4, 3, 3, 6, 6, 8, 8, 3],\n",
              "        [5, 0, 3, 6, 9, 3, 7, 9],\n",
              "        [2, 6, 0, 3, 7, 0, 9, 8],\n",
              "        [1, 7, 4, 4, 5, 0, 6, 4],\n",
              "        [0, 6, 8, 2, 3, 0, 2, 4]], dtype=torch.int16)"
            ]
          },
          "metadata": {},
          "execution_count": 49
        }
      ]
    },
    {
      "cell_type": "markdown",
      "metadata": {
        "id": "GHyxb3EkxHaT"
      },
      "source": [
        "## Operations with tensors\n",
        "\n",
        "The documentation of PyTorch tensors can be found online in: https://pytorch.org/docs/stable/tensors.html\n",
        "\n",
        "This section introduces two important types of operations in PyTorch:\n",
        "\n",
        "1. In-place operations\n",
        "2. Algebraic operations on tensors: transposing, squeezing/unsqueezing, slicing, chunking and concatenating"
      ]
    },
    {
      "cell_type": "markdown",
      "metadata": {
        "id": "ybnrLcAlNeJV"
      },
      "source": [
        "#### In-place operations"
      ]
    },
    {
      "cell_type": "code",
      "metadata": {
        "id": "63kYrvyKWklT",
        "colab": {
          "base_uri": "https://localhost:8080/"
        },
        "outputId": "c338018a-5698-4dc6-b8f3-384fad1f18db"
      },
      "source": [
        "# In-place operations are those whose function name contain an underscore '_' as in fill_(val), add_(val), etc.\n",
        "a = torch.empty(2, 2)\n",
        "a.fill_(1)\n",
        "print(a)\n"
      ],
      "execution_count": null,
      "outputs": [
        {
          "output_type": "stream",
          "name": "stdout",
          "text": [
            "tensor([[1., 1.],\n",
            "        [1., 1.]])\n"
          ]
        }
      ]
    },
    {
      "cell_type": "code",
      "metadata": {
        "id": "5qy9cXCWWklT",
        "colab": {
          "base_uri": "https://localhost:8080/"
        },
        "outputId": "ca8c79f2-dc93-47e8-f2fe-649824c4698d"
      },
      "source": [
        "# There are operations where both inplace and normal methods can be applied\n",
        "# For example to sum some value to the tensor\n",
        "a.add_(1)\n",
        "print(a) # prints a tensor of values \"2\"\n",
        "# This, though, takes no effect\n",
        "a.add(1)\n",
        "print(a)"
      ],
      "execution_count": null,
      "outputs": [
        {
          "output_type": "stream",
          "name": "stdout",
          "text": [
            "tensor([[2., 2.],\n",
            "        [2., 2.]])\n",
            "tensor([[2., 2.],\n",
            "        [2., 2.]])\n"
          ]
        }
      ]
    },
    {
      "cell_type": "code",
      "metadata": {
        "id": "QwOT1FFKWklU",
        "colab": {
          "base_uri": "https://localhost:8080/"
        },
        "outputId": "49a68717-d7be-4b51-ad2b-b3489b28f994"
      },
      "source": [
        "# So yes, you guessed right! We have to actually assign the result to an output tensor to actually\n",
        "# get the outcome of this operation\n",
        "b = a.add(1)\n",
        "print(b) # NOW it prints a tensor of values \"3\"!"
      ],
      "execution_count": null,
      "outputs": [
        {
          "output_type": "stream",
          "name": "stdout",
          "text": [
            "tensor([[3., 3.],\n",
            "        [3., 3.]])\n"
          ]
        }
      ]
    },
    {
      "cell_type": "markdown",
      "metadata": {
        "id": "YwDuaN_w8ZQ3"
      },
      "source": [
        "### Exercise 3\n",
        "\n",
        "Do you notice an important difference between these in-place vs normal operations? Perhaps not yet... what if I tell you that I want to apply an operation upon a FloatTensor 10000x10000? Knowing that we have 32 bits per float value, compute the required memory to store that tensor in Megabytes (1 MB = 1.000.000 Bytes)"
      ]
    },
    {
      "cell_type": "code",
      "metadata": {
        "id": "lpvNfTE6WklU",
        "colab": {
          "base_uri": "https://localhost:8080/"
        },
        "outputId": "cf6d52f2-1fe1-4f44-9a61-478919183834"
      },
      "source": [
        "# TODO\n",
        "total_mem = 32 / 8 * 10000 * 10000 / 1000000\n",
        "\n",
        "print(total_mem)"
      ],
      "execution_count": null,
      "outputs": [
        {
          "output_type": "stream",
          "name": "stdout",
          "text": [
            "400.0\n"
          ]
        }
      ]
    },
    {
      "cell_type": "markdown",
      "metadata": {
        "id": "OGXDnygK-adC"
      },
      "source": [
        "### Now we can be more applied to deep learning. But with tensors, raw operations.\n",
        "\n",
        "A Neuron is defined as a linear operation of weighted sums followed by a non-linearity. We thus have a tensor of weights *w*, a scalar with the bias *b*, and a non-linearity (like ReLU *max(0, x)* that just allows the positive components to go forth in the *y* values).\n",
        "\n",
        "![](https://www.researchgate.net/profile/Haroldo_Campos_Velho2/publication/235901708/figure/fig1/AS:669443441049602@1536619162135/Artificial-neuron-Equation-neuron-output.ppm)\n"
      ]
    },
    {
      "cell_type": "code",
      "metadata": {
        "id": "0OZUIljjWklU",
        "colab": {
          "base_uri": "https://localhost:8080/"
        },
        "outputId": "f2d0c6c3-80e9-4adb-d29e-a0fcf2e48f54"
      },
      "source": [
        "# We will have 1 input vector with 100.000 dimensions (features)\n",
        "x = torch.ones(1, 100000)\n",
        "\n",
        "# Our weight tensor is hence, for a neuron, 100.000 x 1\n",
        "w = 0.02 * torch.randn(100000, 1)\n",
        "\n",
        "\n",
        "# Let's define the function that will perform the operation of a neuron\n",
        "def forward_neuron(x, w, b):\n",
        "  v = x.mm(w) + b # .mm() is the matmul function (http://pytorch.org/docs/stable/torch.html#torch.mm)\n",
        "  y = v.clamp(min=0) # relu is defined as a truncation of the negative activations to zero (clamp function does the trick)\n",
        "  return y\n",
        "\n",
        "# Now we can see examples of operation through the relu\n",
        "\n",
        "# Our bias is just a scalar\n",
        "bp = 10 * torch.ones(1)\n",
        "\n",
        "print(forward_neuron(x, w, bp))\n",
        "\n",
        "# Shifting the bias quite negatively should raise zero\n",
        "bn = -10 * torch.ones(1)\n",
        "print(forward_neuron(x, w, bn))"
      ],
      "execution_count": null,
      "outputs": [
        {
          "output_type": "stream",
          "name": "stdout",
          "text": [
            "tensor([[6.2956]])\n",
            "tensor([[0.]])\n"
          ]
        }
      ]
    },
    {
      "cell_type": "markdown",
      "metadata": {
        "id": "qWXKiv2-xTWF"
      },
      "source": [
        "### Exercise 4\n",
        "\n",
        "Continuing with previous in-place vs normal operations rationale, please change the *forward_neuron* function to apply the ReLU in-place. This is very useful to save memory when constructing very deep nets.\n",
        "\n",
        "\n",
        "\n",
        "**NOTE:** for the record, this will solve the doubt you will have some day \"what is this inplace=True in the *nn.ReLU(inplace=True)* object?\" when you build neural networks with the PyTorch *torch.nn* API."
      ]
    },
    {
      "cell_type": "code",
      "metadata": {
        "id": "YTRyBZRzWklV",
        "colab": {
          "base_uri": "https://localhost:8080/"
        },
        "outputId": "c75af0a8-0fbd-4471-fe6a-023751fdd37f"
      },
      "source": [
        "def forward_neuron(x, w, b):\n",
        "  v = x.mm(w) + b # .mm() is the matmul function (http://pytorch.org/docs/stable/torch.html#torch.mm)\n",
        "  v.clamp_(min=0)\n",
        "  return v\n",
        "\n",
        "print(forward_neuron(x, w, bp))"
      ],
      "execution_count": null,
      "outputs": [
        {
          "output_type": "stream",
          "name": "stdout",
          "text": [
            "tensor([[6.2956]])\n"
          ]
        }
      ]
    },
    {
      "cell_type": "markdown",
      "metadata": {
        "id": "Y85-XopvNafw"
      },
      "source": [
        "#### Transpositions and beyond\n",
        "\n",
        "Bear in mind the following FUNDAMENTAL operations to work with deep learning:\n",
        "\n",
        "* Tensor transposition: swapping dimensions in the tensor\n",
        "* Tensor chunking: breaking down a tensor into sub-pieces through a certain dimension\n",
        "* Tensor concatenation: merging different tensors into a single one.\n",
        "* Tensor squeezing/unsqueezing for dimension adjustments"
      ]
    },
    {
      "cell_type": "code",
      "metadata": {
        "id": "lQz4HdIKWklV",
        "colab": {
          "base_uri": "https://localhost:8080/"
        },
        "outputId": "a9cd52b6-2b10-4b22-f7ac-5c83bdb62950"
      },
      "source": [
        "# Transposition\n",
        "\n",
        "A = torch.empty(10, 20, 5)\n",
        "\n",
        "# Swap axis 2 and 1\n",
        "A_21 = A.transpose(2, 1)\n",
        "\n",
        "print('{} transposed axis (2, 1) to: {}'.format(A.shape, A_21.shape))\n",
        "\n",
        "# Swap axis 2 and 0\n",
        "A_20 = A.transpose(2, 0)\n",
        "\n",
        "print('{} transposed axis (2, 0) to: {}'.format(A.shape, A_20.shape))"
      ],
      "execution_count": null,
      "outputs": [
        {
          "output_type": "stream",
          "name": "stdout",
          "text": [
            "torch.Size([10, 20, 5]) transposed axis (2, 1) to: torch.Size([10, 5, 20])\n",
            "torch.Size([10, 20, 5]) transposed axis (2, 0) to: torch.Size([5, 20, 10])\n"
          ]
        }
      ]
    },
    {
      "cell_type": "markdown",
      "metadata": {
        "id": "YiCQwQyTRBiu"
      },
      "source": [
        "**NOTE:** The utlity of transpositions will be seen further when dealing with different neural architecture designs."
      ]
    },
    {
      "cell_type": "code",
      "metadata": {
        "id": "xMbUWpCxWklV",
        "colab": {
          "base_uri": "https://localhost:8080/"
        },
        "outputId": "72407e7f-5a0c-44f1-9da9-26236cae403e"
      },
      "source": [
        "# Different axis can be merged with the .view() operator\n",
        "B = A.view(200, 5)\n",
        "print('{} axis (0, 1) merged to: {}'.format(A.shape, B.shape))"
      ],
      "execution_count": null,
      "outputs": [
        {
          "output_type": "stream",
          "name": "stdout",
          "text": [
            "torch.Size([10, 20, 5]) axis (0, 1) merged to: torch.Size([200, 5])\n"
          ]
        }
      ]
    },
    {
      "cell_type": "code",
      "metadata": {
        "id": "p6Z3xiIqWklW",
        "colab": {
          "base_uri": "https://localhost:8080/"
        },
        "outputId": "7374cc77-2bf2-45ef-81b5-632bc69a330c"
      },
      "source": [
        "# Note that giving a wrong size in the dimensions for .view() raises an error\n",
        "try:\n",
        "  B = A.view(201, 5)\n",
        "except RuntimeError:\n",
        "  print('Wrong dimension sizes specified in .view()!')"
      ],
      "execution_count": null,
      "outputs": [
        {
          "output_type": "stream",
          "name": "stdout",
          "text": [
            "Wrong dimension sizes specified in .view()!\n"
          ]
        }
      ]
    },
    {
      "cell_type": "code",
      "metadata": {
        "id": "7UVsguXVWklW",
        "colab": {
          "base_uri": "https://localhost:8080/"
        },
        "outputId": "d32af170-4217-45be-e617-298e493a5c79"
      },
      "source": [
        "# Chunking the tensor with .chunk() requires to specify how many chunks we want in which dimension\n",
        "# For example for tensor A: (10, 20, 5), we can chunk it into 5 sub-tensors of shape (10, 4, 5) each\n",
        "Achunks = torch.chunk(A, 5, dim=1)\n",
        "for i, achunk in enumerate(Achunks):\n",
        "  print('Chunk {} shape: {}'.format(i, achunk.shape))"
      ],
      "execution_count": null,
      "outputs": [
        {
          "output_type": "stream",
          "name": "stdout",
          "text": [
            "Chunk 0 shape: torch.Size([10, 4, 5])\n",
            "Chunk 1 shape: torch.Size([10, 4, 5])\n",
            "Chunk 2 shape: torch.Size([10, 4, 5])\n",
            "Chunk 3 shape: torch.Size([10, 4, 5])\n",
            "Chunk 4 shape: torch.Size([10, 4, 5])\n"
          ]
        }
      ]
    },
    {
      "cell_type": "code",
      "metadata": {
        "id": "ifSMzpOMWklW",
        "colab": {
          "base_uri": "https://localhost:8080/"
        },
        "outputId": "e2315fdf-5b15-4fb5-c0d3-5c394f9b8a7e"
      },
      "source": [
        "# And tensors can be merged back to a tensor Amerged with .cat() operator, specifying in which dimension do we concatenate\n",
        "# So to go back to the same tensor as we had prior to chunking, we stack on dimension 1\n",
        "\n",
        "Amerged = torch.cat(Achunks, dim=1)\n",
        "print('Amerged shape: ', Amerged.shape)"
      ],
      "execution_count": null,
      "outputs": [
        {
          "output_type": "stream",
          "name": "stdout",
          "text": [
            "Amerged shape:  torch.Size([10, 20, 5])\n"
          ]
        }
      ]
    },
    {
      "cell_type": "markdown",
      "metadata": {
        "id": "sIIVSC4Ez7VF"
      },
      "source": [
        "Finally, we may want to add additional dimensions or remove them from our tensor.\n",
        "We achieve so with [.squeeze()](https://pytorch.org/docs/stable/torch.html#torch.squeeze) or [.unsqueeze()](https://pytorch.org/docs/stable/torch.html#torch.unsqueeze).\n",
        "\n"
      ]
    },
    {
      "cell_type": "code",
      "metadata": {
        "id": "BDGAZpWAWklW",
        "colab": {
          "base_uri": "https://localhost:8080/"
        },
        "outputId": "c4ecd423-737f-4a4d-ba7c-a2f137336f94"
      },
      "source": [
        "# Define an empty tensor to start from\n",
        "A = torch.empty(2, 2)\n",
        "\n",
        "# 1) Add an extra dimension in axis 0 (unsqueeze)\n",
        "A = A.unsqueeze(0)\n",
        "print(A, A.shape)\n",
        "# 2) Add an extra dimension in axis 2\n",
        "A = A.unsqueeze(2)\n",
        "print(A, A.shape)\n",
        "# 3) Add an extra dimension in axis 2 again\n",
        "A = A.unsqueeze(2)\n",
        "\n",
        "print('Current A shape after unsqueezing dimensions=(0, 2, 2): ', A.shape)"
      ],
      "execution_count": null,
      "outputs": [
        {
          "output_type": "stream",
          "name": "stdout",
          "text": [
            "tensor([[[5.5256e+15, 3.2924e-41],\n",
            "         [5.6615e+15, 3.2924e-41]]]) torch.Size([1, 2, 2])\n",
            "tensor([[[[5.5256e+15, 3.2924e-41]],\n",
            "\n",
            "         [[5.6615e+15, 3.2924e-41]]]]) torch.Size([1, 2, 1, 2])\n",
            "Current A shape after unsqueezing dimensions=(0, 2, 2):  torch.Size([1, 2, 1, 1, 2])\n"
          ]
        }
      ]
    },
    {
      "cell_type": "code",
      "metadata": {
        "id": "DKYydToiWklX",
        "colab": {
          "base_uri": "https://localhost:8080/"
        },
        "outputId": "d08db515-7166-43d6-d663-c67880601347"
      },
      "source": [
        "# 4) Remove the dimension 0 from step (1)\n",
        "\n",
        "A = A.squeeze(0)\n",
        "\n",
        "print('Current A shape after squeezing dim=0: ', A.shape)"
      ],
      "execution_count": null,
      "outputs": [
        {
          "output_type": "stream",
          "name": "stdout",
          "text": [
            "Current A shape after squeezing dim=0:  torch.Size([2, 1, 1, 2])\n"
          ]
        }
      ]
    },
    {
      "cell_type": "code",
      "metadata": {
        "id": "UyhGmQo0WklX",
        "colab": {
          "base_uri": "https://localhost:8080/"
        },
        "outputId": "f09c337c-3c9f-464d-cf73-6fd076c8f288"
      },
      "source": [
        "# 5) We will remove all remaining dimensions of size 1 (\"useless\") when we do not specify the dimension\n",
        "\n",
        "A = A.squeeze()\n",
        "\n",
        "print('Current A after squeezing all remaining dimensions of size 1: ', A.shape)"
      ],
      "execution_count": null,
      "outputs": [
        {
          "output_type": "stream",
          "name": "stdout",
          "text": [
            "Current A after squeezing all remaining dimensions of size 1:  torch.Size([2, 2])\n"
          ]
        }
      ]
    },
    {
      "cell_type": "markdown",
      "metadata": {
        "id": "Ya3h7RTxT3Nm"
      },
      "source": [
        "### Exercise 5\n",
        "\n",
        "Unsqueezing and squeezing dimensions can also be achieved with the [.view()](https://pytorch.org/docs/stable/tensors.html?highlight=view#torch.Tensor.view) function. \"View\" the tensor *A* to achieve the same shape as the one after step (3) in the previous section with a single function call to *.view()*"
      ]
    },
    {
      "cell_type": "code",
      "metadata": {
        "id": "QvHUgDkpWklX",
        "colab": {
          "base_uri": "https://localhost:8080/"
        },
        "outputId": "f786aa61-b439-43fc-884e-f8fc297a0119"
      },
      "source": [
        "A = torch.empty(2, 2)\n",
        "\n",
        "# TODO: use view to unsqueeze dimensions 0, 2 and 2 (as in the previous section)\n",
        "A = A.view(1, 2, 1, 1, 2)\n",
        "\n",
        "print('Current A shape: ', A.shape)"
      ],
      "execution_count": null,
      "outputs": [
        {
          "output_type": "stream",
          "name": "stdout",
          "text": [
            "Current A shape:  torch.Size([1, 2, 1, 1, 2])\n"
          ]
        }
      ]
    },
    {
      "cell_type": "markdown",
      "metadata": {
        "id": "1romtEZvf0j9"
      },
      "source": [
        "### Exercise 6 (Broadcasting semantics)\n",
        "\n",
        "Many PyTorch operations support [Broadcasting Semantics](https://pytorch.org/docs/stable/notes/broadcasting.html#broadcasting-semantics).\n",
        "\n",
        "If a PyTorch operation supports broadcast, then its Tensor arguments can be\n",
        "automatically expanded to be of equal sizes (without making copies of the data).\n",
        "\n",
        "Considering two tensors with at least one dimension, they are \"broadcastable\" if the following conditions are fulfilled, when iterating dimensions jointly from the last one:\n",
        "- Dimensions of both tensors are equal\n",
        "- One of them is 1\n",
        "- One of them does not exist\n",
        "\n",
        "Check these examples:\n",
        "```\n",
        "A.shape = torch.Size([      1])\n",
        "B.shape = torch.Size([3, 1, 7])\n",
        "C = A + B\n",
        "C.shape = torch.Size([3, 1, 7])\n",
        "```\n",
        "\n",
        "```\n",
        "A.shape = torch.Size([5, 1, 4, 1])\n",
        "B.shape = torch.Size([   3, 1, 1])\n",
        "C = A + B\n",
        "C.shape = torch.Size([5, 3, 4, 1])\n",
        "```\n",
        "\n",
        "```\n",
        "A.shape = torch.Size([5, 2, 4, 1])\n",
        "B.shape = torch.Size([   3, 1, 1])\n",
        "C = A + B  # Error, the broadcasting condition is broken in the second dimension\n",
        "```"
      ]
    },
    {
      "cell_type": "code",
      "metadata": {
        "id": "XJ52WOJ3WklX",
        "colab": {
          "base_uri": "https://localhost:8080/"
        },
        "outputId": "0ddd678b-c2f4-42ca-dbc6-942854fcc2e9"
      },
      "source": [
        "a = torch.ones(5, 3, dtype=torch.int16)\n",
        "print(f\"a = {a}\\n\")\n",
        "print(f\"a.shape = {a.shape}\\n\")\n",
        "\n",
        "b = torch.tensor([1, 2, 3])\n",
        "print(f\"b = {b}\\n\")\n",
        "print(f\"b.shape = {b.shape}\\n\")\n",
        "\n",
        "print(f\"a*b = {a*b}\\n\")\n",
        "print(f\"(a*b).shape = {(a*b).shape}\")"
      ],
      "execution_count": null,
      "outputs": [
        {
          "output_type": "stream",
          "name": "stdout",
          "text": [
            "a = tensor([[1, 1, 1],\n",
            "        [1, 1, 1],\n",
            "        [1, 1, 1],\n",
            "        [1, 1, 1],\n",
            "        [1, 1, 1]], dtype=torch.int16)\n",
            "\n",
            "a.shape = torch.Size([5, 3])\n",
            "\n",
            "b = tensor([1, 2, 3])\n",
            "\n",
            "b.shape = torch.Size([3])\n",
            "\n",
            "a*b = tensor([[1, 2, 3],\n",
            "        [1, 2, 3],\n",
            "        [1, 2, 3],\n",
            "        [1, 2, 3],\n",
            "        [1, 2, 3]])\n",
            "\n",
            "(a*b).shape = torch.Size([5, 3])\n"
          ]
        }
      ]
    },
    {
      "cell_type": "code",
      "metadata": {
        "id": "tLvUqdUhWklY",
        "colab": {
          "base_uri": "https://localhost:8080/"
        },
        "outputId": "0a03ab74-c5e4-4218-b901-92a61dca0e5a"
      },
      "source": [
        "a = torch.ones(5, 3, dtype=torch.int16)\n",
        "print(f\"a = {a}\\n\")\n",
        "print(f\"a.shape = {a.shape}\\n\")\n",
        "\n",
        "b = torch.tensor([1, 2, 3, 4, 5])\n",
        "print(f\"b = {b}\\n\")\n",
        "print(f\"b.shape = {b.shape}\\n\")\n",
        "\n",
        "try:\n",
        "    # a and b are not broadcastable, because in the trailing dimension 3 != 5\n",
        "    print(f\"a*b = {a*b}\\n\") # Error\n",
        "except Exception as e:\n",
        "    print(f\"ERROR: {e}\")"
      ],
      "execution_count": null,
      "outputs": [
        {
          "output_type": "stream",
          "name": "stdout",
          "text": [
            "a = tensor([[1, 1, 1],\n",
            "        [1, 1, 1],\n",
            "        [1, 1, 1],\n",
            "        [1, 1, 1],\n",
            "        [1, 1, 1]], dtype=torch.int16)\n",
            "\n",
            "a.shape = torch.Size([5, 3])\n",
            "\n",
            "b = tensor([1, 2, 3, 4, 5])\n",
            "\n",
            "b.shape = torch.Size([5])\n",
            "\n",
            "ERROR: The size of tensor a (3) must match the size of tensor b (5) at non-singleton dimension 1\n"
          ]
        }
      ]
    },
    {
      "cell_type": "code",
      "metadata": {
        "id": "rYmgia1nWklY",
        "colab": {
          "base_uri": "https://localhost:8080/"
        },
        "outputId": "bd5933ba-9662-4367-88ff-02a22f1f9b89"
      },
      "source": [
        "# TODO: add a trailing dimension to b to make a and b broadcastable\n",
        "b = b.view(5, 1)\n",
        "\n",
        "print(f\"a*b = {a*b}\\n\")\n",
        "print(f\"(a*b).shape = {(a*b).shape}\")"
      ],
      "execution_count": null,
      "outputs": [
        {
          "output_type": "stream",
          "name": "stdout",
          "text": [
            "a*b = tensor([[1, 1, 1],\n",
            "        [2, 2, 2],\n",
            "        [3, 3, 3],\n",
            "        [4, 4, 4],\n",
            "        [5, 5, 5]])\n",
            "\n",
            "(a*b).shape = torch.Size([5, 3])\n"
          ]
        }
      ]
    },
    {
      "cell_type": "markdown",
      "metadata": {
        "id": "80Zvpx366WlU"
      },
      "source": [
        "### Exercise 7 (Grand Finale)\n",
        "\n",
        "Given the tensor *A*, shuffle  each of the elements of the first dimension with the *random.shuffle* Python function.\n",
        "\n",
        "**Clue:** use the functions *torch.chunk*, *random.shuffle* (which acts in-place over Python lists), and *torch.cat*."
      ]
    },
    {
      "cell_type": "code",
      "metadata": {
        "id": "_1bHId7wWklY",
        "colab": {
          "base_uri": "https://localhost:8080/"
        },
        "outputId": "6099eb75-0749-4e0c-b14a-f10fa91d79a1"
      },
      "source": [
        "import torch\n",
        "import random\n",
        "A = torch.rand(4, 2, 4)\n",
        "print('A before shuffling:\\n ', A)\n",
        "\n",
        "# TODO: chunk the tensor, and convert the resulting\n",
        "# tuple into a Python list\n",
        "Achunks = torch.chunk(A, A.shape[0], dim=0)\n",
        "Achunksl = list(Achunks)\n",
        "\n",
        "# TODO: operate with shuffle over the list\n",
        "random.shuffle(Achunksl)\n",
        "\n",
        "# TODO: concatenate the sub-tensors in list \"A\" back\n",
        "A = torch.cat(Achunksl, dim=0)\n",
        "\n",
        "print('A after shuffling:\\n ', A)"
      ],
      "execution_count": null,
      "outputs": [
        {
          "output_type": "stream",
          "name": "stdout",
          "text": [
            "A before shuffling:\n",
            "  tensor([[[0.7706, 0.4774, 0.8780, 0.2066],\n",
            "         [0.2773, 0.7295, 0.0040, 0.7162]],\n",
            "\n",
            "        [[0.0612, 0.1410, 0.7530, 0.6548],\n",
            "         [0.3904, 0.8364, 0.8409, 0.2222]],\n",
            "\n",
            "        [[0.4231, 0.0064, 0.3432, 0.9952],\n",
            "         [0.3263, 0.8428, 0.5055, 0.8510]],\n",
            "\n",
            "        [[0.0823, 0.5274, 0.1925, 0.5398],\n",
            "         [0.9289, 0.5774, 0.2459, 0.3728]]])\n",
            "A after shuffling:\n",
            "  tensor([[[0.0823, 0.5274, 0.1925, 0.5398],\n",
            "         [0.9289, 0.5774, 0.2459, 0.3728]],\n",
            "\n",
            "        [[0.4231, 0.0064, 0.3432, 0.9952],\n",
            "         [0.3263, 0.8428, 0.5055, 0.8510]],\n",
            "\n",
            "        [[0.7706, 0.4774, 0.8780, 0.2066],\n",
            "         [0.2773, 0.7295, 0.0040, 0.7162]],\n",
            "\n",
            "        [[0.0612, 0.1410, 0.7530, 0.6548],\n",
            "         [0.3904, 0.8364, 0.8409, 0.2222]]])\n"
          ]
        }
      ]
    },
    {
      "cell_type": "markdown",
      "metadata": {
        "id": "dWqua-bDWatW"
      },
      "source": [
        "## Final Words\n",
        "\n",
        "Congrats! You reached the end of this introductory tutorial to PyTorch most fundamental data structure. Managing dimensions, casting dtypes, in-place operations and more are the EVERYDAY to-dos of a deep learner. So get ready to master these before delving into the coolest projects ever in which you'll build deep nets. Being confident with tensor operations is very important to properly design neural networks and avoid bugs!"
      ]
    },
    {
      "cell_type": "markdown",
      "metadata": {
        "id": "BhDWyIL97LZ9"
      },
      "source": [
        "### References\n",
        "\n",
        "[1] https://medium.com/datadriveninvestor/from-scalar-to-tensor-fundamental-mathematics-for-machine-learning-with-intuitive-examples-part-163727dfea8d\n",
        "\n",
        "[2] https://pytorch.org/tutorials/beginner/former_torchies/tensor_tutorial.html\n",
        "\n",
        "[3] https://pytorch.org/docs/stable/tensors.html\n"
      ]
    }
  ]
}