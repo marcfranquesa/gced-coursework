{
  "cells": [
    {
      "cell_type": "markdown",
      "metadata": {
        "id": "sKQ_CAxyJG8O"
      },
      "source": [
        "# Image Classification with a Convolutional Neural Network\n",
        "\n",
        "Notebook created by [Santi Pascual](https://github.com/santi-pdp) for the [UPC School](https://www.talent.upc.edu/ing/estudis/formacio/curs/310400/postgrau-artificial-intelligence-deep-learning/) (2019).\n",
        "\n",
        "Based on an original version in Keras created by [Miriam Bellver](https://imatge.upc.edu/web/people/miriam-bellver) for the [Barcelona Technology School](https://barcelonatechnologyschool.com/master/master-in-big-data-solutions/) (BTS) in 2018, and updated by [Daniel Fojo](https://www.linkedin.com/in/daniel-fojo/) and [Xavier Giro](https://imatge.upc.edu/web/people/xavier-giro) in 2019 and by [Pol Caselles](https://www.linkedin.com/in/pcaselles/), [Gerard I. Gállego](https://www.linkedin.com/in/gerard-gallego/) and [Juan José Nieto](https://www.linkedin.com/in/juan-jose-nieto-salas/) in 2022."
      ]
    },
    {
      "cell_type": "markdown",
      "metadata": {
        "id": "vYym1OnNLMRq"
      },
      "source": [
        "We will start replicating the imports and Dataset from the last lab (where MLPs were used to classify MNIST images)."
      ]
    },
    {
      "cell_type": "code",
      "execution_count": 1,
      "metadata": {
        "id": "SCOmSqDwpF8A"
      },
      "outputs": [],
      "source": [
        "import time\n",
        "import numpy as np\n",
        "\n",
        "import torch\n",
        "import torch.nn as nn\n",
        "\n",
        "from typing import Tuple, Dict, Any, List\n",
        "from torchvision import datasets, transforms\n",
        "\n",
        "import matplotlib\n",
        "%matplotlib inline\n",
        "import matplotlib.pyplot as plt"
      ]
    },
    {
      "cell_type": "code",
      "execution_count": 2,
      "metadata": {
        "id": "pW8hfzV6pF8B"
      },
      "outputs": [],
      "source": [
        "seed = 123\n",
        "np.random.seed(seed)\n",
        "_ = torch.manual_seed(seed)\n",
        "_ = torch.cuda.manual_seed(seed)"
      ]
    },
    {
      "cell_type": "code",
      "execution_count": 3,
      "metadata": {
        "id": "Vy9i4re5pF8B"
      },
      "outputs": [],
      "source": [
        "# we select to work on GPU if it is available in the machine, otherwise\n",
        "# will run on CPU\n",
        "device = torch.device('cuda') if torch.cuda.is_available() else torch.device('cpu')\n",
        "\n",
        "# whenever we send something to the selected device (X.to(device)) we already use\n",
        "# either CPU or CUDA (GPU). Importantly...\n",
        "# The .to() operation is in-place for nn.Module's, so network.to(device) suffices\n",
        "# The .to() operation is NOT in.place for tensors, so we must assign the result\n",
        "# to some tensor, like: X = X.to(device)"
      ]
    },
    {
      "cell_type": "markdown",
      "metadata": {
        "id": "-lDIiSkWJbYd"
      },
      "source": [
        "### Defining the Hyper-parameters\n",
        "\n",
        "We now define the hyperparameters that are going to be used throughout the notebook\n",
        "to define the network, the data `batch_size`, the training `learning_rate`, and others."
      ]
    },
    {
      "cell_type": "code",
      "execution_count": 4,
      "metadata": {
        "id": "_un55csCpF8B"
      },
      "outputs": [],
      "source": [
        "# Let's define some hyper-parameters\n",
        "hparams = {\n",
        "    'batch_size': 64,\n",
        "    'num_epochs': 10,\n",
        "    'test_batch_size': 64,\n",
        "    'learning_rate': 1e-3,\n",
        "    'log_interval': 100,\n",
        "}\n"
      ]
    },
    {
      "cell_type": "markdown",
      "metadata": {
        "id": "A_C7nAysRXip"
      },
      "source": [
        "### Defining the PyTorch Dataset and the DataLoader\n",
        "\n",
        "The [PyTorch Dataset](https://pytorch.org/docs/stable/data.html#torch.utils.data.Dataset) is an inheritable `class` that helps us defining what source of data do we have (image, audio, text, ...) and how to load it (overriding the `__getitem__` function). The MNIST dataset is easible accessible from it.\n",
        "\n",
        "The [PyTorch DataLoader](https://pytorch.org/docs/stable/data.html#torch.utils.data.DataLoader) is an iterator that provides batching and shuffling capabilities, among others."
      ]
    },
    {
      "cell_type": "markdown",
      "metadata": {
        "id": "SuMdCXC2RXiq"
      },
      "source": [
        "Each of the datasets, `mnist_trainset` and `mnist_testset`, is composed by images and labels. The model will be trained with the former and evaluated with the latter. Our images are encoded as Numpy arrays, and the labels are simply an array of digits, ranging from 0 to 9. There is a one-to-one correspondence between the images and the labels."
      ]
    },
    {
      "cell_type": "code",
      "execution_count": 5,
      "metadata": {
        "id": "2XuTwnSspF8C",
        "colab": {
          "base_uri": "https://localhost:8080/"
        },
        "outputId": "386cd14c-40c0-4a4f-8cc8-0ab3619134df"
      },
      "outputs": [
        {
          "output_type": "stream",
          "name": "stdout",
          "text": [
            "Downloading http://yann.lecun.com/exdb/mnist/train-images-idx3-ubyte.gz\n",
            "Downloading http://yann.lecun.com/exdb/mnist/train-images-idx3-ubyte.gz to data/MNIST/raw/train-images-idx3-ubyte.gz\n"
          ]
        },
        {
          "output_type": "stream",
          "name": "stderr",
          "text": [
            "100%|██████████| 9912422/9912422 [00:00<00:00, 31586461.28it/s]\n"
          ]
        },
        {
          "output_type": "stream",
          "name": "stdout",
          "text": [
            "Extracting data/MNIST/raw/train-images-idx3-ubyte.gz to data/MNIST/raw\n",
            "\n",
            "Downloading http://yann.lecun.com/exdb/mnist/train-labels-idx1-ubyte.gz\n",
            "Downloading http://yann.lecun.com/exdb/mnist/train-labels-idx1-ubyte.gz to data/MNIST/raw/train-labels-idx1-ubyte.gz\n"
          ]
        },
        {
          "output_type": "stream",
          "name": "stderr",
          "text": [
            "100%|██████████| 28881/28881 [00:00<00:00, 112162679.47it/s]\n"
          ]
        },
        {
          "output_type": "stream",
          "name": "stdout",
          "text": [
            "Extracting data/MNIST/raw/train-labels-idx1-ubyte.gz to data/MNIST/raw\n",
            "\n",
            "Downloading http://yann.lecun.com/exdb/mnist/t10k-images-idx3-ubyte.gz\n",
            "Downloading http://yann.lecun.com/exdb/mnist/t10k-images-idx3-ubyte.gz to data/MNIST/raw/t10k-images-idx3-ubyte.gz\n"
          ]
        },
        {
          "output_type": "stream",
          "name": "stderr",
          "text": [
            "100%|██████████| 1648877/1648877 [00:00<00:00, 46850236.74it/s]\n"
          ]
        },
        {
          "output_type": "stream",
          "name": "stdout",
          "text": [
            "Extracting data/MNIST/raw/t10k-images-idx3-ubyte.gz to data/MNIST/raw\n",
            "\n",
            "Downloading http://yann.lecun.com/exdb/mnist/t10k-labels-idx1-ubyte.gz\n",
            "Downloading http://yann.lecun.com/exdb/mnist/t10k-labels-idx1-ubyte.gz to data/MNIST/raw/t10k-labels-idx1-ubyte.gz\n"
          ]
        },
        {
          "output_type": "stream",
          "name": "stderr",
          "text": [
            "100%|██████████| 4542/4542 [00:00<00:00, 1307966.27it/s]"
          ]
        },
        {
          "output_type": "stream",
          "name": "stdout",
          "text": [
            "Extracting data/MNIST/raw/t10k-labels-idx1-ubyte.gz to data/MNIST/raw\n",
            "\n"
          ]
        },
        {
          "output_type": "stream",
          "name": "stderr",
          "text": [
            "\n"
          ]
        }
      ],
      "source": [
        "transforms = transforms.Compose([\n",
        "    transforms.ToTensor(),\n",
        "    transforms.Normalize((0.1307,), (0.3081,))\n",
        "])\n",
        "\n",
        "# Dataset initializations\n",
        "\n",
        "mnist_trainset = datasets.MNIST(\n",
        "    root='data',\n",
        "    train=True,\n",
        "    download=True,\n",
        "    transform=transforms\n",
        ")\n",
        "mnist_testset = datasets.MNIST(\n",
        "    root='data',\n",
        "    train=False,\n",
        "    download=True,\n",
        "    transform=transforms\n",
        ")\n",
        "\n",
        "# Dataloders initialization\n",
        "\n",
        "train_loader = torch.utils.data.DataLoader(\n",
        "    dataset=mnist_trainset,\n",
        "    batch_size=hparams['batch_size'],\n",
        "    shuffle=True,\n",
        "    drop_last=True,\n",
        ")\n",
        "\n",
        "test_loader = torch.utils.data.DataLoader(\n",
        "    dataset=mnist_testset,\n",
        "    batch_size=hparams['test_batch_size'],\n",
        "    shuffle=False,\n",
        "    drop_last=True,\n",
        ")"
      ]
    },
    {
      "cell_type": "code",
      "execution_count": 6,
      "metadata": {
        "id": "HuwYq8CepF8C",
        "colab": {
          "base_uri": "https://localhost:8080/"
        },
        "outputId": "b60665f7-7e50-489f-dbc9-f52f6a71de45"
      },
      "outputs": [
        {
          "output_type": "stream",
          "name": "stdout",
          "text": [
            "Img shape:  torch.Size([1, 28, 28])\n",
            "Label:  5\n",
            "Batch Img shape:  torch.Size([64, 1, 28, 28])\n",
            "Batch Label shape:  torch.Size([64])\n",
            "Batch Img shape:  torch.Size([64, 1, 28, 28])\n",
            "Batch Label shape:  torch.Size([64])\n",
            "The Batched tensors return a collection of 64 grayscale images (1 channel, 28 height pixels, 28 width pixels)\n",
            "In the case of the labels, we obtain 64 batched integers, one per image\n"
          ]
        }
      ],
      "source": [
        "# We can retrieve a sample from the dataset by simply indexing it\n",
        "img, label = mnist_trainset[0]\n",
        "print('Img shape: ', img.shape)\n",
        "print('Label: ', label)\n",
        "\n",
        "# Similarly, we can sample a BATCH from the dataloader by running over its iterator\n",
        "iter_ = iter(train_loader)\n",
        "bimg, blabel = next(iter_)\n",
        "print('Batch Img shape: ', bimg.shape)\n",
        "print('Batch Label shape: ', blabel.shape)\n",
        "print('Batch Img shape: ', bimg.shape)\n",
        "print('Batch Label shape: ', blabel.shape)\n",
        "print(f'The Batched tensors return a collection of {bimg.shape[0]} grayscale images \\\n",
        "({bimg.shape[1]} channel, {bimg.shape[2]} height pixels, {bimg.shape[3]} width \\\n",
        "pixels)')\n",
        "print(f'In the case of the labels, we obtain {blabel.shape[0]} batched integers, one per image')"
      ]
    },
    {
      "cell_type": "markdown",
      "metadata": {
        "id": "CeyWIoJeLmGA"
      },
      "source": [
        "### About Convolutional Neural Networks"
      ]
    },
    {
      "cell_type": "markdown",
      "metadata": {
        "id": "dfNAe2v5NgYF"
      },
      "source": [
        "Previously, we trained a network using fully connected layers to classify images. However, in the lectures we learned that when dealing with images, Convolutional Neural Networks (CNNs) are more convenient because they deal better with local correlations in the data (as with images). So now we are going to train a CNN for multiclass classification.\n",
        "\n",
        "The following lines show what a basic convnet looks like. It's a stack of Conv2D and MaxPooling2D layers.  \n",
        "\n",
        "\n",
        "\n"
      ]
    },
    {
      "cell_type": "code",
      "execution_count": 7,
      "metadata": {
        "id": "unDJmPBapF8C"
      },
      "outputs": [],
      "source": [
        "# Let's first define a 2D convolutional layer with 1 input channel, 3 output channels\n",
        "# and (height=3, width=3) kernel size\n",
        "conv = nn.Conv2d(in_channels=1, out_channels=3, kernel_size=(3,3))"
      ]
    },
    {
      "cell_type": "markdown",
      "metadata": {
        "id": "m3sInwgsP46R"
      },
      "source": [
        "Importantly, a convnet takes input tensors of shape `(batch, num_channels, image_height, image_width)`. In our case, we will configure our convnet to process inputs of size `(1, H, W)`, which is the format of MNIST images.\n",
        "Let's try with some random image.\n"
      ]
    },
    {
      "cell_type": "code",
      "execution_count": 8,
      "metadata": {
        "id": "bzdv86JmpF8D",
        "colab": {
          "base_uri": "https://localhost:8080/"
        },
        "outputId": "ddb506a4-cb1a-4125-8962-9bc558c2114a"
      },
      "outputs": [
        {
          "output_type": "stream",
          "name": "stdout",
          "text": [
            "Output shape: torch.Size([1, 3, 26, 26]) = conv(torch.Size([1, 1, 28, 28]))\n"
          ]
        }
      ],
      "source": [
        "x = torch.rand(1, 1, 28, 28)\n",
        "y = conv(x)\n",
        "print(f\"Output shape: {y.shape} = conv({x.shape})\")"
      ]
    },
    {
      "cell_type": "markdown",
      "metadata": {
        "id": "aoif3i8gQwA7"
      },
      "source": [
        "> Alice: Note that the only actual number we specify from the input data is the number of channels! No image dimensions are given to the convolutional layer. These are just used to shape the data `x`.\n",
        ">\n",
        "> Bob: Why is that?\n",
        ">\n",
        "> <p>Alice: Because of PyTorch magic &#128526;</p>\n",
        ">\n",
        "> <p>Bob: No, seriously. Why? &#128565;</p>\n",
        ">\n",
        "> Alice: Because of the dynamic computational graph (DCG)!\n",
        "\n",
        "**Do you remember all that stuff about a certain dynamic computational graph? Well here it goes in action. Do we need to specify a fixed size for the images as in other frameworks (such as Keras, TensorFlow, etc.) ? Nope. Because we can forward any image size at any time through the same convolutional layer!**\n",
        "\n",
        "As another example. Let's forward an image of size (11, 11)."
      ]
    },
    {
      "cell_type": "code",
      "execution_count": 9,
      "metadata": {
        "id": "Raw9cjL6pF8D",
        "colab": {
          "base_uri": "https://localhost:8080/"
        },
        "outputId": "371be031-13f5-495f-f3ed-4a91d2ca7e19"
      },
      "outputs": [
        {
          "output_type": "stream",
          "name": "stdout",
          "text": [
            "Output shape: torch.Size([1, 3, 9, 9]) = conv(torch.Size([1, 1, 11, 11]))\n"
          ]
        }
      ],
      "source": [
        "x = torch.rand(1, 1, 11, 11)\n",
        "y = conv(x)\n",
        "print(f\"Output shape: {y.shape} = conv({x.shape})\")"
      ]
    },
    {
      "cell_type": "markdown",
      "metadata": {
        "id": "zTLaDk0rRMWI"
      },
      "source": [
        "**Tadáaaa**, it did accept the input data, and give a corresponding output shape. **The only argument related to the data required in the convolutional definition is the number of channels.**\n",
        "\n",
        "### Exercise 1\n",
        "\n",
        "Why do the output spatial dimensions (`dim=2` and `dim=3`) differ from the input ones? Re-define the `conv` layer below setting the appropriate property such that the output spatial shape is the same as the input one. Also configure it to have three output channels. Look at the PyTorch documentation (`https://pytorch.org/docs/stable/nn.html#torch.nn.Conv2d`) for more reference."
      ]
    },
    {
      "cell_type": "code",
      "execution_count": 10,
      "metadata": {
        "id": "LkNceFQOpF8D",
        "colab": {
          "base_uri": "https://localhost:8080/"
        },
        "outputId": "c460f16c-d8c6-4516-81fa-a088666ccc83"
      },
      "outputs": [
        {
          "output_type": "stream",
          "name": "stdout",
          "text": [
            "Output shape: torch.Size([1, 3, 20, 20]) = conv(torch.Size([1, 1, 20, 20]))\n",
            "Output shape: torch.Size([1, 3, 11, 11]) = conv(torch.Size([1, 1, 11, 11]))\n"
          ]
        }
      ],
      "source": [
        "# TODO: Define the conv layer below and ensure that the output tensor shape in\n",
        "# dimensions {H, W} ( as in [1, channels, H, W] ) will be the same as the input in both cases.\n",
        "conv = nn.Conv2d(in_channels=1, out_channels=3, kernel_size=(3,3), padding=1)\n",
        "\n",
        "x = torch.rand(1, 1, 20, 20)\n",
        "y = conv(x)\n",
        "print(f\"Output shape: {y.shape} = conv({x.shape})\")\n",
        "\n",
        "x = torch.rand(1, 1, 11, 11)\n",
        "y = conv(x)\n",
        "print(f\"Output shape: {y.shape} = conv({x.shape})\")"
      ]
    },
    {
      "cell_type": "markdown",
      "metadata": {
        "id": "kY7hUMauUE9_"
      },
      "source": [
        "### About Pooling\n",
        "\n",
        "Pooling refers to a block where downsampling happens. In the case of CNNs, as they process full images throughout a certain stack of layers that can get quite deep, they occupy a lot of memory to store the so called feature maps. Feature maps are the intermediate hidden activations of a CNN. The next image ([from a Quora response](https://www.quora.com/What-is-max-pooling-in-convolutional-neural-networks)) is very self-explainatory of what **Max Pooling** does applied to images and spatial feature maps.\n",
        "\n",
        "![](https://qph.fs.quoracdn.net/main-qimg-40cdeb3b43594f4b1b1b6e2c137e80b7)\n",
        "\n",
        "As you see, it decimates neighboring regions by picking the max value within that region. And that happens for every channel in the feature map (or the image, if it is grayscale/RGB).\n",
        "\n",
        "The are also other pooling methods, like [`AvgPool2d`](https://pytorch.org/docs/stable/nn.html#torch.nn.AvgPool2d), strided Convolutions (simply incrasing the `stride > 1` of the `torch.nn.Conv2d` layer, etc. Each one has its advantages and drawbacks, which are so far out of the scope of this study on how to define a CNN in PyTorch.\n",
        "\n",
        "In any case, a good question for now is: **what are the advantages of using pooling of any kind?**\n",
        "\n",
        "Let's define a small CNN without pooling and another one with pooling, and let's check the amount of memory used by each in terms of feature map usage and the time it takes to forward an image of `512x512` pixels with just `1` input channel (hence greyscale)."
      ]
    },
    {
      "cell_type": "code",
      "execution_count": 11,
      "metadata": {
        "id": "E_toMtVupF8D"
      },
      "outputs": [],
      "source": [
        "NUM_BITS_FLOAT32 = 32\n",
        "\n",
        "\"\"\"\n",
        "Let's define a class that encapsulates a collection of layers we pass in\n",
        "for each forwarded layer, it retains the amount of consumed memory for\n",
        "the returned feature map. It also displays the total amount used after\n",
        "all blocks are ran.\n",
        "\"\"\"\n",
        "class CNNMemAnalyzer(nn.Module):\n",
        "\n",
        "    def __init__(self, layers: nn.Module) -> None:\n",
        "        super().__init__()\n",
        "        self.layers = layers\n",
        "\n",
        "    def forward(self, x: torch.Tensor) -> Tuple[float, List[int]]:\n",
        "        tot_mbytes = 0\n",
        "        spat_res = []\n",
        "        for layer in self.layers:\n",
        "            h = layer(x)\n",
        "            mem_h_bytes = np.cumprod(h.shape)[-1] * NUM_BITS_FLOAT32 // 8\n",
        "            mem_h_mb = mem_h_bytes / 1e6\n",
        "            print('-' * 30)\n",
        "            print(f'New feature map of shape: {h.shape}')\n",
        "            print(f'Mem usage: {mem_h_mb} MB')\n",
        "            x = h\n",
        "            if isinstance(layer, nn.Conv2d):\n",
        "                # keep track of the current spatial width for conv layers\n",
        "                spat_res.append(h.shape[-1])\n",
        "            tot_mbytes += mem_h_mb\n",
        "        print('=' * 30)\n",
        "        print('Total used memory: {:.2f} MB'.format(tot_mbytes))\n",
        "        return tot_mbytes, spat_res"
      ]
    },
    {
      "cell_type": "markdown",
      "metadata": {
        "id": "bB1Llpg2ZkB7"
      },
      "source": [
        "#### Forwarding the 512x512 image through a non-pooled CNN"
      ]
    },
    {
      "cell_type": "code",
      "execution_count": 12,
      "metadata": {
        "id": "Is_WGcmBpF8E",
        "colab": {
          "base_uri": "https://localhost:8080/"
        },
        "outputId": "c467a4a8-650e-4e6b-f40c-52f5166b8c5d"
      },
      "outputs": [
        {
          "output_type": "stream",
          "name": "stdout",
          "text": [
            "------------------------------\n",
            "New feature map of shape: torch.Size([1, 32, 510, 510])\n",
            "Mem usage: 33.2928 MB\n",
            "------------------------------\n",
            "New feature map of shape: torch.Size([1, 64, 508, 508])\n",
            "Mem usage: 66.064384 MB\n",
            "------------------------------\n",
            "New feature map of shape: torch.Size([1, 64, 506, 506])\n",
            "Mem usage: 65.545216 MB\n",
            "------------------------------\n",
            "New feature map of shape: torch.Size([1, 128, 504, 504])\n",
            "Mem usage: 130.056192 MB\n",
            "------------------------------\n",
            "New feature map of shape: torch.Size([1, 512, 502, 502])\n",
            "Mem usage: 516.104192 MB\n",
            "==============================\n",
            "Total used memory: 811.06 MB\n",
            "Total inference time for non-pooled CNN: 13.11 s\n"
          ]
        }
      ],
      "source": [
        "# First, make a plain stack of convlayers\n",
        "cnn = CNNMemAnalyzer(\n",
        "    nn.ModuleList([\n",
        "        nn.Conv2d(in_channels=1, out_channels=32, kernel_size=(3,3)),\n",
        "        nn.Conv2d(in_channels=32, out_channels=64, kernel_size=(3,3)),\n",
        "        nn.Conv2d(in_channels=64, out_channels=64, kernel_size=(3,3)),\n",
        "        nn.Conv2d(in_channels=64, out_channels=128, kernel_size=(3,3)),\n",
        "        nn.Conv2d(in_channels=128, out_channels=512, kernel_size=(3,3)),\n",
        "    ])\n",
        ")\n",
        "\n",
        "# Let's work with a realistic 512x512 image size\n",
        "# Also, keep track of time to make forward\n",
        "beg_t = time.perf_counter()\n",
        "nopool_mbytes, nopool_res = cnn(torch.randn(1, 1, 512, 512))\n",
        "\n",
        "# https://pytorch.org/docs/stable/generated/torch.cuda.synchronize.html\n",
        "# Waits for all kernels in all streams on a CUDA device to complete.\n",
        "torch.cuda.synchronize(device=device)\n",
        "\n",
        "end_t = time.perf_counter()\n",
        "nopool_time = end_t - beg_t\n",
        "print('Total inference time for non-pooled CNN: {:.2f} s'.format(nopool_time))"
      ]
    },
    {
      "cell_type": "markdown",
      "metadata": {
        "id": "D4UDx8umZntD"
      },
      "source": [
        "#### Forwarding the 512x512 image through a pooled CNN"
      ]
    },
    {
      "cell_type": "code",
      "execution_count": 13,
      "metadata": {
        "id": "xQEvk1LXpF8E",
        "colab": {
          "base_uri": "https://localhost:8080/"
        },
        "outputId": "499c850c-f027-4a61-8106-9f8f33b19134"
      },
      "outputs": [
        {
          "output_type": "stream",
          "name": "stdout",
          "text": [
            "------------------------------\n",
            "New feature map of shape: torch.Size([1, 32, 510, 510])\n",
            "Mem usage: 33.2928 MB\n",
            "------------------------------\n",
            "New feature map of shape: torch.Size([1, 32, 255, 255])\n",
            "Mem usage: 8.3232 MB\n",
            "------------------------------\n",
            "New feature map of shape: torch.Size([1, 64, 253, 253])\n",
            "Mem usage: 16.386304 MB\n",
            "------------------------------\n",
            "New feature map of shape: torch.Size([1, 64, 126, 126])\n",
            "Mem usage: 4.064256 MB\n",
            "------------------------------\n",
            "New feature map of shape: torch.Size([1, 64, 124, 124])\n",
            "Mem usage: 3.936256 MB\n",
            "------------------------------\n",
            "New feature map of shape: torch.Size([1, 64, 62, 62])\n",
            "Mem usage: 0.984064 MB\n",
            "------------------------------\n",
            "New feature map of shape: torch.Size([1, 128, 60, 60])\n",
            "Mem usage: 1.8432 MB\n",
            "------------------------------\n",
            "New feature map of shape: torch.Size([1, 128, 30, 30])\n",
            "Mem usage: 0.4608 MB\n",
            "------------------------------\n",
            "New feature map of shape: torch.Size([1, 512, 28, 28])\n",
            "Mem usage: 1.605632 MB\n",
            "------------------------------\n",
            "New feature map of shape: torch.Size([1, 512, 14, 14])\n",
            "Mem usage: 0.401408 MB\n",
            "==============================\n",
            "Total used memory: 71.30 MB\n",
            "Total inference time for pooled CNN: 0.25 s\n"
          ]
        }
      ],
      "source": [
        "# Now, let's make a stack of convlayers combined with MaxPoolings\n",
        "cnn = CNNMemAnalyzer(\n",
        "    nn.ModuleList([\n",
        "        nn.Conv2d(in_channels=1, out_channels=32, kernel_size=(3,3)),\n",
        "        nn.MaxPool2d(kernel_size=(2,2)),\n",
        "        nn.Conv2d(in_channels=32, out_channels=64, kernel_size=(3,3)),\n",
        "        nn.MaxPool2d(kernel_size=(2,2)),\n",
        "        nn.Conv2d(in_channels=64, out_channels=64, kernel_size=(3,3)),\n",
        "        nn.MaxPool2d(kernel_size=(2,2)),\n",
        "        nn.Conv2d(in_channels=64, out_channels=128, kernel_size=(3,3)),\n",
        "        nn.MaxPool2d(kernel_size=(2,2)),\n",
        "        nn.Conv2d(in_channels=128, out_channels=512, kernel_size=(3,3)),\n",
        "        nn.MaxPool2d(kernel_size=(2,2)),\n",
        "    ])\n",
        ")\n",
        "\n",
        "beg_t = time.perf_counter()\n",
        "pool_mbytes, pool_res = cnn(torch.randn(1, 1, 512, 512))\n",
        "torch.cuda.synchronize(device=device)\n",
        "end_t = time.perf_counter()\n",
        "pool_time = end_t - beg_t\n",
        "print('Total inference time for pooled CNN: {:.2f} s'.format(pool_time))"
      ]
    },
    {
      "cell_type": "code",
      "execution_count": 14,
      "metadata": {
        "id": "MuFpKInWpF8E",
        "colab": {
          "base_uri": "https://localhost:8080/"
        },
        "outputId": "21887e99-28ec-471b-e368-85c580074bd3"
      },
      "outputs": [
        {
          "output_type": "stream",
          "name": "stdout",
          "text": [
            "Total saved memory with poolings:  91.20932171879804\n",
            "Total inference speed increase with poolings: x51.7\n"
          ]
        }
      ],
      "source": [
        "mem_ratio = 1. - pool_mbytes / nopool_mbytes\n",
        "print('Total saved memory with poolings: ', 100. * mem_ratio)\n",
        "\n",
        "time_ratio = nopool_time / pool_time\n",
        "print('Total inference speed increase with poolings: x{:.1f}'.format(time_ratio))"
      ]
    },
    {
      "cell_type": "code",
      "execution_count": 15,
      "metadata": {
        "id": "FE6Z3e_upF8E",
        "colab": {
          "base_uri": "https://localhost:8080/",
          "height": 466
        },
        "outputId": "ff985c5f-b379-4d39-b58d-5d1b6ceea720"
      },
      "outputs": [
        {
          "output_type": "execute_result",
          "data": {
            "text/plain": [
              "<matplotlib.legend.Legend at 0x7e99541b2bf0>"
            ]
          },
          "metadata": {},
          "execution_count": 15
        },
        {
          "output_type": "display_data",
          "data": {
            "text/plain": [
              "<Figure size 640x480 with 1 Axes>"
            ],
            "image/png": "[encoded data removed]"
          },
          "metadata": {}
        }
      ],
      "source": [
        "# Let's plot the width of each feature map as we get deeper into the network\n",
        "plt.plot(nopool_res, label='No pooling')\n",
        "plt.plot(pool_res, label='Pooling')\n",
        "plt.xticks(list(range(len(pool_res))))\n",
        "plt.xlabel('Layer index')\n",
        "plt.ylabel('Img dimension [pixels]')\n",
        "plt.legend()"
      ]
    },
    {
      "cell_type": "markdown",
      "metadata": {
        "id": "OwZhykg5XajA"
      },
      "source": [
        "### Key Observations\n",
        "\n",
        "* We save 91.2% of memory having a model which is pooling after the first couple of conv layers.\n",
        "* The model that contains pooling runs 15.7 times faster in inference than the other one.\n",
        "* The width dimension decreases exponentially when inserting the poolings, compared to the one without those poolings.\n",
        "\n",
        "The convolutional operator works by sweeping the kernel filters through the input image. If we pool `x2` in a couple layers, from the 3rd convlayer onwards we have a `x4` smaller spatial resolution. This means it has to run through by far less pixels to process the whole feature map in those layers. Also, each feature occupies much less memory for the reduced resolution. Pooling is hence a practical downsampling to make our nets fit in memory, and also to get the salient features from the previous incoming feature maps (it gets the maximum activation and forwards only that one within a window). In general, for classification, it is usual to have pooling to condense spatial dimensions into less-and-more-abstract ones. This is done by finish processing the last reduced spatial feature map with some fully connected layer that mixes it all up."
      ]
    },
    {
      "cell_type": "markdown",
      "metadata": {
        "id": "uAN1p6hrcoQn"
      },
      "source": [
        "## Grand Finale: Building a (pseudo) LeNet model\n",
        "\n",
        "Here we will gather the puzzle pieces we have so far (tensor manipulations, convs, poolings, fully connected layers, etc.) and we will define a pseudo-LeNet model ([LeNet ref](http://yann.lecun.com/exdb/publis/pdf/lecun-01a.pdf)). We say \"pseudo\" because we will obviate the type of actual pooling that the authors proposed by then, or the gaussian connections, or the `Tanh` activations. We will instead use `MaxPooling`s, `Fully connected` layers all the way through, and `ReLU` activations.\n",
        "\n",
        "For reference, the LeNet model is the following:\n",
        "![](https://miro.medium.com/max/2154/1*1TI1aGBZ4dybR6__DI9dzA.png)"
      ]
    },
    {
      "cell_type": "markdown",
      "metadata": {
        "id": "1K_BP1dKiC28"
      },
      "source": [
        "### Exercise 2\n",
        "\n",
        "Make the `ConvBlock` class to properly do: `Conv2d`, `ReLU`, and `MaxPool2d`. Ensure that for an input of size `1x32x32` you obtain an output feature map of size `6x14x14` as shown in the figure above for layer `S2`."
      ]
    },
    {
      "cell_type": "code",
      "execution_count": 16,
      "metadata": {
        "id": "oSXcStQQpF8E",
        "colab": {
          "base_uri": "https://localhost:8080/"
        },
        "outputId": "262e4c4b-48d8-4f78-ba8b-55421ec66ab7"
      },
      "outputs": [
        {
          "output_type": "stream",
          "name": "stdout",
          "text": [
            "Input shape: torch.Size([1, 1, 32, 32])\n",
            "ConvBlock output shape (S2 level in Figure): torch.Size([1, 6, 14, 14])\n"
          ]
        }
      ],
      "source": [
        "class ConvBlock(nn.Module):\n",
        "\n",
        "    def __init__(\n",
        "            self,\n",
        "            num_inp_channels: int,\n",
        "            num_out_fmaps: int,\n",
        "            kernel_size: int,\n",
        "            pool_size: int=2) -> None:\n",
        "\n",
        "        super().__init__()\n",
        "\n",
        "        # TODO: define the 3 modules needed\n",
        "        self.conv = nn.Conv2d(in_channels=num_inp_channels, out_channels=num_out_fmaps, kernel_size=(kernel_size, kernel_size))\n",
        "        self.relu = nn.ReLU()\n",
        "        self.maxpool = nn.MaxPool2d(kernel_size=(pool_size,pool_size))\n",
        "\n",
        "    def forward(self, x: torch.Tensor) -> torch.Tensor:\n",
        "        return self.maxpool(self.relu(self.conv(x)))\n",
        "\n",
        "\n",
        "\n",
        "model = ConvBlock(\n",
        "    num_inp_channels=1,\n",
        "    num_out_fmaps=6,\n",
        "    kernel_size=5,\n",
        "    pool_size=2)\n",
        "\n",
        "# run forward pass\n",
        "x = torch.randn(1, 1, 32, 32)\n",
        "y = model(x)\n",
        "\n",
        "assert y.shape[1] == 6, 'The amount of feature maps is not correct!'\n",
        "assert y.shape[2] == 14 and y.shape[3] == 14, 'The spatial dimensions are not correct!'\n",
        "print(f'Input shape: {x.shape}')\n",
        "print(f'ConvBlock output shape (S2 level in Figure): {y.shape}')"
      ]
    },
    {
      "cell_type": "markdown",
      "metadata": {
        "id": "9nw1fBFGjPfE"
      },
      "source": [
        "### Exercise 3\n",
        "\n",
        "Finish the `PseudoLeNet` class by including the following:\n",
        "1. As the input images from MNIST are 28x28, add padding to make them 32x32 with the `torch.nn.ConstantPad2d` (https://pytorch.org/docs/stable/nn.html#torch.nn.ConstantPad2d).\n",
        "2. Build the `mlp` classifier as a `nn.Sequential` stack of fully connected layers and ReLU activations, with the sizes shown in the figure above: [120, 84, 10]. Plug the appropriate output activation in the end to do multi-class classification.\n",
        "3. Remember to \"flatten\" the feature maps coming out of the second `ConvBlock` and connect them to the output `mlp` to build the classifier in the `forward` function. This has to be done because fully connected layers (`Linear`) only accept features without any spatial dimension. Hence, all these spatial dimensions and channels are unrolled into single vectors, one per batch sample. **HINT: Remember the `.reshape()` operator to change tensors shape!**"
      ]
    },
    {
      "cell_type": "code",
      "execution_count": 17,
      "metadata": {
        "id": "75rccqfOpF8F"
      },
      "outputs": [],
      "source": [
        "class PseudoLeNet(nn.Module):\n",
        "\n",
        "    def __init__(self) -> None:\n",
        "        super().__init__()\n",
        "        # TODO: Define the zero-padding\n",
        "        self.pad = nn.ConstantPad2d(2, 0)\n",
        "\n",
        "        self.conv1 = ConvBlock(num_inp_channels=1, num_out_fmaps=6, kernel_size=5)\n",
        "        self.conv2 = ConvBlock(num_inp_channels=6, num_out_fmaps=16, kernel_size=5)\n",
        "\n",
        "        # TODO: Define the MLP at the deepest layers\n",
        "        self.mlp = nn.Sequential(\n",
        "            nn.Linear(16*5*5, 120),\n",
        "            nn.ReLU(),\n",
        "            nn.Linear(120, 84),\n",
        "            nn.ReLU(),\n",
        "            nn.Linear(84, 10),\n",
        "            nn.LogSoftmax()\n",
        "        )\n",
        "\n",
        "    def forward(self, x: torch.Tensor) -> torch.Tensor:\n",
        "        x = self.pad(x)\n",
        "        x = self.conv1(x)\n",
        "        x = self.conv2(x)\n",
        "        # Obtain the parameters of the tensor in terms of:\n",
        "        # 1) batch size\n",
        "        # 2) number of channels\n",
        "        # 3) spatial \"height\"\n",
        "        # 4) spatial \"width\"\n",
        "        bsz, nch, height, width = x.shape\n",
        "        # TODO: Flatten the feature map with the reshape() operator\n",
        "        # within each batch sample\n",
        "        x = x.reshape(bsz, -1)\n",
        "\n",
        "        y = self.mlp(x)\n",
        "        return y"
      ]
    },
    {
      "cell_type": "code",
      "execution_count": 18,
      "metadata": {
        "id": "sWKsGWG9pF8F",
        "colab": {
          "base_uri": "https://localhost:8080/"
        },
        "outputId": "c9bee431-315f-40f5-ecee-e75da11f1b43"
      },
      "outputs": [
        {
          "output_type": "stream",
          "name": "stdout",
          "text": [
            "Output shape: torch.Size([1, 10])\n"
          ]
        },
        {
          "output_type": "stream",
          "name": "stderr",
          "text": [
            "/usr/local/lib/python3.10/dist-packages/torch/nn/modules/module.py:1518: UserWarning: Implicit dimension choice for log_softmax has been deprecated. Change the call to include dim=X as an argument.\n",
            "  return self._call_impl(*args, **kwargs)\n"
          ]
        }
      ],
      "source": [
        "# Let's forward a toy example emulating the MNIST image size\n",
        "plenet = PseudoLeNet()\n",
        "y = plenet(torch.randn(1, 1, 28, 28))\n",
        "print(f\"Output shape: {y.shape}\")"
      ]
    },
    {
      "cell_type": "markdown",
      "metadata": {
        "id": "3mbDGLTbpbRl"
      },
      "source": [
        "### Now it's time to train and test the model.\n",
        "\n",
        "We take the previous training and test codes from MLP lab models and run them straightaway. Execute the cells below without more hessitation."
      ]
    },
    {
      "cell_type": "code",
      "execution_count": 19,
      "metadata": {
        "id": "PxaoJmUDpF8F"
      },
      "outputs": [],
      "source": [
        "def compute_accuracy(predicted_batch: torch.Tensor, label_batch: torch.Tensor) -> float:\n",
        "    \"\"\"\n",
        "    Define the Accuracy metric in the function below by:\n",
        "      (1) obtain the maximum for each predicted element in the batch to get the\n",
        "        class (it is the maximum index of the num_classes array per batch sample)\n",
        "        (look at torch.argmax in the PyTorch documentation)\n",
        "      (2) compare the predicted class index with the index in its corresponding\n",
        "        neighbor within label_batch\n",
        "      (3) sum up the number of affirmative comparisons and return the summation\n",
        "\n",
        "    Parameters:\n",
        "    -----------\n",
        "    predicted_batch: torch.Tensor shape: [BATCH_SIZE, N_CLASSES]\n",
        "        Batch of predictions\n",
        "    label_batch: torch.Tensor shape: [BATCH_SIZE, 1]\n",
        "        Batch of labels / ground truths.\n",
        "    \"\"\"\n",
        "    pred = predicted_batch.argmax(dim=1, keepdim=True) # get the index of the max log-probability\n",
        "    acum = pred.eq(label_batch.view_as(pred)).sum().item()\n",
        "    return acum"
      ]
    },
    {
      "cell_type": "code",
      "execution_count": 20,
      "metadata": {
        "id": "BdY5bHmWpF8G"
      },
      "outputs": [],
      "source": [
        "def train_epoch(\n",
        "        train_loader: torch.utils.data.DataLoader,\n",
        "        network: torch.nn.Module,\n",
        "        optimizer: torch.optim,\n",
        "        criterion: torch.nn.functional,\n",
        "        log_interval: int,\n",
        "        ) -> Tuple[float, float]:\n",
        "\n",
        "    # Activate the train=True flag inside the model\n",
        "    network.train()\n",
        "\n",
        "    train_loss = []\n",
        "    acc = 0.\n",
        "    avg_weight = 0.1\n",
        "    for batch_idx, (data, target) in enumerate(train_loader):\n",
        "\n",
        "        # Move input data and labels to the device\n",
        "        data, target = data.to(device), target.to(device)\n",
        "\n",
        "        # Set network gradients to 0.\n",
        "        optimizer.zero_grad()\n",
        "\n",
        "        # Forward batch of images through the network\n",
        "        output = network(data)\n",
        "\n",
        "        # Compute loss\n",
        "        loss = criterion(output, target)\n",
        "\n",
        "        # Compute backpropagation\n",
        "        loss.backward()\n",
        "\n",
        "        # Update parameters of the network\n",
        "        optimizer.step()\n",
        "\n",
        "        # Compute metrics\n",
        "        acc += compute_accuracy(output, target)\n",
        "        train_loss.append(loss.item())\n",
        "\n",
        "        if batch_idx % log_interval == 0:\n",
        "            print('Train Epoch: {} [{}/{} ({:.0f}%)]\\tLoss: {:.6f}'.format(\n",
        "                epoch, batch_idx * len(data), len(train_loader.dataset),\n",
        "                100. * batch_idx / len(train_loader), loss.item()))\n",
        "    avg_acc = 100. * acc / len(train_loader.dataset)\n",
        "\n",
        "    return np.mean(train_loss), avg_acc"
      ]
    },
    {
      "cell_type": "code",
      "execution_count": 21,
      "metadata": {
        "id": "GIZ0c5NxpF8G"
      },
      "outputs": [],
      "source": [
        "@torch.no_grad() # decorator: avoid computing gradients\n",
        "def test_epoch(\n",
        "        test_loader: torch.utils.data.DataLoader,\n",
        "        network: torch.nn.Module,\n",
        "        ) -> Tuple[float, float]:\n",
        "\n",
        "    # Dectivate the train=True flag inside the model\n",
        "    network.eval()\n",
        "\n",
        "    test_loss = []\n",
        "    acc = 0\n",
        "    for data, target in test_loader:\n",
        "        data, target = data.to(device), target.to(device)\n",
        "\n",
        "        output = network(data)\n",
        "\n",
        "        # Apply the loss criterion and accumulate the loss\n",
        "        test_loss.append(criterion(output, target).item())\n",
        "\n",
        "        # compute number of correct predictions in the batch\n",
        "        acc += compute_accuracy(output, target)\n",
        "\n",
        "    # Average accuracy across all correct predictions batches now\n",
        "    test_acc = 100. * acc / len(test_loader.dataset)\n",
        "    test_loss = np.mean(test_loss)\n",
        "    print('\\nTest set: Average loss: {:.4f}, Accuracy: {}/{} ({:.0f}%)\\n'.format(\n",
        "        test_loss, acc, len(test_loader.dataset), test_acc,\n",
        "        ))\n",
        "    return test_loss, test_acc"
      ]
    },
    {
      "cell_type": "code",
      "execution_count": 23,
      "metadata": {
        "id": "D9UaARlNpF8G",
        "colab": {
          "base_uri": "https://localhost:8080/"
        },
        "outputId": "8c07592b-f426-411f-dd56-0811a3d5e820"
      },
      "outputs": [
        {
          "output_type": "stream",
          "name": "stdout",
          "text": [
            "Train Epoch: 0 [0/60000 (0%)]\tLoss: 2.297779\n",
            "Train Epoch: 0 [6400/60000 (11%)]\tLoss: 0.351381\n",
            "Train Epoch: 0 [12800/60000 (21%)]\tLoss: 0.173331\n",
            "Train Epoch: 0 [19200/60000 (32%)]\tLoss: 0.050372\n",
            "Train Epoch: 0 [25600/60000 (43%)]\tLoss: 0.155862\n",
            "Train Epoch: 0 [32000/60000 (53%)]\tLoss: 0.043656\n",
            "Train Epoch: 0 [38400/60000 (64%)]\tLoss: 0.201806\n",
            "Train Epoch: 0 [44800/60000 (75%)]\tLoss: 0.032731\n",
            "Train Epoch: 0 [51200/60000 (85%)]\tLoss: 0.016339\n",
            "Train Epoch: 0 [57600/60000 (96%)]\tLoss: 0.127302\n",
            "\n",
            "Test set: Average loss: 0.0529, Accuracy: 9817/10000 (98%)\n",
            "\n",
            "Train Epoch: 1 [0/60000 (0%)]\tLoss: 0.098504\n",
            "Train Epoch: 1 [6400/60000 (11%)]\tLoss: 0.147202\n",
            "Train Epoch: 1 [12800/60000 (21%)]\tLoss: 0.040098\n",
            "Train Epoch: 1 [19200/60000 (32%)]\tLoss: 0.046652\n",
            "Train Epoch: 1 [25600/60000 (43%)]\tLoss: 0.029390\n",
            "Train Epoch: 1 [32000/60000 (53%)]\tLoss: 0.025066\n",
            "Train Epoch: 1 [38400/60000 (64%)]\tLoss: 0.103957\n",
            "Train Epoch: 1 [44800/60000 (75%)]\tLoss: 0.095831\n",
            "Train Epoch: 1 [51200/60000 (85%)]\tLoss: 0.001478\n",
            "Train Epoch: 1 [57600/60000 (96%)]\tLoss: 0.012623\n",
            "\n",
            "Test set: Average loss: 0.0421, Accuracy: 9843/10000 (98%)\n",
            "\n",
            "Train Epoch: 2 [0/60000 (0%)]\tLoss: 0.060409\n",
            "Train Epoch: 2 [6400/60000 (11%)]\tLoss: 0.013203\n",
            "Train Epoch: 2 [12800/60000 (21%)]\tLoss: 0.043526\n",
            "Train Epoch: 2 [19200/60000 (32%)]\tLoss: 0.002319\n",
            "Train Epoch: 2 [25600/60000 (43%)]\tLoss: 0.127862\n",
            "Train Epoch: 2 [32000/60000 (53%)]\tLoss: 0.057128\n",
            "Train Epoch: 2 [38400/60000 (64%)]\tLoss: 0.039159\n",
            "Train Epoch: 2 [44800/60000 (75%)]\tLoss: 0.042697\n",
            "Train Epoch: 2 [51200/60000 (85%)]\tLoss: 0.093262\n",
            "Train Epoch: 2 [57600/60000 (96%)]\tLoss: 0.006444\n",
            "\n",
            "Test set: Average loss: 0.0334, Accuracy: 9874/10000 (99%)\n",
            "\n",
            "Train Epoch: 3 [0/60000 (0%)]\tLoss: 0.002160\n",
            "Train Epoch: 3 [6400/60000 (11%)]\tLoss: 0.023248\n",
            "Train Epoch: 3 [12800/60000 (21%)]\tLoss: 0.027489\n",
            "Train Epoch: 3 [19200/60000 (32%)]\tLoss: 0.016018\n",
            "Train Epoch: 3 [25600/60000 (43%)]\tLoss: 0.001343\n",
            "Train Epoch: 3 [32000/60000 (53%)]\tLoss: 0.000951\n",
            "Train Epoch: 3 [38400/60000 (64%)]\tLoss: 0.005069\n",
            "Train Epoch: 3 [44800/60000 (75%)]\tLoss: 0.002726\n",
            "Train Epoch: 3 [51200/60000 (85%)]\tLoss: 0.012789\n",
            "Train Epoch: 3 [57600/60000 (96%)]\tLoss: 0.002434\n",
            "\n",
            "Test set: Average loss: 0.0324, Accuracy: 9870/10000 (99%)\n",
            "\n",
            "Train Epoch: 4 [0/60000 (0%)]\tLoss: 0.008134\n",
            "Train Epoch: 4 [6400/60000 (11%)]\tLoss: 0.012824\n",
            "Train Epoch: 4 [12800/60000 (21%)]\tLoss: 0.038765\n",
            "Train Epoch: 4 [19200/60000 (32%)]\tLoss: 0.007769\n",
            "Train Epoch: 4 [25600/60000 (43%)]\tLoss: 0.025502\n",
            "Train Epoch: 4 [32000/60000 (53%)]\tLoss: 0.003749\n",
            "Train Epoch: 4 [38400/60000 (64%)]\tLoss: 0.001930\n",
            "Train Epoch: 4 [44800/60000 (75%)]\tLoss: 0.043183\n",
            "Train Epoch: 4 [51200/60000 (85%)]\tLoss: 0.000972\n",
            "Train Epoch: 4 [57600/60000 (96%)]\tLoss: 0.001710\n",
            "\n",
            "Test set: Average loss: 0.0329, Accuracy: 9881/10000 (99%)\n",
            "\n",
            "Train Epoch: 5 [0/60000 (0%)]\tLoss: 0.000564\n",
            "Train Epoch: 5 [6400/60000 (11%)]\tLoss: 0.001409\n",
            "Train Epoch: 5 [12800/60000 (21%)]\tLoss: 0.071309\n",
            "Train Epoch: 5 [19200/60000 (32%)]\tLoss: 0.003639\n",
            "Train Epoch: 5 [25600/60000 (43%)]\tLoss: 0.003026\n",
            "Train Epoch: 5 [32000/60000 (53%)]\tLoss: 0.002785\n",
            "Train Epoch: 5 [38400/60000 (64%)]\tLoss: 0.011426\n",
            "Train Epoch: 5 [44800/60000 (75%)]\tLoss: 0.000677\n",
            "Train Epoch: 5 [51200/60000 (85%)]\tLoss: 0.002700\n",
            "Train Epoch: 5 [57600/60000 (96%)]\tLoss: 0.006262\n",
            "\n",
            "Test set: Average loss: 0.0397, Accuracy: 9850/10000 (98%)\n",
            "\n",
            "Train Epoch: 6 [0/60000 (0%)]\tLoss: 0.000369\n",
            "Train Epoch: 6 [6400/60000 (11%)]\tLoss: 0.004973\n",
            "Train Epoch: 6 [12800/60000 (21%)]\tLoss: 0.006095\n",
            "Train Epoch: 6 [19200/60000 (32%)]\tLoss: 0.011213\n",
            "Train Epoch: 6 [25600/60000 (43%)]\tLoss: 0.001121\n",
            "Train Epoch: 6 [32000/60000 (53%)]\tLoss: 0.005672\n",
            "Train Epoch: 6 [38400/60000 (64%)]\tLoss: 0.006195\n",
            "Train Epoch: 6 [44800/60000 (75%)]\tLoss: 0.001898\n",
            "Train Epoch: 6 [51200/60000 (85%)]\tLoss: 0.000674\n",
            "Train Epoch: 6 [57600/60000 (96%)]\tLoss: 0.002535\n",
            "\n",
            "Test set: Average loss: 0.0427, Accuracy: 9855/10000 (99%)\n",
            "\n",
            "Train Epoch: 7 [0/60000 (0%)]\tLoss: 0.006095\n",
            "Train Epoch: 7 [6400/60000 (11%)]\tLoss: 0.001120\n",
            "Train Epoch: 7 [12800/60000 (21%)]\tLoss: 0.000462\n",
            "Train Epoch: 7 [19200/60000 (32%)]\tLoss: 0.000322\n",
            "Train Epoch: 7 [25600/60000 (43%)]\tLoss: 0.001960\n",
            "Train Epoch: 7 [32000/60000 (53%)]\tLoss: 0.006282\n",
            "Train Epoch: 7 [38400/60000 (64%)]\tLoss: 0.000250\n",
            "Train Epoch: 7 [44800/60000 (75%)]\tLoss: 0.013290\n",
            "Train Epoch: 7 [51200/60000 (85%)]\tLoss: 0.010911\n",
            "Train Epoch: 7 [57600/60000 (96%)]\tLoss: 0.024562\n",
            "\n",
            "Test set: Average loss: 0.0425, Accuracy: 9855/10000 (99%)\n",
            "\n",
            "Train Epoch: 8 [0/60000 (0%)]\tLoss: 0.029803\n",
            "Train Epoch: 8 [6400/60000 (11%)]\tLoss: 0.017976\n",
            "Train Epoch: 8 [12800/60000 (21%)]\tLoss: 0.011543\n",
            "Train Epoch: 8 [19200/60000 (32%)]\tLoss: 0.005978\n",
            "Train Epoch: 8 [25600/60000 (43%)]\tLoss: 0.004673\n",
            "Train Epoch: 8 [32000/60000 (53%)]\tLoss: 0.000193\n",
            "Train Epoch: 8 [38400/60000 (64%)]\tLoss: 0.003735\n",
            "Train Epoch: 8 [44800/60000 (75%)]\tLoss: 0.000419\n",
            "Train Epoch: 8 [51200/60000 (85%)]\tLoss: 0.056485\n",
            "Train Epoch: 8 [57600/60000 (96%)]\tLoss: 0.002236\n",
            "\n",
            "Test set: Average loss: 0.0465, Accuracy: 9845/10000 (98%)\n",
            "\n",
            "Train Epoch: 9 [0/60000 (0%)]\tLoss: 0.005656\n",
            "Train Epoch: 9 [6400/60000 (11%)]\tLoss: 0.035611\n",
            "Train Epoch: 9 [12800/60000 (21%)]\tLoss: 0.032434\n",
            "Train Epoch: 9 [19200/60000 (32%)]\tLoss: 0.000368\n",
            "Train Epoch: 9 [25600/60000 (43%)]\tLoss: 0.000272\n",
            "Train Epoch: 9 [32000/60000 (53%)]\tLoss: 0.000717\n",
            "Train Epoch: 9 [38400/60000 (64%)]\tLoss: 0.000836\n",
            "Train Epoch: 9 [44800/60000 (75%)]\tLoss: 0.041117\n",
            "Train Epoch: 9 [51200/60000 (85%)]\tLoss: 0.001817\n",
            "Train Epoch: 9 [57600/60000 (96%)]\tLoss: 0.000198\n",
            "\n",
            "Test set: Average loss: 0.0401, Accuracy: 9874/10000 (99%)\n",
            "\n"
          ]
        }
      ],
      "source": [
        "pseidotrain_losses = []\n",
        "test_losses = []\n",
        "train_accs = []\n",
        "train_losses = []\n",
        "test_accs = []\n",
        "network = PseudoLeNet()\n",
        "network.to(device)\n",
        "\n",
        "optimizer = torch.optim.RMSprop(network.parameters(), lr=hparams['learning_rate'])\n",
        "criterion = nn.NLLLoss(reduction='mean')\n",
        "\n",
        "for epoch in range(hparams['num_epochs']):\n",
        "\n",
        "    # Compute & save the average training loss for the current epoch\n",
        "    train_loss, train_acc = train_epoch(train_loader, network, optimizer, criterion, hparams[\"log_interval\"])\n",
        "    train_losses.append(train_loss)\n",
        "    train_accs.append(train_acc)\n",
        "\n",
        "    # TODO: Compute & save the average test loss & accuracy for the current epoch\n",
        "    # HELP: Review the functions previously defined to implement the train/test epochs\n",
        "    test_loss, test_accuracy = test_epoch(test_loader, network)\n",
        "\n",
        "    test_losses.append(test_loss)\n",
        "    test_accs.append(test_accuracy)"
      ]
    },
    {
      "cell_type": "code",
      "execution_count": 24,
      "metadata": {
        "id": "As0DhQrlpF8H",
        "colab": {
          "base_uri": "https://localhost:8080/",
          "height": 713
        },
        "outputId": "3c42ecbd-21fe-4093-c539-41cf14bf0c38"
      },
      "outputs": [
        {
          "output_type": "execute_result",
          "data": {
            "text/plain": [
              "[<matplotlib.lines.Line2D at 0x7e993d28d690>]"
            ]
          },
          "metadata": {},
          "execution_count": 24
        },
        {
          "output_type": "display_data",
          "data": {
            "text/plain": [
              "<Figure size 1000x800 with 2 Axes>"
            ],
            "image/png": "[encoded data removed]"
          },
          "metadata": {}
        }
      ],
      "source": [
        "# Plot the plots of the learning curves\n",
        "plt.figure(figsize=(10, 8))\n",
        "plt.subplot(2,1,1)\n",
        "plt.xlabel('Epoch')\n",
        "plt.ylabel('NLLLoss')\n",
        "plt.plot(train_losses, label='train')\n",
        "plt.plot(test_losses, label='test')\n",
        "plt.legend()\n",
        "plt.subplot(2,1,2)\n",
        "plt.xlabel('Epoch')\n",
        "plt.ylabel('Test Accuracy [%]')\n",
        "plt.plot(train_accs, label='train')\n",
        "plt.plot(test_accs, label='test')"
      ]
    },
    {
      "cell_type": "markdown",
      "metadata": {
        "id": "0P6TdeQGpnnP"
      },
      "source": [
        "### The training accuracy should be slightly above 99%, better than the MLP model for a comparable amount of training."
      ]
    }
  ],
  "metadata": {
    "accelerator": "GPU",
    "kernelspec": {
      "display_name": "Python 3 (ipykernel)",
      "language": "python",
      "name": "python3"
    },
    "language_info": {
      "codemirror_mode": {
        "name": "ipython",
        "version": 3
      },
      "file_extension": ".py",
      "mimetype": "text/x-python",
      "name": "python",
      "nbconvert_exporter": "python",
      "pygments_lexer": "ipython3",
      "version": "3.8.8"
    },
    "colab": {
      "provenance": []
    }
  },
  "nbformat": 4,
  "nbformat_minor": 0
}