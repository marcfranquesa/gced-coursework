{
 "cells": [
  {
   "cell_type": "code",
   "execution_count": null,
   "id": "c9c27678-ef05-47a1-b5a8-eb65df035cda",
   "metadata": {},
   "outputs": [],
   "source": [
    "import altair as alt\n",
    "from vega_datasets import data\n",
    "import pandas as pd\n",
    "import warnings\n",
    "warnings.filterwarnings('ignore')"
   ]
  },
  {
   "cell_type": "markdown",
   "id": "8c8c92da-3952-4a39-bec4-085f16f28b3e",
   "metadata": {},
   "source": [
    "# Chapter 3"
   ]
  },
  {
   "cell_type": "markdown",
   "id": "11b58057-9ddf-4f79-84ff-a4ccd4c3ea96",
   "metadata": {},
   "source": [
    "### Exercise 1\n",
    "Check the contents of the Vega dataset co2_concentration.json . Plot with the x variable ‘Date’ as quantitative and y with variable ‘CO2’ as quantitative. What happens? Now try to use the date as a temporal variable? What happens if you use the date as a categorical variable?"
   ]
  },
  {
   "cell_type": "code",
   "execution_count": null,
   "id": "502737af-5752-4912-b6f9-1c14119fa3d2",
   "metadata": {},
   "outputs": [],
   "source": [
    "co2 = data.co2_concentration()\n",
    "co2.head()"
   ]
  },
  {
   "cell_type": "code",
   "execution_count": null,
   "id": "fee029b7-b73a-4140-a6af-701b31a002a6",
   "metadata": {},
   "outputs": [],
   "source": [
    "# Nothing is plotted, date is not quantitative\n",
    "alt.Chart(co2).mark_line().encode(\n",
    "    x=\"Date:Q\",\n",
    "    y=\"CO2:Q\",\n",
    ")"
   ]
  },
  {
   "cell_type": "code",
   "execution_count": null,
   "id": "0a768aa2-aa27-4e8c-9ccf-3fe4addcd81b",
   "metadata": {},
   "outputs": [],
   "source": [
    "# zig-zag pattern\n",
    "alt.Chart(co2).mark_line().encode(\n",
    "    x=\"Date:T\",\n",
    "    y=\"CO2:Q\",\n",
    ")"
   ]
  },
  {
   "cell_type": "code",
   "execution_count": null,
   "id": "ebf3eb86-a0b7-493b-abfb-3ad3d54a39f4",
   "metadata": {},
   "outputs": [],
   "source": [
    "# very long plot\n",
    "alt.Chart(co2).mark_line().encode(\n",
    "    x=\"Date:N\",\n",
    "    y=\"CO2:Q\",\n",
    ")"
   ]
  },
  {
   "cell_type": "markdown",
   "id": "27b8338c-9305-4432-ba34-dafd39584d7f",
   "metadata": {},
   "source": [
    "### Exercise 2\n",
    "Create a scatterplot using the dataset gapminder.json with the X axis as the population, and the Y axis as the life expectancy. Now use the X axis as the life expectancy, and the Y axis as the fertility rate."
   ]
  },
  {
   "cell_type": "code",
   "execution_count": null,
   "id": "d8cde9a0-bf40-4225-89e0-55757c5dac62",
   "metadata": {},
   "outputs": [],
   "source": [
    "gapminder = data.gapminder.url\n",
    "alt.Chart(gapminder).mark_point().encode(\n",
    "    x=\"pop:Q\",\n",
    "    y=\"life_expect:Q\",\n",
    ")"
   ]
  },
  {
   "cell_type": "code",
   "execution_count": null,
   "id": "e79430ba-291e-4ba9-ad86-d125e3cec217",
   "metadata": {},
   "outputs": [],
   "source": [
    "alt.Chart(gapminder).mark_point().encode(\n",
    "    x=\"life_expect:Q\",\n",
    "    y=\"fertility:Q\",\n",
    ")"
   ]
  },
  {
   "cell_type": "markdown",
   "id": "8f6c5b4d-51fb-40d8-a24a-fbbf66b9e977",
   "metadata": {},
   "source": [
    "### Exercise 3\n",
    "Compare the previous chart with another one where the marks are depicted as circles. Make another experiment with the charts as squares."
   ]
  },
  {
   "cell_type": "code",
   "execution_count": null,
   "id": "1e89631b-3b2a-4129-a553-1dffe626b9d5",
   "metadata": {},
   "outputs": [],
   "source": [
    "alt.Chart(gapminder).mark_point(shape=\"circle\").encode(\n",
    "    x=\"life_expect:Q\",\n",
    "    y=\"fertility:Q\",\n",
    ")"
   ]
  },
  {
   "cell_type": "code",
   "execution_count": null,
   "id": "0aa2efb9-760f-4fd8-acf2-b1444261a393",
   "metadata": {},
   "outputs": [],
   "source": [
    "alt.Chart(gapminder).mark_point(shape=\"square\").encode(\n",
    "    x=\"life_expect:Q\",\n",
    "    y=\"fertility:Q\",\n",
    ")"
   ]
  },
  {
   "cell_type": "markdown",
   "id": "35d216e9-4a88-4b89-97d2-0fbcc7eb6aa6",
   "metadata": {},
   "source": [
    "### Exercise 4\n",
    "With the previous example, now encode in the circle mark the population of the country. Compare the sizes using circles, squares, and points."
   ]
  },
  {
   "cell_type": "code",
   "execution_count": null,
   "id": "73b90f27-99b0-4759-915a-1e7d5dc9be66",
   "metadata": {},
   "outputs": [],
   "source": [
    "alt.Chart(gapminder).mark_point(shape=\"circle\", filled=True).encode(\n",
    "    x=\"life_expect:Q\",\n",
    "    y=\"fertility:Q\",\n",
    "    size=\"pop:Q\"\n",
    ")"
   ]
  },
  {
   "cell_type": "markdown",
   "id": "c6dfaf6d-7808-419e-9c8f-2acd3aa7ef52",
   "metadata": {},
   "source": [
    "### Exercise 5\n",
    "The last plot shows all the data in a single chart, but this includes every year. In order to make sense of them, color code the years."
   ]
  },
  {
   "cell_type": "code",
   "execution_count": null,
   "id": "6982ab9a-859c-46d7-92fb-22fec61eaa9e",
   "metadata": {},
   "outputs": [],
   "source": [
    "alt.Chart(gapminder).mark_point(shape=\"circle\", filled=True).encode(\n",
    "    x=\"life_expect:Q\",\n",
    "    y=\"fertility:Q\",\n",
    "    size=\"pop:Q\",\n",
    "    color=\"year:Q\"\n",
    ")"
   ]
  },
  {
   "cell_type": "markdown",
   "id": "f3c3e1db-25d3-43e6-aab4-5d024399f65c",
   "metadata": {},
   "source": [
    "# Chapter 5.1"
   ]
  },
  {
   "cell_type": "markdown",
   "id": "7f654c31-bf38-41f1-b58b-1c37c38255d1",
   "metadata": {},
   "source": [
    "### Exercise 1\n",
    "Use the Vega dataset wheat.json . Plot with the x variable ‘year’ as temporal and y with variable ‘wheat’ as quantitative. Use a line plot, with a dashed pink line of width 3."
   ]
  },
  {
   "cell_type": "code",
   "execution_count": null,
   "id": "a6f9f8e9-3654-4a7b-af92-76fa871bb41c",
   "metadata": {},
   "outputs": [],
   "source": [
    "wheat = data.wheat.url\n",
    "alt.Chart(wheat).mark_line(strokeDash=[7, 3], color=\"pink\", strokeWidth=3).encode(\n",
    "    x=\"year:T\",\n",
    "    y=\"wheat:Q\",\n",
    ")"
   ]
  },
  {
   "cell_type": "markdown",
   "id": "c25560ba-9350-47ba-9f6e-072f8de28682",
   "metadata": {},
   "source": [
    "### Exercise 2\n",
    "Use the same dataset to produce a scatterplot with gray triangles filled with blue."
   ]
  },
  {
   "cell_type": "code",
   "execution_count": null,
   "id": "69b1e123-ae08-48af-9130-6eeb71e9e0fb",
   "metadata": {},
   "outputs": [],
   "source": [
    "alt.Chart(wheat).mark_point(shape=\"triangle\", color=\"gray\", fill=\"blue\").encode(\n",
    "    x=\"year:T\",\n",
    "    y=\"wheat:Q\",\n",
    ")"
   ]
  },
  {
   "cell_type": "markdown",
   "id": "47d0933b-be52-480b-8075-c7405a9271ca",
   "metadata": {},
   "source": [
    "### Exercise 3\n",
    "Increase the size of the previous triangles."
   ]
  },
  {
   "cell_type": "code",
   "execution_count": null,
   "id": "c188de47-e68f-48ae-b290-c4b9e93f9dcb",
   "metadata": {},
   "outputs": [],
   "source": [
    "alt.Chart(wheat).mark_point(shape=\"triangle\", color=\"gray\", fill=\"blue\", size=50).encode(\n",
    "    x=\"year:T\",\n",
    "    y=\"wheat:Q\",\n",
    ")"
   ]
  },
  {
   "cell_type": "markdown",
   "id": "0f153168-0ba3-49a2-8d05-4f7464af0719",
   "metadata": {},
   "source": [
    "### Exercise 4\n",
    "With the cars dataset, render a scatterplot of the acceleration versus the horsepower, with the points encoded as red crosses with black stroke, and their size proportional to the horsepower.\n"
   ]
  },
  {
   "cell_type": "code",
   "execution_count": null,
   "id": "b1e6668f-25f0-405c-8c3c-f84cf8baf41a",
   "metadata": {},
   "outputs": [],
   "source": [
    "cars = data.cars.url\n",
    "alt.Chart(cars).mark_point(shape=\"cross\", color=\"black\", fill=\"red\").encode(\n",
    "    x=\"Acceleration:Q\",\n",
    "    y=\"Horsepower:Q\",\n",
    "    size=\"Horsepower:Q\",\n",
    ")"
   ]
  },
  {
   "cell_type": "markdown",
   "id": "ee3af1d4-e7bb-4d92-804b-0df475497d12",
   "metadata": {},
   "source": [
    "### Exercise 5\n",
    "Modify the previous plot so that the marks are circles with an opacity of 0.25 and the outline is the same color than the filling color."
   ]
  },
  {
   "cell_type": "code",
   "execution_count": null,
   "id": "29dda75b-debd-418a-a643-9b9fe5a6ed19",
   "metadata": {},
   "outputs": [],
   "source": [
    "cars = data.cars.url\n",
    "alt.Chart(cars).mark_point(shape=\"circle\", color=\"red\", filled=True, opacity=0.25).encode(\n",
    "    x=\"Acceleration:Q\",\n",
    "    y=\"Horsepower:Q\",\n",
    "    size=\"Horsepower:Q\",\n",
    ")"
   ]
  },
  {
   "cell_type": "markdown",
   "id": "7edcf47f-cf3b-4603-ae19-c698ff71fda4",
   "metadata": {},
   "source": [
    "# Chapter 5.2"
   ]
  },
  {
   "cell_type": "markdown",
   "id": "6dc21367-78c8-4306-b02a-5c97bd9e71aa",
   "metadata": {},
   "source": [
    "### Exercise 1\n",
    "Use the cars Vega dataset and plot a bar chart that counts the number of cars with each quantity of cylinders."
   ]
  },
  {
   "cell_type": "code",
   "execution_count": null,
   "id": "8e59b2be-2061-49c0-ba46-5bb16b0722bf",
   "metadata": {},
   "outputs": [],
   "source": [
    "alt.Chart(cars).mark_bar().encode(\n",
    "    x=alt.X(\"Cylinders:N\"),\n",
    "    y=\"count():Q\",\n",
    ")"
   ]
  },
  {
   "cell_type": "markdown",
   "id": "c9cefc95-cfbf-4a4f-9f46-da802acca774",
   "metadata": {},
   "source": [
    "### Exercise 2\n",
    "Use the cars Vega dataset and plot a bar chart that shows the maximum displacement of the cars from each origin."
   ]
  },
  {
   "cell_type": "code",
   "execution_count": null,
   "id": "71d3d98a-9faf-41ba-b849-afac065af11c",
   "metadata": {},
   "outputs": [],
   "source": [
    "alt.Chart(cars).mark_bar().encode(\n",
    "    x=\"Origin:N\",\n",
    "    y=\"max(Displacement):Q\",\n",
    ")"
   ]
  },
  {
   "cell_type": "markdown",
   "id": "026bb856-07f4-422f-8e12-1ad1665d6ef3",
   "metadata": {},
   "source": [
    "### Exercise 4\n",
    "Use the cars Vega dataset and plot chart that shows the average miles per gallon of the cars from each origin."
   ]
  },
  {
   "cell_type": "code",
   "execution_count": null,
   "id": "781062eb-e4a4-4b5b-9f50-337d68b7ca55",
   "metadata": {},
   "outputs": [],
   "source": [
    "alt.Chart(cars).mark_bar().encode(\n",
    "    x=\"Origin:N\",\n",
    "    y=\"mean(Miles_per_Gallon):Q\",\n",
    ")"
   ]
  },
  {
   "cell_type": "markdown",
   "id": "706d7d67-1fca-489c-9f90-f761efc77668",
   "metadata": {},
   "source": [
    "### Exercise 5\n",
    "Use the stocks Vega dataset and plot a bar chart that shows the average stock price for each company."
   ]
  },
  {
   "cell_type": "code",
   "execution_count": null,
   "id": "dee2cda4-ac5e-41a8-aa50-09bfa4c146dd",
   "metadata": {},
   "outputs": [],
   "source": [
    "stocks = data.stocks.url\n",
    "alt.Chart(stocks).mark_bar().encode(\n",
    "    x=\"symbol:N\",\n",
    "    y=\"max(price):Q\",\n",
    ")"
   ]
  },
  {
   "cell_type": "markdown",
   "id": "4da7b4e9-155b-4e8f-a7c8-357613b9e94d",
   "metadata": {},
   "source": [
    "### Exercise 6\n",
    "Use the stocks Vega dataset and plot a chart that shows the average stock price for each company per year."
   ]
  },
  {
   "cell_type": "code",
   "execution_count": null,
   "id": "32d17915-92ad-4d15-b38b-bd9451255c68",
   "metadata": {},
   "outputs": [],
   "source": [
    "alt.Chart(stocks).mark_line().encode(\n",
    "    x=\"year:N\",\n",
    "    y=\"mean(price):Q\",\n",
    "    color=\"symbol:N\"\n",
    ").transform_calculate(\n",
    "    year=\"year(datum.date)\"\n",
    ")"
   ]
  },
  {
   "cell_type": "markdown",
   "id": "3ee613ea-71f5-4c74-aa21-94c826342a15",
   "metadata": {},
   "source": [
    "### Exercise 7\n",
    "With the cars Vega dataset, plot a histogram of the cars with different miles per gallon, stacked per origin, inverting the current sorting."
   ]
  },
  {
   "cell_type": "code",
   "execution_count": null,
   "id": "439cd6f4-3a0f-4ba8-bb14-5d89143517a5",
   "metadata": {},
   "outputs": [],
   "source": [
    "alt.Chart(cars).mark_bar().encode(\n",
    "    x=alt.X(\"Miles_per_Gallon:Q\", bin=True),\n",
    "    y=\"count():Q\",\n",
    "    color=alt.Color(\"Origin:N\", sort=\"descending\"),\n",
    ")"
   ]
  },
  {
   "cell_type": "markdown",
   "id": "3756c3b1-ef06-4520-9931-2944a152d505",
   "metadata": {},
   "source": [
    "### Exercise 8\n",
    "Create a line plot that shows the price evolution of the yield barley in the different sites from the barley dataset."
   ]
  },
  {
   "cell_type": "code",
   "execution_count": null,
   "id": "e980e169-b5ee-408e-b113-bef0054ed3ff",
   "metadata": {},
   "outputs": [],
   "source": [
    "barley = data.barley.url\n",
    "alt.Chart(barley).mark_line().encode(\n",
    "    x=\"year:T\",\n",
    "    y=\"yield:Q\",\n",
    "    color=\"site:N\"\n",
    ")"
   ]
  },
  {
   "cell_type": "markdown",
   "id": "eca9878a-dd6a-440e-a5c5-1c6693578a31",
   "metadata": {},
   "source": [
    "### Exercise 9\n",
    "Create a bar chart with the maximum yield value of each variety using the barley dataset."
   ]
  },
  {
   "cell_type": "code",
   "execution_count": null,
   "id": "e404e1f0-d5f0-46aa-afb5-901629589351",
   "metadata": {},
   "outputs": [],
   "source": [
    "alt.Chart(barley).mark_bar().encode(\n",
    "    x=\"variety:N\",\n",
    "    y=\"max(yield):Q\",\n",
    ")"
   ]
  },
  {
   "cell_type": "markdown",
   "id": "db43703f-d489-4c4e-8388-184c803c64a5",
   "metadata": {},
   "source": [
    "### Exercise 10\n",
    "Create a bar chart with the average yield value for each site using the barley dataset."
   ]
  },
  {
   "cell_type": "code",
   "execution_count": null,
   "id": "2e09e372-046e-43c7-9e82-84e40d7397c3",
   "metadata": {},
   "outputs": [],
   "source": [
    "alt.Chart(barley).mark_bar().encode(\n",
    "    x=\"site:N\",\n",
    "    y=\"mean(yield):Q\",\n",
    ")"
   ]
  },
  {
   "cell_type": "markdown",
   "id": "4945ec8d-8fd1-4564-b8bb-2bad62cef8ea",
   "metadata": {},
   "source": [
    "### Exercise 11\n",
    "Create a line chart using the cars dataset, with the average displacement of the cars per year, with different lines for each origin.\n"
   ]
  },
  {
   "cell_type": "code",
   "execution_count": null,
   "id": "1c0f667c-0447-433d-a944-e4f5c3c830df",
   "metadata": {},
   "outputs": [],
   "source": [
    "alt.Chart(cars).mark_line().encode(\n",
    "    x=\"Year:T\",\n",
    "    y=\"mean(Displacement):Q\",\n",
    "    color=\"Origin:N\"\n",
    ")"
   ]
  },
  {
   "cell_type": "markdown",
   "id": "c2c89532-8fab-4866-95eb-a9f8aae71140",
   "metadata": {},
   "source": [
    "### Exercise 12\n",
    "Create a line chart using the cars dataset, with the average miles per gallon per year."
   ]
  },
  {
   "cell_type": "code",
   "execution_count": null,
   "id": "f7c4341d-ee5a-4a28-a00e-e9300c3115bd",
   "metadata": {},
   "outputs": [],
   "source": [
    "alt.Chart(cars).mark_line().encode(\n",
    "    x=\"Year:T\",\n",
    "    y=\"mean(Miles_per_Gallon):Q\",\n",
    ")"
   ]
  },
  {
   "cell_type": "markdown",
   "id": "844c6462-8f5c-4e31-982a-62885441d1b9",
   "metadata": {},
   "source": [
    "### Exercise 13\n",
    "Improve the previous chart by adding the confidence intervals of the miles per gallon. Plot both charts together."
   ]
  },
  {
   "cell_type": "code",
   "execution_count": null,
   "id": "0507214f-8f35-4b7d-a319-8adb7fd20639",
   "metadata": {},
   "outputs": [],
   "source": [
    "main = alt.Chart(cars).mark_line().encode(\n",
    "    x=\"Year:T\",\n",
    "    y=\"mean(Miles_per_Gallon):Q\",\n",
    ")\n",
    "\n",
    "ci = alt.Chart(cars).mark_area(opacity=0.5).encode(\n",
    "    x=\"Year:T\",\n",
    "    y=\"ci0(Miles_per_Gallon):Q\",\n",
    "    y2=\"ci1(Miles_per_Gallon):Q\",\n",
    ")\n",
    "\n",
    "main + ci"
   ]
  },
  {
   "cell_type": "markdown",
   "id": "6ab750e2-dd36-418f-bbfd-09190e3ab489",
   "metadata": {},
   "source": [
    "### Exercise 14\n",
    "Create another line chart, also with the cars dataset, with the average horsepower per year, with confidence intervals, separated per origin, and render both of them separately."
   ]
  },
  {
   "cell_type": "code",
   "execution_count": null,
   "id": "c4a6ef12-ea5c-49fc-9fc8-5be37e2f9767",
   "metadata": {},
   "outputs": [],
   "source": [
    "main = alt.Chart(cars).mark_line().encode(\n",
    "    x=\"Year:T\",\n",
    "    y=\"mean(Horsepower):Q\",\n",
    "    color=\"Origin:N\"\n",
    ")\n",
    "\n",
    "ci = alt.Chart(cars).mark_area(opacity=0.5).encode(\n",
    "    x=\"Year:T\",\n",
    "    y=\"ci0(Horsepower):Q\",\n",
    "    y2=\"ci1(Horsepower):Q\",\n",
    "    color=\"Origin:N\"\n",
    ")\n",
    "\n",
    "main & ci"
   ]
  },
  {
   "cell_type": "markdown",
   "id": "6282a1e2-86b8-4a56-8ea0-34b14c83012d",
   "metadata": {},
   "source": [
    "### Exercise 15\n",
    "Render both charts on top of each other. Resolve the ambiguities."
   ]
  },
  {
   "cell_type": "code",
   "execution_count": null,
   "id": "58f76924-4746-4caa-9129-15cc5d2e67b3",
   "metadata": {},
   "outputs": [],
   "source": [
    "main = alt.Chart(cars).mark_line().encode(\n",
    "    x=\"Year:T\",\n",
    "    y=\"mean(Horsepower):Q\",\n",
    "    color=\"Origin:N\"\n",
    ")\n",
    "\n",
    "ci = alt.Chart(cars).mark_area(opacity=0.5).encode(\n",
    "    x=\"Year:T\",\n",
    "    y=\"ci0(Horsepower):Q\",\n",
    "    y2=\"ci1(Horsepower):Q\",\n",
    "    color=\"Origin:N\"\n",
    ")\n",
    "\n",
    "(main + ci).resolve_scale(color=\"independent\")"
   ]
  },
  {
   "cell_type": "markdown",
   "id": "9c333326-6332-4d26-a06e-d754050d04d1",
   "metadata": {},
   "source": [
    "### Exercise 16\n",
    "Render the first three columns of the employment dataset with three different colors."
   ]
  },
  {
   "cell_type": "code",
   "execution_count": null,
   "id": "3e33682a-acf5-463a-a5c2-9397e0401f0c",
   "metadata": {
    "scrolled": true
   },
   "outputs": [],
   "source": [
    "unemployment = data.us_employment()\n",
    "(\n",
    "    unemployment\n",
    "    .iloc[:, : 3].style\n",
    "    .set_properties(**{'background-color': 'blue'}, subset=['month'])\n",
    "    .set_properties(**{'background-color': 'red'}, subset=['nonfarm'])\n",
    "    .set_properties(**{'background-color': 'yellow'}, subset=['private'])\n",
    ")"
   ]
  },
  {
   "cell_type": "markdown",
   "id": "50122d84-a594-42a3-b4cc-8da1fb4c5deb",
   "metadata": {},
   "source": [
    "### Exercise 17\n",
    "Add a rule on the average of the employment values for those data."
   ]
  },
  {
   "cell_type": "code",
   "execution_count": null,
   "id": "86526950-af16-4e8e-a230-ab7a5e468c71",
   "metadata": {},
   "outputs": [],
   "source": [
    "df = unemployment.iloc[:, list(range(4))].melt(\"month\", var_name=\"Produce\", value_name=\"amount\")\n",
    "\n",
    "base = alt.Chart(df).mark_line().encode(\n",
    "    x=\"month:T\",\n",
    "    y=\"amount:Q\",\n",
    "    color=\"Produce:N\"\n",
    ")\n",
    "\n",
    "rule = alt.Chart(df).mark_rule(color=\"red\", strokeDash=[4, 2]).encode(\n",
    "    y=\"mean(amount):Q\",\n",
    ")\n",
    "\n",
    "base + rule"
   ]
  },
  {
   "cell_type": "markdown",
   "id": "3d026357-9d34-4552-b2b5-4eb5be35d775",
   "metadata": {},
   "source": [
    "### Exercise 18\n",
    "Plot the monthly average of the all employment types of the employment dataset."
   ]
  },
  {
   "cell_type": "code",
   "execution_count": null,
   "id": "be0acb8d-5003-4f16-bb34-767321144cee",
   "metadata": {},
   "outputs": [],
   "source": [
    "df = unemployment.melt(\"month\", var_name=\"Produce\", value_name=\"amount\")\n",
    "alt.Chart(df).mark_line(clip=True).encode(\n",
    "    x=alt.X(\"month:T\", timeUnit=\"yearmonth\"),\n",
    "    y=alt.Y(\"mean(amount):Q\", scale=alt.Scale(domain=(0,150000))),\n",
    "    # color=\"Produce:N\"\n",
    ")"
   ]
  },
  {
   "cell_type": "markdown",
   "id": "67632846-0c49-45f0-9359-a4a9a976cacf",
   "metadata": {},
   "source": [
    "### Exercise 19\n",
    "Plot as a rule the average of the all employment types of the employment dataset."
   ]
  },
  {
   "cell_type": "code",
   "execution_count": null,
   "id": "1fe7d00b-a7ca-4c7c-ab93-4b0bec410746",
   "metadata": {},
   "outputs": [],
   "source": [
    "base = alt.Chart(df).mark_line(strokeWidth=0).encode(\n",
    "    x=\"month:T\"\n",
    ") \n",
    "\n",
    "rule = alt.Chart(df).mark_rule(color=\"red\", strokeDash=[4, 2]).encode(\n",
    "    y=alt.Y(\"average(amount):Q\", scale=alt.Scale(domain=(0,150000))),\n",
    ")\n",
    "\n",
    "base + rule"
   ]
  },
  {
   "cell_type": "markdown",
   "id": "19fcd3f4-f925-4f9c-9199-fdddb06b749a",
   "metadata": {},
   "source": [
    "### Exercise 20\n",
    "Use the dataset “Nivell academic de la població per sexe de la ciutat de Barcelona” of year 2018 from the BCN Open Data web, and show the number of people in the city of each academic degree."
   ]
  },
  {
   "cell_type": "code",
   "execution_count": null,
   "id": "6f73d874-ac55-426d-ba89-0617baf4dad0",
   "metadata": {},
   "outputs": [],
   "source": [
    "import pandas as pd\n",
    "alt.data_transformers.disable_max_rows()\n",
    "academic = \"https://opendata-ajuntament.barcelona.cat/resources/bcn/EstadisticaPadro/pad/2018/2018_pad_mdbas_niv-educa-esta_sexe.csv\"\n",
    "\n",
    "academic = pd.read_csv(academic)\n",
    "df = academic[academic[\"Valor\"] != \"..\"]\n",
    "\n",
    "alt.Chart(df).mark_bar().encode(\n",
    "    x=\"NIV_EDUCA_esta:N\",\n",
    "    y=\"sum(Valor):Q\"\n",
    ")\n"
   ]
  },
  {
   "cell_type": "markdown",
   "id": "b6d110ba-a0ac-40bd-87ff-ad671b77310a",
   "metadata": {},
   "source": [
    "### Exercise 21\n",
    "Show the number of people holding each academic degree (“Nivell academic”) of the Horta-Guinardó neighborhood for a concrete month."
   ]
  },
  {
   "cell_type": "code",
   "execution_count": null,
   "id": "8d1baf0e-b4c2-473b-81b4-a909f43e7c47",
   "metadata": {},
   "outputs": [],
   "source": [
    "df = academic[academic[\"Valor\"] != \"..\"]\n",
    "df = df[df[\"Nom_Districte\"] == \"Horta-Guinardó\"]\n",
    "\n",
    "df[\"Data_Referencia\"].unique()\n",
    "\n",
    "# Not possible to do as we only have one date"
   ]
  },
  {
   "cell_type": "markdown",
   "id": "c0fd0707-8eae-4016-b6c9-68254ec5fb6e",
   "metadata": {},
   "source": [
    "### Exercise 22\n",
    "Compare the higher academic degrees (high school and university) of each neighborhood in Barcelona for a certain year."
   ]
  },
  {
   "cell_type": "code",
   "execution_count": null,
   "id": "74571daa-66ed-40df-ae5a-bfc283e7f2ca",
   "metadata": {},
   "outputs": [],
   "source": [
    "values = [4, 5]\n",
    "\n",
    "df = academic[academic[\"Valor\"] != \"..\"]\n",
    "df = df[df[\"NIV_EDUCA_esta\"].isin(values)]\n",
    "\n",
    "alt.Chart(df).mark_bar().encode(\n",
    "    x=alt.X(\"NIV_EDUCA_esta:N\", axis=alt.Axis(title='', labels=False)),\n",
    "    y=\"sum(Valor):Q\",\n",
    "    color=alt.Color(\"NIV_EDUCA_esta:N\",\n",
    "                   scale=alt.Scale(\n",
    "            domain=values,\n",
    "            range=[\"blue\", \"green\", \"yellow\"])),\n",
    "    column=\"Nom_Districte:N\"\n",
    ")"
   ]
  },
  {
   "cell_type": "markdown",
   "id": "30617845-adfe-44a2-9ad8-b1736c64867b",
   "metadata": {},
   "source": [
    "### Exercise 23\n",
    "Plot the evolution of the academic degree for men and women in Barcelona."
   ]
  },
  {
   "cell_type": "code",
   "execution_count": null,
   "id": "cc798781-9cb1-4fbb-abde-d796a84b8dc9",
   "metadata": {},
   "outputs": [],
   "source": [
    "def l(year):\n",
    "    return f\"https://opendata-ajuntament.barcelona.cat/resources/bcn/EstadisticaPadro/pad/{year}/{year}_pad_mdbas_niv-educa-esta_sexe.csv\"\n",
    "\n",
    "first_year = 1997\n",
    "dfs = [pd.read_csv(l(year)) for year in range(first_year + 1, 2024)]\n",
    "\n",
    "df = pd.concat(dfs, axis=0)"
   ]
  },
  {
   "cell_type": "code",
   "execution_count": null,
   "id": "80db76b6-6429-41a3-bb24-6a3b3a9bd6fc",
   "metadata": {},
   "outputs": [],
   "source": [
    "education = [4, 5, 6]\n",
    "\n",
    "dff = df[df[\"Valor\"] != \"..\"]\n",
    "dff = dff[dff[\"NIV_EDUCA_esta\"].isin(education)]\n",
    "\n",
    "alt.Chart(dff).mark_area().encode(\n",
    "    x=alt.X(\"year:T\", axis=alt.Axis(title='Year')),\n",
    "    y=\"sum(Valor):Q\",\n",
    "    color=alt.Color(\"SEXE:N\")\n",
    ").transform_calculate(\n",
    "    year=\"year(datum.Data_Referencia)\"\n",
    ")"
   ]
  },
  {
   "cell_type": "markdown",
   "id": "d2096029-0acc-430f-8745-27d8de6b9e5e",
   "metadata": {},
   "source": [
    "### Exercise 24\n",
    "Plot the evolution of the academic degree for men and women in a selected neighborhood in Barcelona."
   ]
  },
  {
   "cell_type": "code",
   "execution_count": null,
   "id": "892b182a-35f1-431d-bcb3-aa1a1dd9270c",
   "metadata": {},
   "outputs": [],
   "source": [
    "neighborhood = \"Horta-Guinardó\"\n",
    "education = [4, 5, 6]\n",
    "\n",
    "dff = df[df[\"Valor\"] != \"..\"]\n",
    "dff = dff[dff[\"NIV_EDUCA_esta\"].isin(education)]\n",
    "dff = dff[dff[\"Nom_Districte\"] == neighborhood]\n",
    "\n",
    "alt.Chart(dff).mark_area().encode(\n",
    "    x=alt.X(\"year:T\", axis=alt.Axis(title='Year')),\n",
    "    y=\"sum(Valor):Q\",\n",
    "    color=alt.Color(\"SEXE:N\")\n",
    ").transform_calculate(\n",
    "    year=\"year(datum.Data_Referencia)\"\n",
    ").properties(\n",
    "    title=f\"Academic degree for men and women in {neighborhood}\"\n",
    ")"
   ]
  },
  {
   "cell_type": "markdown",
   "id": "68d15195-b996-4c56-9122-856a2d7c4baa",
   "metadata": {},
   "source": [
    "### Exercise 25\n",
    "Show how the university degree has evolved in Barcelona."
   ]
  },
  {
   "cell_type": "code",
   "execution_count": null,
   "id": "f0ecaa48-91f6-4726-a08f-3b0ec6da65cf",
   "metadata": {},
   "outputs": [],
   "source": [
    "# Similar to above"
   ]
  }
 ],
 "metadata": {
  "kernelspec": {
   "display_name": "Python 3 (ipykernel)",
   "language": "python",
   "name": "python3"
  },
  "language_info": {
   "codemirror_mode": {
    "name": "ipython",
    "version": 3
   },
   "file_extension": ".py",
   "mimetype": "text/x-python",
   "name": "python",
   "nbconvert_exporter": "python",
   "pygments_lexer": "ipython3",
   "version": "3.10.9"
  }
 },
 "nbformat": 4,
 "nbformat_minor": 5
}
