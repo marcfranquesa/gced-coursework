{
 "cells": [
  {
   "cell_type": "markdown",
   "metadata": {
    "id": "ntFxTVT3i3lT"
   },
   "source": [
    "# First steps with Altair\n",
    "## Hands-on practical work"
   ]
  },
  {
   "cell_type": "markdown",
   "metadata": {
    "id": "-2hYh-Nk_W3A"
   },
   "source": [
    "### Altair declarative visualization process:\n",
    "\n",
    "- Get the data\n",
    "- Store it into a *DataFrame*\n",
    "- Call the *alt.Chart()* function with the data as a parameter\n",
    "- Define the marks to be used (with *mark_bar*, *mark_point*...)\n",
    "- Design the visualization by setting the visual variables with *.encode()*\n",
    "- Eventually, lay out many different charts\n",
    "- Eventually, define the interactions"
   ]
  },
  {
   "cell_type": "markdown",
   "metadata": {
    "id": "moo2_uuljDGx"
   },
   "source": [
    "# Basic example: A simple bar chart"
   ]
  },
  {
   "cell_type": "code",
   "execution_count": null,
   "metadata": {
    "colab": {
     "base_uri": "https://localhost:8080/",
     "height": 446
    },
    "id": "CZ00-7TCi2vv",
    "outputId": "5941b1be-52a4-45db-9f1b-fe98b9b1a405"
   },
   "outputs": [],
   "source": [
    "#@title First example: a custom bar chart\n",
    "import altair as alt\n",
    "import pandas as pd\n",
    "\n",
    "# Data\n",
    "data = pd.DataFrame(\n",
    "    {'Country': ['Germany', 'France', 'Italy', 'Spain', 'Poland', 'Romania',\n",
    "                 'Netherlands', 'Belgium', 'Czech Republic', 'Greece'],\n",
    "     'Population (Millions)': [83.155, 67.657, 59.236, 47.399, 37.840,\n",
    "                               19.202, 17.475, 11.555, 10.702, 10.679]})\n",
    "\n",
    "# Creating the chart, with mark_bar to define a bar chart\n",
    "alt.Chart(data).mark_bar().encode(\n",
    "    alt.X('Country:N'),                 # Categories in X axis\n",
    "    alt.Y('Population (Millions):Q'),   # Length of the bars in Y\n",
    ").properties(title = 'Population')      # Title of the chart"
   ]
  },
  {
   "cell_type": "markdown",
   "metadata": {
    "id": "kqThrOSAlilP"
   },
   "source": [
    "We can now change the configuration so that each bar is encoded in a different color. To do so, we change the parameters that the \"encode\" function receives. In this case, we ask Altair to change the color of the bars according to a variable, the country name. This can be made in a very simple way:"
   ]
  },
  {
   "cell_type": "code",
   "execution_count": null,
   "metadata": {
    "colab": {
     "base_uri": "https://localhost:8080/",
     "height": 446
    },
    "id": "kj5CodKzkLwI",
    "outputId": "7032e201-e29a-4157-9e39-8c2b2fed206e"
   },
   "outputs": [],
   "source": [
    "#@title Bar charts with colors per categories\n",
    "import altair as alt\n",
    "import pandas as pd\n",
    "\n",
    "# Data\n",
    "data = pd.DataFrame(\n",
    "    {'Country': ['Germany', 'France', 'Italy', 'Spain', 'Poland', 'Romania',\n",
    "                 'Netherlands', 'Belgium', 'Czech Republic', 'Greece'],\n",
    "     'Population (Millions)': [83.155, 67.657, 59.236, 47.399, 37.840,\n",
    "                               19.202, 17.475, 11.555, 10.702, 10.679]})\n",
    "\n",
    "alt.Chart(data).mark_bar().encode(\n",
    "    alt.X('Country:N'),\n",
    "    alt.Y('Population (Millions):Q'),\n",
    "    alt.Color('Country')                # Color depends on the country value\n",
    ").properties(title = 'Population')"
   ]
  },
  {
   "cell_type": "markdown",
   "metadata": {
    "id": "2op_xh5FmfGm"
   },
   "source": [
    "Altair provides a number of ways to encode the marks. Though the names do not directly map to the actual marks (e.g., a line chart is called mark_line, but the actual marks in a line chart are points, since these are the ones that change directly with the X and Y encodings. Lines are plotted to join points).\n"
   ]
  },
  {
   "cell_type": "code",
   "execution_count": null,
   "metadata": {
    "colab": {
     "base_uri": "https://localhost:8080/",
     "height": 398
    },
    "id": "-YB9Fdm-lBYw",
    "outputId": "9b75df63-585e-466c-f33f-e3e6b2f411b7"
   },
   "outputs": [],
   "source": [
    "#@title Scatterplot\n",
    "\n",
    "import altair as alt\n",
    "import pandas as pd\n",
    "\n",
    "# Data of the different iPhone models with release year, and release price\n",
    "data = {'name': ['iPhone', 'iPhone 3G', 'iPhone 3GS', 'iPhone 4', 'iPhone 4S',\n",
    "                 'iPhone 5', 'iPhone 5S', 'iPhone 6', 'iPhone 6S', 'iPhone 7',\n",
    "                 'iPhone X', 'iPhone XS', 'iPhone 11 Pro', 'iPhone 12 Pro'],\n",
    "        'year': ['2007', '2008', '2009', '2010', '2011', '2012', '2013', '2014',\n",
    "                 '2015', '2016', '2017', '2018', '2019', '2020'],\n",
    "        'price': [499, 599, 699, 599, 649, 649, 649, 649, 699,\n",
    "                  649, 999, 999, 1099, 1099]}\n",
    "\n",
    "# Create a DataFrame with this data\n",
    "df = pd.DataFrame(data)\n",
    "\n",
    "alt.Chart(df).mark_point().encode(          # This chart uses points as marks\n",
    "    alt.X('year:O'),\n",
    "    alt.Y('price:Q'),\n",
    ").properties(title = 'Apple smartphones')"
   ]
  },
  {
   "cell_type": "markdown",
   "metadata": {
    "id": "6TYPyWlCn-o1"
   },
   "source": [
    "# Marks\n",
    "We can change the configuration of the marks. You have the following basic options: mark_line, mark_area, mark_circle... but also other types such as mark_rule, mark_tick, mark_trail, mark_text...\n",
    "Test with those types...\n"
   ]
  },
  {
   "cell_type": "markdown",
   "metadata": {
    "id": "kCA_c7XR3UjT"
   },
   "source": [
    "# Exercises\n",
    "\n",
    "Try simple charts (same data than above) with the following marks:\n",
    "\n",
    "- Line mark\n",
    "- Area mark\n",
    "- Rule mark\n",
    "- Circle mark\n",
    "\n"
   ]
  },
  {
   "cell_type": "code",
   "execution_count": null,
   "metadata": {
    "colab": {
     "base_uri": "https://localhost:8080/",
     "height": 398
    },
    "id": "fmQqPV2S0ruK",
    "outputId": "4b4972e4-6411-4ca7-de2f-2bad01569fe3"
   },
   "outputs": [],
   "source": [
    "\n",
    "import altair as alt\n",
    "import pandas as pd\n",
    "\n",
    "# Data of the different iPhone models with release year, and release price\n",
    "data = {'name': ['iPhone', 'iPhone 3G', 'iPhone 3GS', 'iPhone 4', 'iPhone 4S',\n",
    "                 'iPhone 5', 'iPhone 5S', 'iPhone 6', 'iPhone 6S', 'iPhone 7',\n",
    "                 'iPhone X', 'iPhone XS', 'iPhone 11 Pro', 'iPhone 12 Pro'],\n",
    "        'year': ['2007', '2008', '2009', '2010', '2011', '2012', '2013', '2014',\n",
    "                 '2015', '2016', '2017', '2018', '2019', '2020'],\n",
    "        'price': [499, 599, 699, 599, 649, 649, 649, 649, 699,\n",
    "                  649, 999, 999, 1099, 1099]}\n",
    "\n",
    "# Create a DataFrame with this data\n",
    "df = pd.DataFrame(data)\n",
    "\n",
    "alt.Chart(df).mark_line().encode(          # This chart uses points as marks\n",
    "    alt.X('year:O'),\n",
    "    alt.Y('price:Q'),\n",
    ").properties(title = 'Apple smartphones')"
   ]
  },
  {
   "cell_type": "code",
   "execution_count": null,
   "metadata": {
    "colab": {
     "base_uri": "https://localhost:8080/",
     "height": 398
    },
    "id": "zULzKRCK1G3u",
    "outputId": "ad43556e-d0f0-42c0-e876-d6e7f53aca57"
   },
   "outputs": [],
   "source": [
    "\n",
    "import altair as alt\n",
    "import pandas as pd\n",
    "\n",
    "# Data of the different iPhone models with release year, and release price\n",
    "data = {'name': ['iPhone', 'iPhone 3G', 'iPhone 3GS', 'iPhone 4', 'iPhone 4S',\n",
    "                 'iPhone 5', 'iPhone 5S', 'iPhone 6', 'iPhone 6S', 'iPhone 7',\n",
    "                 'iPhone X', 'iPhone XS', 'iPhone 11 Pro', 'iPhone 12 Pro'],\n",
    "        'year': ['2007', '2008', '2009', '2010', '2011', '2012', '2013', '2014',\n",
    "                 '2015', '2016', '2017', '2018', '2019', '2020'],\n",
    "        'price': [499, 599, 699, 599, 649, 649, 649, 649, 699,\n",
    "                  649, 999, 999, 1099, 1099]}\n",
    "\n",
    "# Create a DataFrame with this data\n",
    "df = pd.DataFrame(data)\n",
    "\n",
    "alt.Chart(df).mark_rule().encode(          # This chart uses points as marks\n",
    "    alt.X('year:O'),\n",
    "    alt.Y('price:Q'),\n",
    ").properties(title = 'Apple smartphones')"
   ]
  },
  {
   "cell_type": "markdown",
   "metadata": {
    "id": "d2oSOQ27on00"
   },
   "source": [
    "Now let's try to illustrate the smartphones chart with some text identifying the mobiles... This can be addressed in several ways.\n"
   ]
  },
  {
   "cell_type": "code",
   "execution_count": null,
   "metadata": {
    "colab": {
     "base_uri": "https://localhost:8080/",
     "height": 399
    },
    "id": "H81eQDdCleLH",
    "outputId": "351870bc-c7e8-42a4-e289-17568ae5d94f"
   },
   "outputs": [],
   "source": [
    "#@title Text mark\n",
    "import altair as alt\n",
    "import pandas as pd\n",
    "\n",
    "# Data of the different iPhone models with release year, and release price\n",
    "data = {'name': ['iPhone', 'iPhone 3G', 'iPhone 3GS', 'iPhone 4', 'iPhone 4S',\n",
    "                 'iPhone 5', 'iPhone 5S', 'iPhone 6', 'iPhone 6S', 'iPhone 7',\n",
    "                 'iPhone X', 'iPhone XS', 'iPhone 11 Pro', 'iPhone 12 Pro'],\n",
    "        'year': ['2007', '2008', '2009', '2010', '2011', '2012', '2013', '2014',\n",
    "                 '2015', '2016', '2017', '2018', '2019', '2020'],\n",
    "        'price': [499, 599, 699, 599, 649, 649, 649, 649, 699,\n",
    "                  649, 999, 999, 1099, 1099]}\n",
    "\n",
    "df = pd.DataFrame(data)\n",
    "\n",
    "alt.Chart(df).mark_text().encode(\n",
    "    alt.X('year:O'),\n",
    "    alt.Y('price:Q'),\n",
    "    alt.Text('name')\n",
    ").properties(title = 'Apple smartphones')"
   ]
  },
  {
   "cell_type": "markdown",
   "metadata": {
    "id": "L8Yrud_TpFns"
   },
   "source": [
    "This might become cluttered.\n",
    "Maybe we can add the text only on hover... This could be achieved with a tooltip."
   ]
  },
  {
   "cell_type": "code",
   "execution_count": null,
   "metadata": {
    "colab": {
     "base_uri": "https://localhost:8080/",
     "height": 398
    },
    "id": "sVOHN_WcBZCs",
    "outputId": "5a29124e-227e-4890-b373-e56fb2128b34"
   },
   "outputs": [],
   "source": [
    "#@title Scatterplot with tooltip\n",
    "\n",
    "import altair as alt\n",
    "import pandas as pd\n",
    "\n",
    "# Data of the different iPhone models with release year, and release price\n",
    "data = {'name': ['iPhone', 'iPhone 3G', 'iPhone 3GS', 'iPhone 4', 'iPhone 4S',\n",
    "                 'iPhone 5', 'iPhone 5S', 'iPhone 6', 'iPhone 6S', 'iPhone 7',\n",
    "                 'iPhone X', 'iPhone XS', 'iPhone 11 Pro', 'iPhone 12 Pro'],\n",
    "        'year': ['2007', '2008', '2009', '2010', '2011', '2012', '2013', '2014',\n",
    "                 '2015', '2016', '2017', '2018', '2019', '2020'],\n",
    "        'price': [499, 599, 699, 599, 649, 649, 649, 649, 699,\n",
    "                  649, 999, 999, 1099, 1099]}\n",
    "\n",
    "# Create a DataFrame with this data\n",
    "df = pd.DataFrame(data)\n",
    "\n",
    "alt.Chart(df).mark_point(\n",
    "    shape = 'square', filled = True).encode( # Use filled points with square shape\n",
    "    alt.X('year:O'),\n",
    "    alt.Y('price:Q'),\n",
    "    tooltip = 'name'                        # The name will appear on hover\n",
    ").properties(title = 'Apple smartphones')"
   ]
  },
  {
   "cell_type": "markdown",
   "metadata": {
    "id": "jzlqlGaTJ1pe"
   },
   "source": [
    "\n",
    "\n",
    "---\n",
    "\n"
   ]
  },
  {
   "cell_type": "markdown",
   "metadata": {
    "id": "cvfrLVKfoKEu"
   },
   "source": [
    "# Using the last version of altair\n",
    "\n",
    "By default, the last version might not be installed, you can install it through the following code:\n"
   ]
  },
  {
   "cell_type": "code",
   "execution_count": null,
   "metadata": {
    "colab": {
     "base_uri": "https://localhost:8080/"
    },
    "id": "hlyup4gzoRm5",
    "outputId": "d45d325c-f3b9-4669-cf4d-e25dd8ef121b"
   },
   "outputs": [],
   "source": [
    "!pip install altair==5.0.1"
   ]
  },
  {
   "cell_type": "markdown",
   "metadata": {
    "id": "2WOjR-NqCAc5"
   },
   "source": [
    "# Loading data"
   ]
  },
  {
   "cell_type": "code",
   "execution_count": null,
   "metadata": {
    "id": "yFqWFeQc7xrc"
   },
   "outputs": [],
   "source": [
    "#@title Loading the Vega datasets\n",
    "\n",
    "import altair as alt\n",
    "import pandas as pd\n",
    "from vega_datasets import data\n"
   ]
  },
  {
   "cell_type": "markdown",
   "metadata": {
    "id": "bRThm9f27nP-"
   },
   "source": [
    "As we have seen, the data can be uploaded to Altair using dataframes. We can get several data samples from the vega datasets repository. In Altair, you would do it as follows:"
   ]
  },
  {
   "cell_type": "markdown",
   "metadata": {
    "id": "0TsrPoK270rc"
   },
   "source": [
    "You can check the available datasets here: https://github.com/vega/vega-datasets/tree/main/data\n",
    "\n"
   ]
  },
  {
   "cell_type": "markdown",
   "metadata": {
    "id": "0ijbi2yE8Mh1"
   },
   "source": [
    "For example, for loading the stocks dataset, and plot it as a line chart, we could do the following:\n"
   ]
  },
  {
   "cell_type": "code",
   "execution_count": null,
   "metadata": {
    "colab": {
     "base_uri": "https://localhost:8080/",
     "height": 368
    },
    "id": "neNF9cvD8S1F",
    "outputId": "974679ad-6cb8-4c67-e87c-929cb934f313"
   },
   "outputs": [],
   "source": [
    "import altair as alt\n",
    "import pandas as pd\n",
    "from vega_datasets import data\n",
    "\n",
    "df = data.stocks.url\n",
    "\n",
    "alt.Chart(df).mark_line(\n",
    "    ).encode(\n",
    "    x='date:T',\n",
    "    y='price:Q',\n",
    "    color='symbol:N'\n",
    ").transform_calculate(\n",
    "    year='year(datum.date)'\n",
    "    )\n",
    "\n",
    "# transform_calculate transforms data to only the year can be used for other things"
   ]
  },
  {
   "cell_type": "markdown",
   "metadata": {
    "id": "B59KWz_P8WCE"
   },
   "source": [
    "Note that the stock prize of Google did not appear until 2005 and on. We could filter out the data of the previous year with a simple filtering operation:"
   ]
  },
  {
   "cell_type": "markdown",
   "metadata": {
    "id": "KGUHqemoCIVt"
   },
   "source": [
    "# Simple filtering\n",
    "\n",
    "We can filter the data using a *transform_filter()* function that uses *alt.datum* and an expression to define the fields we want to filter in."
   ]
  },
  {
   "cell_type": "code",
   "execution_count": null,
   "metadata": {
    "colab": {
     "base_uri": "https://localhost:8080/",
     "height": 368
    },
    "id": "y1x2qtd18jy8",
    "outputId": "e2ee5d18-5613-4ff8-b44b-51e87e205a79"
   },
   "outputs": [],
   "source": [
    "#@title Example with transform_filter\n",
    "import altair as alt\n",
    "import pandas as pd\n",
    "from vega_datasets import data\n",
    "\n",
    "df = data.stocks.url\n",
    "\n",
    "alt.Chart(df).mark_line(\n",
    "    ).encode(\n",
    "    x='date:T',\n",
    "    y='price:Q',\n",
    "    color='symbol:N'\n",
    ").transform_calculate(\n",
    "    year='year(datum.date)'\n",
    "    ).transform_filter(       # Filtering per year\n",
    "        alt.datum.year > 2005)"
   ]
  },
  {
   "cell_type": "markdown",
   "metadata": {
    "id": "KfMhViyPi02N"
   },
   "source": [
    "\n",
    "\n",
    "---\n",
    "\n"
   ]
  },
  {
   "cell_type": "markdown",
   "metadata": {
    "id": "OKasrvzc9xCE"
   },
   "source": [
    "## Data input\n",
    "\n",
    "Data typically comes in two forms in a Dataframe: wide and long"
   ]
  },
  {
   "cell_type": "markdown",
   "metadata": {
    "id": "n-NNP4Lo9280"
   },
   "source": [
    "### Wide form"
   ]
  },
  {
   "cell_type": "code",
   "execution_count": null,
   "metadata": {
    "colab": {
     "base_uri": "https://localhost:8080/",
     "height": 143
    },
    "id": "NjwS1K4G94ec",
    "outputId": "06b7af62-d905-4da5-af4a-11957c2fc5d5"
   },
   "outputs": [],
   "source": [
    "wide_form = pd.DataFrame({'Date': ['2007-10-01', '2007-11-01', '2007-12-01'],\n",
    "                          'AAPL': [189.95, 182.22, 198.08],\n",
    "                          'AMZN': [89.15, 90.56, 92.64]})\n",
    "wide_form"
   ]
  },
  {
   "cell_type": "markdown",
   "metadata": {
    "id": "tWSndb-q96_M"
   },
   "source": [
    "### Long form (which is the preferred by altair)"
   ]
  },
  {
   "cell_type": "code",
   "execution_count": null,
   "metadata": {
    "colab": {
     "base_uri": "https://localhost:8080/",
     "height": 238
    },
    "id": "TS7UGg9o9_K0",
    "outputId": "5390cfc4-704c-4311-dad2-916b6f5b4f3a"
   },
   "outputs": [],
   "source": [
    "long_form = pd.DataFrame({'Date': ['2007-10-01', '2007-11-01', '2007-12-01',\n",
    "                                   '2007-10-01', '2007-11-01', '2007-12-01'],\n",
    "                          'company': ['AAPL', 'AAPL', 'AAPL',\n",
    "                                      'AMZN', 'AMZN', 'AMZN'],\n",
    "                          'price': [189.95, 182.22, 198.08,\n",
    "                                    89.15, 90.56, 92.64]})\n",
    "long_form"
   ]
  },
  {
   "cell_type": "markdown",
   "metadata": {
    "id": "QxA4Qc7ji3Wq"
   },
   "source": [
    "\n",
    "\n",
    "---\n",
    "\n"
   ]
  },
  {
   "cell_type": "markdown",
   "metadata": {
    "id": "MttSwyVo-FhE"
   },
   "source": [
    "# Data types\n",
    "Altair supports five data types:\n",
    "\n",
    "\n",
    "*   **Quantitative:** a continuous real-valued quantity\n",
    "*   **Ordinal**: a discrete ordered quantity\n",
    "*   **Nominal:** a discrete unordered category\n",
    "*   **Temporal:** a time or date value\n",
    "*   **geojson:** a geographic shape\n",
    "\n",
    "\n",
    "that can be specified explicitly (verbosely or shorthand) in the encode method of the chart."
   ]
  },
  {
   "cell_type": "code",
   "execution_count": null,
   "metadata": {
    "colab": {
     "base_uri": "https://localhost:8080/",
     "height": 368
    },
    "id": "6OlmJ0yO-ors",
    "outputId": "2954b50b-a3ea-48ab-d8cc-69ed52816d5b"
   },
   "outputs": [],
   "source": [
    "#@title Explicit encoding in the functions\n",
    "from vega_datasets import data\n",
    "\n",
    "cars = data.cars.url\n",
    "\n",
    "alt.Chart(cars).mark_point().encode(\n",
    "    alt.X('Acceleration', type='quantitative'),\n",
    "    alt.Y('Miles_per_Gallon', type='quantitative'),\n",
    "    alt.Color('Origin', type='nominal')\n",
    ")"
   ]
  },
  {
   "cell_type": "markdown",
   "metadata": {
    "id": "mP06wVmT-HCE"
   },
   "source": [
    "This is equivalent to:\n",
    "\n"
   ]
  },
  {
   "cell_type": "code",
   "execution_count": null,
   "metadata": {
    "colab": {
     "base_uri": "https://localhost:8080/",
     "height": 368
    },
    "id": "ATME82-z-vNk",
    "outputId": "98927e96-e51d-490a-8b70-39afdb9b8136"
   },
   "outputs": [],
   "source": [
    "#@title Scatterplot\n",
    "from vega_datasets import data\n",
    "\n",
    "cars = data.cars.url\n",
    "\n",
    "alt.Chart(cars).mark_point().encode(\n",
    "    alt.X('Acceleration:Q'),\n",
    "    alt.Y('Miles_per_Gallon:Q'),\n",
    "    alt.Color('Origin:N')\n",
    ")"
   ]
  },
  {
   "cell_type": "markdown",
   "metadata": {
    "id": "3JTvIYIzCyOp"
   },
   "source": [
    "And it is also equivalent to this notation:"
   ]
  },
  {
   "cell_type": "code",
   "execution_count": null,
   "metadata": {
    "colab": {
     "base_uri": "https://localhost:8080/",
     "height": 368
    },
    "id": "UleQ0MrFC0PV",
    "outputId": "e3719fcb-808d-4995-ad01-f767948c74ce"
   },
   "outputs": [],
   "source": [
    "#@title Scatterplot\n",
    "from vega_datasets import data\n",
    "\n",
    "cars = data.cars.url\n",
    "\n",
    "alt.Chart(cars).mark_point().encode(\n",
    "    x = 'Acceleration:Q',\n",
    "    y = 'Miles_per_Gallon:Q',\n",
    "    color = 'Origin:N'\n",
    ")"
   ]
  },
  {
   "cell_type": "markdown",
   "metadata": {
    "id": "6GrwEsBKi5Xm"
   },
   "source": [
    "\n",
    "\n",
    "---\n",
    "\n"
   ]
  },
  {
   "cell_type": "markdown",
   "metadata": {
    "id": "A6XbPlm2-7Kz"
   },
   "source": [
    "# Channels configuration\n",
    "## Visual properties\n",
    "#### Color:\n",
    "\n",
    "* **color**: default color of the mark\n",
    "* **fill**: color that fills the mark (has higher precedence than color)\n",
    "* **fillOpacity**: float indicating the opacity [0..1]\n",
    "* **filled**: boolean indicating whether the mark is filled\n",
    "* **opacity**: float indicating the overall opacity [0..1]\n",
    "* **strokeOpacity**: float indicating the stroke opacity [0..1]\n",
    "\n",
    "#### Shape and position:\n",
    "* **height**: height of the marks\n",
    "* **shape**: for point marks, shape can be\n",
    "circle, square, cross, diamond, triangle up, triangle down, triangle right, or triangle left\n",
    "* **Other shapes**: arrow, wedge, triangle\n",
    "* **A custom SVG path** (defined in a rectangle between -1 and 1)\n",
    "* **size**: the size of the shape. For point, circle and square, it will be the pixel area of the marks.\n",
    "* **x**: X coordinates of the marks, or width of horizontal bars (and area marks).\n",
    "* **y**: Y coordinates of the marks, or height of vertical bars (and area marks).\n",
    "* **x2**: X2 coordinates for ranged shapes (area, bar, rect, and rule)\n",
    "* **y2**: Y2 coordinates for ranged shapes (area, bar, rect, and rule)\n",
    "* **width**: width of the marks.\n",
    "\n",
    "#### Other properties refered to the strokes:\n",
    "* **stroke**: Default color for the stroke. It has higher precedence than default color (defined using config.color)\n",
    "* **strokeDash**: An array of alternating stroke and space lengths, for creating dashed or dotted lines, that may depend on the encoding.\n",
    "* **strokeWidth**: The width of the stroke, in pixels.\n",
    "* **thickness**: thickness of the tick mark.\n",
    "* **tooltip**: Tooltip text to show upon mouse hover over the object."
   ]
  },
  {
   "cell_type": "markdown",
   "metadata": {
    "id": "EOECURJhADy6"
   },
   "source": [
    "# Exercises\n",
    "\n",
    "### Modify the last chart so that:\n",
    "\n",
    "\n",
    "- Marks are triangles\n",
    "- Marks are all crimson (color)\n",
    "- Marks are all squares\n",
    "- Marks are diamonds\n",
    "- Change the opacity of the marks to 0.2\n",
    "- Change the size of the marks to 50\n",
    "- Change the opacity of the marks, and make it dependent on the y variable\n",
    "- Change the opacity of the marks based on another variable\n"
   ]
  },
  {
   "cell_type": "code",
   "execution_count": null,
   "metadata": {
    "colab": {
     "base_uri": "https://localhost:8080/",
     "height": 369
    },
    "id": "spxOk6DQ3g5I",
    "outputId": "d171bf22-0893-4668-ca91-2f9cb362ec93"
   },
   "outputs": [],
   "source": [
    "import altair as alt\n",
    "\n",
    "from vega_datasets import data\n",
    "\n",
    "cars = data.cars.url\n",
    "\n",
    "alt.Chart(cars).mark_point(shape = 'triangle',filled = True, color ='crimson',size = 50, opacity=0.2).encode(\n",
    "    x = 'Acceleration:Q',\n",
    "    y = 'Miles_per_Gallon:Q',\n",
    "    opacity = 'Miles_per_Gallon:Q'\n",
    ")"
   ]
  },
  {
   "cell_type": "code",
   "execution_count": null,
   "metadata": {
    "colab": {
     "base_uri": "https://localhost:8080/",
     "height": 369
    },
    "id": "zr6wFoa9_Ah6",
    "outputId": "549de377-569a-4919-c8e3-64479a98c647"
   },
   "outputs": [],
   "source": [
    "#@title Example\n",
    "from vega_datasets import data\n",
    "df = data.us_employment.url\n",
    "alt.Chart(df).mark_line(\n",
    "    strokeDash=[10,50],\n",
    "    stroke = 'black',\n",
    "    strokeWidth = 5,\n",
    "    strokeOpacity = 0.5,\n",
    "    size = 10,\n",
    ").encode(\n",
    "    x='month:T',\n",
    "    y='government:Q'\n",
    ")"
   ]
  },
  {
   "cell_type": "markdown",
   "metadata": {
    "id": "7lB2PfLD_zvT"
   },
   "source": [
    "# Exercises\n",
    "\n",
    "*   Change the color of the line\n",
    "*   Change the pattern\n",
    "\n"
   ]
  },
  {
   "cell_type": "code",
   "execution_count": null,
   "metadata": {},
   "outputs": [],
   "source": [
    "cars = data.cars.url\n",
    "\n",
    "alt.Chart(cars).mark_point(shape = 'triangle',color='maroon').encode(\n",
    "    x = 'Acceleration:Q',\n",
    "    y = 'Miles_per_Gallon:Q',\n",
    "    opacity = 'Miles_per_Gallon:Q'\n",
    ")"
   ]
  },
  {
   "cell_type": "code",
   "execution_count": null,
   "metadata": {},
   "outputs": [],
   "source": [
    "alt.Chart(cars).mark_point(shape='square', fillOpacity=0.5).encode(\n",
    "    x = 'Acceleration:Q',\n",
    "    y = 'Miles_per_Gallon:Q',\n",
    "    opacity = 'Miles_per_Gallon:Q'\n",
    ")"
   ]
  },
  {
   "cell_type": "code",
   "execution_count": null,
   "metadata": {},
   "outputs": [],
   "source": [
    "alt.Chart(cars).mark_point(shape='arrow', size=200, stroke=\"red\", fill=\"blue\").encode(\n",
    "    x = 'Acceleration:Q',\n",
    "    y = 'Miles_per_Gallon:Q',\n",
    "    opacity = 'Miles_per_Gallon:Q'\n",
    ")"
   ]
  },
  {
   "cell_type": "code",
   "execution_count": null,
   "metadata": {},
   "outputs": [],
   "source": [
    "alt.Chart(cars).mark_point(shape='diamond', size=50).encode(\n",
    "    x = 'Acceleration:Q',\n",
    "    y = 'Miles_per_Gallon:Q',\n",
    "    color = 'Miles_per_Gallon:Q',\n",
    "    opacity = 'Horsepower:Q'\n",
    ")"
   ]
  },
  {
   "cell_type": "markdown",
   "metadata": {
    "id": "WTBplS_wvUbY"
   },
   "source": [
    "\n",
    "\n",
    "---\n",
    "\n"
   ]
  },
  {
   "cell_type": "markdown",
   "metadata": {
    "id": "kC_h9eGtJ4P8"
   },
   "source": [
    "# Visualization techniques"
   ]
  },
  {
   "cell_type": "markdown",
   "metadata": {
    "id": "TUz5QnyjFhf6"
   },
   "source": [
    "# Bar charts\n",
    "\n",
    "Data: One key one value\n",
    "\n",
    "Marks: Lines\n",
    "\n",
    "Tasks: Compare/lookup (really easy)\n",
    "\n",
    "May scale to hundreds of elements\n",
    "\n",
    "Guidelines:\n",
    "- **Always** start at zero\n",
    "- Make labels easy to read (horizontal if possible)\n",
    "- Order based on data or labels\n",
    "- By default, prefer neutral colors\n",
    "- Gridlines if precision is required\n",
    "- If data is ordered (e.g., in time), line charts typically better\n",
    "- Don't use hundreds of bars\n"
   ]
  },
  {
   "cell_type": "code",
   "execution_count": null,
   "metadata": {
    "colab": {
     "base_uri": "https://localhost:8080/",
     "height": 280
    },
    "id": "icKnn5CdGZxf",
    "outputId": "c0b9d6ea-f404-46ba-e5e1-51076aa5ce53"
   },
   "outputs": [],
   "source": [
    "#@title Horizontal bar chart\n",
    "import altair as alt\n",
    "import pandas as pd\n",
    "\n",
    "data = pd.DataFrame({'Country': ['Germany', 'France', 'Italy', 'Spain', 'Poland', 'Romania', 'Netherlands', 'Belgium', 'Czech Republic', 'Greece'],\n",
    "        'Population (Millions)': [83.155, 67.657, 59.236, 47.399, 37.840, 19.202, 17.475, 11.555, 10.702, 10.679]})\n",
    "\n",
    "\n",
    "\n",
    "alt.Chart(data).mark_bar().encode(\n",
    "    alt.X('Population (Millions):Q'),\n",
    "    alt.Y('Country:N'),\n",
    ").properties(title = 'Population')"
   ]
  },
  {
   "cell_type": "markdown",
   "metadata": {
    "id": "zBVbr2vaGnHE"
   },
   "source": [
    "# Grouped/Paired bar charts\n",
    "\n",
    "Data: Two keys (categories), one value (quantitative)\n",
    "\n",
    "Marks: Lines\n",
    "\n",
    "Tasks: Compare/lookup (easier within group than between groups)\n",
    "\n",
    "Scales laess than simple bar charts\n",
    "\n",
    "Trends may difficult to perceive, even with small groups\n",
    "\n",
    "Guidelines:\n",
    "- **Always** start at zero\n",
    "- Same as bar charts\n",
    "- Don't use them if one category is time"
   ]
  },
  {
   "cell_type": "code",
   "execution_count": null,
   "metadata": {
    "colab": {
     "base_uri": "https://localhost:8080/",
     "height": 429
    },
    "id": "3WZWtmQcIep2",
    "outputId": "0dc9924d-1ae5-4ab1-dccc-4810ffe06827"
   },
   "outputs": [],
   "source": [
    "#@title Grouped bar chart\n",
    "\n",
    "import altair as alt\n",
    "from vega_datasets import data\n",
    "\n",
    "source = data.barley() # Dimensions: year (2 values), site, yield, variety\n",
    "\n",
    "alt.Chart(source).mark_bar().encode(\n",
    "    x='year:O',\n",
    "    y='sum(yield):Q',\n",
    "    color='year:N',\n",
    "    column='site:N' # To create the groups\n",
    ")"
   ]
  },
  {
   "cell_type": "markdown",
   "metadata": {
    "id": "SBmxKj5FGOSU"
   },
   "source": [
    "# Stacked bar charts\n",
    "\n",
    "Data: Two keys, one value\n",
    "\n",
    "Tasks: Compare/lookup (not so easy)\n",
    "\n",
    "Scales less than bar charts\n",
    "\n",
    "Main benefit is that we can see the total quantity\n",
    "\n",
    "May become difficult to read\n",
    "\n",
    "Guidelines:\n",
    "- **Always** start at zero\n",
    "- Same as bar charts\n",
    "- Difficult to compare bewteen groups\n",
    "- Difficult to compare within groups\n",
    "- Not use when total quantity does not make sense\n",
    "- Use with few categories"
   ]
  },
  {
   "cell_type": "code",
   "execution_count": null,
   "metadata": {
    "colab": {
     "base_uri": "https://localhost:8080/",
     "height": 368
    },
    "id": "9Xmjl9J8JOzp",
    "outputId": "f5a47f76-44e9-4dfa-cbf8-e37c4221ee68"
   },
   "outputs": [],
   "source": [
    "#@title Stacked bar chart\n",
    "\n",
    "import altair as alt\n",
    "import pandas as pd\n",
    "from vega_datasets import data\n",
    "\n",
    "df = data.cars.url\n",
    "\n",
    "alt.Chart(df).mark_bar().encode(\n",
    "    x=alt.X('Miles_per_Gallon:Q', bin=True),\n",
    "    y='count(Miles_per_Gallon):Q',\n",
    "    color = 'Origin:N'\n",
    ")"
   ]
  },
  {
   "cell_type": "markdown",
   "metadata": {
    "id": "xuVNe8dfKA70"
   },
   "source": [
    "# Dot plot\n",
    "\n",
    "AKA Cleveland dot plot\n",
    "\n",
    "Mark: Point\n",
    "\n",
    "Visual variable: X position\n",
    "\n",
    "Guidelines:\n",
    "\n",
    "- Do not need to start at zero\n",
    "- Must be ordered by quantity\n",
    "- Suitable when small differences must be shown\n",
    "- If values are relevant, label axes suitably"
   ]
  },
  {
   "cell_type": "code",
   "execution_count": null,
   "metadata": {
    "colab": {
     "base_uri": "https://localhost:8080/",
     "height": 240
    },
    "id": "Mnr27dg3K7-u",
    "outputId": "d571a80c-3192-4607-a46a-fcf0d93b5a22"
   },
   "outputs": [],
   "source": [
    "#@title Dot plot\n",
    "\n",
    "import pandas as pd\n",
    "\n",
    "data = {'Country': ['Hong Kong', 'Japan', 'Macao', 'Switzerland', 'Singapore', 'Italy', 'US', 'Vietnam'],\n",
    "        'Life Expectancy': [85.29, 85.03, 84.68, 84.25, 84.07, 84.01, 79.11, 75.77]}\n",
    "\n",
    "df = pd.DataFrame(data)\n",
    "\n",
    "alt.Chart(df).mark_circle(opacity = 1).encode(\n",
    "    alt.X('Life Expectancy:Q', scale=alt.Scale(domain=(70,90))),\n",
    "    alt.Y('Country:N', sort='-x'),\n",
    ").properties(title = 'Life expectancy')"
   ]
  },
  {
   "cell_type": "markdown",
   "metadata": {
    "id": "VAhSdz3cM3Gr"
   },
   "source": [
    "# Scatterplots\n",
    "\n",
    "Data: Two (quantitative) values, no keys\n",
    "\n",
    "Mark: Point\n",
    "\n",
    "Visual channel: Position in 2D plane\n",
    "\n",
    "Task: Find correlations\n",
    "\n",
    "Guidelines:\n",
    "- Avoid clutter\n",
    "-"
   ]
  },
  {
   "cell_type": "code",
   "execution_count": null,
   "metadata": {
    "colab": {
     "base_uri": "https://localhost:8080/",
     "height": 398
    },
    "id": "neRkL4pspEz7",
    "outputId": "d284b645-4567-4344-8ba0-1657aa0ea522"
   },
   "outputs": [],
   "source": [
    "#@title Example of a simple scatterplot\n",
    "\n",
    "import altair as alt\n",
    "import pandas as pd\n",
    "\n",
    "data = {'name': ['iPhone', 'iPhone 3G', 'iPhone 3GS', 'iPhone 4', 'iPhone 4S', 'iPhone 5', 'iPhone 5S', 'iPhone 6', 'iPhone 6S', 'iPhone 7', 'iPhone X', 'iPhone XS', 'iPhone 11 Pro', 'iPhone 12 Pro'],\n",
    "        'year': ['2007', '2008', '2009', '2010', '2011', '2012', '2013', '2014', '2015', '2016', '2017', '2018', '2019', '2020'],\n",
    "        'price': [499, 599, 699, 599, 649, 649, 649, 649, 699, 649, 999, 999, 1099, 1099]}\n",
    "\n",
    "df = pd.DataFrame(data)\n",
    "\n",
    "alt.Chart(df).mark_circle().encode(\n",
    "    alt.X('year:O'),\n",
    "    alt.Y('price:Q'),\n",
    "    alt.Tooltip('name')\n",
    ").properties(title = 'Apple smartphones')"
   ]
  },
  {
   "cell_type": "markdown",
   "metadata": {
    "id": "CnAFxn2PqLtr"
   },
   "source": [
    "# Bubble charts\n",
    "We can configure the size of the circles by encoding the units sold. This would yield a bubble chart.\n",
    "Bubble charts can increase the number of variables we encode. The following are the most common visual variables used:\n",
    "- Size\n",
    "- Color\n",
    "\n",
    "But we can use other, such as angle, shape, etc."
   ]
  },
  {
   "cell_type": "code",
   "execution_count": null,
   "metadata": {
    "colab": {
     "base_uri": "https://localhost:8080/",
     "height": 403
    },
    "id": "eHpfiB1dqMIT",
    "outputId": "5c4008d5-d2ea-4d56-e972-f50b895f3e28"
   },
   "outputs": [],
   "source": [
    "#@title Example of a bubble chart\n",
    "\n",
    "import altair as alt\n",
    "import pandas as pd\n",
    "\n",
    "data = {'name': ['iPhone', 'iPhone 3G', 'iPhone 3GS', 'iPhone 4', 'iPhone 4S', 'iPhone 5', 'iPhone 5S', 'iPhone 6', 'iPhone 6S', 'iPhone 7', 'iPhone X', 'iPhone XS', 'iPhone 11 Pro', 'iPhone 12 Pro'],\n",
    "        'year': ['2007', '2008', '2009', '2010', '2011', '2012', '2013', '2014', '2015', '2016', '2017', '2018', '2019', '2020'],\n",
    "        'price': [499, 599, 699, 599, 649, 649, 649, 649, 699, 649, 999, 999, 1099, 1099],\n",
    "        'units_sold': [1.39, 11.63, 20.73, 73.17, 37.04, 27.40, 51.03, 74.47, 78.29, 77.32, 52.22, 45.09, 18.68, 119]}\n",
    "\n",
    "df = pd.DataFrame(data)\n",
    "\n",
    "alt.Chart(df).mark_circle(opacity = 1).encode(\n",
    "    alt.X('year:O'),\n",
    "    alt.Y('price:Q'),\n",
    "    alt.Size('units_sold:Q'),\n",
    "    alt.Tooltip('name')\n",
    ").properties(title = 'Apple smartphones')"
   ]
  },
  {
   "cell_type": "markdown",
   "metadata": {
    "id": "LQ6Tz7aX2Sy-"
   },
   "source": [
    "# Line charts\n",
    "\n",
    "Data: One key (quantitative or ordered), one value\n",
    "\n",
    "Mark: Points (lines connect the points, but the marks are points)\n",
    "\n",
    "Channels: Position in 2D, lines to connect\n",
    "\n",
    "Taks: Communicating trends\n",
    "\n"
   ]
  },
  {
   "cell_type": "code",
   "execution_count": null,
   "metadata": {
    "colab": {
     "base_uri": "https://localhost:8080/",
     "height": 398
    },
    "id": "RPZxx3XB11gA",
    "outputId": "8c5cc654-fd36-4114-f7d3-4a2d5f6dbb6b"
   },
   "outputs": [],
   "source": [
    "#@title Example of a line chart\n",
    "\n",
    "import altair as alt\n",
    "import pandas as pd\n",
    "\n",
    "data = {'name': ['iPhone', 'iPhone 3G', 'iPhone 3GS', 'iPhone 4', 'iPhone 4S', 'iPhone 5', 'iPhone 5S', 'iPhone 6', 'iPhone 6S', 'iPhone 7', 'iPhone X', 'iPhone XS', 'iPhone 11 Pro', 'iPhone 12 Pro'],\n",
    "        'year': ['2007', '2008', '2009', '2010', '2011', '2012', '2013', '2014', '2015', '2016', '2017', '2018', '2019', '2020'],\n",
    "        'price': [499, 599, 699, 599, 649, 649, 649, 649, 699, 649, 999, 999, 1099, 1099]}\n",
    "\n",
    "df = pd.DataFrame(data)\n",
    "\n",
    "alt.Chart(df).mark_line().encode(\n",
    "    alt.X('year:O'),\n",
    "    alt.Y('price:Q'),\n",
    "    alt.Tooltip('name')\n",
    ").properties(title = 'Price of Apple smartphones')"
   ]
  },
  {
   "cell_type": "code",
   "execution_count": null,
   "metadata": {
    "colab": {
     "base_uri": "https://localhost:8080/",
     "height": 368
    },
    "id": "ZwKaPjNO3Cfw",
    "outputId": "d8a077c6-14f8-4531-afdf-4d15fefa5005"
   },
   "outputs": [],
   "source": [
    "#@title Another example, with more lines\n",
    "\n",
    "import altair as alt\n",
    "import pandas as pd\n",
    "from vega_datasets import data\n",
    "\n",
    "df = data.iowa_electricity()\n",
    "\n",
    "\n",
    "alt.Chart(df).mark_line().encode(\n",
    "    alt.X('year:T'),\n",
    "    alt.Y('net_generation:Q'),\n",
    "    color = 'source:N'\n",
    ")\n"
   ]
  },
  {
   "cell_type": "code",
   "execution_count": null,
   "metadata": {
    "colab": {
     "base_uri": "https://localhost:8080/",
     "height": 440
    },
    "id": "qRQv_fsS34Zp",
    "outputId": "9d096a03-4a13-42ee-c790-352c033b3de1"
   },
   "outputs": [],
   "source": [
    "#@title Another example, with more lines\n",
    "\n",
    "import altair as alt\n",
    "import pandas as pd\n",
    "from vega_datasets import data\n",
    "\n",
    "wide_form = pd.DataFrame(data.jobs())\n",
    "\n",
    "long_form = wide_form.melt(id_vars=['year','job','sex'] , value_vars='count')\n",
    "\n",
    "\n",
    "alt.data_transformers.disable_max_rows()\n",
    "\n",
    "alt.Chart(long_form).mark_line().encode(\n",
    "    x = 'year:O',\n",
    "    y = 'sum(value):Q',\n",
    "    color = 'job'\n",
    ")"
   ]
  }
 ],
 "metadata": {
  "colab": {
   "provenance": []
  },
  "kernelspec": {
   "display_name": "Python 3 (ipykernel)",
   "language": "python",
   "name": "python3"
  },
  "language_info": {
   "codemirror_mode": {
    "name": "ipython",
    "version": 3
   },
   "file_extension": ".py",
   "mimetype": "text/x-python",
   "name": "python",
   "nbconvert_exporter": "python",
   "pygments_lexer": "ipython3",
   "version": "3.10.9"
  }
 },
 "nbformat": 4,
 "nbformat_minor": 4
}
