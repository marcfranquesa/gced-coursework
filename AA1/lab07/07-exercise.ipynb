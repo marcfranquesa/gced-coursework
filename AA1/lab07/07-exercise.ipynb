{
 "cells": [
  {
   "cell_type": "markdown",
   "id": "future-verse",
   "metadata": {},
   "source": [
    "## Exercise.  1984 United States Congressional Voting Records\n",
    "\n",
    "Now we are going to classify a more difficult dataset: The 1984 United States Congressional Voting Records.\n",
    "\n",
    " This data set includes votes for each of the U.S. House of Representatives Congressmen on 16 key votes\n",
    "In origin they were nine different types of votes: \n",
    "     \n",
    "* voted for, paired for, and announced for (these three simplified to yea or 'y'),\n",
    "* voted against, paired against, and announced against (these three simplified to nay or 'n'), \n",
    "* voted present, voted present to avoid conflict of interest, and did not vote or otherwise make a position known \n",
    "     (these three simplified to an 'unknown' disposition)\n",
    "\n",
    "The goal is to classify Congressmen as Republican or Democrat as a function of their voting profiles,\n",
    "which is not immediate because in the US Congressmen have a large freedom of vote \n",
    " (obviously linked to their party but also to their own feelings, interests and compromises with voters).\n",
    " \n",
    "For the sake of the exercise, we will asume that it is more important to us to classify correctly the senators from the democrat party, as they are the ones currently ruling. \n",
    "\n",
    "Now we will folow the same structure than in the lab but with this dataset:\n",
    "\n",
    "- [ ] Visualize your dataset. Does it have anything strange? Is it easy or difficult for our models? \n",
    "- [ ] Design a resampling protocol for your problem. ( E.g train-val-test, train-test with cross-val metrics...) \n",
    "- [ ] Design a pre-processing for your dataset and apply it to your partitions. \n",
    "- [ ] Chose the best metrics for your problem ( taking into account that it is more important to us to classify correctly the senators from the democrat party). \n",
    "- [ ] Train a LDA model.\n",
    "- [ ] Train a QDA model.  \n",
    "- [ ] Train a KNN model with cross-validation.  \n",
    "- [ ] Train a Naive Bayes model, you should chose the probability distribution that adapts the best to your data. \n",
    "- [ ] Train a Logistic Regression model.\n",
    "- [ ] Compare your models using the resampling protocol you chose. Do the results show strong differences?\n",
    "- [ ] Compute the generalization performance of the best model.\n"
   ]
  },
  {
   "cell_type": "code",
   "execution_count": null,
   "id": "excellent-feeling",
   "metadata": {},
   "outputs": [],
   "source": [
    "import pandas as pd\n",
    "\n",
    "houseVotes84 = pd.read_csv(\n",
    "    \"house-votes-84.data\", delimiter=\",\", header=None, na_values=\"?\"\n",
    ")\n",
    "\n",
    "house_classes = [\"democrat\", \"republican\"]\n",
    "\n",
    "\n",
    "houseVotes84.columns = [\n",
    "    \"Class\",\n",
    "    \"handicapped_infants\",\n",
    "    \"water_project_sharing\",\n",
    "    \"budget_resolution\",\n",
    "    \"physician_fee_freeze\",\n",
    "    \"el_salvador_aid\",\n",
    "    \"religious_groups_in_schools\",\n",
    "    \"anti_satellite_ban\",\n",
    "    \"aid_to_nicaraguan_contras\",\n",
    "    \"mx_missile\",\n",
    "    \"immigration\",\n",
    "    \"synfuels_cutback\",\n",
    "    \"education_spending\",\n",
    "    \"superfund\",\n",
    "    \"crime\",\n",
    "    \"duty_free_exports\",\n",
    "    \"export_South_Africa\",\n",
    "]\n",
    "houseVotes84.describe()"
   ]
  },
  {
   "cell_type": "code",
   "execution_count": null,
   "id": "dietary-abortion",
   "metadata": {},
   "outputs": [],
   "source": []
  }
 ],
 "metadata": {
  "kernelspec": {
   "display_name": "Python 3",
   "language": "python",
   "name": "python3"
  },
  "language_info": {
   "codemirror_mode": {
    "name": "ipython",
    "version": 3
   },
   "file_extension": ".py",
   "mimetype": "text/x-python",
   "name": "python",
   "nbconvert_exporter": "python",
   "pygments_lexer": "ipython3",
   "version": "3.8.16"
  },
  "toc": {
   "base_numbering": 1,
   "nav_menu": {},
   "number_sections": true,
   "sideBar": true,
   "skip_h1_title": false,
   "title_cell": "Table of Contents",
   "title_sidebar": "Contents",
   "toc_cell": false,
   "toc_position": {},
   "toc_section_display": true,
   "toc_window_display": false
  }
 },
 "nbformat": 4,
 "nbformat_minor": 5
}
