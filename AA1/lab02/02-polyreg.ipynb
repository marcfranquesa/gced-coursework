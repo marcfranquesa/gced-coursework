{
 "cells": [
  {
   "cell_type": "markdown",
   "metadata": {
    "id": "_bB6LN1u3xOn"
   },
   "source": [
    "# Polynomial regression"
   ]
  },
  {
   "cell_type": "code",
   "execution_count": null,
   "metadata": {
    "ExecuteTime": {
     "end_time": "2020-07-24T10:46:36.102809Z",
     "start_time": "2020-07-24T10:46:36.072899Z"
    },
    "id": "ZT-6k9BK3xOp"
   },
   "outputs": [],
   "source": [
    "# Uncomment to upgrade packages\n",
    "#!pip3 install pandas --upgrade --user --quiet\n",
    "#!pip3 install numpy --upgrade --user --quiet\n",
    "#!pip3 install scipy --upgrade --user --quiet\n",
    "#!pip3 install statsmodels --upgrade --user --quiet\n",
    "#!pip3 install scikit-learn --upgrade --user --quiet\n",
    "%load_ext autoreload"
   ]
  },
  {
   "cell_type": "code",
   "execution_count": null,
   "metadata": {
    "ExecuteTime": {
     "end_time": "2020-07-24T10:46:37.283749Z",
     "start_time": "2020-07-24T10:46:36.952293Z"
    },
    "id": "LdkmvYfG3xOx"
   },
   "outputs": [],
   "source": [
    "import numpy as np\n",
    "import pandas as pd\n",
    "import matplotlib.pyplot as plt\n",
    "from IPython.core.interactiveshell import InteractiveShell\n",
    "from matplotlib import style\n",
    "import seaborn as sns"
   ]
  },
  {
   "cell_type": "code",
   "execution_count": null,
   "metadata": {
    "id": "sAJO0qgCLW8L"
   },
   "outputs": [],
   "source": [
    "InteractiveShell.ast_node_interactivity = \"all\"\n",
    "pd.set_option(\"display.precision\", 3)"
   ]
  },
  {
   "cell_type": "code",
   "execution_count": null,
   "metadata": {
    "ExecuteTime": {
     "end_time": "2020-07-24T11:34:35.493395Z",
     "start_time": "2020-07-24T11:34:35.489710Z"
    },
    "id": "IV-SsOqh3xO6"
   },
   "outputs": [],
   "source": [
    "# extra imports\n",
    "from numpy.random import uniform, normal\n",
    "from sklearn.linear_model import Ridge, RidgeCV, LinearRegression, Lasso, LassoCV\n",
    "from sklearn.metrics import mean_squared_error\n",
    "from sklearn.metrics import make_scorer"
   ]
  },
  {
   "cell_type": "code",
   "execution_count": null,
   "metadata": {
    "id": "n6AwlpVRLW8M"
   },
   "outputs": [],
   "source": [
    "plt.rcParams[\"image.cmap\"] = \"bwr\"\n",
    "plt.rcParams[\"savefig.bbox\"] = \"tight\"\n",
    "style.use(\"ggplot\") or plt.style.use(\"ggplot\")\n",
    "\n",
    "import warnings\n",
    "\n",
    "warnings.filterwarnings(\"ignore\")"
   ]
  },
  {
   "cell_type": "markdown",
   "metadata": {
    "id": "MdTmW7dH3xPB"
   },
   "source": [
    "Fix the random number generator so the experiment is reproducible"
   ]
  },
  {
   "cell_type": "code",
   "execution_count": null,
   "metadata": {
    "ExecuteTime": {
     "end_time": "2020-07-24T11:44:58.773363Z",
     "start_time": "2020-07-24T11:44:58.767567Z"
    },
    "id": "2Tjyk_E73xPD"
   },
   "outputs": [],
   "source": [
    "np.random.seed(7)"
   ]
  },
  {
   "cell_type": "markdown",
   "metadata": {
    "id": "h_PphBJc3xPH"
   },
   "source": [
    "We will approximate the function $cos(3\\pi x)$ using polynomials"
   ]
  },
  {
   "cell_type": "code",
   "execution_count": null,
   "metadata": {
    "ExecuteTime": {
     "end_time": "2020-07-24T11:44:59.205482Z",
     "start_time": "2020-07-24T11:44:59.201920Z"
    },
    "id": "zLtGlVBX3xPI"
   },
   "outputs": [],
   "source": [
    "def feval(x):\n",
    "    return np.cos(3 * np.pi * x)\n",
    "\n",
    "\n",
    "def fgen(N, sigma):\n",
    "    x = np.sort(uniform(0, 1, N))\n",
    "    t = feval(x) + normal(loc=0, scale=sigma, size=N)\n",
    "    return x, t"
   ]
  },
  {
   "cell_type": "markdown",
   "metadata": {
    "id": "6o4ejhyn3xPO"
   },
   "source": [
    "## Generate training dataset..\n",
    "\n",
    "We start generating a sample of 30 examples generating the data assuming that has gaussian noise $N(0,0.25^2)$"
   ]
  },
  {
   "cell_type": "code",
   "execution_count": null,
   "metadata": {
    "ExecuteTime": {
     "end_time": "2020-07-24T11:45:03.038744Z",
     "start_time": "2020-07-24T11:45:03.034663Z"
    },
    "id": "AKmDgGMA3xPQ"
   },
   "outputs": [],
   "source": [
    "N = 30\n",
    "sigma = 0.25"
   ]
  },
  {
   "cell_type": "code",
   "execution_count": null,
   "metadata": {
    "ExecuteTime": {
     "end_time": "2020-07-24T11:45:03.246460Z",
     "start_time": "2020-07-24T11:45:03.241289Z"
    },
    "id": "U7qv1xcj3xPV"
   },
   "outputs": [],
   "source": [
    "x, t = fgen(N, sigma)\n",
    "sample = pd.DataFrame({\"input\": x, \"target\": t})"
   ]
  },
  {
   "cell_type": "code",
   "execution_count": null,
   "metadata": {
    "ExecuteTime": {
     "end_time": "2020-07-24T11:45:03.662703Z",
     "start_time": "2020-07-24T11:45:03.564880Z"
    },
    "colab": {
     "base_uri": "https://localhost:8080/",
     "height": 374
    },
    "executionInfo": {
     "elapsed": 802,
     "status": "ok",
     "timestamp": 1677238104205,
     "user": {
      "displayName": "Marta Arias Vicente",
      "userId": "13874328413650848050"
     },
     "user_tz": -60
    },
    "id": "bM4y4JwM3xPZ",
    "outputId": "7349f987-ef64-4b2e-9773-60248326652c"
   },
   "outputs": [],
   "source": [
    "fig, ax = plt.subplots(figsize=(8, 6))\n",
    "ax.plot(sample.input, sample.target, \"o\")\n",
    "ax.plot(np.linspace(0, 1, num=30), feval(np.linspace(0, 1, num=30)), alpha=0.2);"
   ]
  },
  {
   "cell_type": "markdown",
   "metadata": {
    "id": "UDfx6rKP3xPe"
   },
   "source": [
    "## Generate validation set\n",
    "\n",
    "We generate also a validation set to evaluate the error with __unseen__ data"
   ]
  },
  {
   "cell_type": "code",
   "execution_count": null,
   "metadata": {
    "ExecuteTime": {
     "end_time": "2020-07-24T11:45:04.703004Z",
     "start_time": "2020-07-24T11:45:04.697216Z"
    },
    "id": "SpZhQL503xPf"
   },
   "outputs": [],
   "source": [
    "N_valid = 1000\n",
    "x_valid, t_valid = fgen(N_valid, sigma)\n",
    "valid_sample = pd.DataFrame({\"input\": x_valid, \"target\": t_valid})"
   ]
  },
  {
   "cell_type": "markdown",
   "metadata": {
    "id": "C7uDAPRJLW8R"
   },
   "source": [
    "## Linear regression via `scikit-learn`'s [`LinearRegression` function](https://scikit-learn.org/stable/modules/generated/sklearn.linear_model.LinearRegression.html), sanity check\n",
    "\n",
    "In the following code, we are going to be doing linear regression with the help of `scikit-learn`. However, just to make sure what this function is doing, let us compare with what we learned in class.\n",
    "\n",
    "In class, we found that the solution to linear regression via _least squares_ is given by:\n",
    "\n",
    "$$\n",
    "\\mathbf{\\theta}_{lse} = (\\mathbf{X}^T\\mathbf{X})^{-1}\\mathbf{X}^T\\mathbf{y}\n",
    "$$\n",
    "\n",
    "In this simple demo, $\\mathbf{X}$ is a 30 $\\times$ 1 matrix (univariate regression problem), and $\\mathbf{y}$ is a column vector of size 30."
   ]
  },
  {
   "cell_type": "code",
   "execution_count": null,
   "metadata": {
    "colab": {
     "base_uri": "https://localhost:8080/"
    },
    "executionInfo": {
     "elapsed": 5,
     "status": "ok",
     "timestamp": 1677238121956,
     "user": {
      "displayName": "Marta Arias Vicente",
      "userId": "13874328413650848050"
     },
     "user_tz": -60
    },
    "id": "D9Yo7rreLW8R",
    "outputId": "af82e5bf-fa92-47b9-fb33-7616e6668f27"
   },
   "outputs": [],
   "source": [
    "X = sample.input.to_numpy().reshape(N, 1)\n",
    "y = sample.target.to_numpy()\n",
    "\n",
    "print(f\"X has shape {X.shape}, y has shape {y.shape}\")"
   ]
  },
  {
   "cell_type": "markdown",
   "metadata": {
    "id": "_tCOBarWLW8R"
   },
   "source": [
    "As we discussed in class, let's add a \"fake\" first column with all 1 to $\\mathbf{X}$."
   ]
  },
  {
   "cell_type": "code",
   "execution_count": null,
   "metadata": {
    "colab": {
     "base_uri": "https://localhost:8080/"
    },
    "executionInfo": {
     "elapsed": 223,
     "status": "ok",
     "timestamp": 1677238129509,
     "user": {
      "displayName": "Marta Arias Vicente",
      "userId": "13874328413650848050"
     },
     "user_tz": -60
    },
    "id": "6tQQj-gnLW8S",
    "outputId": "2fe5c5d0-d215-4b60-8f69-f56de47a827c"
   },
   "outputs": [],
   "source": [
    "attr0 = np.ones((N, 1))\n",
    "\n",
    "X = np.hstack((attr0, X))\n",
    "\n",
    "print(f\"X has shape {X.shape}, y has shape {y.shape}\")"
   ]
  },
  {
   "cell_type": "markdown",
   "metadata": {
    "id": "_Si7gupJLW8S"
   },
   "source": [
    "check coefficients are the same with both methods.."
   ]
  },
  {
   "cell_type": "code",
   "execution_count": null,
   "metadata": {
    "colab": {
     "base_uri": "https://localhost:8080/"
    },
    "executionInfo": {
     "elapsed": 223,
     "status": "ok",
     "timestamp": 1677238136978,
     "user": {
      "displayName": "Marta Arias Vicente",
      "userId": "13874328413650848050"
     },
     "user_tz": -60
    },
    "id": "EdkNPUT_LW8S",
    "outputId": "2e6660c2-5f5c-4ee1-bba1-7c2802ed0d7d"
   },
   "outputs": [],
   "source": [
    "# solution with slide's formula\n",
    "\n",
    "lse_coeff = np.linalg.inv(X.T @ X) @ X.T @ y\n",
    "\n",
    "print(lse_coeff)\n",
    "\n",
    "# solution with scikit-learn's LinearRegression function\n",
    "\n",
    "skl_model = LinearRegression().fit(\n",
    "    sample.input.to_numpy().reshape(-1, 1), sample.target\n",
    ")\n",
    "skl_coeff = [skl_model.intercept_, skl_model.coef_[0]]\n",
    "\n",
    "print(skl_coeff)\n",
    "\n",
    "print(f\"Both solutions are the same: {np.allclose(lse_coeff, skl_coeff)}\")"
   ]
  },
  {
   "cell_type": "markdown",
   "metadata": {
    "id": "ZGa0CH64LW8S"
   },
   "source": [
    "Now that we have checked that `LinearRegression` works as expected, we can proceed with polynomial regression."
   ]
  },
  {
   "cell_type": "markdown",
   "metadata": {
    "id": "qi7lFOph3xPj"
   },
   "source": [
    "## Fit polynomials for a range of degrees, no regularization"
   ]
  },
  {
   "cell_type": "markdown",
   "metadata": {
    "id": "D5LXntL73xPp"
   },
   "source": [
    "To fit each polynomial, the code uses `LinearRegression` from the library `scikit-learn`. The polynomial fit is done by first doing a _polynomial expansion_ on the inputs with the help of `numpy`'s [Vandermonde's geometric power progression](https://numpy.org/doc/stable/reference/generated/numpy.vander.html), and then applying linear regression on the expanded input."
   ]
  },
  {
   "cell_type": "code",
   "execution_count": null,
   "metadata": {
    "ExecuteTime": {
     "end_time": "2020-07-24T11:48:37.321635Z",
     "start_time": "2020-07-24T11:48:37.237918Z"
    },
    "id": "8A3KUGAB3xPk"
   },
   "outputs": [],
   "source": [
    "p = 1  # smallest degree to try\n",
    "q = 26  # largest degree to try  (minus 1, see code below)\n",
    "\n",
    "coef = []  # holds coefficients of trained polynomials from degree p=1 up to q=26\n",
    "model = []  # holds trained polynomials from degree p=1 up to q=26\n",
    "norm_mse_train = (\n",
    "    []\n",
    ")  # holds training error for trained polynomials from degree p=1 up to q=26\n",
    "norm_mse_valid = (\n",
    "    []\n",
    ")  # holds validation error for trained polynomials from degree p=1 up to q=26\n",
    "\n",
    "for i in range(p, q):\n",
    "    cmodel = LinearRegression()\n",
    "    cmodel.fit(np.vander(sample.input, i + 1, increasing=True), sample.target)\n",
    "    coef.append(cmodel.coef_)\n",
    "\n",
    "    # compute training error as mse on training data\n",
    "    predictions = cmodel.predict(np.vander(sample.input, i + 1, increasing=True))\n",
    "    norm_mse_train.append(mean_squared_error(predictions, sample.target))\n",
    "\n",
    "    # compute validation error as mse on validation data\n",
    "    pred_val = cmodel.predict(np.vander(valid_sample.input, i + 1, increasing=True))\n",
    "    norm_mse_valid.append(mean_squared_error(pred_val, valid_sample.target))\n",
    "\n",
    "    model.append(cmodel)\n",
    "0;"
   ]
  },
  {
   "cell_type": "code",
   "execution_count": null,
   "metadata": {
    "ExecuteTime": {
     "end_time": "2020-07-24T11:48:53.656588Z",
     "start_time": "2020-07-24T11:48:53.159071Z"
    },
    "colab": {
     "base_uri": "https://localhost:8080/",
     "height": 445
    },
    "executionInfo": {
     "elapsed": 1173,
     "status": "ok",
     "timestamp": 1677238149511,
     "user": {
      "displayName": "Marta Arias Vicente",
      "userId": "13874328413650848050"
     },
     "user_tz": -60
    },
    "id": "0aQzHl-U3xPp",
    "outputId": "f580f46c-6c82-4730-d3cd-9faee33f5a6b"
   },
   "outputs": [],
   "source": [
    "fig = plt.figure(figsize=(16, 7))\n",
    "\n",
    "for f, i in enumerate([1, 2, 3, 8, 15, 25]):\n",
    "    ax = fig.add_subplot(2, 3, f + 1)\n",
    "    ax.plot(sample.input, sample.target, \"+\")\n",
    "    ax.plot(np.linspace(0, 1, num=40), feval(np.linspace(0, 1, num=40)), \".\", alpha=0.3)\n",
    "    ax.plot(\n",
    "        np.linspace(0, 1, num=40),\n",
    "        model[i - 1].predict(\n",
    "            np.vander(np.linspace(0, 1, num=40), i + 1, increasing=True)\n",
    "        ),\n",
    "    )\n",
    "    plt.ylim(-1.2, 1.5)\n",
    "    plt.title(f\"Degree {i}\")\n",
    "0;"
   ]
  },
  {
   "cell_type": "markdown",
   "metadata": {
    "id": "yaEp5pK93xPu"
   },
   "source": [
    "### Plot training/validation error curves\n",
    "\n",
    "This is the difference among the train and validation data.\n",
    "_Notice the logarithmic scale_"
   ]
  },
  {
   "cell_type": "code",
   "execution_count": null,
   "metadata": {
    "ExecuteTime": {
     "end_time": "2020-07-24T11:49:17.996631Z",
     "start_time": "2020-07-24T11:49:17.878868Z"
    },
    "colab": {
     "base_uri": "https://localhost:8080/",
     "height": 380
    },
    "executionInfo": {
     "elapsed": 927,
     "status": "ok",
     "timestamp": 1677238387992,
     "user": {
      "displayName": "Marta Arias Vicente",
      "userId": "13874328413650848050"
     },
     "user_tz": -60
    },
    "id": "ODgtfPHm3xPv",
    "outputId": "8472133b-96fe-4933-ddc9-43856a98e289"
   },
   "outputs": [],
   "source": [
    "maxdeg = 25\n",
    "fig, ax = plt.subplots(figsize=(8, 6))\n",
    "plt.plot(range(1, maxdeg + 1), norm_mse_train[0:maxdeg], \"-+\", label=\"training error\")\n",
    "plt.plot(range(1, maxdeg + 1), norm_mse_valid[0:maxdeg], \"-o\", label=\"validation error\")\n",
    "plt.yscale(\"log\")\n",
    "plt.legend();"
   ]
  },
  {
   "cell_type": "markdown",
   "metadata": {
    "id": "Z6l8N9ZNU2A7"
   },
   "source": [
    "### Plot coefficients' average magnitudes as a fn. of degree\n",
    "\n",
    "These are the means of the abssolute value of the coefficients fitted for each polynomial in logarithmic scale. The magnitude of the coefficients gives an idea of the __complexity__ of the fitted model. _Notice the logarithmic scale_"
   ]
  },
  {
   "cell_type": "code",
   "execution_count": null,
   "metadata": {
    "colab": {
     "base_uri": "https://localhost:8080/",
     "height": 374
    },
    "executionInfo": {
     "elapsed": 1244,
     "status": "ok",
     "timestamp": 1677238396383,
     "user": {
      "displayName": "Marta Arias Vicente",
      "userId": "13874328413650848050"
     },
     "user_tz": -60
    },
    "id": "kHy6aS-8U2A8",
    "outputId": "c05dc4b4-5a1e-4237-b89b-1b7b34bf7b85"
   },
   "outputs": [],
   "source": [
    "maxdeg = 25\n",
    "means = [np.mean(np.abs(m.coef_)) for m in model]\n",
    "\n",
    "fig, ax = plt.subplots(figsize=(8, 6))\n",
    "plt.plot(range(1, maxdeg + 1), means[0:maxdeg], \"-+\", label=\"Coefficients' means\")\n",
    "plt.yscale(\"log\")\n",
    "plt.legend();"
   ]
  },
  {
   "cell_type": "markdown",
   "metadata": {
    "ExecuteTime": {
     "end_time": "2020-07-24T11:47:23.959998Z",
     "start_time": "2020-07-24T11:47:23.956044Z"
    },
    "id": "BGEvg1dB3xPy"
   },
   "source": [
    "## Fit polynomials, with regularization\n",
    "\n",
    "Now we repeat the same but using __regularization__; we first find the best regularization parameter using cross validation.\n",
    "This is done directly using `scikit-learn`'s [RidgeCV](https://scikit-learn.org/stable/modules/generated/sklearn.linear_model.RidgeCV.html)"
   ]
  },
  {
   "cell_type": "code",
   "execution_count": null,
   "metadata": {
    "ExecuteTime": {
     "end_time": "2020-07-24T11:49:31.553253Z",
     "start_time": "2020-07-24T11:49:31.062672Z"
    },
    "id": "T-UglzLC3xPz"
   },
   "outputs": [],
   "source": [
    "p = 1\n",
    "q = 26\n",
    "\n",
    "coef = []\n",
    "model = []\n",
    "norm_mse_train = []\n",
    "norm_mse_valid = []\n",
    "\n",
    "\n",
    "rlambda = np.linspace(\n",
    "    0.001, 0.5, num=50\n",
    ")  # these are the values that we will try for regularization parameter lambda\n",
    "\n",
    "for i in range(p, q):\n",
    "    cmodel = RidgeCV(\n",
    "        alphas=rlambda, scoring=make_scorer(mean_squared_error, greater_is_better=False)\n",
    "    )\n",
    "    cmodel.fit(np.vander(sample.input, i + 1, increasing=True), sample.target)\n",
    "    coef.append(cmodel.coef_)\n",
    "\n",
    "    predictions = cmodel.predict(np.vander(sample.input, i + 1, increasing=True))\n",
    "    norm_mse_train.append(mean_squared_error(predictions, sample.target))\n",
    "\n",
    "    pred_val = cmodel.predict(np.vander(valid_sample.input, i + 1, increasing=True))\n",
    "    norm_mse_valid.append(mean_squared_error(pred_val, valid_sample.target))\n",
    "\n",
    "    model.append(cmodel)\n",
    "0;"
   ]
  },
  {
   "cell_type": "code",
   "execution_count": null,
   "metadata": {
    "ExecuteTime": {
     "end_time": "2020-07-24T12:01:17.212637Z",
     "start_time": "2020-07-24T12:01:16.714162Z"
    },
    "colab": {
     "base_uri": "https://localhost:8080/",
     "height": 445
    },
    "executionInfo": {
     "elapsed": 2335,
     "status": "ok",
     "timestamp": 1677238481248,
     "user": {
      "displayName": "Marta Arias Vicente",
      "userId": "13874328413650848050"
     },
     "user_tz": -60
    },
    "id": "XluJR41_3xP4",
    "outputId": "1d652e0f-6b83-4e26-cecc-7efe81d26284"
   },
   "outputs": [],
   "source": [
    "fig = plt.figure(figsize=(14, 7))\n",
    "\n",
    "for f, i in enumerate([1, 2, 3, 8, 15, 25]):\n",
    "    ax = fig.add_subplot(2, 3, f + 1)\n",
    "    ax.plot(sample.input, sample.target, \"+\")\n",
    "    ax.plot(np.linspace(0, 1, num=40), feval(np.linspace(0, 1, num=40)), \".\", alpha=0.3)\n",
    "    ax.plot(\n",
    "        np.linspace(0, 1, num=40),\n",
    "        model[i - 1].predict(\n",
    "            np.vander(np.linspace(0, 1, num=40), i + 1, increasing=True)\n",
    "        ),\n",
    "    )\n",
    "    plt.ylim(-1.2, 1.5)\n",
    "    plt.title(f\"Degree {i}\")\n",
    "0;"
   ]
  },
  {
   "cell_type": "markdown",
   "metadata": {
    "id": "o2pyzml8LW8V"
   },
   "source": [
    "### Plot training/validation error curves, as fn. of degree"
   ]
  },
  {
   "cell_type": "code",
   "execution_count": null,
   "metadata": {
    "ExecuteTime": {
     "end_time": "2020-07-24T11:49:56.063337Z",
     "start_time": "2020-07-24T11:49:55.951720Z"
    },
    "colab": {
     "base_uri": "https://localhost:8080/",
     "height": 374
    },
    "executionInfo": {
     "elapsed": 653,
     "status": "ok",
     "timestamp": 1677238500095,
     "user": {
      "displayName": "Marta Arias Vicente",
      "userId": "13874328413650848050"
     },
     "user_tz": -60
    },
    "id": "7Tb6dhX43xP8",
    "outputId": "cdbf39aa-41f0-4e30-f805-6e293bc5bc88"
   },
   "outputs": [],
   "source": [
    "fig, ax = plt.subplots(figsize=(8, 6))\n",
    "maxdeg = 25\n",
    "plt.plot(range(1, maxdeg + 1), norm_mse_train[0:maxdeg], \"-+\", label=\"training error\")\n",
    "plt.plot(range(1, maxdeg + 1), norm_mse_valid[0:maxdeg], \"-o\", label=\"validation error\")\n",
    "plt.legend();"
   ]
  },
  {
   "cell_type": "markdown",
   "metadata": {
    "id": "gHGHNMUDU2BQ"
   },
   "source": [
    "Now the coefficients are smaller due to the regularization, now we do not need logarithmic scale to represent them"
   ]
  },
  {
   "cell_type": "markdown",
   "metadata": {
    "id": "-mjkN3z1LW8W"
   },
   "source": [
    "### Plot coefficients' average magnitudes"
   ]
  },
  {
   "cell_type": "code",
   "execution_count": null,
   "metadata": {
    "colab": {
     "base_uri": "https://localhost:8080/",
     "height": 374
    },
    "executionInfo": {
     "elapsed": 673,
     "status": "ok",
     "timestamp": 1677238510780,
     "user": {
      "displayName": "Marta Arias Vicente",
      "userId": "13874328413650848050"
     },
     "user_tz": -60
    },
    "id": "s1FHAsYZU2BR",
    "outputId": "8a6440f2-aff9-41c1-ac89-7af7f8b2513d"
   },
   "outputs": [],
   "source": [
    "means = [np.mean(np.abs(m.coef_)) for m in model]\n",
    "\n",
    "fig, ax = plt.subplots(figsize=(8, 6))\n",
    "plt.plot(range(1, maxdeg + 1), means[0:maxdeg], \"-+\", label=\"Coefficients' means\")\n",
    "plt.legend();"
   ]
  },
  {
   "cell_type": "markdown",
   "metadata": {
    "id": "fUMduYT2P8y1"
   },
   "source": [
    "## Exercise\n",
    "\n",
    "Play with the script, you can modify things like:\n",
    "\n",
    "\n",
    "*   Dimensions of _training_ and _validation_ sets\n",
    "*   Alter data generating function, e.g.\n",
    "    * underlying function (different from _cosine_)\n",
    "    * noise added to samples (different from _gaussian_)\n",
    "    * non-uniform sampling of \"x\"\n",
    "\n",
    "and see what changes you observe."
   ]
  },
  {
   "cell_type": "code",
   "execution_count": null,
   "metadata": {
    "id": "ZxilZq_CNJ-X"
   },
   "outputs": [],
   "source": []
  }
 ],
 "metadata": {
  "colab": {
   "provenance": [],
   "toc_visible": true
  },
  "kernelspec": {
   "display_name": "base",
   "language": "python",
   "name": "python3"
  },
  "language_info": {
   "codemirror_mode": {
    "name": "ipython",
    "version": 3
   },
   "file_extension": ".py",
   "mimetype": "text/x-python",
   "name": "python",
   "nbconvert_exporter": "python",
   "pygments_lexer": "ipython3",
   "version": "3.10.9"
  },
  "latex_envs": {
   "LaTeX_envs_menu_present": true,
   "autoclose": false,
   "autocomplete": true,
   "bibliofile": "biblio.bib",
   "cite_by": "apalike",
   "current_citInitial": 1,
   "eqLabelWithNumbers": true,
   "eqNumInitial": 1,
   "hotkeys": {
    "equation": "Ctrl-E",
    "itemize": "Ctrl-I"
   },
   "labels_anchors": false,
   "latex_user_defs": false,
   "report_style_numbering": false,
   "user_envs_cfg": false
  },
  "toc": {
   "base_numbering": 1,
   "nav_menu": {},
   "number_sections": true,
   "sideBar": true,
   "skip_h1_title": false,
   "title_cell": "Table of Contents",
   "title_sidebar": "Contents",
   "toc_cell": false,
   "toc_position": {
    "height": "calc(100% - 180px)",
    "left": "10px",
    "top": "150px",
    "width": "165px"
   },
   "toc_section_display": true,
   "toc_window_display": true
  },
  "vscode": {
   "interpreter": {
    "hash": "36bc7f9a9055f480cb73d8ea486ac439fe390d5591cca9e08d0b9b0f17fdecc4"
   }
  }
 },
 "nbformat": 4,
 "nbformat_minor": 0
}
