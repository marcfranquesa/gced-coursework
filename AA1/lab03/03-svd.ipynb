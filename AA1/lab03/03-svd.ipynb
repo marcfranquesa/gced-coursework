{
 "cells": [
  {
   "cell_type": "markdown",
   "metadata": {
    "id": "wC-WteaATtFu"
   },
   "source": [
    "# AA1 lab 03\n",
    "# SVD: dimensionality reduction, visualization, compression and more"
   ]
  },
  {
   "cell_type": "code",
   "execution_count": null,
   "metadata": {
    "executionInfo": {
     "elapsed": 200,
     "status": "ok",
     "timestamp": 1677683161198,
     "user": {
      "displayName": "Marta Arias Vicente",
      "userId": "13874328413650848050"
     },
     "user_tz": -60
    },
    "id": "3zMjtklITtFx"
   },
   "outputs": [],
   "source": [
    "# Uncomment to upgrade packages\n",
    "#!pip3 install pandas --user --upgrade --quiet\n",
    "#!pip3 install scipy --user --upgrade --quiet\n",
    "#!pip3 install numpy --user --upgrade --quiet\n",
    "#!pip3 install statsmodels --user --upgrade --quiet\n",
    "#!pip3 install seaborn --user --upgrade --quiet\n",
    "#!pip3 install pillow --user --upgrade -- quiet\n",
    "#!pip3 install matplotlib --user --upgrade --quiet"
   ]
  },
  {
   "cell_type": "code",
   "execution_count": null,
   "metadata": {
    "executionInfo": {
     "elapsed": 196,
     "status": "ok",
     "timestamp": 1677683163912,
     "user": {
      "displayName": "Marta Arias Vicente",
      "userId": "13874328413650848050"
     },
     "user_tz": -60
    },
    "id": "Jh8pH6fKTtFy"
   },
   "outputs": [],
   "source": [
    "%load_ext autoreload"
   ]
  },
  {
   "cell_type": "code",
   "execution_count": null,
   "metadata": {
    "executionInfo": {
     "elapsed": 577,
     "status": "ok",
     "timestamp": 1677683165910,
     "user": {
      "displayName": "Marta Arias Vicente",
      "userId": "13874328413650848050"
     },
     "user_tz": -60
    },
    "id": "ZdaEUE7JTtFy"
   },
   "outputs": [],
   "source": [
    "import numpy as np\n",
    "import pandas as pd\n",
    "\n",
    "pd.set_option(\"display.precision\", 3)\n",
    "np.set_printoptions(precision=3)"
   ]
  },
  {
   "cell_type": "markdown",
   "metadata": {
    "id": "rF7ynVArTtFz"
   },
   "source": [
    "---\n",
    "## SECTION 1: Eigenvalues and eigenvectors"
   ]
  },
  {
   "cell_type": "markdown",
   "metadata": {
    "id": "vsmAR0tgTtFz"
   },
   "source": [
    "In linear algebra, an eigenvector or characteristic vector of a linear transformation is a non-zero vector that only changes by a scalar factor when that linear transformation is applied to it. \n",
    "\n",
    "If the vector space is finite-dimensional, then the linear transformation can be represented as a square \n",
    "matrix $ A $, and the vector $ q $ by a column vector, rendering the above mapping as a matrix multiplication on the \n",
    "left hand side and a scaling of the column vector on the right hand side in the equation\n",
    "\n",
    "$$ Aq = \\lambda q $$\n",
    "\n",
    "The set of all eigenvectors of a linear transformation, each paired with its corresponding eigenvalue, is called the \n",
    "eigensystem of that transformation.\n",
    "\n",
    "When we place all of these equations (corresponding to the $n$ eigenvalues with their eigenvectors), this leads to the eigendecomposition of $A$:\n",
    "\n",
    "$$ AQ = Q \\Lambda $$"
   ]
  },
  {
   "cell_type": "markdown",
   "metadata": {
    "id": "8L1ScF_mTtFz"
   },
   "source": [
    "Spelling this out:\n",
    "\n",
    "$$\n",
    "A \\begin{bmatrix}\\mathbf{q}_1\\ \\mathbf{q}_2\\ \\cdots\\ \\mathbf{q}_n\\end{bmatrix} = \n",
    "\\begin{bmatrix}\\mathbf{q}_1\\ \\mathbf{q}_2\\ \\cdots\\ \\mathbf{q}_n\\end{bmatrix} \n",
    "\\begin{bmatrix}\n",
    "    \\lambda_1 & 0 & \\dots & 0 \\\\\n",
    "    0 & \\lambda_2 & \\dots & 0 \\\\\n",
    "    \\vdots & \\vdots & \\ddots & \\vdots \\\\\n",
    "    0 & 0 & \\dots & \\lambda_n\n",
    "  \\end{bmatrix} = \n",
    "  \\begin{bmatrix}\\lambda_1\\mathbf{q}_1\\ \\lambda_2\\mathbf{q}_2\\ \\cdots\\ \\lambda_n\\mathbf{q}_n\\end{bmatrix} \n",
    "$$\n"
   ]
  },
  {
   "cell_type": "markdown",
   "metadata": {
    "id": "mh4EZmkWTtF0"
   },
   "source": [
    "### Eigendecomposition of symmetric matrix $A\\in {\\mathbb R}^{n \\times n}$\n",
    "\n",
    "If a matrix $A\\in {\\mathbb R}^{n \\times n}$ is symmetric and full-rank, then $A = Q\\Lambda Q^T$.\n",
    "More visually, if $\\mathbf{q}_1,..,\\mathbf{q}_n$ are the columns of $Q$ (eigenvectors of $A$), then:\n",
    "\n",
    "$$\n",
    "A = \\begin{bmatrix}\\mathbf{q}_1\\ \\mathbf{q}_2\\ \\cdots\\ \\mathbf{q}_n\\end{bmatrix} \\begin{bmatrix}\n",
    "    \\lambda_1 & 0 & \\dots & 0 \\\\\n",
    "    0 & \\lambda_2 & \\dots & 0 \\\\\n",
    "    \\vdots & \\vdots & \\ddots & \\vdots \\\\\n",
    "    0 & 0 & \\dots & \\lambda_n\n",
    "  \\end{bmatrix} \\begin{bmatrix} \\mathbf{q}_1^T\\\\ \\mathbf{q}_2^T\\\\ \\cdots\\\\ \\mathbf{q}_n^T \\end{bmatrix}\n",
    "$$\n",
    "\n",
    "1. $Q$ is orthonormal matrix (all vectors are orthogonal and have unit length); its columns are the eigenvectors of $A$ and form a basis; and so $Q^T Q = I$ and $Q^{-1} = Q^T$\n",
    "2. $\\Lambda$ is diagonal and contains all eigenvalues of $A$\n",
    "\n",
    "\n",
    "This factorization allows us to compute certain operations very efficiently, e.g.:\n",
    "\n",
    "- powers of A: $A^k = (Q\\Lambda Q^T)^k = (Q\\Lambda Q^T) (Q\\Lambda Q^T) \\ldots (Q\\Lambda Q^T) = Q \\Lambda^k Q^T$\n",
    "- inverse of A: $A^{-1} = (Q\\Lambda Q^T)^{-1} = Q \\Lambda^{-1} Q^T$\n",
    "\n",
    "\n"
   ]
  },
  {
   "cell_type": "code",
   "execution_count": null,
   "metadata": {
    "colab": {
     "base_uri": "https://localhost:8080/"
    },
    "executionInfo": {
     "elapsed": 863,
     "status": "ok",
     "timestamp": 1677683172993,
     "user": {
      "displayName": "Marta Arias Vicente",
      "userId": "13874328413650848050"
     },
     "user_tz": -60
    },
    "id": "XsnBvdV6TtF0",
    "outputId": "bb115805-21a3-4d0f-eb60-35e5f44177da"
   },
   "outputs": [],
   "source": [
    "from numpy.linalg import eig, inv\n",
    "\n",
    "# generate random symmetric matrix\n",
    "n = 5\n",
    "a = np.random.randint(50, size=(n, n))\n",
    "A = np.tril(a) + np.tril(a, -1).T\n",
    "print(A)"
   ]
  },
  {
   "cell_type": "code",
   "execution_count": null,
   "metadata": {
    "colab": {
     "base_uri": "https://localhost:8080/"
    },
    "executionInfo": {
     "elapsed": 180,
     "status": "ok",
     "timestamp": 1677683175939,
     "user": {
      "displayName": "Marta Arias Vicente",
      "userId": "13874328413650848050"
     },
     "user_tz": -60
    },
    "id": "mPACOcOWTtF1",
    "outputId": "5bc7c4ac-1458-4e86-fa4b-fc01a703153c"
   },
   "outputs": [],
   "source": [
    "eigvalues, eigvectors = eig(A)\n",
    "\n",
    "print(f\"Eigenvalues: {eigvalues}\")\n",
    "print(f\"Eigenvectors:\")\n",
    "print(eigvectors)"
   ]
  },
  {
   "cell_type": "code",
   "execution_count": null,
   "metadata": {
    "colab": {
     "base_uri": "https://localhost:8080/"
    },
    "executionInfo": {
     "elapsed": 182,
     "status": "ok",
     "timestamp": 1677683177868,
     "user": {
      "displayName": "Marta Arias Vicente",
      "userId": "13874328413650848050"
     },
     "user_tz": -60
    },
    "id": "_UvRUDDoTtF1",
    "outputId": "c9562ced-fea9-4fa9-f473-8944b313f86c"
   },
   "outputs": [],
   "source": [
    "print(A @ eigvectors)\n",
    "print()\n",
    "print(eigvectors @ np.diag(eigvalues))"
   ]
  },
  {
   "cell_type": "markdown",
   "metadata": {
    "id": "U0ob4ID2TtF1"
   },
   "source": [
    "check the condition that  $Aq = \\lambda q$ for all $q$ and $\\lambda$:"
   ]
  },
  {
   "cell_type": "code",
   "execution_count": null,
   "metadata": {
    "colab": {
     "base_uri": "https://localhost:8080/"
    },
    "executionInfo": {
     "elapsed": 178,
     "status": "ok",
     "timestamp": 1677683181809,
     "user": {
      "displayName": "Marta Arias Vicente",
      "userId": "13874328413650848050"
     },
     "user_tz": -60
    },
    "id": "hifiKscOTtF1",
    "outputId": "96253b9d-e88e-4cfe-ac93-776b797b1c84"
   },
   "outputs": [],
   "source": [
    "# make sure they are the same..\n",
    "print(f\"AQ =? QL: {np.allclose(A @ eigvectors, eigvectors @ np.diag(eigvalues))}\")"
   ]
  },
  {
   "cell_type": "markdown",
   "metadata": {
    "id": "pdZM-ra8TtF2"
   },
   "source": [
    "---\n",
    "## SECTION 2: SVD, what it is, how to compute it"
   ]
  },
  {
   "cell_type": "markdown",
   "metadata": {
    "id": "bp3wKQXUTtF2"
   },
   "source": [
    "### Singular Value Decomposition of a rectangular matrix $A\\in\\mathbb{R}^{m \\times n}$\n",
    "\n",
    "Any matrix $A\\in\\mathbb{R}^{m \\times n}$ with $m>n$ can be expressed as \n",
    "$$A = U \\Sigma V^T$$\n",
    "\n",
    "where:\n",
    "\n",
    "- $U \\in\\mathbb{R}^{m \\times n}$ has orthonormal columns (so $U^T U = I$)\n",
    "- $\\Sigma\\in\\mathbb{R}^{n \\times n}$ is diagonal and contains the singular values in its diagonal\n",
    "- $V\\in\\mathbb{R}^{n \\times n}$ has orthonormal rows and columns (so $V^T V = I$, $V V^T = I$ and $V^{-1} = V^T$)\n",
    "\n",
    "With matrices spelled out, this is:\n",
    "\n",
    "$$\n",
    "\\begin{aligned}A &= \\begin{bmatrix}\\mathbf{u}_1\\ \\mathbf{u}_2\\ \\cdots\\ \\mathbf{u}_n\\end{bmatrix} \\begin{bmatrix}\n",
    "    \\sigma_1 & 0 & \\dots & 0 \\\\\n",
    "    0 & \\sigma_2 & \\dots & 0 \\\\\n",
    "    \\vdots & \\vdots & \\ddots & \\vdots \\\\\n",
    "    0 & 0 & \\dots & \\sigma_n\n",
    "  \\end{bmatrix} \\begin{bmatrix} \\mathbf{v}_1^T\\\\ \\mathbf{v}_2^T\\\\ \\cdots\\\\ \\mathbf{v}_n^T \\end{bmatrix} \\\\ \\\\\n",
    "  &= \\sigma_1\\mathbf{u}_1\\mathbf{v}_1^T + \\sigma_2\\mathbf{u}_2\\mathbf{v}_2^T + ... + \\sigma_n\\mathbf{u}_n\\mathbf{v}_n^T\n",
    "  \\end{aligned}\n",
    " $$\n",
    "\n",
    "\n",
    "The case where $m < n$ is the same, with different sizes for the matrices:\n",
    "\n",
    "- $U \\in\\mathbb{R}^{m \\times m}$ has orthonormal columns (so $U^T U = I$)\n",
    "- $\\Sigma\\in\\mathbb{R}^{m \\times m}$ is diagonal and contains the singular values in its diagonal\n",
    "- $V\\in\\mathbb{R}^{m \\times n}$ has orthonormal rows and columns (so $V^T V = I$, $V V^T = I$ and $V^{-1} = V^T$)\n",
    "\n",
    "For a visual illustration:\n",
    "\n",
    "|![](svd1.png) | ![](svd2.png) |\n",
    "|:------------:|:-------------:|\n",
    "\n",
    "\n",
    "\n",
    "\n",
    "### Computing the SVD of a rectangular matrix $A\\in\\mathbb{R}^{m \\times n}$\n",
    "\n",
    "The nonzero singular values of $A\\in\\mathbb{R}^{m \\times n}$ are the (positive) square roots of the nonzero eigenvalues of $A^T A$ and $A A^T$\n",
    "\n",
    "- Let $A = U\\Sigma V^T$ be the SVD decomposition of $A$\n",
    "- Then $A^T A = (U\\Sigma V^T)^T U\\Sigma V^T = V^{TT}\\Sigma^T U^T U\\Sigma V^T = V \\Sigma^2 V^T$ so $V$ contains the eigenvectors of $A^T A$ and $\\sigma_i^2$ are its eigenvalues \n",
    "- Also  $A A^T = U\\Sigma V^T (U\\Sigma V^T)^T = U\\Sigma V^T V^{TT}\\Sigma^T U^T  = U \\Sigma^2 U^T$ so $U$ contains the eigenvectors of $A A^T$ and $\\sigma_i^2$ are its eigenvalues \n",
    "\n",
    "So the algorithm for computing SVD decomposition of $A$ is:\n",
    "\n",
    "1. If $m<n$:\n",
    "    - Compute eigendecomposition $U \\Lambda U^T$ of $A A^T$\n",
    "    - Set $\\Sigma = \\Lambda^{\\frac{1}{2}}$\n",
    "    - Set $V^T = \\Sigma^{-1} U^T A$\n",
    "2. If $n<m$:\n",
    "    - Compute eigendecomposition $V \\Lambda V^T$ of $A^T A$\n",
    "    - Set $\\Sigma = \\Lambda^{\\frac{1}{2}}$\n",
    "    - Set $U = A V \\Sigma^{-1}$\n"
   ]
  },
  {
   "cell_type": "markdown",
   "metadata": {
    "id": "kQvOYGZZTtF2"
   },
   "source": [
    "---\n",
    "## SECTION 3: Computation of least squares solution\n",
    "\n",
    "Let us look closely at the solution for coefficients $\\mathbf{\\theta}$ via minimization of the least squared error:\n",
    "\n",
    "$$\\mathbf{\\theta}_{lse} = (\\mathbf{X}^T\\mathbf{X})^{-1}\\mathbf{X}^T\\mathbf{y}$$\n",
    "\n",
    "- $\\mathbf{X} \\in {\\mathbb R}^{n \\times (d+1)}$\n",
    "- $\\mathbf{X}^T\\mathbf{X} \\in {\\mathbb R}^{(d+1) \\times (d+1)}$\n",
    "- If $\\mathbf{X}$ has independent columns, then $\\mathbf{X}^T\\mathbf{X}$ is invertible\n",
    "- Inverting this matrix can have numerical problems and so the SVD is used instead\n",
    "\n",
    "The term $(\\mathbf{X}^T\\mathbf{X})^{-1}\\mathbf{X}^T$ is called the *pseudoinverse* of $X$. In fact:\n",
    "\n",
    "$$pinv(X) X = (\\mathbf{X}^T\\mathbf{X})^{-1}\\mathbf{X}^T X = I$$\n",
    "\n",
    "### Computing least squares solution via the SVD\n",
    "\n",
    "Let $\\mathbf{X} = U \\Sigma V^T$ be the SVD  decomposition of data matrix $\\mathbf{X}$\n",
    "\n",
    "Then:\n",
    "$$\n",
    "\\begin{aligned}\n",
    "\\mathbf{\\theta}_{lse} &=  (\\mathbf{X}^T\\mathbf{X})^{-1}\\mathbf{X}^T\\mathbf{y} \\\\\n",
    "  &= ((U \\Sigma V^T)^T U \\Sigma V^T)^{-1} (U \\Sigma V^T)^T \\mathbf{y} \\\\\n",
    "  &= (V\\Sigma U^T U\\Sigma V^T)^{-1} V \\Sigma U^T\\mathbf{y} \\\\\n",
    "  &= (V \\Sigma^2 V^T)^{-1} V \\Sigma U^T\\mathbf{y} \\\\\n",
    "  &= (V^T)^{-1} \\Sigma^{-2} V^{-1} V \\Sigma U^T \\mathbf{y} \\\\\n",
    "  &= V \\Sigma^{-1} U^T \\mathbf{y} \\\\\n",
    "\\end{aligned}\n",
    "$$\n",
    "\n",
    "\n"
   ]
  },
  {
   "cell_type": "code",
   "execution_count": null,
   "metadata": {
    "colab": {
     "base_uri": "https://localhost:8080/",
     "height": 206
    },
    "executionInfo": {
     "elapsed": 207,
     "status": "ok",
     "timestamp": 1677683438293,
     "user": {
      "displayName": "Marta Arias Vicente",
      "userId": "13874328413650848050"
     },
     "user_tz": -60
    },
    "id": "qk5zOo8ZTtF2",
    "outputId": "48ea0d9e-a422-4e08-f2f7-088a59656584"
   },
   "outputs": [],
   "source": [
    "murders = pd.read_csv(\"murders.txt\", sep=\" \")\n",
    "murders[\"offset\"] = [1.0] * len(murders)\n",
    "murders.head()"
   ]
  },
  {
   "cell_type": "code",
   "execution_count": null,
   "metadata": {
    "colab": {
     "base_uri": "https://localhost:8080/"
    },
    "executionInfo": {
     "elapsed": 200,
     "status": "ok",
     "timestamp": 1677683442291,
     "user": {
      "displayName": "Marta Arias Vicente",
      "userId": "13874328413650848050"
     },
     "user_tz": -60
    },
    "id": "nUJ63oEsTtF2",
    "outputId": "e9df6d90-7e29-4bdb-da92-12d1407ff06f"
   },
   "outputs": [],
   "source": [
    "X = murders[[\"offset\", \"inhabitants\", \"income\", \"unemployment\"]].to_numpy()\n",
    "print(X.shape)\n",
    "y = murders[[\"murders\"]].to_numpy()\n",
    "print(y.shape)"
   ]
  },
  {
   "cell_type": "code",
   "execution_count": null,
   "metadata": {
    "executionInfo": {
     "elapsed": 176,
     "status": "ok",
     "timestamp": 1677683444406,
     "user": {
      "displayName": "Marta Arias Vicente",
      "userId": "13874328413650848050"
     },
     "user_tz": -60
    },
    "id": "Uu0iTdmfcZXD"
   },
   "outputs": [],
   "source": [
    "from numpy.linalg import svd, pinv, inv"
   ]
  },
  {
   "cell_type": "code",
   "execution_count": null,
   "metadata": {
    "colab": {
     "base_uri": "https://localhost:8080/"
    },
    "executionInfo": {
     "elapsed": 1,
     "status": "ok",
     "timestamp": 1677683445360,
     "user": {
      "displayName": "Marta Arias Vicente",
      "userId": "13874328413650848050"
     },
     "user_tz": -60
    },
    "id": "7S3-MWAxTtF2",
    "outputId": "05279f3a-5dc4-419c-eae6-3c44c89b483f"
   },
   "outputs": [],
   "source": [
    "# compute theta the direct way\n",
    "theta_inv = inv(X.T @ X) @ X.T @ y\n",
    "theta_inv"
   ]
  },
  {
   "cell_type": "code",
   "execution_count": null,
   "metadata": {
    "colab": {
     "base_uri": "https://localhost:8080/"
    },
    "executionInfo": {
     "elapsed": 181,
     "status": "ok",
     "timestamp": 1677683447071,
     "user": {
      "displayName": "Marta Arias Vicente",
      "userId": "13874328413650848050"
     },
     "user_tz": -60
    },
    "id": "D03rMpFJTtF3",
    "outputId": "3ce5be44-2c44-4927-9584-4cd81b55daf9"
   },
   "outputs": [],
   "source": [
    "# compute theta the pseudoinverse way\n",
    "from numpy.linalg import pinv\n",
    "\n",
    "theta_pinv = pinv(X) @ y\n",
    "theta_pinv"
   ]
  },
  {
   "cell_type": "code",
   "execution_count": null,
   "metadata": {
    "colab": {
     "base_uri": "https://localhost:8080/"
    },
    "executionInfo": {
     "elapsed": 164,
     "status": "ok",
     "timestamp": 1677683451004,
     "user": {
      "displayName": "Marta Arias Vicente",
      "userId": "13874328413650848050"
     },
     "user_tz": -60
    },
    "id": "PAjWstqbTtF3",
    "outputId": "7627bdcb-6425-476b-d3d1-3ee12766195c"
   },
   "outputs": [],
   "source": [
    "# compute theta the SVD way\n",
    "\n",
    "U, d, Vt = svd(X, full_matrices=False)\n",
    "theta_svd = Vt.T @ np.diag(1 / d) @ U.T @ y\n",
    "theta_svd"
   ]
  },
  {
   "cell_type": "code",
   "execution_count": null,
   "metadata": {
    "colab": {
     "base_uri": "https://localhost:8080/"
    },
    "executionInfo": {
     "elapsed": 2,
     "status": "ok",
     "timestamp": 1677683452783,
     "user": {
      "displayName": "Marta Arias Vicente",
      "userId": "13874328413650848050"
     },
     "user_tz": -60
    },
    "id": "uzl-MUtRTtF3",
    "outputId": "26a68f40-6bea-4067-b94f-13303dcbfa1d"
   },
   "outputs": [],
   "source": [
    "# check they are the same..\n",
    "np.allclose(theta_inv, theta_svd)"
   ]
  },
  {
   "cell_type": "markdown",
   "metadata": {
    "id": "AYsLVBaeTtF3"
   },
   "source": [
    "---\n",
    "## SECTION 4: Compressing images with SVD\n",
    "\n",
    "In this section we will see a fun application of (truncated) SVD that allows us to compress images. Remember that\n",
    "we defined the SVD of a rectangular matrix $A\\in\\mathbb{R}^{m \\times n}$ as\n",
    "$$A = U \\Sigma V^T$$\n",
    "\n",
    "It is instructive to think of the multiplications as the sum of rank-1 matrices with the same shape as $A$:\n",
    "\n",
    "$$\n",
    "A = \\sigma_1\\mathbf{u}_1\\mathbf{v}_1^T + \\sigma_2\\mathbf{u}_2\\mathbf{v}_2^T + ... + \\sigma_n\\mathbf{u}_n\\mathbf{v}_n^T\n",
    "$$\n",
    "\n",
    "We can use only the first $k$ terms in this sum to represent $A$, having to store only $k$ singular values $\\sigma_1 \\dots \\sigma_k$ and $2k$ vectors $\\mathbf{u}_1,\\dots,\\mathbf{u}_k$ and $\\mathbf{v}_1,\\dots,\\mathbf{v}_k$. So we go from storing $n\\times m$ values to storing $k (1 + n + m)$\n",
    "where $k \\ll min(n,m)$\n"
   ]
  },
  {
   "cell_type": "markdown",
   "metadata": {
    "id": "BU4Jy0nnTtF3"
   },
   "source": [
    "## First, let us load a random image.."
   ]
  },
  {
   "cell_type": "code",
   "execution_count": null,
   "metadata": {
    "colab": {
     "base_uri": "https://localhost:8080/",
     "height": 265
    },
    "executionInfo": {
     "elapsed": 897,
     "status": "ok",
     "timestamp": 1677683457795,
     "user": {
      "displayName": "Marta Arias Vicente",
      "userId": "13874328413650848050"
     },
     "user_tz": -60
    },
    "id": "YZGIgAoHTtF3",
    "outputId": "ebff0256-65f6-488d-84f9-e961760efe64"
   },
   "outputs": [],
   "source": [
    "from PIL import Image\n",
    "import matplotlib.pyplot as plt\n",
    "\n",
    "image = Image.open(\"cat.jpg\")\n",
    "A = np.array(image)\n",
    "plt.imshow(image)\n",
    "plt.axis(\"off\")\n",
    "plt.show()\n",
    "A.shape"
   ]
  },
  {
   "cell_type": "code",
   "execution_count": null,
   "metadata": {
    "colab": {
     "base_uri": "https://localhost:8080/",
     "height": 265
    },
    "executionInfo": {
     "elapsed": 1217,
     "status": "ok",
     "timestamp": 1677683466482,
     "user": {
      "displayName": "Marta Arias Vicente",
      "userId": "13874328413650848050"
     },
     "user_tz": -60
    },
    "id": "5dg-qGVHTtF3",
    "outputId": "e45bdfcb-f586-4035-df70-231e09b30f54"
   },
   "outputs": [],
   "source": [
    "# convert to 2D image from 3 RGB channels\n",
    "\n",
    "X = np.mean(A, axis=2)\n",
    "plt.imshow(X, cmap=plt.cm.gray)\n",
    "plt.axis(\"off\")\n",
    "print(X.shape)\n",
    "print(f\"original image uses {np.prod(X.shape)} values\")"
   ]
  },
  {
   "cell_type": "markdown",
   "metadata": {
    "id": "LP8GuaA_TtF3"
   },
   "source": [
    "## Perform SVD decomposition on $X$"
   ]
  },
  {
   "cell_type": "code",
   "execution_count": null,
   "metadata": {
    "colab": {
     "base_uri": "https://localhost:8080/"
    },
    "executionInfo": {
     "elapsed": 471,
     "status": "ok",
     "timestamp": 1677683473623,
     "user": {
      "displayName": "Marta Arias Vicente",
      "userId": "13874328413650848050"
     },
     "user_tz": -60
    },
    "id": "mQdkqretTtF3",
    "outputId": "96894a7d-88bc-4666-dcf7-3ccb8c6a5514"
   },
   "outputs": [],
   "source": [
    "U, d, Vt = svd(X)\n",
    "D = np.diag(d)\n",
    "\n",
    "np.allclose(X, U @ D @ Vt)"
   ]
  },
  {
   "cell_type": "code",
   "execution_count": null,
   "metadata": {
    "colab": {
     "base_uri": "https://localhost:8080/",
     "height": 359
    },
    "executionInfo": {
     "elapsed": 2102,
     "status": "ok",
     "timestamp": 1677683485604,
     "user": {
      "displayName": "Marta Arias Vicente",
      "userId": "13874328413650848050"
     },
     "user_tz": -60
    },
    "id": "TVsIRkcbTtF4",
    "outputId": "19a89aee-fbac-4e98-df8d-29d6a7e7da15"
   },
   "outputs": [],
   "source": [
    "# k looping through sequence of powers of 2\n",
    "m, n = X.shape\n",
    "nm = np.prod(X.shape)\n",
    "print(f\"Original image needs {n} x {m} = {nm} values\")\n",
    "j = 0\n",
    "plt.figure(figsize=(18, 8))\n",
    "for k in [1 << i for i in range(9)]:\n",
    "    plt.subplot(2, 5, j + 1)\n",
    "    j += 1\n",
    "    ## construct approximation of X with first $k$ dimensions\n",
    "    X_approx = U[:, :k] @ D[:k, :k] @ Vt[:k, :]\n",
    "    plt.imshow(X_approx, cmap=plt.cm.gray)\n",
    "    plt.axis(\"off\")\n",
    "    storage = k * (m + n + 1)\n",
    "    plt.title(f\"k = {k}; {storage} values; {storage/nm*100:.1f}%\")"
   ]
  },
  {
   "cell_type": "markdown",
   "metadata": {
    "id": "1oeJ8zEYTtF4"
   },
   "source": [
    "### Plotting singular values"
   ]
  },
  {
   "cell_type": "code",
   "execution_count": null,
   "metadata": {
    "colab": {
     "base_uri": "https://localhost:8080/",
     "height": 298
    },
    "executionInfo": {
     "elapsed": 1715,
     "status": "ok",
     "timestamp": 1677683498348,
     "user": {
      "displayName": "Marta Arias Vicente",
      "userId": "13874328413650848050"
     },
     "user_tz": -60
    },
    "id": "ORHXKbPATtF4",
    "outputId": "e2fdc38c-ad5b-49f3-e609-2e7db7343bb9"
   },
   "outputs": [],
   "source": [
    "plt.figure(figsize=(16, 4))\n",
    "plt.subplot(131)\n",
    "plt.plot(d)\n",
    "plt.title(\"Singular values\")\n",
    "\n",
    "plt.subplot(132)\n",
    "plt.semilogy(d)\n",
    "plt.title(\"Singular values in log scale\")\n",
    "\n",
    "plt.subplot(133)\n",
    "plt.plot(np.cumsum(d) / np.sum(d))\n",
    "plt.title(\"Cumulative sum of singular values\")"
   ]
  },
  {
   "cell_type": "markdown",
   "metadata": {
    "id": "ItXQDXsRTtF4"
   },
   "source": [
    "---\n",
    "## SECTION 4: Eigenfaces\n",
    "\n",
    "In this last section we are going to apply SVD to a **collection** of images, each image will be a \"row\" in a matrix and we will perform SVD on this\n",
    "matrix in order to compute the eigenvalues and eigenvectors of a collection of faces downloaded from UMass's [Labeled Faces in the Wild](http://vis-www.cs.umass.edu/lfw/index.html)."
   ]
  },
  {
   "cell_type": "markdown",
   "metadata": {
    "id": "StuthqPfTtF4"
   },
   "source": [
    "### First load all images using scikit-learn"
   ]
  },
  {
   "cell_type": "code",
   "execution_count": null,
   "metadata": {
    "executionInfo": {
     "elapsed": 14727,
     "status": "ok",
     "timestamp": 1677684696612,
     "user": {
      "displayName": "Marta Arias Vicente",
      "userId": "13874328413650848050"
     },
     "user_tz": -60
    },
    "id": "LRn2bJN4YL2I"
   },
   "outputs": [],
   "source": [
    "from sklearn.datasets import fetch_lfw_people\n",
    "\n",
    "faces = fetch_lfw_people(\n",
    "    min_faces_per_person=17\n",
    ")  # only load images of people for which we have >= 17 images\n",
    "\n",
    "n = faces.data.shape[0]"
   ]
  },
  {
   "cell_type": "code",
   "execution_count": null,
   "metadata": {
    "colab": {
     "base_uri": "https://localhost:8080/"
    },
    "executionInfo": {
     "elapsed": 2,
     "status": "ok",
     "timestamp": 1677684696780,
     "user": {
      "displayName": "Marta Arias Vicente",
      "userId": "13874328413650848050"
     },
     "user_tz": -60
    },
    "id": "kcL37cHpZ4gB",
    "outputId": "ae868ee7-b135-4093-9c66-6f4ebac013a4"
   },
   "outputs": [],
   "source": [
    "print(faces.target_names[:20])\n",
    "\n",
    "print(f\"faces.data.shape: {faces.data.shape}\")\n",
    "print(f\"faces.image.shape: {faces.images.shape}\")"
   ]
  },
  {
   "cell_type": "code",
   "execution_count": null,
   "metadata": {
    "colab": {
     "base_uri": "https://localhost:8080/"
    },
    "executionInfo": {
     "elapsed": 258,
     "status": "ok",
     "timestamp": 1677684813207,
     "user": {
      "displayName": "Marta Arias Vicente",
      "userId": "13874328413650848050"
     },
     "user_tz": -60
    },
    "id": "gKKeiNfpTtF4",
    "outputId": "eb1cd639-7bcf-479d-c733-0e8bf970aa59"
   },
   "outputs": [],
   "source": [
    "# size of first image, we assume all images are the same size..\n",
    "h, w = faces.images[0].shape\n",
    "\n",
    "print(\n",
    "    f\"Found {n} images of size {h} x {w} = {h*w} belonging to {len(faces.target_names)} different persons.\"\n",
    ")\n",
    "\n",
    "X = (\n",
    "    faces.data\n",
    ")  # X is a matrix of shape 4324 x 2914 containing flattened images in each row\n",
    "\n",
    "assert X.shape[1] == h * w\n",
    "\n",
    "print(f\"data matrix X has size {X.shape} -- one flattened image in each row\")"
   ]
  },
  {
   "cell_type": "markdown",
   "metadata": {
    "id": "mHxIm11xTtF4"
   },
   "source": [
    "### Show random faces from our dataset"
   ]
  },
  {
   "cell_type": "code",
   "execution_count": null,
   "metadata": {
    "colab": {
     "base_uri": "https://localhost:8080/",
     "height": 1000
    },
    "executionInfo": {
     "elapsed": 8829,
     "status": "ok",
     "timestamp": 1677684716356,
     "user": {
      "displayName": "Marta Arias Vicente",
      "userId": "13874328413650848050"
     },
     "user_tz": -60
    },
    "id": "yqjebS1DTtF4",
    "outputId": "613710d0-2ad3-4dd7-a4be-9bf4bb3dc410"
   },
   "outputs": [],
   "source": [
    "plt.figure(figsize=(20, 20))\n",
    "\n",
    "# select 100 random images\n",
    "rand_images = np.random.randint(n, size=100)\n",
    "\n",
    "for i in range(10 * 10):\n",
    "    plt.subplot(10, 10, i + 1)\n",
    "    idx = rand_images[i]  # pick random person (random row from X)\n",
    "    plt.imshow(X[idx, :].reshape(h, w), cmap=plt.cm.gray)\n",
    "    plt.axis(\"off\")\n",
    "    plt.title(faces.target_names[faces.target[idx]])"
   ]
  },
  {
   "cell_type": "markdown",
   "metadata": {
    "id": "zCM110OJTtF4"
   },
   "source": [
    "### Compute mean face; substract mean face from all our faces (will work on centered data... so like PCA)"
   ]
  },
  {
   "cell_type": "code",
   "execution_count": null,
   "metadata": {
    "colab": {
     "base_uri": "https://localhost:8080/",
     "height": 264
    },
    "executionInfo": {
     "elapsed": 472,
     "status": "ok",
     "timestamp": 1677684729827,
     "user": {
      "displayName": "Marta Arias Vicente",
      "userId": "13874328413650848050"
     },
     "user_tz": -60
    },
    "id": "_L2UC9crTtF5",
    "outputId": "191f103c-5f37-4dc1-92cb-dcbefa449790"
   },
   "outputs": [],
   "source": [
    "mean_face = X.mean(axis=0)\n",
    "plt.imshow(np.reshape(mean_face, (h, w)), cmap=plt.cm.gray)\n",
    "plt.title(\"Mean Face\")\n",
    "plt.axis(\"off\")\n",
    "plt.show()"
   ]
  },
  {
   "cell_type": "code",
   "execution_count": null,
   "metadata": {
    "executionInfo": {
     "elapsed": 325,
     "status": "ok",
     "timestamp": 1677684732006,
     "user": {
      "displayName": "Marta Arias Vicente",
      "userId": "13874328413650848050"
     },
     "user_tz": -60
    },
    "id": "yuj3YhTaTtF5"
   },
   "outputs": [],
   "source": [
    "# center data\n",
    "cX = X - mean_face"
   ]
  },
  {
   "cell_type": "markdown",
   "metadata": {
    "id": "yArW8JcCTtF5"
   },
   "source": [
    "### Redraw centered images"
   ]
  },
  {
   "cell_type": "code",
   "execution_count": null,
   "metadata": {
    "colab": {
     "base_uri": "https://localhost:8080/",
     "height": 1000
    },
    "executionInfo": {
     "elapsed": 8958,
     "status": "ok",
     "timestamp": 1677684743545,
     "user": {
      "displayName": "Marta Arias Vicente",
      "userId": "13874328413650848050"
     },
     "user_tz": -60
    },
    "id": "6C8JByAsTtF5",
    "outputId": "e4b81275-e67e-4f84-b28d-c14465fb8d83"
   },
   "outputs": [],
   "source": [
    "plt.figure(figsize=(20, 20))\n",
    "for i in range(10 * 10):\n",
    "    plt.subplot(10, 10, i + 1)\n",
    "    idx = rand_images[i]  # pick random person (random row from X)\n",
    "    plt.imshow(cX[idx, :].reshape(h, w), cmap=plt.cm.gray)\n",
    "    plt.axis(\"off\")\n",
    "    plt.title(faces.target_names[faces.target[idx]])"
   ]
  },
  {
   "cell_type": "code",
   "execution_count": null,
   "metadata": {
    "colab": {
     "base_uri": "https://localhost:8080/"
    },
    "executionInfo": {
     "elapsed": 28357,
     "status": "ok",
     "timestamp": 1677686086477,
     "user": {
      "displayName": "Marta Arias Vicente",
      "userId": "13874328413650848050"
     },
     "user_tz": -60
    },
    "id": "fxXQ_kgbTtF5",
    "outputId": "8134f744-7bf8-4dad-b96b-2cbaccf12f34"
   },
   "outputs": [],
   "source": [
    "%%time\n",
    "U, d, Vt = svd(cX, full_matrices=False)"
   ]
  },
  {
   "cell_type": "code",
   "execution_count": null,
   "metadata": {
    "colab": {
     "base_uri": "https://localhost:8080/"
    },
    "executionInfo": {
     "elapsed": 196,
     "status": "ok",
     "timestamp": 1677686028689,
     "user": {
      "displayName": "Marta Arias Vicente",
      "userId": "13874328413650848050"
     },
     "user_tz": -60
    },
    "id": "mBjBwpsBTtF5",
    "outputId": "bd38537c-dc45-4155-b5c5-6d8b1a6c4dbf"
   },
   "outputs": [],
   "source": [
    "U.shape, d.shape, Vt.shape"
   ]
  },
  {
   "cell_type": "code",
   "execution_count": null,
   "metadata": {
    "colab": {
     "base_uri": "https://localhost:8080/",
     "height": 183
    },
    "executionInfo": {
     "elapsed": 191,
     "status": "error",
     "timestamp": 1677686038281,
     "user": {
      "displayName": "Marta Arias Vicente",
      "userId": "13874328413650848050"
     },
     "user_tz": -60
    },
    "id": "S2XSpxpfTtF5",
    "outputId": "32126921-cbcb-49c9-bd3d-4a2f8e069ffc"
   },
   "outputs": [],
   "source": [
    "# check it worked..\n",
    "\n",
    "svd_X = U @ np.diag(d) @ Vt\n",
    "\n",
    "print(np.allclose(cX, svd_X, atol=1e-08))\n",
    "print(np.allclose(cX, svd_X, atol=1e-03))\n",
    "\n",
    "from scipy import stats\n",
    "\n",
    "stats.describe(cX - svd_X, axis=None)"
   ]
  },
  {
   "cell_type": "markdown",
   "metadata": {
    "id": "M6xBXOf8TtF5"
   },
   "source": [
    "### Show first eigenvectors.."
   ]
  },
  {
   "cell_type": "code",
   "execution_count": null,
   "metadata": {
    "id": "EXDMMgdwTtF5",
    "outputId": "af513387-c5d8-4e6d-e604-17743101ea6f"
   },
   "outputs": [],
   "source": [
    "plt.figure(figsize=(10, 10))\n",
    "for i in range(10 * 10):\n",
    "    plt.subplot(10, 10, i + 1)\n",
    "    plt.imshow(Vt[i, :].reshape(h, w), cmap=plt.cm.gray)\n",
    "    plt.axis(\"off\")"
   ]
  },
  {
   "cell_type": "markdown",
   "metadata": {
    "id": "9Ycz5LgxTtF5"
   },
   "source": [
    "### Plot singular values"
   ]
  },
  {
   "cell_type": "code",
   "execution_count": null,
   "metadata": {
    "id": "uXRdvwSXTtF5",
    "outputId": "8b371fb5-7a2b-4a99-d745-984403a76c2b"
   },
   "outputs": [],
   "source": [
    "plt.figure(figsize=(12, 4))\n",
    "plt.subplot(131)\n",
    "plt.plot(d)\n",
    "plt.title(\"Singular values\")\n",
    "\n",
    "plt.subplot(132)\n",
    "plt.semilogy(d)\n",
    "plt.title(\"Singular values in log scale\")\n",
    "\n",
    "plt.subplot(133)\n",
    "plt.plot(np.cumsum(d) / np.sum(d))\n",
    "plt.title(\"Cumulative sum of singular values\")"
   ]
  },
  {
   "attachments": {},
   "cell_type": "markdown",
   "metadata": {
    "id": "dB6RcJK3TtF5"
   },
   "source": [
    "### Columns of $V$ as new basis for images\n",
    "\n",
    "Remember that the SVD decomposition of our image matrix is\n",
    "\n",
    "$$\n",
    "X = \\sigma_1\\mathbf{u}_1\\mathbf{v}_1^T + \\sigma_2\\mathbf{u}_2\\mathbf{v}_2^T + ... + \\sigma_n\\mathbf{u}_n\\mathbf{v}_n^T\n",
    "$$\n",
    "\n",
    "It is useful to see what happens with a single row of $X$ (that is, one image). If you apply the decomposition you can see that it is now expressed as a **linear combination** of rows of $V^T$, i.e. columns of $V$; the coefficients of the linear combination are given by the corresponding component of the columns of $U$ multiplied by the corresponding singular value (see below). So, columns of $V$ represent new orthonormal basis for rows of $X$. Each **eigenface** is thus an element of the new orthonormal basis for images (rows) of $X$.\n",
    "\n",
    "$$\n",
    "\\begin{aligned}\n",
    "X[i,:] = \\mathbf{x}_i &= \\sigma_1 u[i]_1 \\mathbf{v}_1^T + \\sigma_2 u[i]_2 \\mathbf{v}_2^T + ... + \\sigma_n u[i]_n \\mathbf{v}_n^T \\\\\n",
    "    &= \\alpha_1 \\mathbf{v}_1^T + \\alpha_2 \\mathbf{v}_2^T + ... + \\alpha_n \\mathbf{v}_n^T \n",
    "\\end{aligned}\n",
    "$$\n",
    "\n",
    "where each $\\alpha_j = \\sigma_j u[i]_j$; the coefficient vector $\\mathbf{\\alpha}$ constitutes the new \"fingerprint\" of the image $\\mathbf{x}_i$. Given the space of eigenvectors in $V$, it is enough to reconstruct an image to give its *signature* coefficients $\\alpha$.\n",
    "\n",
    "Again, to save space, we can only keep the first terms in the sum (say the first $k$ terms corresponding the most important eigenvectors) and so with this truncated sum we will only  *approximate*  rows of $X$. So, in order to store the whole collection of images, it is enough to store the most important eigenfaces, and then for each image we just need to store the coefficients used to restore it with satisfactory precision.\n",
    "\n",
    "In essence, by truncating the sum we are performing **dimensionality reduction** from this high dimensional space (each image has $62 \\times 47 = 2914$ features -- namely its pixels) down to $k$ coefficients."
   ]
  },
  {
   "cell_type": "markdown",
   "metadata": {
    "id": "ky3O9g12TtF6"
   },
   "source": [
    "### Showing some coefficients for a sample image"
   ]
  },
  {
   "cell_type": "code",
   "execution_count": null,
   "metadata": {
    "id": "bweBXxoWTtF6",
    "outputId": "aa95b0dc-8a0c-4920-f600-3e1f3ab09334"
   },
   "outputs": [],
   "source": [
    "i = np.random.randint(n)  # select random image\n",
    "alpha = U[i, :] @ np.diag(d)\n",
    "print(alpha.shape)\n",
    "print(alpha)"
   ]
  },
  {
   "cell_type": "code",
   "execution_count": null,
   "metadata": {
    "id": "a0CkZY3ITtF6",
    "outputId": "d0d0d26d-ceeb-41c7-9931-710bbaef9f56"
   },
   "outputs": [],
   "source": [
    "plt.imshow((mean_face + cX[i, :]).reshape(h, w), cmap=plt.cm.gray)\n",
    "plt.axis(\"off\");"
   ]
  },
  {
   "cell_type": "markdown",
   "metadata": {
    "id": "FUvOu5W9TtF6"
   },
   "source": [
    "### we are going to reconstruct this image using a few eigenfaces.."
   ]
  },
  {
   "cell_type": "code",
   "execution_count": null,
   "metadata": {
    "id": "L5SAffgcTtF6",
    "outputId": "2638f90b-ccd7-46fd-f2af-b0172d55714d"
   },
   "outputs": [],
   "source": [
    "plt.figure(figsize=(15, 40))\n",
    "j = 1\n",
    "k_range = [5, 50, 100, 300, 1000, 2000, Vt.shape[0]]\n",
    "for k in k_range:\n",
    "    plt.subplot(1, len(k_range), j)\n",
    "    j += 1\n",
    "    reconstructed = mean_face + alpha[:k] @ Vt[:k, :]\n",
    "    plt.imshow(reconstructed.reshape(h, w), cmap=plt.cm.gray)\n",
    "    plt.axis(\"off\")\n",
    "    plt.title(\"k = \" + str(k))"
   ]
  },
  {
   "cell_type": "markdown",
   "metadata": {
    "id": "28WJ7Kz-TtF6"
   },
   "source": [
    "### \"Folding in\" new images\n",
    "\n",
    "We can project an image $\\mathbf{x}'$ _outside_ our matrix $X$ onto the same space and compute its coefficients using the transformation $$\\mathbf{\\alpha}' = \\mathbf{x}'  V$$ \n",
    "\n",
    "This way we can represent\n",
    "any vector as the linear combination of eigenfaces; using the same trick as above we can reconstruct it using the truncated space"
   ]
  },
  {
   "cell_type": "code",
   "execution_count": null,
   "metadata": {
    "id": "88fzMJrJTtF6",
    "outputId": "c8042ed3-e425-4ad5-95b7-07a07d1845a3"
   },
   "outputs": [],
   "source": [
    "# pick an image outside X\n",
    "\n",
    "image = Image.open(\"Aaron_Eckhart_0001.jpg\")\n",
    "image = image.crop((60, 25, 185, 200))\n",
    "image = image.resize((w, h))\n",
    "plt.imshow(image)\n",
    "\n",
    "A = np.array(image).mean(axis=2)\n",
    "\n",
    "new_x = A.reshape(1, -1) - mean_face\n",
    "new_alpha = new_x @ Vt.T\n",
    "new_alpha = new_alpha.reshape(-1)"
   ]
  },
  {
   "cell_type": "code",
   "execution_count": null,
   "metadata": {
    "id": "xYn23qplTtF6",
    "outputId": "a484cf9d-1001-4e66-a151-a3dbdb8e3bbe"
   },
   "outputs": [],
   "source": [
    "plt.figure(figsize=(15, 40))\n",
    "j = 1\n",
    "k_range = [5, 50, 100, 300, 1000, 2000, Vt.shape[0]]\n",
    "for k in k_range:\n",
    "    plt.subplot(1, len(k_range), j)\n",
    "    j += 1\n",
    "    reconstructed = mean_face + new_alpha[:k] @ Vt[:k, :]\n",
    "    plt.imshow(reconstructed.reshape(h, w), cmap=plt.cm.gray)\n",
    "    plt.title(\"k = \" + str(k))\n",
    "    plt.axis(\"off\")"
   ]
  },
  {
   "cell_type": "markdown",
   "metadata": {
    "id": "Ydaj8azmTtF6"
   },
   "source": [
    "### Using our svd as visualization tool\n",
    "\n",
    "Finally, project all observations down to 2D for visualization using two coefficients (not necessarily the first two)\n",
    "\n",
    "We are going to pick two different people (with several images each) from our database, and project them onto 2D; let us see if faces from same people fall in similar regions.\n",
    "\n",
    "We have selected 'Naomi Watts' and 'Bill Gates' since they seem different enough and have many images each."
   ]
  },
  {
   "cell_type": "code",
   "execution_count": null,
   "metadata": {
    "id": "cINFZZ9jTtF6",
    "outputId": "69ea251a-d35a-42ae-dbe8-9da40fe2053d"
   },
   "outputs": [],
   "source": [
    "# find images from a name\n",
    "watts_pos = np.where(faces.target_names == \"Naomi Watts\")[0][0]\n",
    "gates_pos = np.where(faces.target_names == \"Bill Gates\")[0][0]\n",
    "\n",
    "# print(watts_pos, gates_pos)\n",
    "\n",
    "watts_idx = np.where(faces.target == watts_pos)[0]\n",
    "gates_idx = np.where(faces.target == gates_pos)[0]\n",
    "\n",
    "# print(f'Naomi in rows: {watts_idx}')\n",
    "# print(f'Gates in rows: {gates_idx}')\n",
    "\n",
    "print(\n",
    "    f\"Found {len(watts_idx)} images of Naomi Watts; {len(gates_idx)} images from Bill Gates\"\n",
    ")"
   ]
  },
  {
   "cell_type": "code",
   "execution_count": null,
   "metadata": {
    "id": "pku0R2RUTtF6",
    "outputId": "c4019142-a12a-4435-c1f3-7f0a83875cf5"
   },
   "outputs": [],
   "source": [
    "# show random images from both persons\n",
    "import random\n",
    "\n",
    "\n",
    "def show_pics(flist, k):\n",
    "    plt.figure(figsize=(15, 40))\n",
    "    for i, idx in enumerate(random.sample(list(flist), k)):\n",
    "        plt.subplot(1, k, i + 1)\n",
    "        plt.imshow(faces.images[idx, :, :], cmap=plt.cm.gray)\n",
    "        plt.axis(\"off\")\n",
    "\n",
    "\n",
    "show_pics(watts_idx, 5)\n",
    "show_pics(gates_idx, 5)"
   ]
  },
  {
   "cell_type": "code",
   "execution_count": null,
   "metadata": {
    "id": "a9XpOHbiTtF6"
   },
   "outputs": [],
   "source": [
    "# get coordinates for both using 2 eigenfaces\n",
    "eigen_modes = [4, 10]\n",
    "\n",
    "\n",
    "def get_coord(flist):\n",
    "    res = np.zeros((len(flist), 2))\n",
    "    for i, idx in enumerate(list(flist)):\n",
    "        x = faces.images[idx, :, :].reshape(1, -1) - mean_face\n",
    "        alpha = (x @ Vt.T).reshape(-1)\n",
    "        res[i, :] = alpha[eigen_modes]\n",
    "    return res\n",
    "\n",
    "\n",
    "naomi = get_coord(watts_idx)\n",
    "bill = get_coord(gates_idx)"
   ]
  },
  {
   "cell_type": "code",
   "execution_count": null,
   "metadata": {
    "id": "nNUZgDrETtF6",
    "outputId": "4ef45066-63e4-4ea4-ab78-39ed906aef24"
   },
   "outputs": [],
   "source": [
    "# plot them in 2D\n",
    "plt.plot(naomi[:, 0], naomi[:, 1], \".\", color=\"m\", label=\"Naomi Watts\")\n",
    "plt.plot(bill[:, 0], bill[:, 1], \"x\", color=\"b\", label=\"Bill Gates\")\n",
    "plt.axis(\"off\")\n",
    "plt.legend()"
   ]
  },
  {
   "cell_type": "code",
   "execution_count": null,
   "metadata": {
    "id": "X-KIjx_pTtF7"
   },
   "outputs": [],
   "source": []
  }
 ],
 "metadata": {
  "colab": {
   "provenance": []
  },
  "kernelspec": {
   "display_name": "base",
   "language": "python",
   "name": "python3"
  },
  "language_info": {
   "codemirror_mode": {
    "name": "ipython",
    "version": 3
   },
   "file_extension": ".py",
   "mimetype": "text/x-python",
   "name": "python",
   "nbconvert_exporter": "python",
   "pygments_lexer": "ipython3",
   "version": "3.6.10"
  },
  "latex_envs": {
   "LaTeX_envs_menu_present": true,
   "autoclose": false,
   "autocomplete": true,
   "bibliofile": "biblio.bib",
   "cite_by": "apalike",
   "current_citInitial": 1,
   "eqLabelWithNumbers": true,
   "eqNumInitial": 1,
   "hotkeys": {
    "equation": "Ctrl-E",
    "itemize": "Ctrl-I"
   },
   "labels_anchors": false,
   "latex_user_defs": false,
   "report_style_numbering": false,
   "user_envs_cfg": false
  },
  "toc": {
   "base_numbering": 1,
   "nav_menu": {},
   "number_sections": true,
   "sideBar": true,
   "skip_h1_title": false,
   "title_cell": "Table of Contents",
   "title_sidebar": "Contents",
   "toc_cell": false,
   "toc_position": {
    "height": "calc(100% - 180px)",
    "left": "10px",
    "top": "150px",
    "width": "316px"
   },
   "toc_section_display": true,
   "toc_window_display": true
  },
  "vscode": {
   "interpreter": {
    "hash": "36bc7f9a9055f480cb73d8ea486ac439fe390d5591cca9e08d0b9b0f17fdecc4"
   }
  }
 },
 "nbformat": 4,
 "nbformat_minor": 0
}
