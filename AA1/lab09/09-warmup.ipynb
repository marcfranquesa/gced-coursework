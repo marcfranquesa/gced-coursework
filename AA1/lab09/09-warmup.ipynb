{
 "cells": [
  {
   "attachments": {},
   "cell_type": "markdown",
   "metadata": {},
   "source": [
    "# AA1 lab 09 -- warm up towards SVMs"
   ]
  },
  {
   "cell_type": "code",
   "execution_count": null,
   "metadata": {},
   "outputs": [],
   "source": [
    "import numpy as np\n",
    "import matplotlib.pyplot as plt\n",
    "from sklearn.datasets import make_classification\n",
    "from sklearn.linear_model import Perceptron, LogisticRegression\n",
    "from sklearn.svm import SVC\n",
    "from sklearn.model_selection import train_test_split\n",
    "from sklearn.metrics import accuracy_score"
   ]
  },
  {
   "cell_type": "code",
   "execution_count": null,
   "metadata": {},
   "outputs": [],
   "source": [
    "# Generate synthetic 2D classification data\n",
    "X, y = make_classification(\n",
    "    n_samples=60,\n",
    "    n_features=2,\n",
    "    n_redundant=0,\n",
    "    n_clusters_per_class=1,\n",
    "    random_state=42,\n",
    "    hypercube=True,\n",
    "    class_sep=1.5,\n",
    ")\n",
    "\n",
    "# Split data into training and validation sets\n",
    "X_train, X_val, y_train, y_val = train_test_split(X, y, test_size=0.5, random_state=42)\n",
    "\n",
    "# Train Perceptron\n",
    "perceptron = Perceptron()\n",
    "perceptron.fit(X_train, y_train)\n",
    "\n",
    "# Train Linear SVM\n",
    "svm = SVC(kernel=\"linear\", C=10**10)\n",
    "svm.fit(X_train, y_train)\n",
    "\n",
    "# Train Logistic Regression\n",
    "log_reg = LogisticRegression()\n",
    "log_reg.fit(X_train, y_train)\n",
    "\n",
    "\n",
    "# Plot decision boundaries\n",
    "def plot_decision_boundary(model, model_name):\n",
    "    h = 0.02\n",
    "    x_min, x_max = X[:, 0].min() - 1, X[:, 0].max() + 1\n",
    "    y_min, y_max = X[:, 1].min() - 1, X[:, 1].max() + 1\n",
    "    xx, yy = np.meshgrid(np.arange(x_min, x_max, h), np.arange(y_min, y_max, h))\n",
    "    Z = model.predict(np.c_[xx.ravel(), yy.ravel()])\n",
    "    Z = Z.reshape(xx.shape)\n",
    "\n",
    "    fig, axs = plt.subplots(1, 2, figsize=(6, 3))\n",
    "\n",
    "    # Scatter plot 1\n",
    "    axs[0].contourf(xx, yy, Z, alpha=0.6)\n",
    "    axs[0].scatter(\n",
    "        X_train[:, 0], X_train[:, 1], c=y_train, edgecolors=\"k\", cmap=plt.cm.Paired\n",
    "    )\n",
    "    axs[0].set_title(\n",
    "        f\"{model_name}\\ntraining accuracy: {accuracy_score(y_train, model.predict(X_train)):.3f}\"\n",
    "    )\n",
    "\n",
    "    # Scatter plot 2\n",
    "    axs[1].contourf(xx, yy, Z, alpha=0.6)\n",
    "    axs[1].scatter(\n",
    "        X_val[:, 0],\n",
    "        X_val[:, 1],\n",
    "        c=y_val,\n",
    "        edgecolors=\"k\",\n",
    "        marker=\"s\",\n",
    "        cmap=plt.cm.Paired,\n",
    "    )\n",
    "    axs[1].set_title(\n",
    "        f\"{model_name}\\nvalidation accuracy: {accuracy_score(y_val, model.predict(X_val)):.3f}\"\n",
    "    )\n",
    "\n",
    "    # Adjust layout and display the plot\n",
    "    plt.tight_layout()\n",
    "    plt.show()\n",
    "\n",
    "\n",
    "# Plot decision boundaries and scatter plot for each model\n",
    "plot_decision_boundary(perceptron, f\"Perceptron\")\n",
    "plot_decision_boundary(svm, f\"Linear SVM\")\n",
    "plot_decision_boundary(log_reg, f\"Logistic Regression\")"
   ]
  },
  {
   "cell_type": "markdown",
   "metadata": {},
   "source": [
    "### Suggested exercises:\n",
    "\n",
    "- Play around with the previous script changing the data generated and see how this affects the different decision boundaries of the three linear classifiers compared\n",
    "\n",
    "- Figure out the relationship between `Perceptron`, `Linear SVM`, and `Logistic regression` in the context of the [SGDClassifier](https://scikit-learn.org/stable/modules/generated/sklearn.linear_model.SGDClassifier.html#sklearn.linear_model.SGDClassifier) of `scikit-learn`\n",
    "\n",
    "- Rewrite the previous script using only the `SGDClassifier` with appropriate parameters to obtain the three models presented here"
   ]
  }
 ],
 "metadata": {
  "kernelspec": {
   "display_name": "Python 3",
   "language": "python",
   "name": "python3"
  },
  "language_info": {
   "codemirror_mode": {
    "name": "ipython",
    "version": 3
   },
   "file_extension": ".py",
   "mimetype": "text/x-python",
   "name": "python",
   "nbconvert_exporter": "python",
   "pygments_lexer": "ipython3",
   "version": "3.8.12"
  },
  "toc": {
   "base_numbering": 1,
   "nav_menu": {},
   "number_sections": true,
   "sideBar": true,
   "skip_h1_title": false,
   "title_cell": "Table of Contents",
   "title_sidebar": "Contents",
   "toc_cell": false,
   "toc_position": {
    "height": "calc(100% - 180px)",
    "left": "10px",
    "top": "150px",
    "width": "218.969px"
   },
   "toc_section_display": true,
   "toc_window_display": true
  }
 },
 "nbformat": 4,
 "nbformat_minor": 4
}
