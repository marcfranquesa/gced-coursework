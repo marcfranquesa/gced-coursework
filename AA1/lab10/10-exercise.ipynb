{
 "cells": [
  {
   "cell_type": "markdown",
   "metadata": {},
   "source": [
    "# Clustering: Practical Exercise"
   ]
  },
  {
   "cell_type": "code",
   "execution_count": null,
   "metadata": {
    "ExecuteTime": {
     "end_time": "2020-07-15T10:01:43.071212Z",
     "start_time": "2020-07-15T10:01:43.069261Z"
    }
   },
   "outputs": [],
   "source": [
    "# Uncomment to upgrade packages\n",
    "# !pip install pandas --upgrade --user --quiet\n",
    "# !pip install numpy --upgrade --user --quiet\n",
    "# !pip install scipy --upgrade --user --quiet\n",
    "# !pip install statsmodels --upgrade --user --quiet\n",
    "# !pip install scikit-learn --upgrade --user --quiet\n",
    "# !pip install matplotlib --upgrade --user --quiet"
   ]
  },
  {
   "cell_type": "code",
   "execution_count": null,
   "metadata": {
    "ExecuteTime": {
     "end_time": "2020-07-15T10:01:43.448529Z",
     "start_time": "2020-07-15T10:01:43.073403Z"
    }
   },
   "outputs": [],
   "source": [
    "from IPython.core.interactiveshell import InteractiveShell\n",
    "InteractiveShell.ast_node_interactivity = \"all\""
   ]
  },
  {
   "cell_type": "markdown",
   "metadata": {},
   "source": [
    "Now we are going to explore a dataset of customers from a Wholesale distributor taken from the UCI Machine Learning Repository (https://archive.ics.uci.edu/ml/datasets/Wholesale+customers) using the clustering algorithms that we have seen in the lab session.\n",
    "\n",
    "We have the data as a csv file among the files of this session, we can load it this way:"
   ]
  },
  {
   "cell_type": "code",
   "execution_count": null,
   "metadata": {
    "ExecuteTime": {
     "end_time": "2020-07-15T10:01:43.603365Z",
     "start_time": "2020-07-15T10:01:43.450129Z"
    }
   },
   "outputs": [],
   "source": [
    "import pandas as pd\n",
    "import matplotlib.pyplot as plt\n",
    "from mpl_toolkits.mplot3d import Axes3D\n"
   ]
  },
  {
   "cell_type": "code",
   "execution_count": null,
   "metadata": {
    "ExecuteTime": {
     "end_time": "2020-07-15T10:01:43.618210Z",
     "start_time": "2020-07-15T10:01:43.604901Z"
    }
   },
   "outputs": [],
   "source": [
    "wholesale =  pd.read_csv(\"Wholesale customers data.csv\", sep=',')"
   ]
  },
  {
   "cell_type": "markdown",
   "metadata": {},
   "source": [
    "These are the dimensions of the dataset and the names of the variables"
   ]
  },
  {
   "cell_type": "code",
   "execution_count": null,
   "metadata": {
    "ExecuteTime": {
     "end_time": "2020-07-15T10:01:43.726952Z",
     "start_time": "2020-07-15T10:01:43.619413Z"
    }
   },
   "outputs": [],
   "source": [
    "wholesale.shape\n",
    "wholesale.columns"
   ]
  },
  {
   "cell_type": "markdown",
   "metadata": {},
   "source": [
    "According to the documentation the variables **channel** and **region** are categorical, so we will convert them to the categorical data type and we will use the labels that appear on the documentation"
   ]
  },
  {
   "cell_type": "code",
   "execution_count": null,
   "metadata": {
    "ExecuteTime": {
     "end_time": "2020-07-15T10:01:43.833966Z",
     "start_time": "2020-07-15T10:01:43.728977Z"
    }
   },
   "outputs": [],
   "source": [
    "wholesale.Channel = wholesale.Channel.replace([1,2],['horeca', 'retail']).astype('category')\n",
    "wholesale.Region = wholesale.Region.replace([1,2,3],['Lisbon', 'Oporto', 'Other']).astype('category')\n",
    "\n",
    "wholesale.dtypes"
   ]
  },
  {
   "cell_type": "markdown",
   "metadata": {},
   "source": [
    "As usual we will start with the descriptive statistics of the data"
   ]
  },
  {
   "cell_type": "code",
   "execution_count": null,
   "metadata": {
    "ExecuteTime": {
     "end_time": "2020-07-15T10:01:44.009405Z",
     "start_time": "2020-07-15T10:01:43.835375Z"
    }
   },
   "outputs": [],
   "source": [
    "wholesale.describe(include='all')"
   ]
  },
  {
   "cell_type": "markdown",
   "metadata": {},
   "source": [
    "And also some plots of the variables to chech their distribution and to spot outliers or skewed distributions."
   ]
  },
  {
   "cell_type": "code",
   "execution_count": null,
   "metadata": {
    "ExecuteTime": {
     "end_time": "2020-07-15T10:01:44.370280Z",
     "start_time": "2020-07-15T10:01:44.010904Z"
    }
   },
   "outputs": [],
   "source": [
    "wholesale.hist(bins=20,figsize=(10,10));"
   ]
  },
  {
   "cell_type": "code",
   "execution_count": null,
   "metadata": {
    "ExecuteTime": {
     "end_time": "2020-07-15T10:02:15.097908Z",
     "start_time": "2020-07-15T10:02:15.035839Z"
    }
   },
   "outputs": [],
   "source": [
    "fig = plt.figure(figsize=(8,8))\n",
    "wholesale.boxplot(figsize=(10,10));"
   ]
  },
  {
   "cell_type": "markdown",
   "metadata": {},
   "source": [
    "You will see that there are some extreme values that skew the distributions (basically outliers).\n",
    "\n",
    "Are these values from the same example? Check it doing queries to the dataframe like this one"
   ]
  },
  {
   "cell_type": "code",
   "execution_count": null,
   "metadata": {
    "ExecuteTime": {
     "end_time": "2020-07-15T10:02:20.140714Z",
     "start_time": "2020-07-15T10:02:20.131509Z"
    }
   },
   "outputs": [],
   "source": [
    "wholesale[wholesale.Fresh>80000]"
   ]
  },
  {
   "attachments": {},
   "cell_type": "markdown",
   "metadata": {},
   "source": [
    "You can consider removing some of these examples with extreme values"
   ]
  },
  {
   "cell_type": "markdown",
   "metadata": {},
   "source": [
    "# Visualizing patterns"
   ]
  },
  {
   "cell_type": "markdown",
   "metadata": {},
   "source": [
    "We can not visualize all the variables at the same time, but we can visualize pairs of variables to see if there are clusters of examples.\n",
    "\n",
    "This is no guarantee that there are clusters on more dimensions, but until we learn how to transform multidimensional data to two or three dimensions it will do\n",
    "\n",
    "Visualize different groups of variables and check if outliers are still a problem"
   ]
  },
  {
   "cell_type": "code",
   "execution_count": null,
   "metadata": {
    "ExecuteTime": {
     "end_time": "2020-07-15T10:02:21.902589Z",
     "start_time": "2020-07-15T10:02:21.385774Z"
    }
   },
   "outputs": [],
   "source": [
    "from pandas.plotting import scatter_matrix\n",
    "\n",
    "scatter_matrix(wholesale.loc[:,['Fresh','Frozen','Detergents_Paper']],\n",
    "alpha=0.2, figsize=(12, 12),\n",
    "diagonal='kde', marker='o');"
   ]
  },
  {
   "cell_type": "markdown",
   "metadata": {},
   "source": [
    "We can also make some 3D visualizations.\n",
    "\n",
    "Check also for remaining outliers."
   ]
  },
  {
   "cell_type": "code",
   "execution_count": null,
   "metadata": {
    "ExecuteTime": {
     "end_time": "2020-07-15T10:02:22.229002Z",
     "start_time": "2020-07-15T10:02:22.201406Z"
    }
   },
   "outputs": [],
   "source": [
    "fig = plt.figure(figsize=(8,8))\n",
    "ax = fig.add_subplot(111, projection='3d')\n",
    "plt.scatter(wholesale['Fresh'], wholesale['Frozen'], zs=wholesale['Detergents_Paper'], depthshade=False, s=100);\n"
   ]
  },
  {
   "cell_type": "markdown",
   "metadata": {},
   "source": [
    "# Clustering"
   ]
  },
  {
   "cell_type": "code",
   "execution_count": null,
   "metadata": {
    "ExecuteTime": {
     "end_time": "2020-07-15T10:02:23.220116Z",
     "start_time": "2020-07-15T10:02:23.137206Z"
    }
   },
   "outputs": [],
   "source": [
    "from sklearn.cluster import KMeans\n",
    "from sklearn.mixture import GaussianMixture"
   ]
  },
  {
   "cell_type": "markdown",
   "metadata": {},
   "source": [
    "Now we can try to partition the data using the two clustering algorithms that we have seen in this session, but first we will generate a dataset without the categorical variables because we can not use it with these algorithms and also maybe these variables are related with the clusters in the data, so we do not want to make it easy for the algorithms :-)"
   ]
  },
  {
   "cell_type": "code",
   "execution_count": null,
   "metadata": {
    "ExecuteTime": {
     "end_time": "2020-07-15T10:02:24.085450Z",
     "start_time": "2020-07-15T10:02:24.082167Z"
    }
   },
   "outputs": [],
   "source": [
    "newwholesale = wholesale.drop(columns=['Channel', 'Region'])"
   ]
  },
  {
   "cell_type": "code",
   "execution_count": null,
   "metadata": {
    "ExecuteTime": {
     "end_time": "2020-07-15T10:02:24.512987Z",
     "start_time": "2020-07-15T10:02:24.488592Z"
    }
   },
   "outputs": [],
   "source": [
    "newwholesale.describe()"
   ]
  },
  {
   "cell_type": "markdown",
   "metadata": {},
   "source": [
    "Now is your time to find clusters in the data\n",
    "\n",
    "- Review the notebook of this session and replicate the code to assess how many clusters are adequate for this data using K-means\n",
    "    - Explore a range of number of clusters  and save the Kalinski-Harabasz index for each number of clusters\n",
    "    - Plot the number of clusters vs the index and see if there is a number of clusters that seems more adequate\n",
    "- Use the EM algortihm with the best number of clusters and find a clustering for the data using the \"diag\" and \"full\" covariance\n",
    "- Extract the assigments of the best solutions for k-means and EM, create a dataframe with them and use the crosstab function to compute a contingecy table of the assignments. Do the partitions from both methods agree?\n",
    "\n"
   ]
  }
 ],
 "metadata": {
  "kernelspec": {
   "display_name": "Python 3",
   "language": "python",
   "name": "python3"
  },
  "language_info": {
   "codemirror_mode": {
    "name": "ipython",
    "version": 3
   },
   "file_extension": ".py",
   "mimetype": "text/x-python",
   "name": "python",
   "nbconvert_exporter": "python",
   "pygments_lexer": "ipython3",
   "version": "3.10.9"
  },
  "latex_envs": {
   "LaTeX_envs_menu_present": true,
   "autoclose": false,
   "autocomplete": true,
   "bibliofile": "biblio.bib",
   "cite_by": "apalike",
   "current_citInitial": 1,
   "eqLabelWithNumbers": true,
   "eqNumInitial": 1,
   "hotkeys": {
    "equation": "Ctrl-E",
    "itemize": "Ctrl-I"
   },
   "labels_anchors": false,
   "latex_user_defs": false,
   "report_style_numbering": false,
   "user_envs_cfg": false
  },
  "toc": {
   "base_numbering": 1,
   "nav_menu": {},
   "number_sections": false,
   "sideBar": false,
   "skip_h1_title": false,
   "title_cell": "Table of Contents",
   "title_sidebar": "Contents",
   "toc_cell": false,
   "toc_position": {},
   "toc_section_display": false,
   "toc_window_display": false
  }
 },
 "nbformat": 4,
 "nbformat_minor": 4
}
