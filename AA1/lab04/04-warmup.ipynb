{
 "cells": [
  {
   "cell_type": "markdown",
   "metadata": {
    "id": "_bB6LN1u3xOn"
   },
   "source": [
    "# Simple example illustrating basic aspects of ridge linear regression"
   ]
  },
  {
   "cell_type": "code",
   "execution_count": null,
   "metadata": {
    "ExecuteTime": {
     "end_time": "2020-07-24T10:46:36.102809Z",
     "start_time": "2020-07-24T10:46:36.072899Z"
    },
    "id": "ZT-6k9BK3xOp"
   },
   "outputs": [],
   "source": [
    "# Uncomment to upgrade packages\n",
    "#!pip3 install pandas --upgrade --user --quiet\n",
    "#!pip3 install numpy --upgrade --user --quiet\n",
    "#!pip3 install scikit-learn --upgrade --user --quiet"
   ]
  },
  {
   "cell_type": "code",
   "execution_count": null,
   "metadata": {
    "ExecuteTime": {
     "end_time": "2020-07-24T10:46:37.283749Z",
     "start_time": "2020-07-24T10:46:36.952293Z"
    },
    "id": "LdkmvYfG3xOx"
   },
   "outputs": [],
   "source": [
    "import numpy as np\n",
    "import pandas as pd\n",
    "\n",
    "pd.set_option(\"display.precision\", 4)"
   ]
  },
  {
   "cell_type": "markdown",
   "metadata": {},
   "source": [
    "## 1. Load `murders.txt` data from class"
   ]
  },
  {
   "cell_type": "code",
   "execution_count": null,
   "metadata": {
    "id": "ZxilZq_CNJ-X"
   },
   "outputs": [],
   "source": [
    "df = pd.read_csv(\"murders.txt\", sep=\" \")\n",
    "df[\"x_0\"] = 1\n",
    "print(df)"
   ]
  },
  {
   "cell_type": "code",
   "execution_count": null,
   "metadata": {},
   "outputs": [],
   "source": [
    "# put data into X matrix and y column\n",
    "\n",
    "X = df[[\"x_0\", \"inhabitants\", \"poverty\", \"unemployment\"]].to_numpy()\n",
    "y = df[[\"murders\"]].to_numpy()\n",
    "\n",
    "print(X.shape, y.shape)"
   ]
  },
  {
   "cell_type": "markdown",
   "metadata": {},
   "source": [
    "## 2. Train/test split for later validation"
   ]
  },
  {
   "cell_type": "code",
   "execution_count": null,
   "metadata": {},
   "outputs": [],
   "source": [
    "from sklearn.model_selection import train_test_split\n",
    "\n",
    "X_train, X_test, y_train, y_test = train_test_split(\n",
    "    X, y, test_size=0.33, random_state=0\n",
    ")\n",
    "\n",
    "print(X_train.shape, y_train.shape)\n",
    "print(X_test.shape, y_test.shape)"
   ]
  },
  {
   "cell_type": "markdown",
   "metadata": {},
   "source": [
    "## 3. Preprocessing: first normalize training set, then apply same transformation to test"
   ]
  },
  {
   "cell_type": "code",
   "execution_count": null,
   "metadata": {},
   "outputs": [],
   "source": [
    "from sklearn import preprocessing\n",
    "\n",
    "scaler = preprocessing.StandardScaler().fit(\n",
    "    X_train\n",
    ")  # computes means and stdevs for each column in X_train\n",
    "X_train_scaled = scaler.transform(\n",
    "    X_train\n",
    ")  # substracts mean and divides by stdev (estimated from training)\n",
    "X_test_scaled = scaler.transform(\n",
    "    X_test\n",
    ")  # substracts mean and divides by stdev (estimated from training)\n",
    "\n",
    "X_train_scaled[:, 0] = 1  # undo transformation for all-1 column\n",
    "X_test_scaled[:, 0] = 1  # undo transformation for all-1 column\n",
    "\n",
    "print(X_train_scaled.mean(axis=0))\n",
    "print(X_test_scaled.mean(axis=0))"
   ]
  },
  {
   "cell_type": "markdown",
   "metadata": {},
   "source": [
    "__Question__: why are means for X_test_scaled not zero? and for X_train_scaled?"
   ]
  },
  {
   "cell_type": "markdown",
   "metadata": {},
   "source": [
    "## 4. Train ridge regression model for several $\\lambda$ values\n",
    "\n",
    "As explained in class, for each value of $\\lambda$ that we want to try, \n",
    "we use _maximum a posteriori_ method to find linear coefficients $\\theta_0, \\theta_1, ..$:\n",
    "\n",
    "$$\\theta_{ridge} = (X^T X + \\lambda I)^{-1} X^T y$$"
   ]
  },
  {
   "cell_type": "markdown",
   "metadata": {},
   "source": [
    "### train model, using formulas from slides\n",
    "\n",
    "1. For each $\\lambda\\in\\Lambda$:\n",
    "    - compute optimal solution $\\hat{\\mathbf{\\theta}}_{\\lambda} = (\\mathbf{X}^T\\mathbf{X} + \\lambda I)^{-1}\\mathbf{X}^T\\mathbf{y}$ \n",
    "    - compute \"hat\" matrix $H_{\\lambda} = \\mathbf{X}(\\mathbf{X}^T\\mathbf{X} + \\lambda I)^{-1}\\mathbf{X}^T$\n",
    "    - compute loocv directly for each $\\lambda$ (no need to use folds etc.):\n",
    "\n",
    "    $$loocv(\\lambda) = \\frac{1}{n} \\sum_{i=1}^n \\left( \\frac{y_i - \\mathbf{x}_i \\mathbf{\\theta}_{\\lambda}}{1 - h_{ii}}  \\right)^2$$\n",
    "    \n",
    "2. Return $\\lambda$ with minimum *loocv*\n"
   ]
  },
  {
   "cell_type": "code",
   "execution_count": null,
   "metadata": {},
   "outputs": [],
   "source": [
    "from sklearn.metrics import mean_squared_error\n",
    "\n",
    "lambdas = np.logspace(start=-4, stop=1.1, num=100, base=10.0)\n",
    "results = []\n",
    "X = X_train_scaled.copy()\n",
    "y = y_train.copy()\n",
    "n = y.shape[0]\n",
    "d = X.shape[1]\n",
    "\n",
    "for l in lambdas:\n",
    "    XtX = X.T @ X\n",
    "    XtX_inv = np.linalg.inv(XtX + l * np.identity(n=d))\n",
    "    coefs = (XtX_inv) @ X.T @ y\n",
    "    hatmat = X @ XtX_inv @ X.T\n",
    "    trace_hatmat = np.trace(hatmat)\n",
    "    y_pred = X @ coefs\n",
    "    loocv = (\n",
    "        1\n",
    "        / n\n",
    "        * np.sum([((y[i] - y_pred[i]) / (1 - hatmat[i, i])) ** 2 for i in range(n)])\n",
    "    )\n",
    "    mse = mean_squared_error(y, y_pred)\n",
    "    gcv = mse / (1 - trace_hatmat / n) ** 2\n",
    "    results.append([l, mse, loocv, gcv])\n",
    "\n",
    "df = pd.DataFrame(results, columns=[\"lambda\", \"training_mse\", \"loocv\", \"gcv\"])\n",
    "df.sort_values(by=\"loocv\")"
   ]
  },
  {
   "cell_type": "code",
   "execution_count": null,
   "metadata": {},
   "outputs": [],
   "source": [
    "df.plot(kind=\"line\", x=\"lambda\");"
   ]
  },
  {
   "cell_type": "markdown",
   "metadata": {},
   "source": [
    "### select best lambda according to loocv; re-train on the whole training set to obtain model using best lambda"
   ]
  },
  {
   "cell_type": "code",
   "execution_count": null,
   "metadata": {},
   "outputs": [],
   "source": [
    "best_lambda = df.loc[df[\"loocv\"].idxmin()][\"lambda\"]\n",
    "\n",
    "print(f\"best lambda value: {best_lambda:.4f}\")\n",
    "\n",
    "# apply formula with \"best lambda\"\n",
    "theta_vector = (\n",
    "    np.linalg.inv(X_train_scaled.T @ X_train_scaled + best_lambda * np.identity(n=d))\n",
    "    @ X_train_scaled.T\n",
    "    @ y\n",
    ")"
   ]
  },
  {
   "cell_type": "markdown",
   "metadata": {},
   "source": [
    "### as a sanity check, see what RidgeRegressionCV from scikit-learn obtains as best lambda"
   ]
  },
  {
   "cell_type": "code",
   "execution_count": null,
   "metadata": {},
   "outputs": [],
   "source": [
    "from sklearn.linear_model import RidgeCV\n",
    "\n",
    "print(f\"there are {X_train_scaled.shape[0]} training examples.\")\n",
    "results = []\n",
    "for k in range(2, 6 + 1):\n",
    "    ridge = RidgeCV(alphas=lambdas, fit_intercept=False, cv=k)  # k-fold cross-val\n",
    "    clf = ridge.fit(X_train_scaled, y_train)\n",
    "    results.append([k, clf.alpha_])\n",
    "\n",
    "## \"efficient\"  way:\n",
    "ridge = RidgeCV(alphas=lambdas, fit_intercept=False, cv=None)\n",
    "clf = ridge.fit(X_train_scaled, y_train)\n",
    "results.append([\"efficient\", clf.alpha_])\n",
    "\n",
    "pd.DataFrame(results, columns=[\"cross-val method (k)\", \"best lambda\"])"
   ]
  },
  {
   "cell_type": "markdown",
   "metadata": {},
   "source": [
    "## 4. Test trained linear model to predict `murders` on __unseen data__  (test partition)"
   ]
  },
  {
   "cell_type": "code",
   "execution_count": null,
   "metadata": {},
   "outputs": [],
   "source": [
    "# make predictions on unseen test points (from test partition)\n",
    "y_pred = X_test_scaled @ theta_vector\n",
    "\n",
    "# compute squared error for each example\n",
    "abs_error = np.abs(y_pred - y_test)\n",
    "sq_error = np.square(y_pred - y_test)\n",
    "\n",
    "# show them in table\n",
    "dict_data = {\n",
    "    \"target\": y_test.ravel(),\n",
    "    \"pred\": y_pred.ravel(),\n",
    "    \"abs_error\": abs_error.ravel(),\n",
    "    \"squared_error\": sq_error.ravel(),\n",
    "}\n",
    "df = pd.DataFrame.from_dict(dict_data)\n",
    "print(df)\n",
    "\n",
    "print(f\"\\nThe TEST mean squared error is: {mean_squared_error(y_pred, y_test)}\")"
   ]
  },
  {
   "cell_type": "code",
   "execution_count": null,
   "metadata": {},
   "outputs": [],
   "source": [
    "ax = df.plot.scatter(x=\"target\", y=\"pred\", c=\"abs_error\")\n",
    "ax.axis(\"equal\");"
   ]
  }
 ],
 "metadata": {
  "colab": {
   "provenance": [],
   "toc_visible": true
  },
  "kernelspec": {
   "display_name": "base",
   "language": "python",
   "name": "python3"
  },
  "language_info": {
   "codemirror_mode": {
    "name": "ipython",
    "version": 3
   },
   "file_extension": ".py",
   "mimetype": "text/x-python",
   "name": "python",
   "nbconvert_exporter": "python",
   "pygments_lexer": "ipython3",
   "version": "3.10.9"
  },
  "latex_envs": {
   "LaTeX_envs_menu_present": true,
   "autoclose": false,
   "autocomplete": true,
   "bibliofile": "biblio.bib",
   "cite_by": "apalike",
   "current_citInitial": 1,
   "eqLabelWithNumbers": true,
   "eqNumInitial": 1,
   "hotkeys": {
    "equation": "Ctrl-E",
    "itemize": "Ctrl-I"
   },
   "labels_anchors": false,
   "latex_user_defs": false,
   "report_style_numbering": false,
   "user_envs_cfg": false
  },
  "toc": {
   "base_numbering": 1,
   "nav_menu": {},
   "number_sections": true,
   "sideBar": true,
   "skip_h1_title": false,
   "title_cell": "Table of Contents",
   "title_sidebar": "Contents",
   "toc_cell": false,
   "toc_position": {
    "height": "calc(100% - 180px)",
    "left": "10px",
    "top": "150px",
    "width": "165px"
   },
   "toc_section_display": true,
   "toc_window_display": true
  },
  "vscode": {
   "interpreter": {
    "hash": "36bc7f9a9055f480cb73d8ea486ac439fe390d5591cca9e08d0b9b0f17fdecc4"
   }
  }
 },
 "nbformat": 4,
 "nbformat_minor": 0
}
