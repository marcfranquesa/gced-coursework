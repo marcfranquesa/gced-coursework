{
 "cells": [
  {
   "cell_type": "markdown",
   "id": "polished-gospel",
   "metadata": {
    "id": "polished-gospel"
   },
   "source": [
    "# Linear Regression Exercise\n",
    "\n",
    "## Use linear regression on the *bodyfat* dataset\n",
    "\n",
    "We are going to follow the same pipeline than in the lab session but now with a simple dataset.  \n",
    "\n",
    "- [ ] Visualize your dataset. Does it have anything strange?\n",
    "- [ ] Split your dataset in train and test. \n",
    "- [ ] Design a pre-processing for your dataset and apply it to your partitions. \n",
    "- [ ] Train a Linear Regression model.\n",
    "- [ ] Train a Ridge Regression model with cross-validation.  \n",
    "- [ ] Train a Lasso Regression model with cross-validation.  \n",
    "- [ ] Compare your three models using cross-validation metrics and looking into their weights. Do they show strong differences?\n",
    "- [ ] Compute the generalization performance of the best model."
   ]
  },
  {
   "cell_type": "code",
   "execution_count": null,
   "id": "expressed-davis",
   "metadata": {
    "executionInfo": {
     "elapsed": 220,
     "status": "ok",
     "timestamp": 1678894456597,
     "user": {
      "displayName": "Marta Arias Vicente",
      "userId": "13874328413650848050"
     },
     "user_tz": -60
    },
    "id": "expressed-davis"
   },
   "outputs": [],
   "source": [
    "import numpy as np\n",
    "import pandas as pd\n",
    "import seaborn as sns\n",
    "\n",
    "pd.set_option(\"display.precision\", 3)\n",
    "np.set_printoptions(precision=3)"
   ]
  },
  {
   "cell_type": "code",
   "execution_count": null,
   "id": "varied-court",
   "metadata": {
    "colab": {
     "base_uri": "https://localhost:8080/",
     "height": 300
    },
    "executionInfo": {
     "elapsed": 5,
     "status": "ok",
     "timestamp": 1678894456843,
     "user": {
      "displayName": "Marta Arias Vicente",
      "userId": "13874328413650848050"
     },
     "user_tz": -60
    },
    "id": "varied-court",
    "outputId": "41487680-2046-4cb8-81d0-0af715868922"
   },
   "outputs": [],
   "source": [
    "bodyfat_data = pd.read_csv(\n",
    "    \"bodyfatdata.txt\", sep=\"\\s+\", names=[\"triceps\", \"thigh\", \"midarm\", \"bodyfat\"]\n",
    ")\n",
    "\n",
    "N = bodyfat_data.shape[0]\n",
    "bodyfat_data.describe()"
   ]
  },
  {
   "cell_type": "code",
   "execution_count": null,
   "id": "sensitive-chicago",
   "metadata": {
    "executionInfo": {
     "elapsed": 5,
     "status": "ok",
     "timestamp": 1678894456844,
     "user": {
      "displayName": "Marta Arias Vicente",
      "userId": "13874328413650848050"
     },
     "user_tz": -60
    },
    "id": "sensitive-chicago"
   },
   "outputs": [],
   "source": []
  },
  {
   "cell_type": "code",
   "execution_count": null,
   "id": "combined-missouri",
   "metadata": {
    "executionInfo": {
     "elapsed": 382,
     "status": "ok",
     "timestamp": 1678894457222,
     "user": {
      "displayName": "Marta Arias Vicente",
      "userId": "13874328413650848050"
     },
     "user_tz": -60
    },
    "id": "combined-missouri"
   },
   "outputs": [],
   "source": []
  },
  {
   "cell_type": "code",
   "execution_count": null,
   "id": "aquatic-frederick",
   "metadata": {
    "executionInfo": {
     "elapsed": 7,
     "status": "ok",
     "timestamp": 1678894457223,
     "user": {
      "displayName": "Marta Arias Vicente",
      "userId": "13874328413650848050"
     },
     "user_tz": -60
    },
    "id": "aquatic-frederick"
   },
   "outputs": [],
   "source": []
  },
  {
   "cell_type": "markdown",
   "id": "communist-entrance",
   "metadata": {
    "id": "communist-entrance"
   },
   "source": [
    "## Advanced Exercise: Try to improve the results of the lab session\n",
    "\n",
    "There are some points that could be improved from the lab session. \n",
    "- [ ] Linear regression is strongly affected by outliers. Design a strategy for removing outliers. Does it improve the validation metrics with respect to the best ones of the lab. \n",
    "- [ ] We have ignored (almost) completely our missing values. Design a strategy for handling missing values. Does it improve the validation metrics with respect to the best ones of the lab.   \n",
    "- [ ] Some variables are not looking gaussian. Transforming them could improve your model performance. Does this improve validation metrics and/or generalization of the best model?"
   ]
  },
  {
   "cell_type": "code",
   "execution_count": null,
   "id": "confused-ozone",
   "metadata": {
    "colab": {
     "base_uri": "https://localhost:8080/",
     "height": 299
    },
    "executionInfo": {
     "elapsed": 6,
     "status": "ok",
     "timestamp": 1678894457223,
     "user": {
      "displayName": "Marta Arias Vicente",
      "userId": "13874328413650848050"
     },
     "user_tz": -60
    },
    "id": "confused-ozone",
    "outputId": "68648b78-ca13-416a-d7c6-b80df269f0be"
   },
   "outputs": [],
   "source": [
    "life_expentancy_data = pd.read_csv(\"Life_Expectancy_Data.csv\")\n",
    "# We remove spaces and symbols to avoid problems with statsmodel GLM\n",
    "life_expentancy_data.columns = [\n",
    "    c.lower().strip().replace(\" \", \"_\").replace(\"/\", \"_\").replace(\"-\", \"_\")\n",
    "    for c in life_expentancy_data.columns\n",
    "]\n",
    "\n",
    "# We change the type of categorical variables into category\n",
    "categorical_columns = list(\n",
    "    life_expentancy_data.dtypes[life_expentancy_data.dtypes == \"O\"].index.values\n",
    ")\n",
    "for column in categorical_columns:\n",
    "    life_expentancy_data[column] = life_expentancy_data[column].astype(\"category\")\n",
    "\n",
    "life_expentancy_data.head()"
   ]
  },
  {
   "cell_type": "code",
   "execution_count": null,
   "id": "specified-shoulder",
   "metadata": {
    "executionInfo": {
     "elapsed": 5,
     "status": "ok",
     "timestamp": 1678894457223,
     "user": {
      "displayName": "Marta Arias Vicente",
      "userId": "13874328413650848050"
     },
     "user_tz": -60
    },
    "id": "specified-shoulder"
   },
   "outputs": [],
   "source": []
  },
  {
   "cell_type": "code",
   "execution_count": null,
   "id": "productive-anchor",
   "metadata": {
    "executionInfo": {
     "elapsed": 6,
     "status": "ok",
     "timestamp": 1678894457224,
     "user": {
      "displayName": "Marta Arias Vicente",
      "userId": "13874328413650848050"
     },
     "user_tz": -60
    },
    "id": "productive-anchor"
   },
   "outputs": [],
   "source": []
  },
  {
   "cell_type": "code",
   "execution_count": null,
   "id": "passive-premiere",
   "metadata": {
    "executionInfo": {
     "elapsed": 5,
     "status": "ok",
     "timestamp": 1678894457224,
     "user": {
      "displayName": "Marta Arias Vicente",
      "userId": "13874328413650848050"
     },
     "user_tz": -60
    },
    "id": "passive-premiere"
   },
   "outputs": [],
   "source": []
  }
 ],
 "metadata": {
  "colab": {
   "provenance": []
  },
  "kernelspec": {
   "display_name": "Python 3",
   "language": "python",
   "name": "python3"
  },
  "language_info": {
   "codemirror_mode": {
    "name": "ipython",
    "version": 3
   },
   "file_extension": ".py",
   "mimetype": "text/x-python",
   "name": "python",
   "nbconvert_exporter": "python",
   "pygments_lexer": "ipython3",
   "version": "3.10.9"
  },
  "toc": {
   "base_numbering": 1,
   "nav_menu": {},
   "number_sections": true,
   "sideBar": true,
   "skip_h1_title": false,
   "title_cell": "Table of Contents",
   "title_sidebar": "Contents",
   "toc_cell": false,
   "toc_position": {},
   "toc_section_display": true,
   "toc_window_display": false
  }
 },
 "nbformat": 4,
 "nbformat_minor": 5
}
