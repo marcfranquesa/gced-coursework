{
  "cells": [
    {
      "cell_type": "markdown",
      "id": "1a1defe9-0d69-429b-9dcf-79cf72b20e31",
      "metadata": {
        "id": "1a1defe9-0d69-429b-9dcf-79cf72b20e31"
      },
      "source": [
        "# CAI Lab Session 1: Powerlaws"
      ]
    },
    {
      "cell_type": "markdown",
      "id": "8efc4b56-ecee-4b48-bea1-8a3a28983a3a",
      "metadata": {
        "id": "8efc4b56-ecee-4b48-bea1-8a3a28983a3a"
      },
      "source": [
        "In this session you will:\n",
        "\n",
        "- Learn about so-called power laws, a special case being Zipf's law\n",
        "- Investigate whether words in text seem to fit power laws\n",
        "- Preprocess text with `nltk`"
      ]
    },
    {
      "cell_type": "markdown",
      "id": "zx9JIvAz7j9U",
      "metadata": {
        "id": "zx9JIvAz7j9U"
      },
      "source": [
        "## 1. On preprocessing (with `nltk`)\n",
        "\n",
        "For this first project, you may use the very popular [natural language tooklit library](https://www.nltk.org) which provides useful language processing functionality.\n",
        "\n",
        "In what follows you can see some examples of the type of preprocessing that we will use during the course.\n",
        "\n",
        "- _Tokenization:_ is the process that splits a sequence of characters into a sequence of word types (or _tokens_)\n",
        "\n",
        "- _Lower case folding_: turning all characters to lowercase\n",
        "\n",
        "- _Stopword removal:_ removes tokens that correspond to functional words (or _stopwords_)\n",
        "\n",
        "- _Stemming:_ mapping word types to their stem (normalization)\n",
        "\n",
        "\n",
        "\n"
      ]
    },
    {
      "cell_type": "code",
      "execution_count": 1,
      "id": "ukKyUlRn_BHt",
      "metadata": {
        "colab": {
          "base_uri": "https://localhost:8080/"
        },
        "id": "ukKyUlRn_BHt",
        "outputId": "2a671988-f2bd-45c4-a0b3-dbc85d6e23a8"
      },
      "outputs": [
        {
          "output_type": "stream",
          "name": "stderr",
          "text": [
            "[nltk_data] Downloading package punkt to /root/nltk_data...\n",
            "[nltk_data]   Unzipping tokenizers/punkt.zip.\n",
            "[nltk_data] Downloading package stopwords to /root/nltk_data...\n",
            "[nltk_data]   Unzipping corpora/stopwords.zip.\n"
          ]
        },
        {
          "output_type": "execute_result",
          "data": {
            "text/plain": [
              "True"
            ]
          },
          "metadata": {},
          "execution_count": 1
        }
      ],
      "source": [
        "from pprint import pprint\n",
        "\n",
        "import nltk\n",
        "nltk.download('punkt')\n",
        "nltk.download('stopwords')"
      ]
    },
    {
      "cell_type": "code",
      "execution_count": 2,
      "id": "wLMn9Luk-1bN",
      "metadata": {
        "colab": {
          "base_uri": "https://localhost:8080/"
        },
        "id": "wLMn9Luk-1bN",
        "outputId": "d349951f-c122-4e8d-9fee-c8b65fb845b5"
      },
      "outputs": [
        {
          "output_type": "stream",
          "name": "stdout",
          "text": [
            "['Primera',\n",
            " 'parte',\n",
            " 'del',\n",
            " 'ingenioso',\n",
            " 'hidalgo',\n",
            " 'don',\n",
            " 'Quijote',\n",
            " 'de',\n",
            " 'la',\n",
            " 'Mancha',\n",
            " '.',\n",
            " 'Capitulo',\n",
            " 'primero',\n",
            " '.',\n",
            " 'Que',\n",
            " 'trata',\n",
            " 'de',\n",
            " 'la',\n",
            " 'condicion',\n",
            " 'y',\n",
            " 'ejercicio',\n",
            " 'del',\n",
            " 'famoso',\n",
            " 'hidalgo',\n",
            " 'don',\n",
            " 'Quijote',\n",
            " 'de',\n",
            " 'la',\n",
            " 'Mancha']\n"
          ]
        }
      ],
      "source": [
        "## tokenizer\n",
        "\n",
        "from nltk.tokenize import word_tokenize\n",
        "\n",
        "text = \"\"\"Primera parte del ingenioso hidalgo don Quijote de la Mancha.\n",
        "  Capitulo primero. Que trata de la condicion y ejercicio del famoso hidalgo\n",
        "  don Quijote de la Mancha\"\"\"\n",
        "\n",
        "tokenized_text = word_tokenize(text)\n",
        "\n",
        "pprint(tokenized_text)"
      ]
    },
    {
      "cell_type": "code",
      "execution_count": 3,
      "id": "o1TV4DnX_31F",
      "metadata": {
        "colab": {
          "base_uri": "https://localhost:8080/"
        },
        "id": "o1TV4DnX_31F",
        "outputId": "51751b6e-c52c-4c8c-aa63-07d75b747338"
      },
      "outputs": [
        {
          "output_type": "stream",
          "name": "stdout",
          "text": [
            "there are 345 stopwords in Spanish (including punctuation), which are: {'~', 'estada', 'entre', 'para', 'sentida', 'estuviera', 'otros', 'esa', 'mí', '?', 'quien', ',', '*', 'nos', 'qué', ':', 'tendría', 'tú', 'habéis', 'estadas', 'estados', 'estaré', 'tendré', 'cual', 'tuviésemos', 'fuera', 'tendríamos', 'estarían', 'seríamos', 'hube', 'tenidas', 'seríais', 'mi', 'que', 'tuve', 'fuéramos', 'tuvierais', 'estuve', 'habidas', 'otro', 'tuviéramos', 'hubieseis', 'nada', 'estuvieses', 'tenido', 'sin', 'quienes', 'tuvisteis', 'algunas', 'estabais', 'esté', 'míos', 'ti', 'estabas', 'suyas', 'tuvieras', 'vosotros', 'teniendo', 'hubieses', 'seamos', 'otras', ']', 'tendrás', 'habíamos', 'uno', 'estuvieron', 'tendréis', 'estemos', 'hubiste', 'estado', 'estos', 'seas', 'estando', 'hubierais', 'estuvieras', 'fueras', 'habrías', 'estén', 'vuestras', '/', '`', 'suyo', 'estuvisteis', 'las', 'vosotras', 'estaba', 'el', 'a', 'esto', 'teníais', 'ante', 'estaríais', 'otra', 'nuestras', 'hubimos', 'sois', '.', 'habrían', 'tendríais', 'fueses', 'somos', 'estarás', 'muy', 'es', 'tenías', 'tenemos', 'mucho', 'habré', 'seré', 'tendrá', 'los', 'la', 'desde', 'habréis', 'tuyo', 'tuviera', 'hayan', 'tuvimos', 'hubisteis', 'todo', '+', 'tened', 'yo', 'porque', 'algunos', '{', 'por', 'durante', 'de', 'tendremos', ';', '!', 'todos', 'habría', 'más', 'tengo', 'he', '^', 'te', '}', 'tanto', 'tendrían', 'tuvieses', '\"', 'ya', 'fue', 'habríais', 'esas', 'donde', 'han', 'en', 'hayáis', 'hubieras', 'siente', '%', 'estarán', 'habido', 'fuisteis', 'fuese', 'mía', 'hubieran', '<', 'muchos', 'habríamos', 'hubo', 'y', 'estamos', 'tengamos', 'será', 'serían', 'cuando', 'con', 'fuesen', 'tuviese', '\\\\', '|', 'habida', 'estoy', 'sí', 'este', 'están', 'estuvieseis', 'estaremos', 'ese', 'tuvo', 'tuviesen', 'él', 'fuiste', \"'\", 'son', 'hubiera', '@', 'o', 'serán', 'habíais', 'sentid', 'tendrán', 'sea', 'tiene', 'nosotras', '(', 'también', 'tendrías', 'nuestro', 'éramos', 'estar', 'tienen', 'sería', 'tenían', 'ellos', 'eras', 'hubiésemos', 'fuerais', 'os', 'no', 'mías', 'habidos', 'erais', 'tus', 'tuyas', 'fui', 'mío', 'había', 'tenida', 'estuvimos', 'antes', '=', 'como', '[', '#', 'contra', 'ni', 'vuestros', 'tengas', 'fueseis', 'estábamos', 'nosotros', 'algo', 'una', 'unos', 'hasta', 'estás', 'seréis', 'suyos', 'tenga', 'tengan', 'habían', 'tuvieron', 'seáis', 'estad', '$', 'estuvo', 'estuviste', 'lo', 'hayamos', 'estaría', '&', 'sus', 'habrá', 'estará', 'tuvieseis', 'un', 'serás', 'pero', 'tuyos', 'ha', 'habrán', 'le', 'suya', 'tenía', 'fuimos', 'nuestros', 'haya', 'esta', 'eres', '-', 'tengáis', 'estuvierais', 'sean', 'estéis', 'estáis', 'tuviste', 'sentidos', 'fuésemos', 'sobre', 'estuviésemos', 'tuya', 'hayas', 'vuestra', 'habías', 'estés', 'estas', ')', 'ella', 'habrás', 'e', 'estuviéramos', 'ellas', 'has', 'teníamos', 'seremos', 'hubiéramos', 'hubiesen', 'estarías', 'al', 'sentido', 'se', '>', 'hubiese', 'estaréis', 'sintiendo', 'eso', 'tuvieran', 'estaban', 'habremos', '_', 'su', 'hemos', 'del', 'soy', 'hubieron', 'mis', 'fueron', 'vuestro', 'estuviese', 'nuestra', 'serías', 'me', 'tu', 'era', 'está', 'fueran', 'esos', 'estuvieran', 'habiendo', 'eran', 'hay', 'poco', 'estuviesen', 'tenidos', 'tienes', 'sentidas', 'estaríamos', 'les', 'tenéis'}\n",
            "['primera',\n",
            " 'parte',\n",
            " 'ingenioso',\n",
            " 'hidalgo',\n",
            " 'don',\n",
            " 'quijote',\n",
            " 'mancha',\n",
            " 'capitulo',\n",
            " 'primero',\n",
            " 'trata',\n",
            " 'condicion',\n",
            " 'ejercicio',\n",
            " 'famoso',\n",
            " 'hidalgo',\n",
            " 'don',\n",
            " 'quijote',\n",
            " 'mancha']\n"
          ]
        }
      ],
      "source": [
        "## stopword removal, punctuation removal, lower-case folding\n",
        "\n",
        "from nltk.corpus import stopwords\n",
        "import string\n",
        "\n",
        "spanish_sw = set(stopwords.words('spanish') + list(string.punctuation))\n",
        "\n",
        "print(f'there are {len(spanish_sw)} stopwords in Spanish (including punctuation), which are: {spanish_sw}')\n",
        "\n",
        "filtered_tokenized_text = [w.lower() for w in tokenized_text if w.lower() not in spanish_sw]\n",
        "pprint(filtered_tokenized_text)"
      ]
    },
    {
      "cell_type": "code",
      "execution_count": 4,
      "id": "MYrK2m-oCw-0",
      "metadata": {
        "colab": {
          "base_uri": "https://localhost:8080/"
        },
        "id": "MYrK2m-oCw-0",
        "outputId": "2915ce99-54e9-455d-c121-5b95c84e3a49"
      },
      "outputs": [
        {
          "output_type": "stream",
          "name": "stdout",
          "text": [
            "['primer',\n",
            " 'part',\n",
            " 'ingeni',\n",
            " 'hidalg',\n",
            " 'don',\n",
            " 'quijot',\n",
            " 'manch',\n",
            " 'capitul',\n",
            " 'primer',\n",
            " 'trat',\n",
            " 'condicion',\n",
            " 'ejercici',\n",
            " 'famos',\n",
            " 'hidalg',\n",
            " 'don',\n",
            " 'quijot',\n",
            " 'manch']\n"
          ]
        }
      ],
      "source": [
        "## stemmer\n",
        "\n",
        "from nltk.stem import SnowballStemmer\n",
        "stemmer = SnowballStemmer('spanish')\n",
        "\n",
        "stemmed_text = [stemmer.stem(w) for w in filtered_tokenized_text]\n",
        "pprint(stemmed_text)"
      ]
    },
    {
      "cell_type": "code",
      "execution_count": 5,
      "id": "zHWeXKgYDlFz",
      "metadata": {
        "colab": {
          "base_uri": "https://localhost:8080/"
        },
        "id": "zHWeXKgYDlFz",
        "outputId": "4deec626-12cc-4f78-f24e-78346163e827"
      },
      "outputs": [
        {
          "output_type": "stream",
          "name": "stdout",
          "text": [
            "Counter({'primer': 2,\n",
            "         'hidalg': 2,\n",
            "         'don': 2,\n",
            "         'quijot': 2,\n",
            "         'manch': 2,\n",
            "         'part': 1,\n",
            "         'ingeni': 1,\n",
            "         'capitul': 1,\n",
            "         'trat': 1,\n",
            "         'condicion': 1,\n",
            "         'ejercici': 1,\n",
            "         'famos': 1})\n",
            "Counter({'hidalgo': 2,\n",
            "         'don': 2,\n",
            "         'quijote': 2,\n",
            "         'mancha': 2,\n",
            "         'primera': 1,\n",
            "         'parte': 1,\n",
            "         'ingenioso': 1,\n",
            "         'capitulo': 1,\n",
            "         'primero': 1,\n",
            "         'trata': 1,\n",
            "         'condicion': 1,\n",
            "         'ejercicio': 1,\n",
            "         'famoso': 1})\n"
          ]
        }
      ],
      "source": [
        "## useful for counting words\n",
        "\n",
        "from collections import Counter\n",
        "\n",
        "word_counts = Counter(stemmed_text)\n",
        "pprint(word_counts)\n",
        "\n",
        "word_counts_no_stem = Counter(filtered_tokenized_text)\n",
        "pprint(word_counts_no_stem)"
      ]
    },
    {
      "cell_type": "markdown",
      "id": "82b5cdc6-8e9c-47e7-8f8d-bbb5ab5d9b57",
      "metadata": {
        "id": "82b5cdc6-8e9c-47e7-8f8d-bbb5ab5d9b57"
      },
      "source": [
        "## 2. On powerlaws\n",
        "\n",
        "Consider a function $y=f(x)$, that we will call a \"law\" relating $y$ with $x$.\n",
        "\n",
        "__Example 1.__ You are given a bucket of some radioactive isotope. $x$ is the number of seconds since you were given\n",
        "the bucket. $y$ is the number of atoms that disintegrate at the $x$th second.\n",
        "Each atom decides independently from all other atoms whether to disintegrate in the next second (or\n",
        "nanosecond, or whatever). From here you can see that $f$ will have the form $y=c \\cdot a^{-x}$,\n",
        "where $c$ depends on the number of atoms you were given, and $a$ depends on the isotope. In particular,\n",
        "$a>1$ determines the half-life of the isotope.\n",
        "\n",
        "__Example 2.__ $x$ is number of seconds and $y$ is the number of people entering a metro station during the next\n",
        "10 minutes. You may have been told in statistics that $f$ is given by the Poisson distribution\n",
        "(at least for ideal people and metro stations).\n",
        "\n",
        "Many natural and artificial phenomena come in distributions that are neither exponential nor Poisson,\n",
        "but so-called power laws. Intuitively, we have $y$ evolves like $x^a$, where $a$ is a constant called\n",
        "the {\\em exponent} of the power law. If $a$ is positive, $y$ is increasing, and if $a$ is negative,\n",
        "$y$ decreases.\n",
        "\n",
        "More precisely, a power law is\n",
        "$$\n",
        "y = c \\cdot (x+b)^a\n",
        "$$\n",
        "for three constants $a$, $b$, and $c$.\n",
        "\n",
        "There is a lot of theory about why powerlaws are ubiqutous. They are often related to self-organization,\n",
        "fractality, complex dynamical systems, etc. The Web and social networks are full of powerlaws.\n",
        "So is human language, social sciences (population of cities), and natural sciences (intensity of earthquakes,\n",
        "relation of size and metabolism in animals).\n",
        "\n",
        "A powerlaw with exponent $-1$ is called Zipf's law, after Mr. Zipf. By extension, sometimes powerlaws with\n",
        "negative exponents are also called Zipfian laws.\n",
        "\n",
        "In what follows we will fit some datasets to the best powerlaw that we can find - and see that they pretty close.\n",
        "Note that this does NOT mean that the phenomenon generating the dataset is exactly a powerlaw.\n",
        "Proving seriously that a law is (or is not) a powerlaw is another matter.\n"
      ]
    },
    {
      "cell_type": "markdown",
      "id": "5c75cda0-0d03-4fdc-9aa0-785d5232354b",
      "metadata": {
        "id": "5c75cda0-0d03-4fdc-9aa0-785d5232354b"
      },
      "source": [
        "## 3. Looking at \"Don Quijote\"\n",
        "\n",
        "In this exercise, we will be looking at Zipf's and Heap's text laws of the classical text _Don Quijote_. The full plain text is publicly available in many places.\n"
      ]
    },
    {
      "cell_type": "code",
      "execution_count": 6,
      "id": "10c244af-17d7-4ad9-8515-feca1b3cea20",
      "metadata": {
        "colab": {
          "base_uri": "https://localhost:8080/"
        },
        "id": "10c244af-17d7-4ad9-8515-feca1b3cea20",
        "outputId": "bad7e8d4-c198-4ce9-8965-19dd9777560d"
      },
      "outputs": [
        {
          "output_type": "stream",
          "name": "stdout",
          "text": [
            "Primera parte del ingenioso hidalgo don Quijote de la Mancha\n",
            "Capítulo primero. Que trata de la condición y ejercicio del famoso hidalgo\n",
            "don Quijote de la Mancha\n",
            "En un lugar de la Mancha, de cuyo nombre no quiero acordarme, no ha mucho\n",
            "tiempo que vivía un hidalgo de los de lanza en astillero, adarga antigua,\n",
            "rocín flaco y galgo corredor. Una olla de algo más vaca que carnero,\n",
            "salpicón las más noches, duelos y quebrantos los sábados, lantejas los\n",
            "viernes, algún palomino de añadidura los domingos, consumían las tres\n",
            "partes de su hacienda. El resto della concluían sayo de velarte, calzas de\n",
            "velludo para las fiestas, con sus pantuflos de lo mesmo, y los días de\n"
          ]
        }
      ],
      "source": [
        "# load don quijote, e.g. as in:\n",
        "\n",
        "import urllib.request\n",
        "\n",
        "target_url = \"https://fegalaz.usc.es/~gamallo/aulas/lingcomputacional/corpus/quijote-es.txt\"\n",
        "\n",
        "data = urllib.request.urlopen(target_url)\n",
        "\n",
        "# print first N lines only as a demo\n",
        "N = 10\n",
        "for _ in range(N):\n",
        "    line = next(data)\n",
        "    print(line.decode('latin-1').strip())"
      ]
    },
    {
      "cell_type": "markdown",
      "source": [
        "---\n",
        "\n",
        "__Exercise 1.__ Use `python` + `matplotlib` or similar library to plot the frequence of words in `don quijote` in decreasing order.\n",
        "\n",
        "---\n",
        "\n",
        "Is it a powerlaw? Or, can it be approximated by a powerlaw?\n",
        "\n",
        "A trick about powerlaws is the following. Let's forget about the $b$ parameter for a second (or equivalently assume that $b = 0$),\n",
        "so our powerlaw looks like\n",
        "$$\n",
        "y = c \\cdot x^a.\n",
        "$$\n",
        "\n",
        "Taking logs on both sides, it becomes\n",
        "$$\n",
        "\\log y = a \\cdot \\log x + \\log c\n",
        "$$\n",
        "\n",
        "I.e., $\\log y$ is a linear function of $\\log x$."
      ],
      "metadata": {
        "id": "qVXH6ddZpbl2"
      },
      "id": "qVXH6ddZpbl2"
    },
    {
      "cell_type": "code",
      "source": [
        "# getting the data & preprocessing\n",
        "\n",
        "target_url = \"https://fegalaz.usc.es/~gamallo/aulas/lingcomputacional/corpus/quijote-es.txt\"\n",
        "data = urllib.request.urlopen(target_url)\n",
        "\n",
        "quijote = data.read().decode(\"latin-1\").replace(\"\\n\", \" \")\n",
        "tokenized = word_tokenize(quijote) #tokenize\n",
        "filtered_tokenized = [word.lower() for word in tokenized if word not in spanish_sw] # remove punctuation & stop words\n",
        "stemmed_tokenized = [stemmer.stem(word) for word in tokenized] # stemm\n",
        "stemmed_filtered_tokenized = [stemmer.stem(word) for word in filtered_tokenized]\n",
        "\n",
        "dataset_tokenized = {\n",
        "    \"Tokenized\": tokenized,\n",
        "    \"Filtered & tokenized\": filtered_tokenized,\n",
        "    \"Stemmed & tokenized\": stemmed_tokenized,\n",
        "    \"Stemmed, filtered & tokenized\": stemmed_filtered_tokenized\n",
        "}\n",
        "\n",
        "\n",
        "word_frequency = {}\n",
        "for name, data in dataset_tokenized.items():\n",
        "    word_frequency[name] = Counter(Counter(data).values())\n",
        "    word_frequency[name] = sorted(word_frequency[name].items(),\n",
        "                                  key=lambda item : item[1],\n",
        "                                  reverse=True)\n"
      ],
      "metadata": {
        "id": "41bil8ImpbEa"
      },
      "id": "41bil8ImpbEa",
      "execution_count": 41,
      "outputs": []
    },
    {
      "cell_type": "code",
      "source": [
        "from plotly.subplots import make_subplots\n",
        "import plotly.graph_objects as go\n",
        "\n",
        "fig = make_subplots(rows=2, cols=2, subplot_titles=([name for name in word_frequency.keys()]))\n",
        "\n",
        "for i, (name, data) in enumerate(word_frequency.items()):\n",
        "    r = 1 + int(bool(max(0, i - 1)))\n",
        "    c = 1 + int(bool(i % 2))\n",
        "    fig.add_trace(\n",
        "        go.Scatter(\n",
        "            x=[item[0] for item in data],\n",
        "            y=[item[1] for item in data],\n",
        "            mode=\"markers\",\n",
        "        ),\n",
        "        row=r, col=c,\n",
        "\n",
        "    )\n",
        "    fig.update_xaxes(title_text=\"Number of times word appears in the text\", row=r, col=c)\n",
        "    fig.update_yaxes(title_text=\"Number of words\", row=r, col=c)\n",
        "fig.update_layout(showlegend=False)\n",
        "fig.show()"
      ],
      "metadata": {
        "id": "Oe97Ass3K4hM",
        "outputId": "9ec2e88d-921a-4752-a251-c0773cde1799",
        "colab": {
          "base_uri": "https://localhost:8080/",
          "height": 542
        }
      },
      "id": "Oe97Ass3K4hM",
      "execution_count": 43,
      "outputs": [
        {
          "output_type": "display_data",
          "data": {
            "text/html": [
              "<html>\n",
              "<head><meta charset=\"utf-8\" /></head>\n",
              "<body>\n",
              "    <div>            <script src=\"https://cdnjs.cloudflare.com/ajax/libs/mathjax/2.7.5/MathJax.js?config=TeX-AMS-MML_SVG\"></script><script type=\"text/javascript\">if (window.MathJax && window.MathJax.Hub && window.MathJax.Hub.Config) {window.MathJax.Hub.Config({SVG: {font: \"STIX-Web\"}});}</script>                <script type=\"text/javascript\">window.PlotlyConfig = {MathJaxConfig: 'local'};</script>\n",
              "        <script charset=\"utf-8\" src=\"https://cdn.plot.ly/plotly-2.24.1.min.js\"></script>                <div id=\"01326b0a-ca0f-418e-b538-f185f299dc33\" class=\"plotly-graph-div\" style=\"height:525px; width:100%;\"></div>            <script type=\"text/javascript\">                                    window.PLOTLYENV=window.PLOTLYENV || {};                                    if (document.getElementById(\"01326b0a-ca0f-418e-b538-f185f299dc33\")) {                    Plotly.newPlot(                        \"01326b0a-ca0f-418e-b538-f185f299dc33\",                        [{\"mode\":\"markers\",\"x\":[1,2,3,4,5,6,7,8,9,10,11,12,13,14,15,16,17,18,19,20,22,24,21,23,25,26,27,28,30,31,29,34,32,37,33,35,41,38,45,36,54,46,53,40,39,52,49,48,47,57,65,44,42,43,61,56,58,63,50,51,64,74,55,76,93,69,71,72,59,82,99,77,139,73,70,85,67,80,104,84,97,62,78,60,137,193,96,108,138,161,98,89,117,100,126,87,142,249,148,95,94,136,66,92,106,114,81,68,132,173,101,216,236,129,149,109,91,110,128,105,280,160,155,75,197,131,150,90,125,115,143,130,121,141,79,158,181,250,204,185,209,409,188,233,1323,151,196,230,191,124,239,177,251,103,501,301,292,162,336,111,119,276,194,198,219,353,281,127,140,122,170,147,88,113,134,123,83,86,357,2430,2528,1630,17748,10074,7860,16962,268,1899,342,39688,5708,1039,285,321,20308,4634,7775,2008,3383,278,223,3302,1393,4018,1037,3347,4644,329,1308,9433,899,7838,2215,4745,733,152,314,241,573,341,1180,838,451,379,517,3707,369,633,244,603,461,1074,913,413,269,790,252,3366,1195,953,199,704,154,619,2026,120,1665,416,324,2324,802,437,556,1775,527,479,328,226,1664,1125,253,447,1024,174,1233,167,309,388,434,758,405,669,360,1054,474,212,364,697,283,624,288,242,688,255,439,526,118,348,554,165,279,939,184,200,308,175,440,599,1839,383,354,345,320,192,690,898,497,316,949,683,558,273,343,271,373,245,487,578,287,709,521,2058,179,211,907,248,238,397,813,522,267,153,262,112,187,237,201,356,425,486,313,214,1620,107,462,877,445,182,346,376,374,254,145,144,296,220,507,133,176],\"y\":[12623,3764,1905,1145,826,570,420,358,273,231,209,174,153,129,126,104,92,88,80,76,63,57,56,53,47,45,42,40,37,32,29,28,27,25,23,23,22,20,20,19,19,18,18,18,17,17,17,16,16,16,15,15,15,14,14,12,12,11,11,11,10,10,10,9,9,9,8,8,8,7,7,7,7,7,7,7,6,6,6,6,6,6,6,6,5,5,5,5,5,5,5,5,5,5,4,4,4,4,4,4,4,4,4,4,4,4,4,4,4,3,3,3,3,3,3,3,3,3,3,3,3,3,3,3,3,3,3,3,3,3,3,3,3,3,3,2,2,2,2,2,2,2,2,2,2,2,2,2,2,2,2,2,2,2,2,2,2,2,2,2,2,2,2,2,2,2,2,2,2,2,2,2,2,2,2,2,2,2,1,1,1,1,1,1,1,1,1,1,1,1,1,1,1,1,1,1,1,1,1,1,1,1,1,1,1,1,1,1,1,1,1,1,1,1,1,1,1,1,1,1,1,1,1,1,1,1,1,1,1,1,1,1,1,1,1,1,1,1,1,1,1,1,1,1,1,1,1,1,1,1,1,1,1,1,1,1,1,1,1,1,1,1,1,1,1,1,1,1,1,1,1,1,1,1,1,1,1,1,1,1,1,1,1,1,1,1,1,1,1,1,1,1,1,1,1,1,1,1,1,1,1,1,1,1,1,1,1,1,1,1,1,1,1,1,1,1,1,1,1,1,1,1,1,1,1,1,1,1,1,1,1,1,1,1,1,1,1,1,1,1,1,1,1,1,1,1,1,1,1,1,1,1,1,1,1,1,1,1,1],\"type\":\"scatter\",\"xaxis\":\"x\",\"yaxis\":\"y\"},{\"mode\":\"markers\",\"x\":[1,2,3,4,5,6,7,8,9,10,11,12,13,14,15,16,18,17,20,19,24,22,21,23,26,25,28,27,29,31,30,32,38,35,33,45,37,36,34,46,53,48,40,41,39,49,65,51,52,44,42,57,54,47,59,55,58,43,56,60,64,76,82,132,62,69,61,63,99,78,50,71,74,193,72,77,139,104,93,151,101,67,96,97,73,70,87,95,85,129,149,105,137,108,126,138,94,66,161,121,89,80,79,92,162,147,199,110,191,128,177,111,106,155,197,143,86,142,140,123,131,100,185,173,255,237,84,333,249,421,244,252,236,271,154,83,239,158,251,98,91,160,109,292,245,75,112,118,116,117,114,280,88,90,214,141,357,2625,1634,272,343,321,279,231,206,216,332,963,152,241,574,381,519,209,717,113,913,1199,986,420,324,640,1872,481,204,228,290,232,181,167,314,389,434,405,677,1054,220,364,301,293,336,242,688,270,444,526,374,165,304,973,200,327,175,229,442,356,125,509,198,81,68,898,316,274,344,367,287,120,234,180,211,926,122,184,296,248,144,282,813,522,219,153,210,134,358,499,281,354,189,1621,107,489,877,183,201,380,145,171,298,221,507,119,136,157],\"y\":[11734,3626,1857,1105,802,558,385,339,267,234,204,161,151,134,123,102,89,84,73,71,57,57,56,47,45,43,42,38,34,33,33,31,24,24,23,21,20,20,19,18,18,18,18,18,17,17,14,14,14,14,14,13,13,13,12,12,11,10,10,9,9,9,9,9,9,9,9,8,8,8,8,7,7,7,7,7,7,7,7,6,6,6,6,6,6,6,5,5,5,4,4,4,4,4,4,4,4,4,4,4,4,4,4,3,3,3,3,3,3,3,3,3,3,3,3,3,3,3,3,3,3,3,2,2,2,2,2,2,2,2,2,2,2,2,2,2,2,2,2,2,2,2,2,2,2,2,2,2,2,2,2,2,2,2,2,2,1,1,1,1,1,1,1,1,1,1,1,1,1,1,1,1,1,1,1,1,1,1,1,1,1,1,1,1,1,1,1,1,1,1,1,1,1,1,1,1,1,1,1,1,1,1,1,1,1,1,1,1,1,1,1,1,1,1,1,1,1,1,1,1,1,1,1,1,1,1,1,1,1,1,1,1,1,1,1,1,1,1,1,1,1,1,1,1,1,1,1,1,1,1,1,1,1,1,1,1,1,1,1,1,1,1,1,1],\"type\":\"scatter\",\"xaxis\":\"x2\",\"yaxis\":\"y2\"},{\"mode\":\"markers\",\"x\":[1,2,3,4,5,6,7,8,10,9,11,12,13,18,14,16,15,17,19,21,22,20,23,25,35,28,24,27,26,29,32,34,31,30,38,37,33,36,47,52,45,50,41,39,43,40,54,59,61,55,46,60,53,51,72,77,42,69,58,71,57,49,48,64,67,125,63,44,88,93,76,134,180,113,78,132,74,90,97,85,106,66,138,102,65,109,83,80,101,73,99,56,84,127,120,206,131,100,252,155,70,75,118,111,62,89,571,162,191,280,94,92,86,167,271,139,161,142,116,123,135,151,145,104,79,173,147,115,114,124,108,68,82,170,154,153,137,241,214,226,231,246,129,351,949,103,519,741,492,324,199,152,110,528,311,156,242,193,98,421,210,518,177,393,401,130,327,185,160,293,128,235,81,289,144,169,184,195,166,148,122,105,126,292,347,189,178,175,117,141,507,325,212,121,136,107,87,95,309,2580,2634,1639,17985,10206,7860,20908,17875,8047,1907,343,39688,176,5899,532,1041,900,363,4694,220,1312,2255,3421,623,1002,3333,9305,1604,4126,1038,3404,341,237,5024,871,611,744,644,9652,993,2655,422,462,4745,749,338,1185,870,599,541,3769,331,452,1014,360,277,496,2080,717,779,665,339,439,774,239,2628,329,391,1905,302,3367,829,1199,1005,1381,736,384,760,715,2026,2175,1138,333,2324,1104,213,272,437,305,933,254,1333,2164,548,317,119,308,204,1699,1819,188,259,197,319,473,885,179,509,505,171,1087,531,677,299,385,1419,667,476,556,639,355,249,350,353,234,405,245,372,687,598,282,374,283,258,143,1706,256,332,279,510,194,797,601,1957,392,346,198,218,898,316,683,208,584,1115,274,222,379,388,494,301,461,287,568,709,497,524,410,149,995,172,133,444,583,270,233,820,522,406,266,211,300,417,370,225,290,112,1630,489,182,879,445,96,183,186,164,240,304,221,150,165,217,159],\"y\":[4573,1538,844,516,361,283,198,185,159,144,110,105,87,78,75,72,69,58,47,45,40,36,36,34,32,32,30,29,29,27,27,26,25,24,21,20,20,19,18,18,17,16,16,16,15,15,14,14,13,12,12,12,12,12,11,11,11,10,10,10,9,9,9,9,8,8,8,8,8,7,7,6,6,6,6,6,6,6,6,5,5,5,5,5,5,5,5,5,5,5,5,5,4,4,4,4,4,4,4,4,4,4,4,4,4,4,3,3,3,3,3,3,3,3,3,3,3,3,3,3,3,3,3,3,3,3,3,3,3,3,3,3,3,2,2,2,2,2,2,2,2,2,2,2,2,2,2,2,2,2,2,2,2,2,2,2,2,2,2,2,2,2,2,2,2,2,2,2,2,2,2,2,2,2,2,2,2,2,2,2,2,2,2,2,2,2,2,2,2,2,2,2,2,2,2,2,2,2,1,1,1,1,1,1,1,1,1,1,1,1,1,1,1,1,1,1,1,1,1,1,1,1,1,1,1,1,1,1,1,1,1,1,1,1,1,1,1,1,1,1,1,1,1,1,1,1,1,1,1,1,1,1,1,1,1,1,1,1,1,1,1,1,1,1,1,1,1,1,1,1,1,1,1,1,1,1,1,1,1,1,1,1,1,1,1,1,1,1,1,1,1,1,1,1,1,1,1,1,1,1,1,1,1,1,1,1,1,1,1,1,1,1,1,1,1,1,1,1,1,1,1,1,1,1,1,1,1,1,1,1,1,1,1,1,1,1,1,1,1,1,1,1,1,1,1,1,1,1,1,1,1,1,1,1,1,1,1,1,1,1,1,1,1,1,1,1,1,1,1,1,1,1,1,1,1,1,1,1,1,1,1,1,1,1,1,1,1,1,1,1,1,1,1,1,1,1,1,1,1,1,1],\"type\":\"scatter\",\"xaxis\":\"x3\",\"yaxis\":\"y3\"},{\"mode\":\"markers\",\"x\":[1,2,3,4,5,6,7,8,10,9,11,12,13,18,14,16,15,17,19,21,22,23,20,25,35,28,24,26,27,29,32,34,31,30,38,36,37,33,47,45,52,50,41,43,40,59,39,46,54,60,55,53,51,72,58,61,77,69,44,57,49,71,42,48,67,63,64,93,88,76,134,180,125,113,132,78,74,97,56,85,106,66,138,102,131,83,80,101,62,90,84,120,108,206,65,109,155,70,75,123,118,111,73,99,89,162,280,94,92,86,191,139,195,161,116,100,252,121,135,151,145,127,104,79,173,147,115,87,68,571,170,154,153,137,272,241,214,226,231,246,237,301,351,103,519,256,421,410,152,110,311,156,242,98,210,177,393,142,401,130,327,160,128,235,81,289,169,184,122,105,112,126,292,189,178,175,117,141,507,114,325,212,124,136,107,96,211,82,95,309,2634,1639,343,176,532,363,220,623,802,234,341,611,744,644,993,422,129,338,949,541,741,331,452,360,150,277,496,717,339,439,361,239,329,913,391,324,302,829,1199,1005,736,384,492,1138,333,933,254,1888,548,317,119,528,308,204,193,188,518,197,247,179,764,171,1087,531,677,299,1056,185,667,476,556,293,355,249,350,353,405,245,694,372,687,598,282,374,143,1706,332,279,510,194,166,797,198,148,218,898,316,440,208,274,271,222,167,388,461,287,497,149,995,172,133,444,144,583,270,233,820,522,219,406,300,417,370,225,290,1630,489,182,879,199,183,186,380,164,240,304,221,165,217,159],\"y\":[4589,1547,850,523,362,285,199,184,160,145,110,105,88,76,75,72,71,59,47,46,42,37,36,35,33,32,31,31,29,27,27,26,26,24,22,19,19,19,18,17,17,16,16,15,15,14,14,13,13,13,12,12,12,11,11,11,10,10,10,9,9,9,9,9,8,8,8,7,7,7,6,6,6,6,6,6,6,6,6,5,5,5,5,5,5,5,5,5,5,5,4,4,4,4,4,4,4,4,4,4,4,4,4,4,4,3,3,3,3,3,3,3,3,3,3,3,3,3,3,3,3,3,3,3,3,3,3,3,3,2,2,2,2,2,2,2,2,2,2,2,2,2,2,2,2,2,2,2,2,2,2,2,2,2,2,2,2,2,2,2,2,2,2,2,2,2,2,2,2,2,2,2,2,2,2,2,2,2,2,2,2,2,2,2,2,2,2,2,2,1,1,1,1,1,1,1,1,1,1,1,1,1,1,1,1,1,1,1,1,1,1,1,1,1,1,1,1,1,1,1,1,1,1,1,1,1,1,1,1,1,1,1,1,1,1,1,1,1,1,1,1,1,1,1,1,1,1,1,1,1,1,1,1,1,1,1,1,1,1,1,1,1,1,1,1,1,1,1,1,1,1,1,1,1,1,1,1,1,1,1,1,1,1,1,1,1,1,1,1,1,1,1,1,1,1,1,1,1,1,1,1,1,1,1,1,1,1,1,1,1,1,1,1,1,1,1,1,1,1,1,1,1,1,1,1,1,1,1,1,1],\"type\":\"scatter\",\"xaxis\":\"x4\",\"yaxis\":\"y4\"}],                        {\"template\":{\"data\":{\"histogram2dcontour\":[{\"type\":\"histogram2dcontour\",\"colorbar\":{\"outlinewidth\":0,\"ticks\":\"\"},\"colorscale\":[[0.0,\"#0d0887\"],[0.1111111111111111,\"#46039f\"],[0.2222222222222222,\"#7201a8\"],[0.3333333333333333,\"#9c179e\"],[0.4444444444444444,\"#bd3786\"],[0.5555555555555556,\"#d8576b\"],[0.6666666666666666,\"#ed7953\"],[0.7777777777777778,\"#fb9f3a\"],[0.8888888888888888,\"#fdca26\"],[1.0,\"#f0f921\"]]}],\"choropleth\":[{\"type\":\"choropleth\",\"colorbar\":{\"outlinewidth\":0,\"ticks\":\"\"}}],\"histogram2d\":[{\"type\":\"histogram2d\",\"colorbar\":{\"outlinewidth\":0,\"ticks\":\"\"},\"colorscale\":[[0.0,\"#0d0887\"],[0.1111111111111111,\"#46039f\"],[0.2222222222222222,\"#7201a8\"],[0.3333333333333333,\"#9c179e\"],[0.4444444444444444,\"#bd3786\"],[0.5555555555555556,\"#d8576b\"],[0.6666666666666666,\"#ed7953\"],[0.7777777777777778,\"#fb9f3a\"],[0.8888888888888888,\"#fdca26\"],[1.0,\"#f0f921\"]]}],\"heatmap\":[{\"type\":\"heatmap\",\"colorbar\":{\"outlinewidth\":0,\"ticks\":\"\"},\"colorscale\":[[0.0,\"#0d0887\"],[0.1111111111111111,\"#46039f\"],[0.2222222222222222,\"#7201a8\"],[0.3333333333333333,\"#9c179e\"],[0.4444444444444444,\"#bd3786\"],[0.5555555555555556,\"#d8576b\"],[0.6666666666666666,\"#ed7953\"],[0.7777777777777778,\"#fb9f3a\"],[0.8888888888888888,\"#fdca26\"],[1.0,\"#f0f921\"]]}],\"heatmapgl\":[{\"type\":\"heatmapgl\",\"colorbar\":{\"outlinewidth\":0,\"ticks\":\"\"},\"colorscale\":[[0.0,\"#0d0887\"],[0.1111111111111111,\"#46039f\"],[0.2222222222222222,\"#7201a8\"],[0.3333333333333333,\"#9c179e\"],[0.4444444444444444,\"#bd3786\"],[0.5555555555555556,\"#d8576b\"],[0.6666666666666666,\"#ed7953\"],[0.7777777777777778,\"#fb9f3a\"],[0.8888888888888888,\"#fdca26\"],[1.0,\"#f0f921\"]]}],\"contourcarpet\":[{\"type\":\"contourcarpet\",\"colorbar\":{\"outlinewidth\":0,\"ticks\":\"\"}}],\"contour\":[{\"type\":\"contour\",\"colorbar\":{\"outlinewidth\":0,\"ticks\":\"\"},\"colorscale\":[[0.0,\"#0d0887\"],[0.1111111111111111,\"#46039f\"],[0.2222222222222222,\"#7201a8\"],[0.3333333333333333,\"#9c179e\"],[0.4444444444444444,\"#bd3786\"],[0.5555555555555556,\"#d8576b\"],[0.6666666666666666,\"#ed7953\"],[0.7777777777777778,\"#fb9f3a\"],[0.8888888888888888,\"#fdca26\"],[1.0,\"#f0f921\"]]}],\"surface\":[{\"type\":\"surface\",\"colorbar\":{\"outlinewidth\":0,\"ticks\":\"\"},\"colorscale\":[[0.0,\"#0d0887\"],[0.1111111111111111,\"#46039f\"],[0.2222222222222222,\"#7201a8\"],[0.3333333333333333,\"#9c179e\"],[0.4444444444444444,\"#bd3786\"],[0.5555555555555556,\"#d8576b\"],[0.6666666666666666,\"#ed7953\"],[0.7777777777777778,\"#fb9f3a\"],[0.8888888888888888,\"#fdca26\"],[1.0,\"#f0f921\"]]}],\"mesh3d\":[{\"type\":\"mesh3d\",\"colorbar\":{\"outlinewidth\":0,\"ticks\":\"\"}}],\"scatter\":[{\"fillpattern\":{\"fillmode\":\"overlay\",\"size\":10,\"solidity\":0.2},\"type\":\"scatter\"}],\"parcoords\":[{\"type\":\"parcoords\",\"line\":{\"colorbar\":{\"outlinewidth\":0,\"ticks\":\"\"}}}],\"scatterpolargl\":[{\"type\":\"scatterpolargl\",\"marker\":{\"colorbar\":{\"outlinewidth\":0,\"ticks\":\"\"}}}],\"bar\":[{\"error_x\":{\"color\":\"#2a3f5f\"},\"error_y\":{\"color\":\"#2a3f5f\"},\"marker\":{\"line\":{\"color\":\"#E5ECF6\",\"width\":0.5},\"pattern\":{\"fillmode\":\"overlay\",\"size\":10,\"solidity\":0.2}},\"type\":\"bar\"}],\"scattergeo\":[{\"type\":\"scattergeo\",\"marker\":{\"colorbar\":{\"outlinewidth\":0,\"ticks\":\"\"}}}],\"scatterpolar\":[{\"type\":\"scatterpolar\",\"marker\":{\"colorbar\":{\"outlinewidth\":0,\"ticks\":\"\"}}}],\"histogram\":[{\"marker\":{\"pattern\":{\"fillmode\":\"overlay\",\"size\":10,\"solidity\":0.2}},\"type\":\"histogram\"}],\"scattergl\":[{\"type\":\"scattergl\",\"marker\":{\"colorbar\":{\"outlinewidth\":0,\"ticks\":\"\"}}}],\"scatter3d\":[{\"type\":\"scatter3d\",\"line\":{\"colorbar\":{\"outlinewidth\":0,\"ticks\":\"\"}},\"marker\":{\"colorbar\":{\"outlinewidth\":0,\"ticks\":\"\"}}}],\"scattermapbox\":[{\"type\":\"scattermapbox\",\"marker\":{\"colorbar\":{\"outlinewidth\":0,\"ticks\":\"\"}}}],\"scatterternary\":[{\"type\":\"scatterternary\",\"marker\":{\"colorbar\":{\"outlinewidth\":0,\"ticks\":\"\"}}}],\"scattercarpet\":[{\"type\":\"scattercarpet\",\"marker\":{\"colorbar\":{\"outlinewidth\":0,\"ticks\":\"\"}}}],\"carpet\":[{\"aaxis\":{\"endlinecolor\":\"#2a3f5f\",\"gridcolor\":\"white\",\"linecolor\":\"white\",\"minorgridcolor\":\"white\",\"startlinecolor\":\"#2a3f5f\"},\"baxis\":{\"endlinecolor\":\"#2a3f5f\",\"gridcolor\":\"white\",\"linecolor\":\"white\",\"minorgridcolor\":\"white\",\"startlinecolor\":\"#2a3f5f\"},\"type\":\"carpet\"}],\"table\":[{\"cells\":{\"fill\":{\"color\":\"#EBF0F8\"},\"line\":{\"color\":\"white\"}},\"header\":{\"fill\":{\"color\":\"#C8D4E3\"},\"line\":{\"color\":\"white\"}},\"type\":\"table\"}],\"barpolar\":[{\"marker\":{\"line\":{\"color\":\"#E5ECF6\",\"width\":0.5},\"pattern\":{\"fillmode\":\"overlay\",\"size\":10,\"solidity\":0.2}},\"type\":\"barpolar\"}],\"pie\":[{\"automargin\":true,\"type\":\"pie\"}]},\"layout\":{\"autotypenumbers\":\"strict\",\"colorway\":[\"#636efa\",\"#EF553B\",\"#00cc96\",\"#ab63fa\",\"#FFA15A\",\"#19d3f3\",\"#FF6692\",\"#B6E880\",\"#FF97FF\",\"#FECB52\"],\"font\":{\"color\":\"#2a3f5f\"},\"hovermode\":\"closest\",\"hoverlabel\":{\"align\":\"left\"},\"paper_bgcolor\":\"white\",\"plot_bgcolor\":\"#E5ECF6\",\"polar\":{\"bgcolor\":\"#E5ECF6\",\"angularaxis\":{\"gridcolor\":\"white\",\"linecolor\":\"white\",\"ticks\":\"\"},\"radialaxis\":{\"gridcolor\":\"white\",\"linecolor\":\"white\",\"ticks\":\"\"}},\"ternary\":{\"bgcolor\":\"#E5ECF6\",\"aaxis\":{\"gridcolor\":\"white\",\"linecolor\":\"white\",\"ticks\":\"\"},\"baxis\":{\"gridcolor\":\"white\",\"linecolor\":\"white\",\"ticks\":\"\"},\"caxis\":{\"gridcolor\":\"white\",\"linecolor\":\"white\",\"ticks\":\"\"}},\"coloraxis\":{\"colorbar\":{\"outlinewidth\":0,\"ticks\":\"\"}},\"colorscale\":{\"sequential\":[[0.0,\"#0d0887\"],[0.1111111111111111,\"#46039f\"],[0.2222222222222222,\"#7201a8\"],[0.3333333333333333,\"#9c179e\"],[0.4444444444444444,\"#bd3786\"],[0.5555555555555556,\"#d8576b\"],[0.6666666666666666,\"#ed7953\"],[0.7777777777777778,\"#fb9f3a\"],[0.8888888888888888,\"#fdca26\"],[1.0,\"#f0f921\"]],\"sequentialminus\":[[0.0,\"#0d0887\"],[0.1111111111111111,\"#46039f\"],[0.2222222222222222,\"#7201a8\"],[0.3333333333333333,\"#9c179e\"],[0.4444444444444444,\"#bd3786\"],[0.5555555555555556,\"#d8576b\"],[0.6666666666666666,\"#ed7953\"],[0.7777777777777778,\"#fb9f3a\"],[0.8888888888888888,\"#fdca26\"],[1.0,\"#f0f921\"]],\"diverging\":[[0,\"#8e0152\"],[0.1,\"#c51b7d\"],[0.2,\"#de77ae\"],[0.3,\"#f1b6da\"],[0.4,\"#fde0ef\"],[0.5,\"#f7f7f7\"],[0.6,\"#e6f5d0\"],[0.7,\"#b8e186\"],[0.8,\"#7fbc41\"],[0.9,\"#4d9221\"],[1,\"#276419\"]]},\"xaxis\":{\"gridcolor\":\"white\",\"linecolor\":\"white\",\"ticks\":\"\",\"title\":{\"standoff\":15},\"zerolinecolor\":\"white\",\"automargin\":true,\"zerolinewidth\":2},\"yaxis\":{\"gridcolor\":\"white\",\"linecolor\":\"white\",\"ticks\":\"\",\"title\":{\"standoff\":15},\"zerolinecolor\":\"white\",\"automargin\":true,\"zerolinewidth\":2},\"scene\":{\"xaxis\":{\"backgroundcolor\":\"#E5ECF6\",\"gridcolor\":\"white\",\"linecolor\":\"white\",\"showbackground\":true,\"ticks\":\"\",\"zerolinecolor\":\"white\",\"gridwidth\":2},\"yaxis\":{\"backgroundcolor\":\"#E5ECF6\",\"gridcolor\":\"white\",\"linecolor\":\"white\",\"showbackground\":true,\"ticks\":\"\",\"zerolinecolor\":\"white\",\"gridwidth\":2},\"zaxis\":{\"backgroundcolor\":\"#E5ECF6\",\"gridcolor\":\"white\",\"linecolor\":\"white\",\"showbackground\":true,\"ticks\":\"\",\"zerolinecolor\":\"white\",\"gridwidth\":2}},\"shapedefaults\":{\"line\":{\"color\":\"#2a3f5f\"}},\"annotationdefaults\":{\"arrowcolor\":\"#2a3f5f\",\"arrowhead\":0,\"arrowwidth\":1},\"geo\":{\"bgcolor\":\"white\",\"landcolor\":\"#E5ECF6\",\"subunitcolor\":\"white\",\"showland\":true,\"showlakes\":true,\"lakecolor\":\"white\"},\"title\":{\"x\":0.05},\"mapbox\":{\"style\":\"light\"}}},\"xaxis\":{\"anchor\":\"y\",\"domain\":[0.0,0.45],\"title\":{\"text\":\"Number of times word appears in the text\"}},\"yaxis\":{\"anchor\":\"x\",\"domain\":[0.625,1.0],\"title\":{\"text\":\"Number of words\"}},\"xaxis2\":{\"anchor\":\"y2\",\"domain\":[0.55,1.0],\"title\":{\"text\":\"Number of times word appears in the text\"}},\"yaxis2\":{\"anchor\":\"x2\",\"domain\":[0.625,1.0],\"title\":{\"text\":\"Number of words\"}},\"xaxis3\":{\"anchor\":\"y3\",\"domain\":[0.0,0.45],\"title\":{\"text\":\"Number of times word appears in the text\"}},\"yaxis3\":{\"anchor\":\"x3\",\"domain\":[0.0,0.375],\"title\":{\"text\":\"Number of words\"}},\"xaxis4\":{\"anchor\":\"y4\",\"domain\":[0.55,1.0],\"title\":{\"text\":\"Number of times word appears in the text\"}},\"yaxis4\":{\"anchor\":\"x4\",\"domain\":[0.0,0.375],\"title\":{\"text\":\"Number of words\"}},\"annotations\":[{\"font\":{\"size\":16},\"showarrow\":false,\"text\":\"Tokenized\",\"x\":0.225,\"xanchor\":\"center\",\"xref\":\"paper\",\"y\":1.0,\"yanchor\":\"bottom\",\"yref\":\"paper\"},{\"font\":{\"size\":16},\"showarrow\":false,\"text\":\"Filtered & tokenized\",\"x\":0.775,\"xanchor\":\"center\",\"xref\":\"paper\",\"y\":1.0,\"yanchor\":\"bottom\",\"yref\":\"paper\"},{\"font\":{\"size\":16},\"showarrow\":false,\"text\":\"Stemmed & tokenized\",\"x\":0.225,\"xanchor\":\"center\",\"xref\":\"paper\",\"y\":0.375,\"yanchor\":\"bottom\",\"yref\":\"paper\"},{\"font\":{\"size\":16},\"showarrow\":false,\"text\":\"Stemmed, filtered & tokenized\",\"x\":0.775,\"xanchor\":\"center\",\"xref\":\"paper\",\"y\":0.375,\"yanchor\":\"bottom\",\"yref\":\"paper\"}],\"showlegend\":false},                        {\"responsive\": true}                    ).then(function(){\n",
              "                            \n",
              "var gd = document.getElementById('01326b0a-ca0f-418e-b538-f185f299dc33');\n",
              "var x = new MutationObserver(function (mutations, observer) {{\n",
              "        var display = window.getComputedStyle(gd).display;\n",
              "        if (!display || display === 'none') {{\n",
              "            console.log([gd, 'removed!']);\n",
              "            Plotly.purge(gd);\n",
              "            observer.disconnect();\n",
              "        }}\n",
              "}});\n",
              "\n",
              "// Listen for the removal of the full notebook cells\n",
              "var notebookContainer = gd.closest('#notebook-container');\n",
              "if (notebookContainer) {{\n",
              "    x.observe(notebookContainer, {childList: true});\n",
              "}}\n",
              "\n",
              "// Listen for the clearing of the current output cell\n",
              "var outputEl = gd.closest('.output');\n",
              "if (outputEl) {{\n",
              "    x.observe(outputEl, {childList: true});\n",
              "}}\n",
              "\n",
              "                        })                };                            </script>        </div>\n",
              "</body>\n",
              "</html>"
            ]
          },
          "metadata": {}
        }
      ]
    },
    {
      "cell_type": "code",
      "source": [
        "import plotly.express as px\n",
        "\n",
        "name = \"Filtered & tokenized\"\n",
        "data = word_frequency[name]\n",
        "\n",
        "fig = px.scatter(\n",
        "    x=[item[0] for item in data],\n",
        "    y=[item[1] for item in data],\n",
        "    labels={\n",
        "        \"x\": \"Number of times word appears in the text\",\n",
        "        \"y\": \"Number of words with this frequency\",\n",
        "    },\n",
        "    title=name\n",
        ")\n",
        "fig.show()"
      ],
      "metadata": {
        "id": "T53LV_4kgxJM",
        "outputId": "51109441-fa94-4bc1-f385-7730e5917c96",
        "colab": {
          "base_uri": "https://localhost:8080/",
          "height": 542
        }
      },
      "id": "T53LV_4kgxJM",
      "execution_count": 48,
      "outputs": [
        {
          "output_type": "display_data",
          "data": {
            "text/html": [
              "<html>\n",
              "<head><meta charset=\"utf-8\" /></head>\n",
              "<body>\n",
              "    <div>            <script src=\"https://cdnjs.cloudflare.com/ajax/libs/mathjax/2.7.5/MathJax.js?config=TeX-AMS-MML_SVG\"></script><script type=\"text/javascript\">if (window.MathJax && window.MathJax.Hub && window.MathJax.Hub.Config) {window.MathJax.Hub.Config({SVG: {font: \"STIX-Web\"}});}</script>                <script type=\"text/javascript\">window.PlotlyConfig = {MathJaxConfig: 'local'};</script>\n",
              "        <script charset=\"utf-8\" src=\"https://cdn.plot.ly/plotly-2.24.1.min.js\"></script>                <div id=\"be06867a-669c-4f5c-b817-e8839da13cc0\" class=\"plotly-graph-div\" style=\"height:525px; width:100%;\"></div>            <script type=\"text/javascript\">                                    window.PLOTLYENV=window.PLOTLYENV || {};                                    if (document.getElementById(\"be06867a-669c-4f5c-b817-e8839da13cc0\")) {                    Plotly.newPlot(                        \"be06867a-669c-4f5c-b817-e8839da13cc0\",                        [{\"hovertemplate\":\"Number of times word appears in the text=%{x}\\u003cbr\\u003eNumber of words with this frequency=%{y}\\u003cextra\\u003e\\u003c\\u002fextra\\u003e\",\"legendgroup\":\"\",\"marker\":{\"color\":\"#636efa\",\"symbol\":\"circle\"},\"mode\":\"markers\",\"name\":\"\",\"orientation\":\"v\",\"showlegend\":false,\"x\":[1,2,3,4,5,6,7,8,9,10,11,12,13,14,15,16,18,17,20,19,24,22,21,23,26,25,28,27,29,31,30,32,38,35,33,45,37,36,34,46,53,48,40,41,39,49,65,51,52,44,42,57,54,47,59,55,58,43,56,60,64,76,82,132,62,69,61,63,99,78,50,71,74,193,72,77,139,104,93,151,101,67,96,97,73,70,87,95,85,129,149,105,137,108,126,138,94,66,161,121,89,80,79,92,162,147,199,110,191,128,177,111,106,155,197,143,86,142,140,123,131,100,185,173,255,237,84,333,249,421,244,252,236,271,154,83,239,158,251,98,91,160,109,292,245,75,112,118,116,117,114,280,88,90,214,141,357,2625,1634,272,343,321,279,231,206,216,332,963,152,241,574,381,519,209,717,113,913,1199,986,420,324,640,1872,481,204,228,290,232,181,167,314,389,434,405,677,1054,220,364,301,293,336,242,688,270,444,526,374,165,304,973,200,327,175,229,442,356,125,509,198,81,68,898,316,274,344,367,287,120,234,180,211,926,122,184,296,248,144,282,813,522,219,153,210,134,358,499,281,354,189,1621,107,489,877,183,201,380,145,171,298,221,507,119,136,157],\"xaxis\":\"x\",\"y\":[11734,3626,1857,1105,802,558,385,339,267,234,204,161,151,134,123,102,89,84,73,71,57,57,56,47,45,43,42,38,34,33,33,31,24,24,23,21,20,20,19,18,18,18,18,18,17,17,14,14,14,14,14,13,13,13,12,12,11,10,10,9,9,9,9,9,9,9,9,8,8,8,8,7,7,7,7,7,7,7,7,6,6,6,6,6,6,6,5,5,5,4,4,4,4,4,4,4,4,4,4,4,4,4,4,3,3,3,3,3,3,3,3,3,3,3,3,3,3,3,3,3,3,3,2,2,2,2,2,2,2,2,2,2,2,2,2,2,2,2,2,2,2,2,2,2,2,2,2,2,2,2,2,2,2,2,2,2,1,1,1,1,1,1,1,1,1,1,1,1,1,1,1,1,1,1,1,1,1,1,1,1,1,1,1,1,1,1,1,1,1,1,1,1,1,1,1,1,1,1,1,1,1,1,1,1,1,1,1,1,1,1,1,1,1,1,1,1,1,1,1,1,1,1,1,1,1,1,1,1,1,1,1,1,1,1,1,1,1,1,1,1,1,1,1,1,1,1,1,1,1,1,1,1,1,1,1,1,1,1,1,1,1,1,1,1],\"yaxis\":\"y\",\"type\":\"scatter\"}],                        {\"template\":{\"data\":{\"histogram2dcontour\":[{\"type\":\"histogram2dcontour\",\"colorbar\":{\"outlinewidth\":0,\"ticks\":\"\"},\"colorscale\":[[0.0,\"#0d0887\"],[0.1111111111111111,\"#46039f\"],[0.2222222222222222,\"#7201a8\"],[0.3333333333333333,\"#9c179e\"],[0.4444444444444444,\"#bd3786\"],[0.5555555555555556,\"#d8576b\"],[0.6666666666666666,\"#ed7953\"],[0.7777777777777778,\"#fb9f3a\"],[0.8888888888888888,\"#fdca26\"],[1.0,\"#f0f921\"]]}],\"choropleth\":[{\"type\":\"choropleth\",\"colorbar\":{\"outlinewidth\":0,\"ticks\":\"\"}}],\"histogram2d\":[{\"type\":\"histogram2d\",\"colorbar\":{\"outlinewidth\":0,\"ticks\":\"\"},\"colorscale\":[[0.0,\"#0d0887\"],[0.1111111111111111,\"#46039f\"],[0.2222222222222222,\"#7201a8\"],[0.3333333333333333,\"#9c179e\"],[0.4444444444444444,\"#bd3786\"],[0.5555555555555556,\"#d8576b\"],[0.6666666666666666,\"#ed7953\"],[0.7777777777777778,\"#fb9f3a\"],[0.8888888888888888,\"#fdca26\"],[1.0,\"#f0f921\"]]}],\"heatmap\":[{\"type\":\"heatmap\",\"colorbar\":{\"outlinewidth\":0,\"ticks\":\"\"},\"colorscale\":[[0.0,\"#0d0887\"],[0.1111111111111111,\"#46039f\"],[0.2222222222222222,\"#7201a8\"],[0.3333333333333333,\"#9c179e\"],[0.4444444444444444,\"#bd3786\"],[0.5555555555555556,\"#d8576b\"],[0.6666666666666666,\"#ed7953\"],[0.7777777777777778,\"#fb9f3a\"],[0.8888888888888888,\"#fdca26\"],[1.0,\"#f0f921\"]]}],\"heatmapgl\":[{\"type\":\"heatmapgl\",\"colorbar\":{\"outlinewidth\":0,\"ticks\":\"\"},\"colorscale\":[[0.0,\"#0d0887\"],[0.1111111111111111,\"#46039f\"],[0.2222222222222222,\"#7201a8\"],[0.3333333333333333,\"#9c179e\"],[0.4444444444444444,\"#bd3786\"],[0.5555555555555556,\"#d8576b\"],[0.6666666666666666,\"#ed7953\"],[0.7777777777777778,\"#fb9f3a\"],[0.8888888888888888,\"#fdca26\"],[1.0,\"#f0f921\"]]}],\"contourcarpet\":[{\"type\":\"contourcarpet\",\"colorbar\":{\"outlinewidth\":0,\"ticks\":\"\"}}],\"contour\":[{\"type\":\"contour\",\"colorbar\":{\"outlinewidth\":0,\"ticks\":\"\"},\"colorscale\":[[0.0,\"#0d0887\"],[0.1111111111111111,\"#46039f\"],[0.2222222222222222,\"#7201a8\"],[0.3333333333333333,\"#9c179e\"],[0.4444444444444444,\"#bd3786\"],[0.5555555555555556,\"#d8576b\"],[0.6666666666666666,\"#ed7953\"],[0.7777777777777778,\"#fb9f3a\"],[0.8888888888888888,\"#fdca26\"],[1.0,\"#f0f921\"]]}],\"surface\":[{\"type\":\"surface\",\"colorbar\":{\"outlinewidth\":0,\"ticks\":\"\"},\"colorscale\":[[0.0,\"#0d0887\"],[0.1111111111111111,\"#46039f\"],[0.2222222222222222,\"#7201a8\"],[0.3333333333333333,\"#9c179e\"],[0.4444444444444444,\"#bd3786\"],[0.5555555555555556,\"#d8576b\"],[0.6666666666666666,\"#ed7953\"],[0.7777777777777778,\"#fb9f3a\"],[0.8888888888888888,\"#fdca26\"],[1.0,\"#f0f921\"]]}],\"mesh3d\":[{\"type\":\"mesh3d\",\"colorbar\":{\"outlinewidth\":0,\"ticks\":\"\"}}],\"scatter\":[{\"fillpattern\":{\"fillmode\":\"overlay\",\"size\":10,\"solidity\":0.2},\"type\":\"scatter\"}],\"parcoords\":[{\"type\":\"parcoords\",\"line\":{\"colorbar\":{\"outlinewidth\":0,\"ticks\":\"\"}}}],\"scatterpolargl\":[{\"type\":\"scatterpolargl\",\"marker\":{\"colorbar\":{\"outlinewidth\":0,\"ticks\":\"\"}}}],\"bar\":[{\"error_x\":{\"color\":\"#2a3f5f\"},\"error_y\":{\"color\":\"#2a3f5f\"},\"marker\":{\"line\":{\"color\":\"#E5ECF6\",\"width\":0.5},\"pattern\":{\"fillmode\":\"overlay\",\"size\":10,\"solidity\":0.2}},\"type\":\"bar\"}],\"scattergeo\":[{\"type\":\"scattergeo\",\"marker\":{\"colorbar\":{\"outlinewidth\":0,\"ticks\":\"\"}}}],\"scatterpolar\":[{\"type\":\"scatterpolar\",\"marker\":{\"colorbar\":{\"outlinewidth\":0,\"ticks\":\"\"}}}],\"histogram\":[{\"marker\":{\"pattern\":{\"fillmode\":\"overlay\",\"size\":10,\"solidity\":0.2}},\"type\":\"histogram\"}],\"scattergl\":[{\"type\":\"scattergl\",\"marker\":{\"colorbar\":{\"outlinewidth\":0,\"ticks\":\"\"}}}],\"scatter3d\":[{\"type\":\"scatter3d\",\"line\":{\"colorbar\":{\"outlinewidth\":0,\"ticks\":\"\"}},\"marker\":{\"colorbar\":{\"outlinewidth\":0,\"ticks\":\"\"}}}],\"scattermapbox\":[{\"type\":\"scattermapbox\",\"marker\":{\"colorbar\":{\"outlinewidth\":0,\"ticks\":\"\"}}}],\"scatterternary\":[{\"type\":\"scatterternary\",\"marker\":{\"colorbar\":{\"outlinewidth\":0,\"ticks\":\"\"}}}],\"scattercarpet\":[{\"type\":\"scattercarpet\",\"marker\":{\"colorbar\":{\"outlinewidth\":0,\"ticks\":\"\"}}}],\"carpet\":[{\"aaxis\":{\"endlinecolor\":\"#2a3f5f\",\"gridcolor\":\"white\",\"linecolor\":\"white\",\"minorgridcolor\":\"white\",\"startlinecolor\":\"#2a3f5f\"},\"baxis\":{\"endlinecolor\":\"#2a3f5f\",\"gridcolor\":\"white\",\"linecolor\":\"white\",\"minorgridcolor\":\"white\",\"startlinecolor\":\"#2a3f5f\"},\"type\":\"carpet\"}],\"table\":[{\"cells\":{\"fill\":{\"color\":\"#EBF0F8\"},\"line\":{\"color\":\"white\"}},\"header\":{\"fill\":{\"color\":\"#C8D4E3\"},\"line\":{\"color\":\"white\"}},\"type\":\"table\"}],\"barpolar\":[{\"marker\":{\"line\":{\"color\":\"#E5ECF6\",\"width\":0.5},\"pattern\":{\"fillmode\":\"overlay\",\"size\":10,\"solidity\":0.2}},\"type\":\"barpolar\"}],\"pie\":[{\"automargin\":true,\"type\":\"pie\"}]},\"layout\":{\"autotypenumbers\":\"strict\",\"colorway\":[\"#636efa\",\"#EF553B\",\"#00cc96\",\"#ab63fa\",\"#FFA15A\",\"#19d3f3\",\"#FF6692\",\"#B6E880\",\"#FF97FF\",\"#FECB52\"],\"font\":{\"color\":\"#2a3f5f\"},\"hovermode\":\"closest\",\"hoverlabel\":{\"align\":\"left\"},\"paper_bgcolor\":\"white\",\"plot_bgcolor\":\"#E5ECF6\",\"polar\":{\"bgcolor\":\"#E5ECF6\",\"angularaxis\":{\"gridcolor\":\"white\",\"linecolor\":\"white\",\"ticks\":\"\"},\"radialaxis\":{\"gridcolor\":\"white\",\"linecolor\":\"white\",\"ticks\":\"\"}},\"ternary\":{\"bgcolor\":\"#E5ECF6\",\"aaxis\":{\"gridcolor\":\"white\",\"linecolor\":\"white\",\"ticks\":\"\"},\"baxis\":{\"gridcolor\":\"white\",\"linecolor\":\"white\",\"ticks\":\"\"},\"caxis\":{\"gridcolor\":\"white\",\"linecolor\":\"white\",\"ticks\":\"\"}},\"coloraxis\":{\"colorbar\":{\"outlinewidth\":0,\"ticks\":\"\"}},\"colorscale\":{\"sequential\":[[0.0,\"#0d0887\"],[0.1111111111111111,\"#46039f\"],[0.2222222222222222,\"#7201a8\"],[0.3333333333333333,\"#9c179e\"],[0.4444444444444444,\"#bd3786\"],[0.5555555555555556,\"#d8576b\"],[0.6666666666666666,\"#ed7953\"],[0.7777777777777778,\"#fb9f3a\"],[0.8888888888888888,\"#fdca26\"],[1.0,\"#f0f921\"]],\"sequentialminus\":[[0.0,\"#0d0887\"],[0.1111111111111111,\"#46039f\"],[0.2222222222222222,\"#7201a8\"],[0.3333333333333333,\"#9c179e\"],[0.4444444444444444,\"#bd3786\"],[0.5555555555555556,\"#d8576b\"],[0.6666666666666666,\"#ed7953\"],[0.7777777777777778,\"#fb9f3a\"],[0.8888888888888888,\"#fdca26\"],[1.0,\"#f0f921\"]],\"diverging\":[[0,\"#8e0152\"],[0.1,\"#c51b7d\"],[0.2,\"#de77ae\"],[0.3,\"#f1b6da\"],[0.4,\"#fde0ef\"],[0.5,\"#f7f7f7\"],[0.6,\"#e6f5d0\"],[0.7,\"#b8e186\"],[0.8,\"#7fbc41\"],[0.9,\"#4d9221\"],[1,\"#276419\"]]},\"xaxis\":{\"gridcolor\":\"white\",\"linecolor\":\"white\",\"ticks\":\"\",\"title\":{\"standoff\":15},\"zerolinecolor\":\"white\",\"automargin\":true,\"zerolinewidth\":2},\"yaxis\":{\"gridcolor\":\"white\",\"linecolor\":\"white\",\"ticks\":\"\",\"title\":{\"standoff\":15},\"zerolinecolor\":\"white\",\"automargin\":true,\"zerolinewidth\":2},\"scene\":{\"xaxis\":{\"backgroundcolor\":\"#E5ECF6\",\"gridcolor\":\"white\",\"linecolor\":\"white\",\"showbackground\":true,\"ticks\":\"\",\"zerolinecolor\":\"white\",\"gridwidth\":2},\"yaxis\":{\"backgroundcolor\":\"#E5ECF6\",\"gridcolor\":\"white\",\"linecolor\":\"white\",\"showbackground\":true,\"ticks\":\"\",\"zerolinecolor\":\"white\",\"gridwidth\":2},\"zaxis\":{\"backgroundcolor\":\"#E5ECF6\",\"gridcolor\":\"white\",\"linecolor\":\"white\",\"showbackground\":true,\"ticks\":\"\",\"zerolinecolor\":\"white\",\"gridwidth\":2}},\"shapedefaults\":{\"line\":{\"color\":\"#2a3f5f\"}},\"annotationdefaults\":{\"arrowcolor\":\"#2a3f5f\",\"arrowhead\":0,\"arrowwidth\":1},\"geo\":{\"bgcolor\":\"white\",\"landcolor\":\"#E5ECF6\",\"subunitcolor\":\"white\",\"showland\":true,\"showlakes\":true,\"lakecolor\":\"white\"},\"title\":{\"x\":0.05},\"mapbox\":{\"style\":\"light\"}}},\"xaxis\":{\"anchor\":\"y\",\"domain\":[0.0,1.0],\"title\":{\"text\":\"Number of times word appears in the text\"}},\"yaxis\":{\"anchor\":\"x\",\"domain\":[0.0,1.0],\"title\":{\"text\":\"Number of words with this frequency\"}},\"legend\":{\"tracegroupgap\":0},\"title\":{\"text\":\"Filtered & tokenized\"}},                        {\"responsive\": true}                    ).then(function(){\n",
              "                            \n",
              "var gd = document.getElementById('be06867a-669c-4f5c-b817-e8839da13cc0');\n",
              "var x = new MutationObserver(function (mutations, observer) {{\n",
              "        var display = window.getComputedStyle(gd).display;\n",
              "        if (!display || display === 'none') {{\n",
              "            console.log([gd, 'removed!']);\n",
              "            Plotly.purge(gd);\n",
              "            observer.disconnect();\n",
              "        }}\n",
              "}});\n",
              "\n",
              "// Listen for the removal of the full notebook cells\n",
              "var notebookContainer = gd.closest('#notebook-container');\n",
              "if (notebookContainer) {{\n",
              "    x.observe(notebookContainer, {childList: true});\n",
              "}}\n",
              "\n",
              "// Listen for the clearing of the current output cell\n",
              "var outputEl = gd.closest('.output');\n",
              "if (outputEl) {{\n",
              "    x.observe(outputEl, {childList: true});\n",
              "}}\n",
              "\n",
              "                        })                };                            </script>        </div>\n",
              "</body>\n",
              "</html>"
            ]
          },
          "metadata": {}
        }
      ]
    },
    {
      "cell_type": "markdown",
      "source": [
        "---\n",
        "\n",
        "__Exercise 2.__ Now, plot the same but use _logarithmic_ $x$ and $y$ axes.\n",
        "\n",
        "---\n",
        "\n",
        "If our distribution is a powerlaw, this plot should be a straight line, whose slope is $a$\n",
        "and intercept is $\\log c$. If we put back the $b$ parameter, it distorts a bit the\n",
        "low values, so in order to estimate $a$ and $c$ we have to pay attention to the large values."
      ],
      "metadata": {
        "id": "Sqc1iFy_e-FT"
      },
      "id": "Sqc1iFy_e-FT"
    },
    {
      "cell_type": "code",
      "source": [
        "fig = make_subplots(rows=2, cols=2, subplot_titles=([name for name in word_frequency.keys()]))\n",
        "\n",
        "for i, (name, data) in enumerate(word_frequency.items()):\n",
        "    r = 1 + int(bool(max(0, i - 1)))\n",
        "    c = 1 + int(bool(i % 2))\n",
        "    fig.add_trace(\n",
        "        go.Scatter(\n",
        "            x=[item[0] for item in data],\n",
        "            y=[item[1] for item in data],\n",
        "            mode=\"markers\",\n",
        "        ),\n",
        "        row=r, col=c,\n",
        "\n",
        "    )\n",
        "    fig.update_xaxes(title_text=\"Number of times word appears in the text\", type=\"log\", row=r, col=c)\n",
        "    fig.update_yaxes(title_text=\"Number of words\", type=\"log\", row=r, col=c)\n",
        "fig.update_layout(showlegend=False)\n",
        "fig.show()"
      ],
      "metadata": {
        "id": "yJg3ZTovfB7L",
        "outputId": "06176271-31a7-4ecb-9d9f-9e90d96be4f5",
        "colab": {
          "base_uri": "https://localhost:8080/",
          "height": 542
        }
      },
      "id": "yJg3ZTovfB7L",
      "execution_count": 45,
      "outputs": [
        {
          "output_type": "display_data",
          "data": {
            "text/html": [
              "<html>\n",
              "<head><meta charset=\"utf-8\" /></head>\n",
              "<body>\n",
              "    <div>            <script src=\"https://cdnjs.cloudflare.com/ajax/libs/mathjax/2.7.5/MathJax.js?config=TeX-AMS-MML_SVG\"></script><script type=\"text/javascript\">if (window.MathJax && window.MathJax.Hub && window.MathJax.Hub.Config) {window.MathJax.Hub.Config({SVG: {font: \"STIX-Web\"}});}</script>                <script type=\"text/javascript\">window.PlotlyConfig = {MathJaxConfig: 'local'};</script>\n",
              "        <script charset=\"utf-8\" src=\"https://cdn.plot.ly/plotly-2.24.1.min.js\"></script>                <div id=\"c93b4edd-8fa5-4a2e-b7d7-e016019098a7\" class=\"plotly-graph-div\" style=\"height:525px; width:100%;\"></div>            <script type=\"text/javascript\">                                    window.PLOTLYENV=window.PLOTLYENV || {};                                    if (document.getElementById(\"c93b4edd-8fa5-4a2e-b7d7-e016019098a7\")) {                    Plotly.newPlot(                        \"c93b4edd-8fa5-4a2e-b7d7-e016019098a7\",                        [{\"mode\":\"markers\",\"x\":[1,2,3,4,5,6,7,8,9,10,11,12,13,14,15,16,17,18,19,20,22,24,21,23,25,26,27,28,30,31,29,34,32,37,33,35,41,38,45,36,54,46,53,40,39,52,49,48,47,57,65,44,42,43,61,56,58,63,50,51,64,74,55,76,93,69,71,72,59,82,99,77,139,73,70,85,67,80,104,84,97,62,78,60,137,193,96,108,138,161,98,89,117,100,126,87,142,249,148,95,94,136,66,92,106,114,81,68,132,173,101,216,236,129,149,109,91,110,128,105,280,160,155,75,197,131,150,90,125,115,143,130,121,141,79,158,181,250,204,185,209,409,188,233,1323,151,196,230,191,124,239,177,251,103,501,301,292,162,336,111,119,276,194,198,219,353,281,127,140,122,170,147,88,113,134,123,83,86,357,2430,2528,1630,17748,10074,7860,16962,268,1899,342,39688,5708,1039,285,321,20308,4634,7775,2008,3383,278,223,3302,1393,4018,1037,3347,4644,329,1308,9433,899,7838,2215,4745,733,152,314,241,573,341,1180,838,451,379,517,3707,369,633,244,603,461,1074,913,413,269,790,252,3366,1195,953,199,704,154,619,2026,120,1665,416,324,2324,802,437,556,1775,527,479,328,226,1664,1125,253,447,1024,174,1233,167,309,388,434,758,405,669,360,1054,474,212,364,697,283,624,288,242,688,255,439,526,118,348,554,165,279,939,184,200,308,175,440,599,1839,383,354,345,320,192,690,898,497,316,949,683,558,273,343,271,373,245,487,578,287,709,521,2058,179,211,907,248,238,397,813,522,267,153,262,112,187,237,201,356,425,486,313,214,1620,107,462,877,445,182,346,376,374,254,145,144,296,220,507,133,176],\"y\":[12623,3764,1905,1145,826,570,420,358,273,231,209,174,153,129,126,104,92,88,80,76,63,57,56,53,47,45,42,40,37,32,29,28,27,25,23,23,22,20,20,19,19,18,18,18,17,17,17,16,16,16,15,15,15,14,14,12,12,11,11,11,10,10,10,9,9,9,8,8,8,7,7,7,7,7,7,7,6,6,6,6,6,6,6,6,5,5,5,5,5,5,5,5,5,5,4,4,4,4,4,4,4,4,4,4,4,4,4,4,4,3,3,3,3,3,3,3,3,3,3,3,3,3,3,3,3,3,3,3,3,3,3,3,3,3,3,2,2,2,2,2,2,2,2,2,2,2,2,2,2,2,2,2,2,2,2,2,2,2,2,2,2,2,2,2,2,2,2,2,2,2,2,2,2,2,2,2,2,2,1,1,1,1,1,1,1,1,1,1,1,1,1,1,1,1,1,1,1,1,1,1,1,1,1,1,1,1,1,1,1,1,1,1,1,1,1,1,1,1,1,1,1,1,1,1,1,1,1,1,1,1,1,1,1,1,1,1,1,1,1,1,1,1,1,1,1,1,1,1,1,1,1,1,1,1,1,1,1,1,1,1,1,1,1,1,1,1,1,1,1,1,1,1,1,1,1,1,1,1,1,1,1,1,1,1,1,1,1,1,1,1,1,1,1,1,1,1,1,1,1,1,1,1,1,1,1,1,1,1,1,1,1,1,1,1,1,1,1,1,1,1,1,1,1,1,1,1,1,1,1,1,1,1,1,1,1,1,1,1,1,1,1,1,1,1,1,1,1,1,1,1,1,1,1,1,1,1,1,1,1],\"type\":\"scatter\",\"xaxis\":\"x\",\"yaxis\":\"y\"},{\"mode\":\"markers\",\"x\":[1,2,3,4,5,6,7,8,9,10,11,12,13,14,15,16,18,17,20,19,24,22,21,23,26,25,28,27,29,31,30,32,38,35,33,45,37,36,34,46,53,48,40,41,39,49,65,51,52,44,42,57,54,47,59,55,58,43,56,60,64,76,82,132,62,69,61,63,99,78,50,71,74,193,72,77,139,104,93,151,101,67,96,97,73,70,87,95,85,129,149,105,137,108,126,138,94,66,161,121,89,80,79,92,162,147,199,110,191,128,177,111,106,155,197,143,86,142,140,123,131,100,185,173,255,237,84,333,249,421,244,252,236,271,154,83,239,158,251,98,91,160,109,292,245,75,112,118,116,117,114,280,88,90,214,141,357,2625,1634,272,343,321,279,231,206,216,332,963,152,241,574,381,519,209,717,113,913,1199,986,420,324,640,1872,481,204,228,290,232,181,167,314,389,434,405,677,1054,220,364,301,293,336,242,688,270,444,526,374,165,304,973,200,327,175,229,442,356,125,509,198,81,68,898,316,274,344,367,287,120,234,180,211,926,122,184,296,248,144,282,813,522,219,153,210,134,358,499,281,354,189,1621,107,489,877,183,201,380,145,171,298,221,507,119,136,157],\"y\":[11734,3626,1857,1105,802,558,385,339,267,234,204,161,151,134,123,102,89,84,73,71,57,57,56,47,45,43,42,38,34,33,33,31,24,24,23,21,20,20,19,18,18,18,18,18,17,17,14,14,14,14,14,13,13,13,12,12,11,10,10,9,9,9,9,9,9,9,9,8,8,8,8,7,7,7,7,7,7,7,7,6,6,6,6,6,6,6,5,5,5,4,4,4,4,4,4,4,4,4,4,4,4,4,4,3,3,3,3,3,3,3,3,3,3,3,3,3,3,3,3,3,3,3,2,2,2,2,2,2,2,2,2,2,2,2,2,2,2,2,2,2,2,2,2,2,2,2,2,2,2,2,2,2,2,2,2,2,1,1,1,1,1,1,1,1,1,1,1,1,1,1,1,1,1,1,1,1,1,1,1,1,1,1,1,1,1,1,1,1,1,1,1,1,1,1,1,1,1,1,1,1,1,1,1,1,1,1,1,1,1,1,1,1,1,1,1,1,1,1,1,1,1,1,1,1,1,1,1,1,1,1,1,1,1,1,1,1,1,1,1,1,1,1,1,1,1,1,1,1,1,1,1,1,1,1,1,1,1,1,1,1,1,1,1,1],\"type\":\"scatter\",\"xaxis\":\"x2\",\"yaxis\":\"y2\"},{\"mode\":\"markers\",\"x\":[1,2,3,4,5,6,7,8,10,9,11,12,13,18,14,16,15,17,19,21,22,20,23,25,35,28,24,27,26,29,32,34,31,30,38,37,33,36,47,52,45,50,41,39,43,40,54,59,61,55,46,60,53,51,72,77,42,69,58,71,57,49,48,64,67,125,63,44,88,93,76,134,180,113,78,132,74,90,97,85,106,66,138,102,65,109,83,80,101,73,99,56,84,127,120,206,131,100,252,155,70,75,118,111,62,89,571,162,191,280,94,92,86,167,271,139,161,142,116,123,135,151,145,104,79,173,147,115,114,124,108,68,82,170,154,153,137,241,214,226,231,246,129,351,949,103,519,741,492,324,199,152,110,528,311,156,242,193,98,421,210,518,177,393,401,130,327,185,160,293,128,235,81,289,144,169,184,195,166,148,122,105,126,292,347,189,178,175,117,141,507,325,212,121,136,107,87,95,309,2580,2634,1639,17985,10206,7860,20908,17875,8047,1907,343,39688,176,5899,532,1041,900,363,4694,220,1312,2255,3421,623,1002,3333,9305,1604,4126,1038,3404,341,237,5024,871,611,744,644,9652,993,2655,422,462,4745,749,338,1185,870,599,541,3769,331,452,1014,360,277,496,2080,717,779,665,339,439,774,239,2628,329,391,1905,302,3367,829,1199,1005,1381,736,384,760,715,2026,2175,1138,333,2324,1104,213,272,437,305,933,254,1333,2164,548,317,119,308,204,1699,1819,188,259,197,319,473,885,179,509,505,171,1087,531,677,299,385,1419,667,476,556,639,355,249,350,353,234,405,245,372,687,598,282,374,283,258,143,1706,256,332,279,510,194,797,601,1957,392,346,198,218,898,316,683,208,584,1115,274,222,379,388,494,301,461,287,568,709,497,524,410,149,995,172,133,444,583,270,233,820,522,406,266,211,300,417,370,225,290,112,1630,489,182,879,445,96,183,186,164,240,304,221,150,165,217,159],\"y\":[4573,1538,844,516,361,283,198,185,159,144,110,105,87,78,75,72,69,58,47,45,40,36,36,34,32,32,30,29,29,27,27,26,25,24,21,20,20,19,18,18,17,16,16,16,15,15,14,14,13,12,12,12,12,12,11,11,11,10,10,10,9,9,9,9,8,8,8,8,8,7,7,6,6,6,6,6,6,6,6,5,5,5,5,5,5,5,5,5,5,5,5,5,4,4,4,4,4,4,4,4,4,4,4,4,4,4,3,3,3,3,3,3,3,3,3,3,3,3,3,3,3,3,3,3,3,3,3,3,3,3,3,3,3,2,2,2,2,2,2,2,2,2,2,2,2,2,2,2,2,2,2,2,2,2,2,2,2,2,2,2,2,2,2,2,2,2,2,2,2,2,2,2,2,2,2,2,2,2,2,2,2,2,2,2,2,2,2,2,2,2,2,2,2,2,2,2,2,2,1,1,1,1,1,1,1,1,1,1,1,1,1,1,1,1,1,1,1,1,1,1,1,1,1,1,1,1,1,1,1,1,1,1,1,1,1,1,1,1,1,1,1,1,1,1,1,1,1,1,1,1,1,1,1,1,1,1,1,1,1,1,1,1,1,1,1,1,1,1,1,1,1,1,1,1,1,1,1,1,1,1,1,1,1,1,1,1,1,1,1,1,1,1,1,1,1,1,1,1,1,1,1,1,1,1,1,1,1,1,1,1,1,1,1,1,1,1,1,1,1,1,1,1,1,1,1,1,1,1,1,1,1,1,1,1,1,1,1,1,1,1,1,1,1,1,1,1,1,1,1,1,1,1,1,1,1,1,1,1,1,1,1,1,1,1,1,1,1,1,1,1,1,1,1,1,1,1,1,1,1,1,1,1,1,1,1,1,1,1,1,1,1,1,1,1,1,1,1,1,1,1,1],\"type\":\"scatter\",\"xaxis\":\"x3\",\"yaxis\":\"y3\"},{\"mode\":\"markers\",\"x\":[1,2,3,4,5,6,7,8,10,9,11,12,13,18,14,16,15,17,19,21,22,23,20,25,35,28,24,26,27,29,32,34,31,30,38,36,37,33,47,45,52,50,41,43,40,59,39,46,54,60,55,53,51,72,58,61,77,69,44,57,49,71,42,48,67,63,64,93,88,76,134,180,125,113,132,78,74,97,56,85,106,66,138,102,131,83,80,101,62,90,84,120,108,206,65,109,155,70,75,123,118,111,73,99,89,162,280,94,92,86,191,139,195,161,116,100,252,121,135,151,145,127,104,79,173,147,115,87,68,571,170,154,153,137,272,241,214,226,231,246,237,301,351,103,519,256,421,410,152,110,311,156,242,98,210,177,393,142,401,130,327,160,128,235,81,289,169,184,122,105,112,126,292,189,178,175,117,141,507,114,325,212,124,136,107,96,211,82,95,309,2634,1639,343,176,532,363,220,623,802,234,341,611,744,644,993,422,129,338,949,541,741,331,452,360,150,277,496,717,339,439,361,239,329,913,391,324,302,829,1199,1005,736,384,492,1138,333,933,254,1888,548,317,119,528,308,204,193,188,518,197,247,179,764,171,1087,531,677,299,1056,185,667,476,556,293,355,249,350,353,405,245,694,372,687,598,282,374,143,1706,332,279,510,194,166,797,198,148,218,898,316,440,208,274,271,222,167,388,461,287,497,149,995,172,133,444,144,583,270,233,820,522,219,406,300,417,370,225,290,1630,489,182,879,199,183,186,380,164,240,304,221,165,217,159],\"y\":[4589,1547,850,523,362,285,199,184,160,145,110,105,88,76,75,72,71,59,47,46,42,37,36,35,33,32,31,31,29,27,27,26,26,24,22,19,19,19,18,17,17,16,16,15,15,14,14,13,13,13,12,12,12,11,11,11,10,10,10,9,9,9,9,9,8,8,8,7,7,7,6,6,6,6,6,6,6,6,6,5,5,5,5,5,5,5,5,5,5,5,4,4,4,4,4,4,4,4,4,4,4,4,4,4,4,3,3,3,3,3,3,3,3,3,3,3,3,3,3,3,3,3,3,3,3,3,3,3,3,2,2,2,2,2,2,2,2,2,2,2,2,2,2,2,2,2,2,2,2,2,2,2,2,2,2,2,2,2,2,2,2,2,2,2,2,2,2,2,2,2,2,2,2,2,2,2,2,2,2,2,2,2,2,2,2,2,2,2,2,1,1,1,1,1,1,1,1,1,1,1,1,1,1,1,1,1,1,1,1,1,1,1,1,1,1,1,1,1,1,1,1,1,1,1,1,1,1,1,1,1,1,1,1,1,1,1,1,1,1,1,1,1,1,1,1,1,1,1,1,1,1,1,1,1,1,1,1,1,1,1,1,1,1,1,1,1,1,1,1,1,1,1,1,1,1,1,1,1,1,1,1,1,1,1,1,1,1,1,1,1,1,1,1,1,1,1,1,1,1,1,1,1,1,1,1,1,1,1,1,1,1,1,1,1,1,1,1,1,1,1,1,1,1,1,1,1,1,1,1,1],\"type\":\"scatter\",\"xaxis\":\"x4\",\"yaxis\":\"y4\"}],                        {\"template\":{\"data\":{\"histogram2dcontour\":[{\"type\":\"histogram2dcontour\",\"colorbar\":{\"outlinewidth\":0,\"ticks\":\"\"},\"colorscale\":[[0.0,\"#0d0887\"],[0.1111111111111111,\"#46039f\"],[0.2222222222222222,\"#7201a8\"],[0.3333333333333333,\"#9c179e\"],[0.4444444444444444,\"#bd3786\"],[0.5555555555555556,\"#d8576b\"],[0.6666666666666666,\"#ed7953\"],[0.7777777777777778,\"#fb9f3a\"],[0.8888888888888888,\"#fdca26\"],[1.0,\"#f0f921\"]]}],\"choropleth\":[{\"type\":\"choropleth\",\"colorbar\":{\"outlinewidth\":0,\"ticks\":\"\"}}],\"histogram2d\":[{\"type\":\"histogram2d\",\"colorbar\":{\"outlinewidth\":0,\"ticks\":\"\"},\"colorscale\":[[0.0,\"#0d0887\"],[0.1111111111111111,\"#46039f\"],[0.2222222222222222,\"#7201a8\"],[0.3333333333333333,\"#9c179e\"],[0.4444444444444444,\"#bd3786\"],[0.5555555555555556,\"#d8576b\"],[0.6666666666666666,\"#ed7953\"],[0.7777777777777778,\"#fb9f3a\"],[0.8888888888888888,\"#fdca26\"],[1.0,\"#f0f921\"]]}],\"heatmap\":[{\"type\":\"heatmap\",\"colorbar\":{\"outlinewidth\":0,\"ticks\":\"\"},\"colorscale\":[[0.0,\"#0d0887\"],[0.1111111111111111,\"#46039f\"],[0.2222222222222222,\"#7201a8\"],[0.3333333333333333,\"#9c179e\"],[0.4444444444444444,\"#bd3786\"],[0.5555555555555556,\"#d8576b\"],[0.6666666666666666,\"#ed7953\"],[0.7777777777777778,\"#fb9f3a\"],[0.8888888888888888,\"#fdca26\"],[1.0,\"#f0f921\"]]}],\"heatmapgl\":[{\"type\":\"heatmapgl\",\"colorbar\":{\"outlinewidth\":0,\"ticks\":\"\"},\"colorscale\":[[0.0,\"#0d0887\"],[0.1111111111111111,\"#46039f\"],[0.2222222222222222,\"#7201a8\"],[0.3333333333333333,\"#9c179e\"],[0.4444444444444444,\"#bd3786\"],[0.5555555555555556,\"#d8576b\"],[0.6666666666666666,\"#ed7953\"],[0.7777777777777778,\"#fb9f3a\"],[0.8888888888888888,\"#fdca26\"],[1.0,\"#f0f921\"]]}],\"contourcarpet\":[{\"type\":\"contourcarpet\",\"colorbar\":{\"outlinewidth\":0,\"ticks\":\"\"}}],\"contour\":[{\"type\":\"contour\",\"colorbar\":{\"outlinewidth\":0,\"ticks\":\"\"},\"colorscale\":[[0.0,\"#0d0887\"],[0.1111111111111111,\"#46039f\"],[0.2222222222222222,\"#7201a8\"],[0.3333333333333333,\"#9c179e\"],[0.4444444444444444,\"#bd3786\"],[0.5555555555555556,\"#d8576b\"],[0.6666666666666666,\"#ed7953\"],[0.7777777777777778,\"#fb9f3a\"],[0.8888888888888888,\"#fdca26\"],[1.0,\"#f0f921\"]]}],\"surface\":[{\"type\":\"surface\",\"colorbar\":{\"outlinewidth\":0,\"ticks\":\"\"},\"colorscale\":[[0.0,\"#0d0887\"],[0.1111111111111111,\"#46039f\"],[0.2222222222222222,\"#7201a8\"],[0.3333333333333333,\"#9c179e\"],[0.4444444444444444,\"#bd3786\"],[0.5555555555555556,\"#d8576b\"],[0.6666666666666666,\"#ed7953\"],[0.7777777777777778,\"#fb9f3a\"],[0.8888888888888888,\"#fdca26\"],[1.0,\"#f0f921\"]]}],\"mesh3d\":[{\"type\":\"mesh3d\",\"colorbar\":{\"outlinewidth\":0,\"ticks\":\"\"}}],\"scatter\":[{\"fillpattern\":{\"fillmode\":\"overlay\",\"size\":10,\"solidity\":0.2},\"type\":\"scatter\"}],\"parcoords\":[{\"type\":\"parcoords\",\"line\":{\"colorbar\":{\"outlinewidth\":0,\"ticks\":\"\"}}}],\"scatterpolargl\":[{\"type\":\"scatterpolargl\",\"marker\":{\"colorbar\":{\"outlinewidth\":0,\"ticks\":\"\"}}}],\"bar\":[{\"error_x\":{\"color\":\"#2a3f5f\"},\"error_y\":{\"color\":\"#2a3f5f\"},\"marker\":{\"line\":{\"color\":\"#E5ECF6\",\"width\":0.5},\"pattern\":{\"fillmode\":\"overlay\",\"size\":10,\"solidity\":0.2}},\"type\":\"bar\"}],\"scattergeo\":[{\"type\":\"scattergeo\",\"marker\":{\"colorbar\":{\"outlinewidth\":0,\"ticks\":\"\"}}}],\"scatterpolar\":[{\"type\":\"scatterpolar\",\"marker\":{\"colorbar\":{\"outlinewidth\":0,\"ticks\":\"\"}}}],\"histogram\":[{\"marker\":{\"pattern\":{\"fillmode\":\"overlay\",\"size\":10,\"solidity\":0.2}},\"type\":\"histogram\"}],\"scattergl\":[{\"type\":\"scattergl\",\"marker\":{\"colorbar\":{\"outlinewidth\":0,\"ticks\":\"\"}}}],\"scatter3d\":[{\"type\":\"scatter3d\",\"line\":{\"colorbar\":{\"outlinewidth\":0,\"ticks\":\"\"}},\"marker\":{\"colorbar\":{\"outlinewidth\":0,\"ticks\":\"\"}}}],\"scattermapbox\":[{\"type\":\"scattermapbox\",\"marker\":{\"colorbar\":{\"outlinewidth\":0,\"ticks\":\"\"}}}],\"scatterternary\":[{\"type\":\"scatterternary\",\"marker\":{\"colorbar\":{\"outlinewidth\":0,\"ticks\":\"\"}}}],\"scattercarpet\":[{\"type\":\"scattercarpet\",\"marker\":{\"colorbar\":{\"outlinewidth\":0,\"ticks\":\"\"}}}],\"carpet\":[{\"aaxis\":{\"endlinecolor\":\"#2a3f5f\",\"gridcolor\":\"white\",\"linecolor\":\"white\",\"minorgridcolor\":\"white\",\"startlinecolor\":\"#2a3f5f\"},\"baxis\":{\"endlinecolor\":\"#2a3f5f\",\"gridcolor\":\"white\",\"linecolor\":\"white\",\"minorgridcolor\":\"white\",\"startlinecolor\":\"#2a3f5f\"},\"type\":\"carpet\"}],\"table\":[{\"cells\":{\"fill\":{\"color\":\"#EBF0F8\"},\"line\":{\"color\":\"white\"}},\"header\":{\"fill\":{\"color\":\"#C8D4E3\"},\"line\":{\"color\":\"white\"}},\"type\":\"table\"}],\"barpolar\":[{\"marker\":{\"line\":{\"color\":\"#E5ECF6\",\"width\":0.5},\"pattern\":{\"fillmode\":\"overlay\",\"size\":10,\"solidity\":0.2}},\"type\":\"barpolar\"}],\"pie\":[{\"automargin\":true,\"type\":\"pie\"}]},\"layout\":{\"autotypenumbers\":\"strict\",\"colorway\":[\"#636efa\",\"#EF553B\",\"#00cc96\",\"#ab63fa\",\"#FFA15A\",\"#19d3f3\",\"#FF6692\",\"#B6E880\",\"#FF97FF\",\"#FECB52\"],\"font\":{\"color\":\"#2a3f5f\"},\"hovermode\":\"closest\",\"hoverlabel\":{\"align\":\"left\"},\"paper_bgcolor\":\"white\",\"plot_bgcolor\":\"#E5ECF6\",\"polar\":{\"bgcolor\":\"#E5ECF6\",\"angularaxis\":{\"gridcolor\":\"white\",\"linecolor\":\"white\",\"ticks\":\"\"},\"radialaxis\":{\"gridcolor\":\"white\",\"linecolor\":\"white\",\"ticks\":\"\"}},\"ternary\":{\"bgcolor\":\"#E5ECF6\",\"aaxis\":{\"gridcolor\":\"white\",\"linecolor\":\"white\",\"ticks\":\"\"},\"baxis\":{\"gridcolor\":\"white\",\"linecolor\":\"white\",\"ticks\":\"\"},\"caxis\":{\"gridcolor\":\"white\",\"linecolor\":\"white\",\"ticks\":\"\"}},\"coloraxis\":{\"colorbar\":{\"outlinewidth\":0,\"ticks\":\"\"}},\"colorscale\":{\"sequential\":[[0.0,\"#0d0887\"],[0.1111111111111111,\"#46039f\"],[0.2222222222222222,\"#7201a8\"],[0.3333333333333333,\"#9c179e\"],[0.4444444444444444,\"#bd3786\"],[0.5555555555555556,\"#d8576b\"],[0.6666666666666666,\"#ed7953\"],[0.7777777777777778,\"#fb9f3a\"],[0.8888888888888888,\"#fdca26\"],[1.0,\"#f0f921\"]],\"sequentialminus\":[[0.0,\"#0d0887\"],[0.1111111111111111,\"#46039f\"],[0.2222222222222222,\"#7201a8\"],[0.3333333333333333,\"#9c179e\"],[0.4444444444444444,\"#bd3786\"],[0.5555555555555556,\"#d8576b\"],[0.6666666666666666,\"#ed7953\"],[0.7777777777777778,\"#fb9f3a\"],[0.8888888888888888,\"#fdca26\"],[1.0,\"#f0f921\"]],\"diverging\":[[0,\"#8e0152\"],[0.1,\"#c51b7d\"],[0.2,\"#de77ae\"],[0.3,\"#f1b6da\"],[0.4,\"#fde0ef\"],[0.5,\"#f7f7f7\"],[0.6,\"#e6f5d0\"],[0.7,\"#b8e186\"],[0.8,\"#7fbc41\"],[0.9,\"#4d9221\"],[1,\"#276419\"]]},\"xaxis\":{\"gridcolor\":\"white\",\"linecolor\":\"white\",\"ticks\":\"\",\"title\":{\"standoff\":15},\"zerolinecolor\":\"white\",\"automargin\":true,\"zerolinewidth\":2},\"yaxis\":{\"gridcolor\":\"white\",\"linecolor\":\"white\",\"ticks\":\"\",\"title\":{\"standoff\":15},\"zerolinecolor\":\"white\",\"automargin\":true,\"zerolinewidth\":2},\"scene\":{\"xaxis\":{\"backgroundcolor\":\"#E5ECF6\",\"gridcolor\":\"white\",\"linecolor\":\"white\",\"showbackground\":true,\"ticks\":\"\",\"zerolinecolor\":\"white\",\"gridwidth\":2},\"yaxis\":{\"backgroundcolor\":\"#E5ECF6\",\"gridcolor\":\"white\",\"linecolor\":\"white\",\"showbackground\":true,\"ticks\":\"\",\"zerolinecolor\":\"white\",\"gridwidth\":2},\"zaxis\":{\"backgroundcolor\":\"#E5ECF6\",\"gridcolor\":\"white\",\"linecolor\":\"white\",\"showbackground\":true,\"ticks\":\"\",\"zerolinecolor\":\"white\",\"gridwidth\":2}},\"shapedefaults\":{\"line\":{\"color\":\"#2a3f5f\"}},\"annotationdefaults\":{\"arrowcolor\":\"#2a3f5f\",\"arrowhead\":0,\"arrowwidth\":1},\"geo\":{\"bgcolor\":\"white\",\"landcolor\":\"#E5ECF6\",\"subunitcolor\":\"white\",\"showland\":true,\"showlakes\":true,\"lakecolor\":\"white\"},\"title\":{\"x\":0.05},\"mapbox\":{\"style\":\"light\"}}},\"xaxis\":{\"anchor\":\"y\",\"domain\":[0.0,0.45],\"title\":{\"text\":\"Number of times word appears in the text\"},\"type\":\"log\"},\"yaxis\":{\"anchor\":\"x\",\"domain\":[0.625,1.0],\"title\":{\"text\":\"Number of words\"},\"type\":\"log\"},\"xaxis2\":{\"anchor\":\"y2\",\"domain\":[0.55,1.0],\"title\":{\"text\":\"Number of times word appears in the text\"},\"type\":\"log\"},\"yaxis2\":{\"anchor\":\"x2\",\"domain\":[0.625,1.0],\"title\":{\"text\":\"Number of words\"},\"type\":\"log\"},\"xaxis3\":{\"anchor\":\"y3\",\"domain\":[0.0,0.45],\"title\":{\"text\":\"Number of times word appears in the text\"},\"type\":\"log\"},\"yaxis3\":{\"anchor\":\"x3\",\"domain\":[0.0,0.375],\"title\":{\"text\":\"Number of words\"},\"type\":\"log\"},\"xaxis4\":{\"anchor\":\"y4\",\"domain\":[0.55,1.0],\"title\":{\"text\":\"Number of times word appears in the text\"},\"type\":\"log\"},\"yaxis4\":{\"anchor\":\"x4\",\"domain\":[0.0,0.375],\"title\":{\"text\":\"Number of words\"},\"type\":\"log\"},\"annotations\":[{\"font\":{\"size\":16},\"showarrow\":false,\"text\":\"Tokenized\",\"x\":0.225,\"xanchor\":\"center\",\"xref\":\"paper\",\"y\":1.0,\"yanchor\":\"bottom\",\"yref\":\"paper\"},{\"font\":{\"size\":16},\"showarrow\":false,\"text\":\"Filtered & tokenized\",\"x\":0.775,\"xanchor\":\"center\",\"xref\":\"paper\",\"y\":1.0,\"yanchor\":\"bottom\",\"yref\":\"paper\"},{\"font\":{\"size\":16},\"showarrow\":false,\"text\":\"Stemmed & tokenized\",\"x\":0.225,\"xanchor\":\"center\",\"xref\":\"paper\",\"y\":0.375,\"yanchor\":\"bottom\",\"yref\":\"paper\"},{\"font\":{\"size\":16},\"showarrow\":false,\"text\":\"Stemmed, filtered & tokenized\",\"x\":0.775,\"xanchor\":\"center\",\"xref\":\"paper\",\"y\":0.375,\"yanchor\":\"bottom\",\"yref\":\"paper\"}],\"showlegend\":false},                        {\"responsive\": true}                    ).then(function(){\n",
              "                            \n",
              "var gd = document.getElementById('c93b4edd-8fa5-4a2e-b7d7-e016019098a7');\n",
              "var x = new MutationObserver(function (mutations, observer) {{\n",
              "        var display = window.getComputedStyle(gd).display;\n",
              "        if (!display || display === 'none') {{\n",
              "            console.log([gd, 'removed!']);\n",
              "            Plotly.purge(gd);\n",
              "            observer.disconnect();\n",
              "        }}\n",
              "}});\n",
              "\n",
              "// Listen for the removal of the full notebook cells\n",
              "var notebookContainer = gd.closest('#notebook-container');\n",
              "if (notebookContainer) {{\n",
              "    x.observe(notebookContainer, {childList: true});\n",
              "}}\n",
              "\n",
              "// Listen for the clearing of the current output cell\n",
              "var outputEl = gd.closest('.output');\n",
              "if (outputEl) {{\n",
              "    x.observe(outputEl, {childList: true});\n",
              "}}\n",
              "\n",
              "                        })                };                            </script>        </div>\n",
              "</body>\n",
              "</html>"
            ]
          },
          "metadata": {}
        }
      ]
    },
    {
      "cell_type": "code",
      "source": [
        "import plotly.express as px\n",
        "\n",
        "name = \"Filtered & tokenized\"\n",
        "data = word_frequency[name]\n",
        "\n",
        "fig = px.scatter(\n",
        "    x=[item[0] for item in data],\n",
        "    y=[item[1] for item in data],\n",
        "    labels={\n",
        "        \"x\": \"Number of times word appears in the text\",\n",
        "        \"y\": \"Number of words with this frequency\",\n",
        "    },\n",
        "    title=name,\n",
        "    log_x=True,\n",
        "    log_y=True\n",
        ")\n",
        "fig.show()"
      ],
      "metadata": {
        "id": "JuzJO4Bwh6_U",
        "outputId": "804b7065-d881-499d-f203-7df21090c436",
        "colab": {
          "base_uri": "https://localhost:8080/",
          "height": 542
        }
      },
      "id": "JuzJO4Bwh6_U",
      "execution_count": 51,
      "outputs": [
        {
          "output_type": "display_data",
          "data": {
            "text/html": [
              "<html>\n",
              "<head><meta charset=\"utf-8\" /></head>\n",
              "<body>\n",
              "    <div>            <script src=\"https://cdnjs.cloudflare.com/ajax/libs/mathjax/2.7.5/MathJax.js?config=TeX-AMS-MML_SVG\"></script><script type=\"text/javascript\">if (window.MathJax && window.MathJax.Hub && window.MathJax.Hub.Config) {window.MathJax.Hub.Config({SVG: {font: \"STIX-Web\"}});}</script>                <script type=\"text/javascript\">window.PlotlyConfig = {MathJaxConfig: 'local'};</script>\n",
              "        <script charset=\"utf-8\" src=\"https://cdn.plot.ly/plotly-2.24.1.min.js\"></script>                <div id=\"3a9acef6-a7a3-4af4-a16d-bec85afdce22\" class=\"plotly-graph-div\" style=\"height:525px; width:100%;\"></div>            <script type=\"text/javascript\">                                    window.PLOTLYENV=window.PLOTLYENV || {};                                    if (document.getElementById(\"3a9acef6-a7a3-4af4-a16d-bec85afdce22\")) {                    Plotly.newPlot(                        \"3a9acef6-a7a3-4af4-a16d-bec85afdce22\",                        [{\"hovertemplate\":\"Number of times word appears in the text=%{x}\\u003cbr\\u003eNumber of words with this frequency=%{y}\\u003cextra\\u003e\\u003c\\u002fextra\\u003e\",\"legendgroup\":\"\",\"marker\":{\"color\":\"#636efa\",\"symbol\":\"circle\"},\"mode\":\"markers\",\"name\":\"\",\"orientation\":\"v\",\"showlegend\":false,\"x\":[1,2,3,4,5,6,7,8,9,10,11,12,13,14,15,16,18,17,20,19,24,22,21,23,26,25,28,27,29,31,30,32,38,35,33,45,37,36,34,46,53,48,40,41,39,49,65,51,52,44,42,57,54,47,59,55,58,43,56,60,64,76,82,132,62,69,61,63,99,78,50,71,74,193,72,77,139,104,93,151,101,67,96,97,73,70,87,95,85,129,149,105,137,108,126,138,94,66,161,121,89,80,79,92,162,147,199,110,191,128,177,111,106,155,197,143,86,142,140,123,131,100,185,173,255,237,84,333,249,421,244,252,236,271,154,83,239,158,251,98,91,160,109,292,245,75,112,118,116,117,114,280,88,90,214,141,357,2625,1634,272,343,321,279,231,206,216,332,963,152,241,574,381,519,209,717,113,913,1199,986,420,324,640,1872,481,204,228,290,232,181,167,314,389,434,405,677,1054,220,364,301,293,336,242,688,270,444,526,374,165,304,973,200,327,175,229,442,356,125,509,198,81,68,898,316,274,344,367,287,120,234,180,211,926,122,184,296,248,144,282,813,522,219,153,210,134,358,499,281,354,189,1621,107,489,877,183,201,380,145,171,298,221,507,119,136,157],\"xaxis\":\"x\",\"y\":[11734,3626,1857,1105,802,558,385,339,267,234,204,161,151,134,123,102,89,84,73,71,57,57,56,47,45,43,42,38,34,33,33,31,24,24,23,21,20,20,19,18,18,18,18,18,17,17,14,14,14,14,14,13,13,13,12,12,11,10,10,9,9,9,9,9,9,9,9,8,8,8,8,7,7,7,7,7,7,7,7,6,6,6,6,6,6,6,5,5,5,4,4,4,4,4,4,4,4,4,4,4,4,4,4,3,3,3,3,3,3,3,3,3,3,3,3,3,3,3,3,3,3,3,2,2,2,2,2,2,2,2,2,2,2,2,2,2,2,2,2,2,2,2,2,2,2,2,2,2,2,2,2,2,2,2,2,2,1,1,1,1,1,1,1,1,1,1,1,1,1,1,1,1,1,1,1,1,1,1,1,1,1,1,1,1,1,1,1,1,1,1,1,1,1,1,1,1,1,1,1,1,1,1,1,1,1,1,1,1,1,1,1,1,1,1,1,1,1,1,1,1,1,1,1,1,1,1,1,1,1,1,1,1,1,1,1,1,1,1,1,1,1,1,1,1,1,1,1,1,1,1,1,1,1,1,1,1,1,1,1,1,1,1,1,1],\"yaxis\":\"y\",\"type\":\"scatter\"}],                        {\"template\":{\"data\":{\"histogram2dcontour\":[{\"type\":\"histogram2dcontour\",\"colorbar\":{\"outlinewidth\":0,\"ticks\":\"\"},\"colorscale\":[[0.0,\"#0d0887\"],[0.1111111111111111,\"#46039f\"],[0.2222222222222222,\"#7201a8\"],[0.3333333333333333,\"#9c179e\"],[0.4444444444444444,\"#bd3786\"],[0.5555555555555556,\"#d8576b\"],[0.6666666666666666,\"#ed7953\"],[0.7777777777777778,\"#fb9f3a\"],[0.8888888888888888,\"#fdca26\"],[1.0,\"#f0f921\"]]}],\"choropleth\":[{\"type\":\"choropleth\",\"colorbar\":{\"outlinewidth\":0,\"ticks\":\"\"}}],\"histogram2d\":[{\"type\":\"histogram2d\",\"colorbar\":{\"outlinewidth\":0,\"ticks\":\"\"},\"colorscale\":[[0.0,\"#0d0887\"],[0.1111111111111111,\"#46039f\"],[0.2222222222222222,\"#7201a8\"],[0.3333333333333333,\"#9c179e\"],[0.4444444444444444,\"#bd3786\"],[0.5555555555555556,\"#d8576b\"],[0.6666666666666666,\"#ed7953\"],[0.7777777777777778,\"#fb9f3a\"],[0.8888888888888888,\"#fdca26\"],[1.0,\"#f0f921\"]]}],\"heatmap\":[{\"type\":\"heatmap\",\"colorbar\":{\"outlinewidth\":0,\"ticks\":\"\"},\"colorscale\":[[0.0,\"#0d0887\"],[0.1111111111111111,\"#46039f\"],[0.2222222222222222,\"#7201a8\"],[0.3333333333333333,\"#9c179e\"],[0.4444444444444444,\"#bd3786\"],[0.5555555555555556,\"#d8576b\"],[0.6666666666666666,\"#ed7953\"],[0.7777777777777778,\"#fb9f3a\"],[0.8888888888888888,\"#fdca26\"],[1.0,\"#f0f921\"]]}],\"heatmapgl\":[{\"type\":\"heatmapgl\",\"colorbar\":{\"outlinewidth\":0,\"ticks\":\"\"},\"colorscale\":[[0.0,\"#0d0887\"],[0.1111111111111111,\"#46039f\"],[0.2222222222222222,\"#7201a8\"],[0.3333333333333333,\"#9c179e\"],[0.4444444444444444,\"#bd3786\"],[0.5555555555555556,\"#d8576b\"],[0.6666666666666666,\"#ed7953\"],[0.7777777777777778,\"#fb9f3a\"],[0.8888888888888888,\"#fdca26\"],[1.0,\"#f0f921\"]]}],\"contourcarpet\":[{\"type\":\"contourcarpet\",\"colorbar\":{\"outlinewidth\":0,\"ticks\":\"\"}}],\"contour\":[{\"type\":\"contour\",\"colorbar\":{\"outlinewidth\":0,\"ticks\":\"\"},\"colorscale\":[[0.0,\"#0d0887\"],[0.1111111111111111,\"#46039f\"],[0.2222222222222222,\"#7201a8\"],[0.3333333333333333,\"#9c179e\"],[0.4444444444444444,\"#bd3786\"],[0.5555555555555556,\"#d8576b\"],[0.6666666666666666,\"#ed7953\"],[0.7777777777777778,\"#fb9f3a\"],[0.8888888888888888,\"#fdca26\"],[1.0,\"#f0f921\"]]}],\"surface\":[{\"type\":\"surface\",\"colorbar\":{\"outlinewidth\":0,\"ticks\":\"\"},\"colorscale\":[[0.0,\"#0d0887\"],[0.1111111111111111,\"#46039f\"],[0.2222222222222222,\"#7201a8\"],[0.3333333333333333,\"#9c179e\"],[0.4444444444444444,\"#bd3786\"],[0.5555555555555556,\"#d8576b\"],[0.6666666666666666,\"#ed7953\"],[0.7777777777777778,\"#fb9f3a\"],[0.8888888888888888,\"#fdca26\"],[1.0,\"#f0f921\"]]}],\"mesh3d\":[{\"type\":\"mesh3d\",\"colorbar\":{\"outlinewidth\":0,\"ticks\":\"\"}}],\"scatter\":[{\"fillpattern\":{\"fillmode\":\"overlay\",\"size\":10,\"solidity\":0.2},\"type\":\"scatter\"}],\"parcoords\":[{\"type\":\"parcoords\",\"line\":{\"colorbar\":{\"outlinewidth\":0,\"ticks\":\"\"}}}],\"scatterpolargl\":[{\"type\":\"scatterpolargl\",\"marker\":{\"colorbar\":{\"outlinewidth\":0,\"ticks\":\"\"}}}],\"bar\":[{\"error_x\":{\"color\":\"#2a3f5f\"},\"error_y\":{\"color\":\"#2a3f5f\"},\"marker\":{\"line\":{\"color\":\"#E5ECF6\",\"width\":0.5},\"pattern\":{\"fillmode\":\"overlay\",\"size\":10,\"solidity\":0.2}},\"type\":\"bar\"}],\"scattergeo\":[{\"type\":\"scattergeo\",\"marker\":{\"colorbar\":{\"outlinewidth\":0,\"ticks\":\"\"}}}],\"scatterpolar\":[{\"type\":\"scatterpolar\",\"marker\":{\"colorbar\":{\"outlinewidth\":0,\"ticks\":\"\"}}}],\"histogram\":[{\"marker\":{\"pattern\":{\"fillmode\":\"overlay\",\"size\":10,\"solidity\":0.2}},\"type\":\"histogram\"}],\"scattergl\":[{\"type\":\"scattergl\",\"marker\":{\"colorbar\":{\"outlinewidth\":0,\"ticks\":\"\"}}}],\"scatter3d\":[{\"type\":\"scatter3d\",\"line\":{\"colorbar\":{\"outlinewidth\":0,\"ticks\":\"\"}},\"marker\":{\"colorbar\":{\"outlinewidth\":0,\"ticks\":\"\"}}}],\"scattermapbox\":[{\"type\":\"scattermapbox\",\"marker\":{\"colorbar\":{\"outlinewidth\":0,\"ticks\":\"\"}}}],\"scatterternary\":[{\"type\":\"scatterternary\",\"marker\":{\"colorbar\":{\"outlinewidth\":0,\"ticks\":\"\"}}}],\"scattercarpet\":[{\"type\":\"scattercarpet\",\"marker\":{\"colorbar\":{\"outlinewidth\":0,\"ticks\":\"\"}}}],\"carpet\":[{\"aaxis\":{\"endlinecolor\":\"#2a3f5f\",\"gridcolor\":\"white\",\"linecolor\":\"white\",\"minorgridcolor\":\"white\",\"startlinecolor\":\"#2a3f5f\"},\"baxis\":{\"endlinecolor\":\"#2a3f5f\",\"gridcolor\":\"white\",\"linecolor\":\"white\",\"minorgridcolor\":\"white\",\"startlinecolor\":\"#2a3f5f\"},\"type\":\"carpet\"}],\"table\":[{\"cells\":{\"fill\":{\"color\":\"#EBF0F8\"},\"line\":{\"color\":\"white\"}},\"header\":{\"fill\":{\"color\":\"#C8D4E3\"},\"line\":{\"color\":\"white\"}},\"type\":\"table\"}],\"barpolar\":[{\"marker\":{\"line\":{\"color\":\"#E5ECF6\",\"width\":0.5},\"pattern\":{\"fillmode\":\"overlay\",\"size\":10,\"solidity\":0.2}},\"type\":\"barpolar\"}],\"pie\":[{\"automargin\":true,\"type\":\"pie\"}]},\"layout\":{\"autotypenumbers\":\"strict\",\"colorway\":[\"#636efa\",\"#EF553B\",\"#00cc96\",\"#ab63fa\",\"#FFA15A\",\"#19d3f3\",\"#FF6692\",\"#B6E880\",\"#FF97FF\",\"#FECB52\"],\"font\":{\"color\":\"#2a3f5f\"},\"hovermode\":\"closest\",\"hoverlabel\":{\"align\":\"left\"},\"paper_bgcolor\":\"white\",\"plot_bgcolor\":\"#E5ECF6\",\"polar\":{\"bgcolor\":\"#E5ECF6\",\"angularaxis\":{\"gridcolor\":\"white\",\"linecolor\":\"white\",\"ticks\":\"\"},\"radialaxis\":{\"gridcolor\":\"white\",\"linecolor\":\"white\",\"ticks\":\"\"}},\"ternary\":{\"bgcolor\":\"#E5ECF6\",\"aaxis\":{\"gridcolor\":\"white\",\"linecolor\":\"white\",\"ticks\":\"\"},\"baxis\":{\"gridcolor\":\"white\",\"linecolor\":\"white\",\"ticks\":\"\"},\"caxis\":{\"gridcolor\":\"white\",\"linecolor\":\"white\",\"ticks\":\"\"}},\"coloraxis\":{\"colorbar\":{\"outlinewidth\":0,\"ticks\":\"\"}},\"colorscale\":{\"sequential\":[[0.0,\"#0d0887\"],[0.1111111111111111,\"#46039f\"],[0.2222222222222222,\"#7201a8\"],[0.3333333333333333,\"#9c179e\"],[0.4444444444444444,\"#bd3786\"],[0.5555555555555556,\"#d8576b\"],[0.6666666666666666,\"#ed7953\"],[0.7777777777777778,\"#fb9f3a\"],[0.8888888888888888,\"#fdca26\"],[1.0,\"#f0f921\"]],\"sequentialminus\":[[0.0,\"#0d0887\"],[0.1111111111111111,\"#46039f\"],[0.2222222222222222,\"#7201a8\"],[0.3333333333333333,\"#9c179e\"],[0.4444444444444444,\"#bd3786\"],[0.5555555555555556,\"#d8576b\"],[0.6666666666666666,\"#ed7953\"],[0.7777777777777778,\"#fb9f3a\"],[0.8888888888888888,\"#fdca26\"],[1.0,\"#f0f921\"]],\"diverging\":[[0,\"#8e0152\"],[0.1,\"#c51b7d\"],[0.2,\"#de77ae\"],[0.3,\"#f1b6da\"],[0.4,\"#fde0ef\"],[0.5,\"#f7f7f7\"],[0.6,\"#e6f5d0\"],[0.7,\"#b8e186\"],[0.8,\"#7fbc41\"],[0.9,\"#4d9221\"],[1,\"#276419\"]]},\"xaxis\":{\"gridcolor\":\"white\",\"linecolor\":\"white\",\"ticks\":\"\",\"title\":{\"standoff\":15},\"zerolinecolor\":\"white\",\"automargin\":true,\"zerolinewidth\":2},\"yaxis\":{\"gridcolor\":\"white\",\"linecolor\":\"white\",\"ticks\":\"\",\"title\":{\"standoff\":15},\"zerolinecolor\":\"white\",\"automargin\":true,\"zerolinewidth\":2},\"scene\":{\"xaxis\":{\"backgroundcolor\":\"#E5ECF6\",\"gridcolor\":\"white\",\"linecolor\":\"white\",\"showbackground\":true,\"ticks\":\"\",\"zerolinecolor\":\"white\",\"gridwidth\":2},\"yaxis\":{\"backgroundcolor\":\"#E5ECF6\",\"gridcolor\":\"white\",\"linecolor\":\"white\",\"showbackground\":true,\"ticks\":\"\",\"zerolinecolor\":\"white\",\"gridwidth\":2},\"zaxis\":{\"backgroundcolor\":\"#E5ECF6\",\"gridcolor\":\"white\",\"linecolor\":\"white\",\"showbackground\":true,\"ticks\":\"\",\"zerolinecolor\":\"white\",\"gridwidth\":2}},\"shapedefaults\":{\"line\":{\"color\":\"#2a3f5f\"}},\"annotationdefaults\":{\"arrowcolor\":\"#2a3f5f\",\"arrowhead\":0,\"arrowwidth\":1},\"geo\":{\"bgcolor\":\"white\",\"landcolor\":\"#E5ECF6\",\"subunitcolor\":\"white\",\"showland\":true,\"showlakes\":true,\"lakecolor\":\"white\"},\"title\":{\"x\":0.05},\"mapbox\":{\"style\":\"light\"}}},\"xaxis\":{\"anchor\":\"y\",\"domain\":[0.0,1.0],\"title\":{\"text\":\"Number of times word appears in the text\"},\"type\":\"log\"},\"yaxis\":{\"anchor\":\"x\",\"domain\":[0.0,1.0],\"title\":{\"text\":\"Number of words with this frequency\"},\"type\":\"log\"},\"legend\":{\"tracegroupgap\":0},\"title\":{\"text\":\"Filtered & tokenized\"}},                        {\"responsive\": true}                    ).then(function(){\n",
              "                            \n",
              "var gd = document.getElementById('3a9acef6-a7a3-4af4-a16d-bec85afdce22');\n",
              "var x = new MutationObserver(function (mutations, observer) {{\n",
              "        var display = window.getComputedStyle(gd).display;\n",
              "        if (!display || display === 'none') {{\n",
              "            console.log([gd, 'removed!']);\n",
              "            Plotly.purge(gd);\n",
              "            observer.disconnect();\n",
              "        }}\n",
              "}});\n",
              "\n",
              "// Listen for the removal of the full notebook cells\n",
              "var notebookContainer = gd.closest('#notebook-container');\n",
              "if (notebookContainer) {{\n",
              "    x.observe(notebookContainer, {childList: true});\n",
              "}}\n",
              "\n",
              "// Listen for the clearing of the current output cell\n",
              "var outputEl = gd.closest('.output');\n",
              "if (outputEl) {{\n",
              "    x.observe(outputEl, {childList: true});\n",
              "}}\n",
              "\n",
              "                        })                };                            </script>        </div>\n",
              "</body>\n",
              "</html>"
            ]
          },
          "metadata": {}
        }
      ]
    },
    {
      "cell_type": "markdown",
      "id": "9fba2952-4558-4c64-a228-7b8d2a07d513",
      "metadata": {
        "id": "9fba2952-4558-4c64-a228-7b8d2a07d513"
      },
      "source": [
        "---\n",
        "\n",
        "__Exercise 4.__ Let's find $a$ and $c$ analytically.\n",
        "Assume we have $\\log y = a \\cdot \\log x + \\log c$.\n",
        "\n",
        "Take two distinct _large_ values of $x$, find their corresponding values of $y$,\n",
        "set up a system of two linear equations, and solve for $a$ and $c$.\n",
        "The solution will probably not fit very well the low values of $x$. You can try to\n",
        "make it better by adding the $b$ parameter, but don't agonize over it.\n",
        "\n",
        "Alternatively, use linear regression to estimate the _slope_  ($a$ parameter) and the intercept ($\\log c$ parameter)."
      ]
    },
    {
      "cell_type": "markdown",
      "source": [],
      "metadata": {
        "id": "BzMXJxwJe8xj"
      },
      "id": "BzMXJxwJe8xj"
    },
    {
      "cell_type": "markdown",
      "id": "cfc3388f-4717-4175-b640-6b6a08fa310c",
      "metadata": {
        "id": "cfc3388f-4717-4175-b640-6b6a08fa310c"
      },
      "source": [
        "---\n",
        "\n",
        "__Exercise 5.__  Now, it is time to check whether Heap's law applies in the _Don Quijote_. First, plot number of different words (word _types_) as a function of text length. Next, plot it on a log-log scale. You should see a straight line. Finally, give an estimate of $\\beta$ parameter of Heap's law:\n",
        "\n",
        "$$  d = k \\cdot N^{\\beta} $$\n",
        "\n",
        "---"
      ]
    },
    {
      "cell_type": "markdown",
      "source": [
        "## 4. Rules of delivery\n",
        "\n",
        "- To be solved in _pairs_.\n",
        "\n",
        "- No plagiarism; don't discuss your work with other teams. You can ask for help to others for simple things, such as recalling a python instruction or module, but nothing too specific to the session.\n",
        "\n",
        "- If you feel you are spending much more time than the rest of the classmates, ask us for help. Questions can be asked either in person or by email, and you'll never be penalized by asking questions, no matter how stupid they look in retrospect.\n",
        "\n",
        "- Write a short report listing the solutions to the exercises proposed. Include things like: how did you find the best $a$, $b$, $c$ parameter values for the text laws? Please include plots that compare the fitted powerlaws with the real data (preferably in log-log scale). You are welcome to add conclusions and findings that depart from what we asked you to do. We encourage you to discuss the difficulties you find; this lets us give you help and also improve the lab session for future editions.\n",
        "\n",
        "- Turn the report to PDF. Make sure it has your names, date, and title.\n",
        "\n",
        "- Submit your work through the [raco](http://www.fib.upc.edu/en/serveis/raco.html). There will be a `Practica` open for each report.\n",
        "\n",
        "- Deadline: Work must be delivered __within 2 weeks__ from the end of the lab session. Late submissions risk being penalized or not accepted at all. If you anticipate problems with the deadline, tell us as soon as possible."
      ],
      "metadata": {
        "id": "icodIUNAIoLP"
      },
      "id": "icodIUNAIoLP"
    },
    {
      "cell_type": "code",
      "source": [],
      "metadata": {
        "id": "pjYVroT2IwdU"
      },
      "id": "pjYVroT2IwdU",
      "execution_count": null,
      "outputs": []
    }
  ],
  "metadata": {
    "colab": {
      "provenance": []
    },
    "kernelspec": {
      "display_name": "Python 3",
      "language": "python",
      "name": "python3"
    },
    "language_info": {
      "codemirror_mode": {
        "name": "ipython",
        "version": 3
      },
      "file_extension": ".py",
      "mimetype": "text/x-python",
      "name": "python",
      "nbconvert_exporter": "python",
      "pygments_lexer": "ipython3",
      "version": "3.7.7"
    }
  },
  "nbformat": 4,
  "nbformat_minor": 5
}