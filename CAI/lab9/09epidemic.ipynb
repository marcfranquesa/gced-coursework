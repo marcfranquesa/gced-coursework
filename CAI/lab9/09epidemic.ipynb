{
 "cells": [
  {
   "cell_type": "markdown",
   "metadata": {},
   "source": [
    "# CAI Lab Session 9: simulation of SI model of contagion over contact networks"
   ]
  },
  {
   "cell_type": "markdown",
   "metadata": {},
   "source": [
    "In this session you will:\n",
    "\n",
    "- learn about the `SI` epidemic model of contagion\n",
    "- simulate `SI` epidemic spreading over different network topologies\n",
    "- monitor fraction of infected nodes over time"
   ]
  },
  {
   "cell_type": "markdown",
   "metadata": {},
   "source": [
    "## 1. The SI epidemic model\n",
    "\n",
    "In classic epidemiology, it is assumed that every individual has an equal chance of coming into contact with every other individual in the population.\n",
    "This is, however, highly unrealistic and we can improve on this assumption by simulating the spread of an infection over a realistic contact social network.\n",
    "In such a network, nodes are individuals susceptible to becoming sick and edges correspond to their chance of making physical contact and thus getting infected.\n",
    "\n",
    "The SI model is one of the most simple models used for studying infection and assumes that individuals can be in one of two states: _infected_, or _susceptible_ to infection (i.e. not infected yet). \n",
    "Initially, all individuals (or nodes) are susceptible and at time $t=0$ some node becomes infected (this node corresponds to _patient 0_). \n",
    "Over time, as nodes come into contact with other nodes, they may become infected too and can spread the disease further to their contacts and so on.\n",
    "\n",
    "An important parameter of this model is the _infection rate_ $\\alpha$ which is the probability that an infected node infects a neighbouring one after contact. \n",
    "Clearly, $0\\leq\\alpha\\leq 1$ and the closer it is to 1 the faster the infection will spread. Additionally, the underlying topology of the contact network also \n",
    "plays a role in how the infection spreads and this is what you have to study in this session.\n"
   ]
  },
  {
   "cell_type": "markdown",
   "metadata": {},
   "source": [
    "## 2. Simulating the SI epidemic model at discrete time steps\n",
    "\n",
    "You will have to implement the simulation of the spreading of the SI model over diverse network topologies using discrete time steps. Thus, given a contact network $G$, we have that:\n",
    "\n",
    "- at time $t = 0$ a random node becomes infected\n",
    "- after each time step (that is, one infection round), each infected node potentially infects neighboring nodes independently with probability $\\alpha$\n",
    "\n",
    "You can use the `igraph` library from last session to help you with the generation of contact networks, managing of nodes' statuses, etc. \n",
    "Also, we will be using undirected graphs as contact networks.\n",
    "\n",
    "The quantity of interest to monitor will be the fraction of infected nodes over time, which should grow over time since infected nodes never recover in this model.\n",
    "\n",
    ">   _You should be careful when implementing your simulation; please make sure that the updates of the nodes’ statuses are done in parallel, that is, to update the status for time t only statuses of time t−1 of the other nodes are considered._\n"
   ]
  },
  {
   "cell_type": "markdown",
   "metadata": {},
   "source": [
    "## 3. Functionality of `igraph` that may be of help\n",
    "\n",
    "This library provides functions to generate networks, traverse them, assign attributes to nodes, and selecting nodes' neighborhoods. \n",
    "This is going to be highly useful for the implementation of the epidemic simulation. \n",
    "Below you can find some examples on how to do some of the things mentioned above; please consult [`igraph`'s documentation](https://python.igraph.org/en/stable/) for more detailed information."
   ]
  },
  {
   "cell_type": "markdown",
   "metadata": {},
   "source": [
    "#### graph generation:"
   ]
  },
  {
   "cell_type": "code",
   "execution_count": null,
   "metadata": {},
   "outputs": [],
   "source": [
    "import igraph as ig\n",
    "import matplotlib.pyplot as plt\n",
    "\n",
    "# generating an ER graph with n=10 nodes and probability p=0.3 of adding edges between each pair of nodes\n",
    "g = ig.Graph.Erdos_Renyi(5, 0.3)\n",
    "\n",
    "# visualizing the generated graph\n",
    "g.vs['color'] = 'lightblue'\n",
    "g.vs[0]['color'] = 'red'\n",
    "\n",
    "fig, ax = plt.subplots()\n",
    "ig.plot(\n",
    "    g,\n",
    "    target=ax,\n",
    "    vertex_size=30,\n",
    "    vertex_label=range(g.vcount()),\n",
    "    layout=g.layout(\"circle\")\n",
    ");"
   ]
  },
  {
   "cell_type": "markdown",
   "metadata": {},
   "source": [
    "#### values and attributes of nodes:"
   ]
  },
  {
   "cell_type": "code",
   "execution_count": null,
   "metadata": {},
   "outputs": [],
   "source": [
    "\n",
    "# set value 'False' to attribute 'foo' for all nodes in graph g\n",
    "g.vs['foo'] = False\n",
    "\n",
    "# set value 'True' to attribute 'foo' for node 0\n",
    "g.vs[0]['foo'] = True\n",
    "\n",
    "# print node 0 attributes\n",
    "print(g.vs[0].attributes())\n",
    "\n",
    "# print node 0 value for attribute 'foo'\n",
    "print(g.vs[0]['foo'])\n",
    "\n",
    "# print all nodes' vales for attribute 'foo'\n",
    "print(g.vs['foo'])\n",
    "\n",
    "\n"
   ]
  },
  {
   "cell_type": "markdown",
   "metadata": {},
   "source": [
    "#### selecting nodes by attribute value:"
   ]
  },
  {
   "cell_type": "code",
   "execution_count": null,
   "metadata": {},
   "outputs": [],
   "source": [
    "nodes_subset = g.vs.select(foo=True)\n",
    "for v in nodes_subset:\n",
    "    print(v.index)\n",
    "    print(v.attributes())"
   ]
  },
  {
   "cell_type": "markdown",
   "metadata": {},
   "source": [
    "#### finding neighbors"
   ]
  },
  {
   "cell_type": "code",
   "execution_count": null,
   "metadata": {},
   "outputs": [],
   "source": [
    "nei = g.vs[0].neighbors()\n",
    "for v in nei:\n",
    "    print(v.index)\n",
    "    print(v.attributes())"
   ]
  },
  {
   "cell_type": "markdown",
   "metadata": {},
   "source": [
    "## 4. Your tasks\n",
    "\n"
   ]
  },
  {
   "cell_type": "markdown",
   "metadata": {},
   "source": [
    "Study evolution of infection over time for different topologies. Here, there are several things that you may play with (be creative!):\n",
    "\n",
    "- underlying contact networks: you should consider at least the ones seen in class (Erdös-Rényii, Watts-Strogatz, and Barabasi-Albert) but there are others already implemented that may be of interest (Tree, Lattice, etc.)\n",
    "- patient 0 selection: random selection, or select patient 0 with smallest/largest centrality, etc.\n",
    "- infection rate: how does the infection rate affect speed of spreading for different topologies?\n",
    "\n",
    "Things that may be of importance:\n",
    "\n",
    "- graphs should be large enough (at least $n=1000$ nodes) so that interesting things may happen\n",
    "- graphs should be _connected_ so that all nodes may be reachable by patient 0"
   ]
  },
  {
   "cell_type": "markdown",
   "metadata": {},
   "source": [
    "## 5. Rules of delivery\n",
    "\n",
    "- To be solved in _pairs_.\n",
    "\n",
    "- No plagiarism; don't discuss your work with other teams. You can ask for help to others for simple things, such as recalling a python instruction or module, but nothing too specific to the session.\n",
    "\n",
    "- If you feel you are spending much more time than the rest of the classmates, ask us for help. Questions can be asked either in person or by email, and you'll never be penalized by asking questions, no matter how stupid they look in retrospect.\n",
    "\n",
    "- Write a short report listing the solutions to the exercises proposed. Include things like the important parts of your implementation (data structures used for representing objects, algorithms used, etc). You are welcome to add conclusions and findings that depart from what we asked you to do. We encourage you to discuss the difficulties you find; this lets us give you help and also improve the lab session for future editions.\n",
    "\n",
    "- Turn the report to PDF. Make sure it has your names, date, and title. Include your code in your submission.\n",
    "\n",
    "- Submit your work through the [raco](http://www.fib.upc.edu/en/serveis/raco.html) _before January 10th, 2024_."
   ]
  },
  {
   "cell_type": "code",
   "execution_count": null,
   "metadata": {},
   "outputs": [],
   "source": [
    "from igraph import Graph\n",
    "\n",
    "# Create a graph (replace this with your graph generation code)\n",
    "edges = [(0, 1), (1, 2), (2, 0), (3, 4)]  # Example edges\n",
    "g = Graph(edges=edges)\n",
    "\n",
    "# Check if the graph is connected\n",
    "is_connected = g.is_connected()\n",
    "\n",
    "# Print the result\n",
    "print(\"Is the graph connected?\", is_connected)\n"
   ]
  },
  {
   "cell_type": "code",
   "execution_count": null,
   "metadata": {},
   "outputs": [],
   "source": []
  }
 ],
 "metadata": {
  "kernelspec": {
   "display_name": "Python 3 (ipykernel)",
   "language": "python",
   "name": "python3"
  },
  "language_info": {
   "codemirror_mode": {
    "name": "ipython",
    "version": 3
   },
   "file_extension": ".py",
   "mimetype": "text/x-python",
   "name": "python",
   "nbconvert_exporter": "python",
   "pygments_lexer": "ipython3",
   "version": "3.11.5"
  },
  "latex_envs": {
   "LaTeX_envs_menu_present": true,
   "autoclose": false,
   "autocomplete": true,
   "bibliofile": "biblio.bib",
   "cite_by": "apalike",
   "current_citInitial": 1,
   "eqLabelWithNumbers": true,
   "eqNumInitial": 1,
   "hotkeys": {
    "equation": "Ctrl-E",
    "itemize": "Ctrl-I"
   },
   "labels_anchors": false,
   "latex_user_defs": false,
   "report_style_numbering": false,
   "user_envs_cfg": false
  },
  "toc": {
   "nav_menu": {},
   "number_sections": true,
   "sideBar": true,
   "skip_h1_title": false,
   "toc_cell": false,
   "toc_position": {},
   "toc_section_display": "block",
   "toc_window_display": false
  }
 },
 "nbformat": 4,
 "nbformat_minor": 4
}
